{
 "cells": [
  {
   "cell_type": "markdown",
   "metadata": {
    "toc": true
   },
   "source": [
    "<h1>Table of Contents<span class=\"tocSkip\"></span></h1>\n",
    "<div class=\"toc\"><ul class=\"toc-item\"><li><span><a href=\"#Campus-Energy-Dataset-Documentation\" data-toc-modified-id=\"Campus-Energy-Dataset-Documentation-1\">Campus Energy Dataset Documentation</a></span><ul class=\"toc-item\"><li><span><a href=\"#Overview-of-the-Campus-Dataset-Document\" data-toc-modified-id=\"Overview-of-the-Campus-Dataset-Document-1.1\">Overview of the Campus Dataset Document</a></span></li></ul></li><li><span><a href=\"#Part-1.-Description-of-Campus-Energy-Dataset-(UC-Davis)\" data-toc-modified-id=\"Part-1.-Description-of-Campus-Energy-Dataset-(UC-Davis)-2\">Part 1. Description of Campus Energy Dataset (UC Davis)</a></span><ul class=\"toc-item\"><li><ul class=\"toc-item\"><li><span><a href=\"#1a.-Presence-of--electricity/chilled-water/steam-for-each-building\" data-toc-modified-id=\"1a.-Presence-of--electricity/chilled-water/steam-for-each-building-2.0.1\">1a. Presence of  electricity/chilled water/steam for each building</a></span></li><li><span><a href=\"#1b.-UC-Davis-Smart-Campus\" data-toc-modified-id=\"1b.-UC-Davis-Smart-Campus-2.0.2\">1b. UC Davis Smart Campus</a></span></li></ul></li></ul></li><li><span><a href=\"#Part-2.-Smart-Campus-Challenges\" data-toc-modified-id=\"Part-2.-Smart-Campus-Challenges-3\">Part 2. Smart Campus Challenges</a></span></li><li><span><a href=\"#Part-3.-Stream-Data\" data-toc-modified-id=\"Part-3.-Stream-Data-4\">Part 3. Stream Data</a></span></li><li><span><a href=\"#Part-4.-Data-Quality\" data-toc-modified-id=\"Part-4.-Data-Quality-5\">Part 4. Data Quality</a></span></li><li><span><a href=\"#Part-5.-Assets,-Dataviews-and-Metadata\" data-toc-modified-id=\"Part-5.-Assets,-Dataviews-and-Metadata-6\">Part 5. Assets, Dataviews and Metadata</a></span><ul class=\"toc-item\"><li><span><a href=\"#Campus-Assets:-Buildings\" data-toc-modified-id=\"Campus-Assets:-Buildings-6.1\">Campus Assets: Buildings</a></span></li><li><span><a href=\"#Available-Data-Views\" data-toc-modified-id=\"Available-Data-Views-6.2\">Available Data Views</a></span></li><li><span><a href=\"#Asset-Metadata\" data-toc-modified-id=\"Asset-Metadata-6.3\">Asset Metadata</a></span></li></ul></li></ul></div>"
   ]
  },
  {
   "cell_type": "markdown",
   "metadata": {},
   "source": [
    "# Campus Energy Dataset Documentation\n",
    "___"
   ]
  },
  {
   "attachments": {},
   "cell_type": "markdown",
   "metadata": {},
   "source": [
    "\n",
    "## Overview of the Campus Dataset Document\n",
    "\n",
    "__[Part 1](#section_1). Description of Campus Energy Dataset (UC Davis)__\n",
    "\n",
    "Describes the OSIsoft Academic Hub ([Part 1](#section_1)), the Campus Energy dataset, the time frame in which the dataset was compiled, data quality ([Part 1a](#section_1a)), and UC Davis smart campus goals. ([Part 1b](#section_1b)).\n",
    "\n",
    "__[Part 2](#section_2). The Smart Campus Challenges__\n",
    "\n",
    "Demonstrate real-time, analytic and visualization capabilities to integrate, monitor and diagnose central utilities and campus-wide facilities.\n",
    "\n",
    "__[Part 3](#section_3). Stream Data__\n",
    "\n",
    "Explains the main energy data streams collected on the campus.\n",
    "\n",
    "__[Part 4](#section_4). Data Quality__\n",
    "\n",
    "Faced with real-world data, students are expected to work with \"dirty\" data: data which contains error and gaps. This section also describes various ways poor quality data arises.\n",
    "\n",
    "__[Part 5](#section_5). Assets, Data Views and Metadata__\n",
    "\n",
    "Hub Datasets are organized around a set of assets, each of the asset having at least a default data view. A data view is an OCS feature to extract interpolated data from multiple related streams, in a tabular form ready for data-driven applications or any data analysis tool. Specialized data views (subsets of the default data views) can also be defined, as it is the case for this dataset.   "
   ]
  },
  {
   "cell_type": "markdown",
   "metadata": {},
   "source": [
    "# Part 1. Description of Campus Energy Dataset (UC Davis)\n",
    "---\n",
    "<a id=\"section_1\"></a>\n",
    "\n",
    "    \n",
    "OSIsoft Academic Hub is a cloud-based platform that supports data analytics in the university curriculum by providing a data infrastructure to host, aggregate, and analyze data. Students are exposed to real-world industrial data which illustrates some of the same engineering concepts being taught in classrooms and labs. OSIsoft Academic Hub hosts the real-world dataset shared from a university customer, UC Davis. The dataset contains the sensor data and some calculations performed by UC Davis on-prem PI System.  The entire dataset come from 168 metered buildings, from January 2017 to January 2020. All buildings have electricity data, and optionally chilled water and steam. The next sections list the building with indicators about the presence of electricity/chilled water/steam. "
   ]
  },
  {
   "cell_type": "markdown",
   "metadata": {},
   "source": [
    "### 1a. Presence of  electricity/chilled water/steam for each building \n",
    "<a id=\"section_1a\"></a>\n",
    "\n",
    "As mentioned each building has at least electricity data (e.g. demand, usage). Data about chilled water and steam is also available for some building. The table below provides a summary per building about utility data.   \n",
    "    \n",
    "| # | Asset_Id (Building) | Electricity | Chilled Water | Steam \n",
    "|:--|:---------|:----:|:---:|:---:|\n",
    "| 1 | ARC Pavilion | &#9679; | &#9679; | &#9679; |\n",
    "| 2 | Academic Surge Building | &#9679; | &#9679; | &#9679; |\n",
    "| 3 | Activities and Recreation Center | &#9679; | &#9679; | &#9679; |\n",
    "| 4 | Advanced Materials Research Laboratory | &#9679; |  |  |\n",
    "| 5 | Advanced Transportation Infrastructure Research Center | &#9679; |  |  |\n",
    "| 6 | Agronomy Field Laboratory | &#9679; |  |  |\n",
    "| 7 | Animal Building | &#9679; |  |  |\n",
    "| 8 | Animal Resource Service J1 | &#9679; |  |  |\n",
    "| 9 | Animal Resource Service M3 | &#9679; |  |  |\n",
    "| 10 | Animal Resource Service N1 | &#9679; |  |  |\n",
    "| 11 | Ann E. Pitzer Center | &#9679; | &#9679; | &#9679; |\n",
    "| 12 | Antique Mechanics Trailer | &#9679; |  |  |\n",
    "| 13 | Aquatic Biology & Environmental Science Bldg | &#9679; |  |  |\n",
    "| 14 | Art Building Annex | &#9679; |  |  |\n",
    "| 15 | Art, Music, Wright Halls | &#9679; | &#9679; | &#9679; |\n",
    "| 16 | Asmundson Annex | &#9679; |  |  |\n",
    "| 17 | Asmundson Hall | &#9679; | &#9679; | &#9679; |\n",
    "| 18 | Bainer Hall | &#9679; | &#9679; | &#9679; |\n",
    "| 19 | Bowley Head House | &#9679; |  |  |\n",
    "| 20 | Briggs Hall | &#9679; | &#9679; | &#9679; |\n",
    "| 21 | CFA Administration Building |  |  |  |\n",
    "| 22 | California Hall | &#9679; | &#9679; | &#9679; |\n",
    "| 23 | Campus Data Center | &#9679; | &#9679; |  |\n",
    "| 24 | Cellular Biology Laboratory | &#9679; |  |  |\n",
    "| 25 | Center for Companion Animal Health | &#9679; | &#9679; | &#9679; |\n",
    "| 26 | Center for Comparative Medicine | &#9679; | &#9679; | &#9679; |\n",
    "| 27 | Center for Health & Environment Clinical Medicine | &#9679; |  |  |\n",
    "| 28 | Center for Health & Environment Office & Laboratory | &#9679; |  |  |\n",
    "| 29 | Center for Health & Environment Toxic Pollutant Laboratory | &#9679; |  |  |\n",
    "| 30 | Central Cage Wash Facility | &#9679; | &#9679; | &#9679; |\n",
    "| 31 | Chemistry | &#9679; | &#9679; | &#9679; |\n",
    "| 32 | Chemistry Annex | &#9679; | &#9679; | &#9679; |\n",
    "| 33 | Cole A | &#9679; |  |  |\n",
    "| 34 | Cole B | &#9679; | &#9679; | &#9679; |\n",
    "| 35 | Conference Center | &#9679; |  |  |\n",
    "| 36 | Contained Research Facility | &#9679; |  |  |\n",
    "| 37 | Cruess Hall | &#9679; | &#9679; | &#9679; |\n",
    "| 38 | Dairy Cattle Feed | &#9679; |  |  |\n",
    "| 39 | Dairy Cattle Shed | &#9679; |  |  |\n",
    "| 40 | Dairy Tower | &#9679; |  |  |\n",
    "| 41 | Dutton Hall | &#9679; | &#9679; | &#9679; |\n",
    "| 42 | Earth and Physical Sciences Building | &#9679; | &#9679; | &#9679; |\n",
    "| 43 | Environmental Services Facility Headquarters | &#9679; |  |  |\n",
    "| 44 | Equestrian Center Caretaker Trailer | &#9679; |  |  |\n",
    "| 45 | Equestrian Center Covered Arena | &#9679; |  |  |\n",
    "| 46 | Everson Hall | &#9679; |  | &#9679; |\n",
    "| 47 | FPS Trinchero Building | &#9679; |  |  |\n",
    "| 48 | Facilities Electrical Annex | &#9679; |  |  |\n",
    "| 49 | Freeborn Hall | &#9679; | &#9679; | &#9679; |\n",
    "| 50 | Gallagher Hall | &#9679; |  |  |\n",
    "| 51 | Gateway Parking Structure | &#9679; |  |  |\n",
    "| 52 | Genome & Biomedical Sciences Facility | &#9679; | &#9679; | &#9679; |\n",
    "| 53 | Geotechnical Modeling Facility | &#9679; |  |  |\n",
    "| 54 | Ghausi Hall | &#9679; | &#9679; | &#9679; |\n",
    "| 55 | Giedt Hall | &#9679; | &#9679; | &#9679; |\n",
    "| 56 | Gourley Clinical Teaching Center | &#9679; | &#9679; | &#9679; |\n",
    "| 57 | Growth Chamber Building T1 | &#9679; |  |  |\n",
    "| 58 | Growth Chamber Building T2 | &#9679; |  |  |\n",
    "| 59 | Haring Hall | &#9679; |  |  |\n",
    "| 60 | Hart Hall | &#9679; | &#9679; | &#9679; |\n",
    "| 61 | Heitman Staff Learning Center | &#9679; |  |  |\n",
    "| 62 | Hickey Gym | &#9679; |  | &#9679; |\n",
    "| 63 | Hickey Gym, Pool | &#9679; |  | &#9679; |\n",
    "| 64 | Hickey Pool | &#9679; |  | &#9679; |\n",
    "| 65 | Hoagland Hall | &#9679; | &#9679; | &#9679; |\n",
    "| 66 | Hopkins Services Complex Auxiliary Receiving | &#9679; |  |  |\n",
    "| 67 | Hopkins Svcs Complex | &#9679; |  |  |\n",
    "| 68 | Housing Administration | &#9679; | &#9679; |  |\n",
    "| 69 | Hunt, Parsons | &#9679; | &#9679; | &#9679; |\n",
    "| 70 | Hutchison Child Development Center | &#9679; |  |  |\n",
    "| 71 | Hutchison Hall | &#9679; | &#9679; | &#9679; |\n",
    "| 72 | Hutchison Recreation Field Lights | &#9679; |  |  |\n",
    "| 73 | IET Communications Resources | &#9679; |  |  |\n",
    "| 74 | International Center | &#9679; |  |  |\n",
    "| 75 | Jackson Sustainable Winery | &#9679; |  |  |\n",
    "| 76 | Jungerman Hall | &#9679; | &#9679; | &#9679; |\n",
    "| 77 | Kemper Hall | &#9679; | &#9679; | &#9679; |\n",
    "| 78 | Kerr Hall | &#9679; |  | &#9679; |\n",
    "| 79 | King Hall | &#9679; | &#9679; |  |\n",
    "| 80 | Leukemia Barn | &#9679; |  |  |\n",
    "| 81 | Leukemia Lab | &#9679; |  |  |\n",
    "| 82 | Life Sciences | &#9679; | &#9679; | &#9679; |\n",
    "| 83 | Maddy Lab | &#9679; | &#9679; |  |\n",
    "| 84 | Mann Laboratory | &#9679; | &#9679; | &#9679; |\n",
    "| 85 | Mathematical Sciences Building | &#9679; | &#9679; | &#9679; |\n",
    "| 86 | Medical Sciences I B | &#9679; |  |  |\n",
    "| 87 | Medical Sciences I D | &#9679; |  |  |\n",
    "| 88 | Memorial Union | &#9679; | &#9679; | &#9679; |\n",
    "| 89 | Meyer Hall | &#9679; | &#9679; | &#9679; |\n",
    "| 90 | Mrak Hall | &#9679; | &#9679; | &#9679; |\n",
    "| 91 | Office of Research (1850 Research Park Drive) | &#9679; |  |  |\n",
    "| 92 | Olson Hall | &#9679; | &#9679; | &#9679; |\n",
    "| 93 | PES Tennis Courts | &#9679; |  |  |\n",
    "| 94 | Parsons Seed Certification Center | &#9679; |  |  |\n",
    "| 95 | Pavilion Parking Structure | &#9679; |  |  |\n",
    "| 96 | Physical Sciences & Engineering Library | &#9679; |  |  |\n",
    "| 97 | Physics Building | &#9679; | &#9679; | &#9679; |\n",
    "| 98 | Plant & Environmental Sciences | &#9679; | &#9679; | &#9679; |\n",
    "| 99 | Plant Reproductive Biology Facility | &#9679; |  |  |\n",
    "| 100 | Primate Childhood Health & Disease Facility | &#9679; |  |  |\n",
    "| 101 | Primate Controlled Environment Facility (CEF) | &#9679; |  |  |\n",
    "| 102 | Primate Quarantine | &#9679; |  |  |\n",
    "| 103 | Primate Respiratory Disease Center | &#9679; |  |  |\n",
    "| 104 | Primate Shop Facility | &#9679; |  |  |\n",
    "| 105 | Primate Virology & Immunology Laboratory | &#9679; |  |  |\n",
    "| 106 | Pritchard VMTH | &#9679; | &#9679; | &#9679; |\n",
    "| 107 | Quad Parking Structure | &#9679; |  |  |\n",
    "| 108 | RMI Brewery, Winery, and Food Pilot Facility | &#9679; | &#9679; | &#9679; |\n",
    "| 109 | RMI North, South, Sensory | &#9679; | &#9679; | &#9679; |\n",
    "| 110 | Rifle Range | &#9679; |  |  |\n",
    "| 111 | Robbins Hall | &#9679; | &#9679; | &#9679; |\n",
    "| 112 | Roessler Hall | &#9679; | &#9679; |  |\n",
    "| 113 | Schaal Aquatic Center | &#9679; |  | &#9679; |\n",
    "| 114 | School of Education Building | &#9679; | &#9679; |  |\n",
    "| 115 | Sciences Lab Building | &#9679; | &#9679; | &#9679; |\n",
    "| 116 | Segundo Dining Commons | &#9679; | &#9679; | &#9679; |\n",
    "| 117 | Segundo High Rises | &#9679; |  |  |\n",
    "| 118 | Segundo North | &#9679; | &#9679; | &#9679; |\n",
    "| 119 | Segundo Regan | &#9679; | &#9679; | &#9679; |\n",
    "| 120 | Segundo Services Center, Market | &#9679; | &#9679; | &#9679; |\n",
    "| 121 | Shields Library | &#9679; | &#9679; | &#9679; |\n",
    "| 122 | Shrem Museum of Art | &#9679; | &#9679; |  |\n",
    "| 123 | Silo Bike Barn | &#9679; |  |  |\n",
    "| 124 | Social Sciences & Humanities | &#9679; | &#9679; | &#9679; |\n",
    "| 125 | Sprocket Building | &#9679; | &#9679; | &#9679; |\n",
    "| 126 | Sproul Hall | &#9679; | &#9679; | &#9679; |\n",
    "| 127 | Storer Hall | &#9679; | &#9679; | &#9679; |\n",
    "| 128 | Student Affairs Annex | &#9679; |  |  |\n",
    "| 129 | Student Community Center | &#9679; | &#9679; | &#9679; |\n",
    "| 130 | Student Health & Wellness Center | &#9679; | &#9679; | &#9679; |\n",
    "| 131 | Surge 2 |  |  |  |\n",
    "| 132 | Swine Teaching and Research Facility | &#9679; |  |  |\n",
    "| 133 | TAPS C&E | &#9679; |  |  |\n",
    "| 134 | Temporary Building 144 | &#9679; |  |  |\n",
    "| 135 | Temporary Building 178 | &#9679; |  |  |\n",
    "| 136 | Temporary Building 184 | &#9679; |  |  |\n",
    "| 137 | Tercero 1 | &#9679; | &#9679; | &#9679; |\n",
    "| 138 | Tercero 2 | &#9679; | &#9679; | &#9679; |\n",
    "| 139 | Tercero 3 | &#9679; | &#9679; | &#9679; |\n",
    "| 140 | Tercero 4 | &#9679; | &#9679; | &#9679; |\n",
    "| 141 | Tercero Community, Market | &#9679; | &#9679; |  |\n",
    "| 142 | The Barn | &#9679; |  |  |\n",
    "| 143 | Thurman Laboratory | &#9679; | &#9679; | &#9679; |\n",
    "| 144 | Translational Shared Research Facility | &#9679; |  |  |\n",
    "| 145 | Transportation and Parking Services | &#9679; | &#9679; |  |\n",
    "| 146 | Tupper Hall | &#9679; | &#9679; | &#9679; |\n",
    "| 147 | UC Davis Health Stadium | &#9679; |  |  |\n",
    "| 148 | University Extension Building | &#9679; |  |  |\n",
    "| 149 | University Services Building | &#9679; |  |  |\n",
    "| 150 | VMTH Surgical | &#9679; |  |  |\n",
    "| 151 | VMTH Ward | &#9679; |  |  |\n",
    "| 152 | Valley Hall | &#9679; | &#9679; | &#9679; |\n",
    "| 153 | Veihmeyer Hall | &#9679; | &#9679; | &#9679; |\n",
    "| 154 | Vet Med 3A, 3A-MPT | &#9679; | &#9679; | &#9679; |\n",
    "| 155 | Vet Med 3B | &#9679; | &#9679; | &#9679; |\n",
    "| 156 | Vet Med Equine Athletic Performance Lab | &#9679; | &#9679; | &#9679; |\n",
    "| 157 | Vet Med Lab Animal A Beach Lab | &#9679; |  |  |\n",
    "| 158 | Vet Med Large Animal Facility | &#9679; |  |  |\n",
    "| 159 | Vet Med Student Services and Administration Center | &#9679; | &#9679; | &#9679; |\n",
    "| 160 | Veterinary Medicine 2 | &#9679; |  | &#9679; |\n",
    "| 161 | Voorhies Hall | &#9679; |  |  |\n",
    "| 162 | Walker Hall | &#9679; |  |  |\n",
    "| 163 | Water Science & Engineering Hydraulic L2 | &#9679; |  |  |\n",
    "| 164 | Watershed Science Facility | &#9679; | &#9679; | &#9679; |\n",
    "| 165 | Wellman Hall | &#9679; | &#9679; | &#9679; |\n",
    "| 166 | Western Human Nutrition Research Center (WHNRC) | &#9679; | &#9679; | &#9679; |\n",
    "| 167 | Wickson Hall | &#9679; | &#9679; | &#9679; |\n",
    "| 168 | Young Hall | &#9679; | &#9679; | &#9679; |\n"
   ]
  },
  {
   "cell_type": "markdown",
   "metadata": {},
   "source": [
    "### 1b. UC Davis Smart Campus\n",
    "<a id=\"section_1b\"></a>\n",
    "\n",
    "**TO BE UPDATED**\n",
    "\n",
    "* https://ceed.ucdavis.edu/\n",
    "* Links to UC Davis PI World presentation material \n",
    "\n"
   ]
  },
  {
   "cell_type": "markdown",
   "metadata": {},
   "source": [
    "# Part 2. Smart Campus Challenges\n",
    "---\n",
    "<a id=\"section_2\"></a>\n",
    "\n",
    "Here are some challenges as reported by UC Davis:\n",
    "\n",
    "* Monitor, diagnose and optimize on campus central utilities and campus-wide facilites \n",
    "* Electricity, Water, Steam, Chilled Water, Purified Water, ...\n",
    "* Allow operations to manage cross system demands and responses\n",
    "* Empower Students to drive green behavior. \n",
    "    "
   ]
  },
  {
   "cell_type": "markdown",
   "metadata": {},
   "source": [
    "# Part 3. Stream Data\n",
    "---\n",
    "<a id=\"section_3\"></a>\n",
    "\n",
    "   "
   ]
  },
  {
   "cell_type": "markdown",
   "metadata": {},
   "source": [
    "The following table shows all the electricity data streams for building ARC Pavilion:  (**TO COMPLETE**)\n",
    "\n",
    "| Column_Name | Stream_Type | Stream_UOM | Description | OCS_Stream_Name | \n",
    "|:-----------:|:-----------:|:----------:|:-----------:|----------------:|\n",
    "\n",
    "\n",
    "   "
   ]
  },
  {
   "cell_type": "markdown",
   "metadata": {},
   "source": [
    "# Part 4. Data Quality\n",
    "---\n",
    "<a id=\"section_4\"></a>\n",
    "\n",
    "**TO COMPLETE**\n",
    "\n",
    "With the current version of Academic Hub Python library, data views will show all the dirty data value (except mislabeled ones) as missing data (empty string). Data cleansing must be performed before moving forward with data analysis. Data cleansing is the process of removing, editing, or adding incorrect or missing data from a raw data set. In the case of the fermenter data, the only type of data cleansing we need to perform is on missing data. Rows with missing data can be discarded from a Pandas dataframe by calling the `.dropna()` method. Some student exercises require this method for data preparation. \n",
    "    "
   ]
  },
  {
   "cell_type": "markdown",
   "metadata": {},
   "source": [
    "# Part 5. Assets, Dataviews and Metadata\n",
    "---\n",
    "<a id=\"section_5\"></a>"
   ]
  },
  {
   "cell_type": "markdown",
   "metadata": {},
   "source": [
    "Academic Hub datasets are structured around assets. Here assets are pieces of equipment found in a brewery: many fermenter vessels, bright tanks, and other related equipment. Each asset has an Asset Identifier (Asset Id) and a description. This information is available through the Hub Python library (`ocs_academic_hub`) and is returned as Pandas dataframe.\n",
    "\n",
    "Each asset is endowed with a default data view, i.e. a structure which maps all the data streams associated to the asset onto a column in a Pandas dataframe. Each data view has a Data view Id and exists within an OCS namespace, i.e. a named partition with its own Namespace ID. To request data for an asset, the following information should be provided:\n",
    "\n",
    "* Namespace Id\n",
    "* Data view Id\n",
    "* Start index (timestamp)\n",
    "* End index (timestamp). \n",
    "* Interpolation interval\n",
    "\n",
    "Reference for the start/end index and interpolation interval can be found at https://ocs-docs.osisoft.com/Content_Portal/Documentation/DataViews/GetDataViewData/Quick_Start_Get_Data_View_Data.html#index. \n",
    "\n",
    "For specific use-cases it is possible to define specialized dataviews having only a subset of the default dataview columns. Specialized dataviews avoid data overfetching and reduce the time to get results back especially with large tables with high number of rows. Most data views are for a single asset, but it's possible to define a data view spanning multiple assets. This avoid requesting multiple single-asset data views and stiching the result into a single Pandas dataframe for analysis. \n",
    "\n",
    "Asset metadata is static information about the asset, e.g. the equipment manufacturer, installation date, etc. **This dataset has no asset metadata.** "
   ]
  },
  {
   "cell_type": "code",
   "execution_count": 1,
   "metadata": {},
   "outputs": [
    {
     "name": "stdout",
     "output_type": "stream",
     "text": [
      "Step 1: Get OAuth endpoint configuration...\n",
      "Step 2: Set up server to process authorization response...\n",
      "Step 3: Authorize the user...\n",
      "Step 4: Set server to handle one request...\n"
     ]
    },
    {
     "name": "stderr",
     "output_type": "stream",
     "text": [
      "127.0.0.1 - - [09/Sep/2020 08:35:00] \"GET /callback.html?code=UDh6LKh9zio05eAc0mpWYqdgaBVdOuu-wy1pmF0gAoI&scope=openid%20ocsapi&session_state=1gf7lP4OGL7fTpox56_EljPzf7uCwL3G-UxNQfdELYE.gbz6YBbzCuC6KZVA6matuQ HTTP/1.1\" 200 -\n"
     ]
    },
    {
     "name": "stdout",
     "output_type": "stream",
     "text": [
      "Step 5: Get a token using the authorization code...\n",
      "Step 6: Access token read ok\n",
      "Complete!\n",
      "@ Hub data file: hub_datasets.json\n"
     ]
    }
   ],
   "source": [
    "# -------------------------------\n",
    "# Code preamble for next sections\n",
    "# -------------------------------\n",
    "from ocs_academic_hub import HubClient\n",
    "from IPython.display import display, Markdown, Latex\n",
    "dataset = \"Campus_Energy\"\n",
    "hub = HubClient()\n",
    "hub.set_dataset(dataset)\n",
    "namespace_id = hub.namespace_of(dataset)"
   ]
  },
  {
   "cell_type": "markdown",
   "metadata": {},
   "source": [
    "## Campus Assets: Buildings"
   ]
  },
  {
   "cell_type": "code",
   "execution_count": 2,
   "metadata": {
    "scrolled": false
   },
   "outputs": [
    {
     "name": "stdout",
     "output_type": "stream",
     "text": [
      "                                                   Asset_Id                             Description\n",
      "                                               ARC Pavilion                                Building\n",
      "                                    Academic Surge Building                                Building\n",
      "                           Activities and Recreation Center                                Building\n",
      "                     Advanced Materials Research Laboratory                                Building\n",
      "     Advanced Transportation Infrastructure Research Center                                Building\n",
      "                                  Agronomy Field Laboratory                                Building\n",
      "                                            Animal Building                                Building\n",
      "                                 Animal Resource Service J1                                Building\n",
      "                                 Animal Resource Service M3                                Building\n",
      "                                 Animal Resource Service N1                                Building\n",
      "                                       Ann E. Pitzer Center                            Recital Hall\n",
      "                                  Antique Mechanics Trailer                                Building\n",
      "               Aquatic Biology & Environmental Science Bldg                                Building\n",
      "                                         Art Building Annex                                Building\n",
      "                                   Art, Music, Wright Halls                                Building\n",
      "                                            Asmundson Annex                                Building\n",
      "                                             Asmundson Hall                                Building\n",
      "                                                Bainer Hall                                Building\n",
      "                                          Bowley Head House                                Building\n",
      "                                                Briggs Hall                                Building\n",
      "                                CFA Administration Building                                Building\n",
      "                                            California Hall                                Building\n",
      "                                         Campus Data Center                                Building\n",
      "                                Cellular Biology Laboratory                                Building\n",
      "                         Center for Companion Animal Health                                Building\n",
      "                            Center for Comparative Medicine                                Building\n",
      "          Center for Health & Environment Clinical Medicine                                Building\n",
      "        Center for Health & Environment Office & Laboratory                                Building\n",
      " Center for Health & Environment Toxic Pollutant Laboratory                                Building\n",
      "                                 Central Cage Wash Facility                                Building\n",
      "                                                  Chemistry                                Building\n",
      "                                            Chemistry Annex                                Building\n",
      "                                                     Cole A                                Building\n",
      "                                                     Cole B                                Building\n",
      "                                          Conference Center                                Building\n",
      "                                Contained Research Facility                                Building\n",
      "                                                Cruess Hall                                Building\n",
      "                                          Dairy Cattle Feed                                Building\n",
      "                                          Dairy Cattle Shed                                Building\n",
      "                                                Dairy Tower                                Building\n",
      "                                                Dutton Hall                                Building\n",
      "                       Earth and Physical Sciences Building                                Building\n",
      "               Environmental Services Facility Headquarters                                Building\n",
      "                        Equestrian Center Caretaker Trailer                                Building\n",
      "                            Equestrian Center Covered Arena                                Building\n",
      "                                               Everson Hall                                Building\n",
      "                                     FPS Trinchero Building                                Building\n",
      "                                Facilities Electrical Annex                                Building\n",
      "                                              Freeborn Hall                                Building\n",
      "                                             Gallagher Hall                                 Complex\n",
      "                                  Gateway Parking Structure                                Building\n",
      "                      Genome & Biomedical Sciences Facility                                Building\n",
      "                             Geotechnical Modeling Facility                                Building\n",
      "                                                Ghausi Hall                                Building\n",
      "                                                 Giedt Hall                                Building\n",
      "                           Gourley Clinical Teaching Center                                Building\n",
      "                                 Growth Chamber Building T1                                Building\n",
      "                                 Growth Chamber Building T2                                Building\n",
      "                                                Haring Hall                                Building\n",
      "                                                  Hart Hall                                Building\n",
      "                              Heitman Staff Learning Center                                Building\n",
      "                                                 Hickey Gym                                Building\n",
      "                                           Hickey Gym, Pool                                 Complex\n",
      "                                                Hickey Pool                                Building\n",
      "                                              Hoagland Hall                                Building\n",
      "               Hopkins Services Complex Auxiliary Receiving                                Building\n",
      "                                       Hopkins Svcs Complex                                 Complex\n",
      "                                     Housing Administration                                Building\n",
      "                                              Hunt, Parsons                                 Complex\n",
      "                         Hutchison Child Development Center                                Building\n",
      "                                             Hutchison Hall                                Building\n",
      "                          Hutchison Recreation Field Lights                                Building\n",
      "                               IET Communications Resources                                Building\n",
      "                                       International Center                                Building\n",
      "                                 Jackson Sustainable Winery                                Building\n",
      "                                             Jungerman Hall                                Building\n",
      "                                                Kemper Hall                                Building\n",
      "                                                  Kerr Hall                                Building\n",
      "                                                  King Hall                                Building\n",
      "                                              Leukemia Barn                                Building\n",
      "                                               Leukemia Lab                                Building\n",
      "                                              Life Sciences                                Building\n",
      "                                                  Maddy Lab                                   EqACL\n",
      "                                            Mann Laboratory                                Building\n",
      "                             Mathematical Sciences Building                                Building\n",
      "                                       Medical Sciences I B                                Building\n",
      "                                       Medical Sciences I D                                Building\n",
      "                                             Memorial Union                                Building\n",
      "                                                 Meyer Hall                                Building\n",
      "                                                  Mrak Hall                                Building\n",
      "              Office of Research (1850 Research Park Drive)                                Building\n",
      "                                                 Olson Hall                                Building\n",
      "                                          PES Tennis Courts                                Building\n",
      "                          Parsons Seed Certification Center                                Building\n",
      "                                 Pavilion Parking Structure   Formerly West Entry Parking Structure\n",
      "                    Physical Sciences & Engineering Library                                Building\n",
      "                                           Physics Building                                Building\n",
      "                             Plant & Environmental Sciences                                Building\n",
      "                        Plant Reproductive Biology Facility                                Building\n",
      "                Primate Childhood Health & Disease Facility                                Building\n",
      "              Primate Controlled Environment Facility (CEF)                                Building\n",
      "                                         Primate Quarantine                                Building\n",
      "                         Primate Respiratory Disease Center                                Building\n",
      "                                      Primate Shop Facility                                Building\n",
      "                   Primate Virology & Immunology Laboratory                                Building\n",
      "                                             Pritchard VMTH                                 Complex\n",
      "                                     Quad Parking Structure  formerly North Entry Parking Structure\n",
      "               RMI Brewery, Winery, and Food Pilot Facility                                Building\n",
      "                                  RMI North, South, Sensory           RMI North, Sount, and Sensory\n",
      "                                                Rifle Range                                Building\n",
      "                                               Robbins Hall                                        \n",
      "                                              Roessler Hall                                Building\n",
      "                                      Schaal Aquatic Center                                Building\n",
      "                               School of Education Building                                Building\n",
      "                                      Sciences Lab Building                Tag includes Sci Lec 123\n",
      "                                     Segundo Dining Commons                                Building\n",
      "                                         Segundo High Rises                                 Complex\n",
      "                                              Segundo North                                 Complex\n",
      "                                              Segundo Regan                                 Complex\n",
      "                            Segundo Services Center, Market                                 Complex\n",
      "                                            Shields Library                                Building\n",
      "                                        Shrem Museum of Art                                Building\n",
      "                                             Silo Bike Barn                                Building\n",
      "                               Social Sciences & Humanities                                Building\n",
      "                                          Sprocket Building                                Building\n",
      "                                                Sproul Hall                                Building\n",
      "                                                Storer Hall                                Building\n",
      "                                      Student Affairs Annex                                Building\n",
      "                                   Student Community Center                                Building\n",
      "                           Student Health & Wellness Center                                Building\n",
      "                                                    Surge 2                                Building\n",
      "                       Swine Teaching and Research Facility                                Building\n",
      "                                                   TAPS C&E                                Building\n",
      "                                     Temporary Building 144                                Building\n",
      "                                     Temporary Building 178                                Building\n",
      "                                     Temporary Building 184                                Building\n",
      "                                                  Tercero 1                                 Complex\n",
      "                                                  Tercero 2                                 Complex\n",
      "                                                  Tercero 3                                 Complex\n",
      "                                                  Tercero 4                                 Complex\n",
      "                                  Tercero Community, Market                                 Complex\n",
      "                                                   The Barn                                Building\n",
      "                                         Thurman Laboratory                         CAHFS Container\n",
      "                     Translational Shared Research Facility                                Building\n",
      "                        Transportation and Parking Services                                Building\n",
      "                                                Tupper Hall                                Building\n",
      "                                    UC Davis Health Stadium                                 Complex\n",
      "                              University Extension Building                                Building\n",
      "                               University Services Building                                Building\n",
      "                                              VMTH Surgical                                Building\n",
      "                                                  VMTH Ward                                Building\n",
      "                                                Valley Hall                             Valley Hall\n",
      "                                             Veihmeyer Hall                                Building\n",
      "                                         Vet Med 3A, 3A-MPT                                 Complex\n",
      "                                                 Vet Med 3B                                Building\n",
      "                    Vet Med Equine Athletic Performance Lab                                Building\n",
      "                             Vet Med Lab Animal A Beach Lab                                Building\n",
      "                              Vet Med Large Animal Facility                                Building\n",
      "         Vet Med Student Services and Administration Center                                Building\n",
      "                                      Veterinary Medicine 2                                Building\n",
      "                                              Voorhies Hall                                Building\n",
      "                                                Walker Hall                                Building\n",
      "                   Water Science & Engineering Hydraulic L2                                Building\n",
      "                                 Watershed Science Facility              Watershed Science Facility\n",
      "                                               Wellman Hall                                Building\n",
      "            Western Human Nutrition Research Center (WHNRC)                                Building\n",
      "                                               Wickson Hall                                Building\n",
      "                                                 Young Hall                                Building\n"
     ]
    }
   ],
   "source": [
    "print(hub.assets().to_string(index=False))"
   ]
  },
  {
   "cell_type": "markdown",
   "metadata": {},
   "source": [
    "## Available Data Views\n",
    "\n",
    "All assets have at least a default data view with ID of the following format: `campus.building-<asset_id>` where `<asset_id>` is the Asset Id as seen above but all lowercase and no space. Each default data view has an identical counterpart with Id `campus.building-<asset_id>-electricity`. The reason is that every building has electrical data, but chilled water and steam are optional. If chilled water and/or steam data are available for a building, their respective formats are `campus.building-<asset_id>-chilled_water` and `campus.building-<asset_id>-steam`. \n",
    "\n",
    "Using building with `Asset_Id` Academic Surge Building as a representative of such assets, the list all available single-asset data views can be obtained with: "
   ]
  },
  {
   "cell_type": "code",
   "execution_count": 3,
   "metadata": {},
   "outputs": [
    {
     "data": {
      "text/plain": [
       "['campus.building-arc_pavilion',\n",
       " 'campus.building-arc_pavilion-chilled_water',\n",
       " 'campus.building-arc_pavilion-electricity',\n",
       " 'campus.building-arc_pavilion-steam']"
      ]
     },
     "execution_count": 3,
     "metadata": {},
     "output_type": "execute_result"
    }
   ],
   "source": [
    "dataview_ids = hub.asset_dataviews(\"ARC Pavilion\")\n",
    "dataview_ids"
   ]
  },
  {
   "cell_type": "markdown",
   "metadata": {},
   "source": [
    "The definition of each data are given below: "
   ]
  },
  {
   "cell_type": "code",
   "execution_count": 4,
   "metadata": {
    "scrolled": false
   },
   "outputs": [
    {
     "data": {
      "text/markdown": [
       "**Data view ID: campus.building-arc_pavilion**"
      ],
      "text/plain": [
       "<IPython.core.display.Markdown object>"
      ]
     },
     "metadata": {},
     "output_type": "display_data"
    },
    {
     "name": "stdout",
     "output_type": "stream",
     "text": [
      "     Asset_Id           Column_Name Stream_Type Stream_UOM                                 OCS_Stream_Name\n",
      " ARC Pavilion           AnnualUsage       Float       kBtu         UCD.ARCPavilion_Electricity_AnnualUsage\n",
      " ARC Pavilion        Cumulative Use       Float        kWh                    UCD.ARC_Pavilion/Electricity\n",
      " ARC Pavilion                Demand       Float         kW             UCD.ARC_Pavilion/Electricity_Demand\n",
      " ARC Pavilion           Demand_kBtu       Float       kBtu         UCD.ARCPavilion_Electricity_Demand_kBtu\n",
      " ARC Pavilion       Electricity_EUI       Float  kBtu/sqft                 UCD.ARCPavilion_Electricity_EUI\n",
      " ARC Pavilion          MonthlyUsage       Float       kBtu        UCD.ARCPavilion_Electricity_MonthlyUsage\n",
      " ARC Pavilion        Rollover Check       Float                  UCD.ARCPavilion_Electricity_RolloverCheck\n",
      " ARC Pavilion  Rollover Count Month       Float             UCD.ARCPavilion_Electricity_RolloverCountMonth\n",
      " ARC Pavilion   Rollover Count Year       Float              UCD.ARCPavilion_Electricity_RolloverCountYear\n"
     ]
    },
    {
     "data": {
      "text/markdown": [
       "**Data view ID: campus.building-arc_pavilion-chilled_water**"
      ],
      "text/plain": [
       "<IPython.core.display.Markdown object>"
      ]
     },
     "metadata": {},
     "output_type": "display_data"
    },
    {
     "name": "stdout",
     "output_type": "stream",
     "text": [
      "     Asset_Id       Column_Name Stream_Type Stream_UOM                               OCS_Stream_Name\n",
      " ARC Pavilion       AnnualUsage       Float       kBtu      UCD.ARCPavilion_ChilledWater_AnnualUsage\n",
      " ARC Pavilion  ChilledWater_EUI       Float  kBtu/sqft              UCD.ARCPavilion_ChilledWater_EUI\n",
      " ARC Pavilion    Cumulative Use       Float       MBTU         UCD.ARC_Pavilion_Flexim/Chilled_Water\n",
      " ARC Pavilion            Demand       Float     MBTU/h  UCD.ARC_Pavilion_Flexim/Chilled_Water_Demand\n",
      " ARC Pavilion       Demand_kBtu       Float     kBtu/h      UCD.ARCPavilion_ChilledWater_Demand_kBtu\n",
      " ARC Pavilion      MonthlyUsage       Float       kBtu     UCD.ARCPavilion_ChilledWater_MonthlyUsage\n",
      " ARC Pavilion    Rollover Check       Float               UCD.ARCPavilion_ChilledWater_RolloverCheck\n"
     ]
    },
    {
     "data": {
      "text/markdown": [
       "**Data view ID: campus.building-arc_pavilion-electricity**"
      ],
      "text/plain": [
       "<IPython.core.display.Markdown object>"
      ]
     },
     "metadata": {},
     "output_type": "display_data"
    },
    {
     "name": "stdout",
     "output_type": "stream",
     "text": [
      "     Asset_Id           Column_Name Stream_Type Stream_UOM                                 OCS_Stream_Name\n",
      " ARC Pavilion           AnnualUsage       Float       kBtu         UCD.ARCPavilion_Electricity_AnnualUsage\n",
      " ARC Pavilion        Cumulative Use       Float        kWh                    UCD.ARC_Pavilion/Electricity\n",
      " ARC Pavilion                Demand       Float         kW             UCD.ARC_Pavilion/Electricity_Demand\n",
      " ARC Pavilion           Demand_kBtu       Float       kBtu         UCD.ARCPavilion_Electricity_Demand_kBtu\n",
      " ARC Pavilion       Electricity_EUI       Float  kBtu/sqft                 UCD.ARCPavilion_Electricity_EUI\n",
      " ARC Pavilion          MonthlyUsage       Float       kBtu        UCD.ARCPavilion_Electricity_MonthlyUsage\n",
      " ARC Pavilion        Rollover Check       Float                  UCD.ARCPavilion_Electricity_RolloverCheck\n",
      " ARC Pavilion  Rollover Count Month       Float             UCD.ARCPavilion_Electricity_RolloverCountMonth\n",
      " ARC Pavilion   Rollover Count Year       Float              UCD.ARCPavilion_Electricity_RolloverCountYear\n"
     ]
    },
    {
     "data": {
      "text/markdown": [
       "**Data view ID: campus.building-arc_pavilion-steam**"
      ],
      "text/plain": [
       "<IPython.core.display.Markdown object>"
      ]
     },
     "metadata": {},
     "output_type": "display_data"
    },
    {
     "name": "stdout",
     "output_type": "stream",
     "text": [
      "     Asset_Id     Column_Name Stream_Type Stream_UOM                      OCS_Stream_Name\n",
      " ARC Pavilion     AnnualUsage       Float       kBtu    UCD.ARCPavilion_Steam_AnnualUsage\n",
      " ARC Pavilion  Cumulative Use       Float        Gal          UCD.ARC_Pavilion/Condensate\n",
      " ARC Pavilion          Demand       Float     lbs/hr        UCD.ARC_Pavilion/Steam_Demand\n",
      " ARC Pavilion     Demand_kBtu       Float     kBtu/h    UCD.ARCPavilion_Steam_Demand_kBtu\n",
      " ARC Pavilion    MonthlyUsage       Float       kBtu   UCD.ARCPavilion_Steam_MonthlyUsage\n",
      " ARC Pavilion  Rollover Check       Float             UCD.ARCPavilion_Steam_RolloverCheck\n",
      " ARC Pavilion       Steam_EUI       Float       kBtu            UCD.ARCPavilion_Steam_EUI\n"
     ]
    }
   ],
   "source": [
    "for dv_id in dataview_ids:\n",
    "    # print(f\"Data view ID: {dv_id}\")\n",
    "    display(Markdown(f\"**Data view ID: {dv_id}**\"))\n",
    "    print(hub.dataview_definition(namespace_id, dv_id).to_string(index=False))"
   ]
  },
  {
   "cell_type": "markdown",
   "metadata": {},
   "source": [
    "## Asset Metadata\n",
    "\n",
    "Building metadata for `Campus_Energy` is a Python dictionary where key `CAAN` is a building code. The rest of the key are self-explanatory. "
   ]
  },
  {
   "cell_type": "code",
   "execution_count": 5,
   "metadata": {},
   "outputs": [
    {
     "data": {
      "text/plain": [
       "{'BuildingName': 'ARCPavilion',\n",
       " 'CAAN': 4444,\n",
       " 'Construction Date': 19770301,\n",
       " 'Display Name': 'ARC Pavilion',\n",
       " 'Latitude': 38.54181213318,\n",
       " 'Longitude': -121.75962444,\n",
       " 'Primary Usage (Type)': 'REC - Athletics & Recreation',\n",
       " 'Total Maintained Gross Sq. Ft.': 171940,\n",
       " 'chilledwater.Annual Cost': 557,\n",
       " 'chilledwater.tonh Rate': 0.1493,\n",
       " 'electricity.Annual Cost': 51155,\n",
       " 'electricity.kWh Rate': 0.0687,\n",
       " 'steam.Annual Cost': 1500,\n",
       " 'steam.klb Rate': 7.2552}"
      ]
     },
     "execution_count": 5,
     "metadata": {},
     "output_type": "execute_result"
    }
   ],
   "source": [
    "hub.asset_metadata(\"ARC Pavilion\")"
   ]
  },
  {
   "cell_type": "code",
   "execution_count": null,
   "metadata": {},
   "outputs": [],
   "source": []
  }
 ],
 "metadata": {
  "kernelspec": {
   "display_name": "Python 3",
   "language": "python",
   "name": "python3"
  },
  "language_info": {
   "codemirror_mode": {
    "name": "ipython",
    "version": 3
   },
   "file_extension": ".py",
   "mimetype": "text/x-python",
   "name": "python",
   "nbconvert_exporter": "python",
   "pygments_lexer": "ipython3",
   "version": "3.7.6"
  },
  "toc": {
   "base_numbering": 1,
   "nav_menu": {},
   "number_sections": false,
   "sideBar": true,
   "skip_h1_title": false,
   "title_cell": "Table of Contents",
   "title_sidebar": "Contents",
   "toc_cell": true,
   "toc_position": {},
   "toc_section_display": true,
   "toc_window_display": false
  },
  "toc-autonumbering": false,
  "toc-showtags": false
 },
 "nbformat": 4,
 "nbformat_minor": 4
}
