{
 "cells": [
  {
   "cell_type": "markdown",
   "metadata": {},
   "source": [
    "# Pilot Plant Dataset Document"
   ]
  },
  {
   "cell_type": "markdown",
   "metadata": {},
   "source": [
    "\n",
    "## Overview of the Pilot Plant Dataset Document\n",
    "\n",
    "__[Part 1](#section_1). Description of Brewery Dataset (Deschutes)__\n",
    "\n",
    "Describes the OSIsoft Academic Hub ([Part 1](#section_1)), Del Mar College Glycol Pilot Plant dataset, the time frame in which the dataset was compiled, data quality information ([Part 1a](#section_1a)), and the Glycol Pilot Plant process ([Part 1b](#section_1b)).\n",
    "\n",
    "__[Part 2](#section_2). The Pilot Plant Challenges__\n",
    "\n",
    "What Del Mar College teaches futur operators with the pilot plant. \n",
    "\n",
    "__[Part 3](#section_3). Stream Data__\n",
    "\n",
    "Explains the process parameters and other monitored variables collected during glycol manufacturing process.\n",
    "\n",
    "__[Part 4](#section_4). Data Quality__\n",
    "\n",
    "Faced with real-world data, students are expected to work with \"dirty\" data: data which contains error and gaps. This section also describes various ways poor quality data arises.\n",
    "\n",
    "__[Part 5](#section_5). Assets, Data Views and Metadata__\n",
    "\n",
    "Hub Datasets are organized around a set of assets, each of the asset having at least a default data view. A data view is an OCS feature to extract interpolated data from multiple related streams, in a tabular form ready for data-driven applications or any data analysis tool. Specialized data views (subsets of the default data views) can also be defined, as it is the case for this dataset.   "
   ]
  },
  {
   "cell_type": "markdown",
   "metadata": {},
   "source": [
    "# Part 1. Description of Pilot Plan Dataset (Del Mar College)\n",
    "---\n",
    "<a id=\"section_1\"></a>\n",
    "\n",
    "<div class=\"alert alert-block alert-danger\">\n",
    "    <b>[TO REVIEW]</b>\n",
    "</div>\n",
    "    \n",
    "Del Mar College is a workforce development college located in Corpus\n",
    "Christi, Texas. Due to the significant increases in South Texas oil and\n",
    "gas production, Corpus Christi has experienced a boom in transporting\n",
    "energy, crude refining, and liquifying natural gas so that it can\n",
    "exported by sea. As a result, Corpus Christi is becoming one of the\n",
    "largest exporters of energy. This boom requires an influx of skilled\n",
    "plant operations people and technicians. Adding to this shortage is the\n",
    "retirement of many baby-boom generation operations people who possess a\n",
    "high-level of operations and production knowledge about their facilities\n",
    "not easily transferrable. As a result, industry is trying to fill\n",
    "numerous positions with qualified candidates and is funding Del Mar\n",
    "College to help meet those needs. These companies also send their\n",
    "operations people to Del Mar College for ongoing training to keep their\n",
    "knowledge current.\n",
    "\n",
    "To help provide qualified operations candidates for these positions, Del\n",
    "Mar College has developed curriculum focusing on real-world, hands-on\n",
    "experience using a glycol pilot plant located on campus. Students learn\n",
    "and gain an understanding in areas such as:\n",
    "\n",
    "* Equipment startup, shutdown, and normal operations\n",
    "\n",
    "* Plant equipment maintenance\n",
    "\n",
    "* Plant safety issues\n",
    "\n",
    "* Analyzing data to troubleshoot plant issues that arise\n",
    "\n",
    "The pilot plant consists of two units:\n",
    "\n",
    "* Hands On Training Unit \\#1 (HOT-1), which is comprised of tanks,\n",
    "    pumps, and feed units in order to circulate water from the feed tank\n",
    "    through product tanks and back to the feed tank.\n",
    "\n",
    "* Hands On Training Unit \\#3 (HOT-3), which comprises the distillation\n",
    "    column unit, a continuous vacuum distillation process that separates\n",
    "    a mixture of glycol and water. The students learn the fundamentals\n",
    "    of distillation column operations.\n",
    "    \n",
    "<div class=\"alert alert-block alert-warning\">\n",
    "    NOTE – At the present time (December 2020), the HOT-1 and the HOT-3 units operate independently.  \n",
    "    There are plans to run them together in series at a future date, but this data reflects them running \n",
    "    standalone from each other.\n",
    "</div>\n",
    "\n",
    "In 2020, Del Mar College graciously agreed to provide OSIsoft the PI\n",
    "System data collected from their glycol pilot plant for publication on the OSIsoft Academic Hub. This hub  \n",
    "is a cloud-based platform that supports data analytics in the university curriculum by providing a data \n",
    "infrastructure to host, aggregate, and analyze data. Students are exposed to real-world industrial data \n",
    "which illustrates some of the same engineering concepts being taught in classrooms and labs.\n",
    "\n",
    "In November 2020, OSIsoft gained access to Del Mar's 76 data points through \n",
    "[PI Cloud Connect](https://www.osisoft.com/pi-system/pi-cloud). \n",
    "Start of data on our Hub dataset is \n",
    "October 13, 2020 and is kept up to date lthough there may be gaps in\n",
    "the data when Del Mar shuts down the pilot plant due to inactivity or\n",
    "maintenance, or if there are communication lapses for some reason.\n",
    "\n",
    "This document describes the Del Mar College pilot plant dataset, the\n",
    "time frame in which the dataset was compiled, the data variables that\n",
    "comprise this dataset, the Asset Framework metadata model, which\n",
    "describes the hierarchical structure of the pilot plant data, and the\n",
    "data quality ([Part 1a](#section_1b))."
   ]
  },
  {
   "cell_type": "markdown",
   "metadata": {},
   "source": [
    "### 1a. Assets HOT-1 and HOT-3\n",
    "<a id=\"section_1a\"></a>\n",
    "\n",
    "#### HOT-1 Unit Description\n",
    "\n",
    "<div class=\"alert alert-block alert-danger\">\n",
    "    <b>[VERIFY SENTENCES WITH QUESTION MARKS ????]</b>\n",
    "</div>\n",
    "\n",
    "This unit is used to pump water and other materials**????** from one tank another tank. \n",
    "There are 3 tanks in the HOT-1 unit: feed tank T-101, a 300-gallon tank, product tank T-102, \n",
    "a 300-gallon product tank, and feed water tank T-103, a 20-gallon chemical tank. Del Mar College adds\n",
    "energy **????** on one side and removes it on the other. They teach their students energy in, energy out and chemical injection. At some point in the near future,the feed and product tanks will connect to the HOT3 distillation tower. **????**\n",
    "\n",
    "A PID diagram of the HOT-1 unit is shown here:\n",
    "\n",
    "![](https://academichub.blob.core.windows.net/images/Pilot_Plant_PID_HOT_1.png)\n",
    "\n",
    "\n",
    "\n",
    "#### HOT-3 Unit Description\n",
    "\n",
    "This unit is a distillation column that distills H20 from ethylene glycol under approximately 100 mm of vacuum, with 0 being a perfect vacuum. The unit boils/distills off the water at approximately 120-125 degrees. Del Mar College teaches this unit in 5 systems or components:  bottoms, overhead, energy in, energy out and the overhead pressure system. \n",
    "Both the HOT-1 and HOT-3 units are presently stand-alone, with plans to join them in the future. Currently the feed and product tanks are located in the tower itself which lends itself to some confusion with our students (needed).<b>??</b> \n",
    "\n",
    "The next 3 PID diagrams show the HOT-3 distillation tower unit.\n",
    "\n",
    "**Fractionation PID:**\n",
    "![](https://academichub.blob.core.windows.net/images/Pilot_Plant_PID_HOT_3_p1.png)\n",
    "\n",
    "**Overhead Recovery PID:**\n",
    "![](https://academichub.blob.core.windows.net/images/Pilot_Plant_PID_HOT_3_p2.png)\n",
    "\n",
    "**Utility PID:**\n",
    "![](https://academichub.blob.core.windows.net/images/Pilot_Plant_PID_HOT_3_p3.png)\n",
    "\n",
    "\n",
    "As already mentioned each of the asset HOT-1 and HOT-3 are the combination of different components. The tables below provide a summary of those components and a short description. In requesting interpolated data from this dataset, it is possible to get all data for an asset or only get a subset related to a component.  \n",
    "\n",
    "\n",
    "#### Hands-On-Training Unit #1 (HOT-1)\n",
    "\n",
    "| Component | Description | Detail | \n",
    "|:---------:|:-----------:|:-------|\n",
    "| **E-101** | **Air cooler**  | Cools the product water from E-102\n",
    "| **E-102** | **Shell and tube heat exchanger** | Heats the unit feed water before entering product tank T-102 | \n",
    "| **HTR-101** | **Heater** |  Heats product water from T-102 | \n",
    "| **TK-101** | **Cold side storage tank** | Capacity of 300-gallon | \n",
    "| **TK-102** | **Hot side product tank** | Capacity of 300-gallon  | \n",
    "| **TK-103** | **Feed water tank** | Capacity of 20-gallon | \n",
    "\n",
    "\n",
    "#### Hands-On-Training Unit #1 (HOT-3)\n",
    "\n",
    "<div class=\"alert alert-block alert-danger\">\n",
    "    <b>[TO COMPLETE]</b>\n",
    "</div>\n",
    "\n",
    "| Component | Description | \n",
    "|:---------:|:-----------:|\n",
    "| **Bottom Products** | **(no description)**  |\n",
    "| **Energy In** | **Reboiler system for HOT-3** |\n",
    "| **Energy Out** | **Condenser System for HOT-3** |\n",
    "| **Overhead Product** | **(no description)** |\n",
    "| **Pressure** | **(no description)** |\n",
    "| **T-200** | **Distillation Column** |\n"
   ]
  },
  {
   "cell_type": "markdown",
   "metadata": {},
   "source": [
    "### 1b. Glycol Pilot Plant Modes, Run Statuses and Alarms \n",
    "<a id=\"section_1b\"></a>\n",
    "\n",
    "<div class=\"alert alert-block alert-danger\">\n",
    "    <b>[TO REVIEW]</b>\n",
    "</div>\n",
    "\n",
    "To identify what was going at a given time at the pilot plant, a few select streams of data carrying digital states are important. Unlike data streams with float values, the values of those streams comes from a discrete set of strings, each string having an integer unique code within the set. To each digital state stream is associated a digital state set and given digital state set may be used by multiple streams. \n",
    "\n",
    "We list here the digital state set shared by all mode streams, run status streams, and alarms streams respectively:\n",
    "\n",
    "**Digital State Set: delmar.ControllerMode**\n",
    "\n",
    "| Digital State Name | Code |\n",
    "|:------------------:|:----:|\n",
    "| Init. Manual       | 2 | \n",
    "| Manual             | 8 | \n",
    "| Auto | 16 | \n",
    "| Cascade | 32 | \n",
    "\n",
    "\n",
    "**Digital State Set: delmar.RunStatus**\n",
    "\n",
    "| Digital State Name | Code |\n",
    "|:------------------:|:----:|\n",
    "| Not Running       | 0 | \n",
    "| Running           | 1 | \n",
    " \n",
    "**Digital State Set: delmar.AlarmStatus**\n",
    "\n",
    "| Digital State Name | Code |\n",
    "|:------------------:|:----:|\n",
    "| Normal | 0 |\n",
    "| Alarm  | 1 | \n",
    " \n",
    "In [Section 5](#section_5), all column names having \"Mode\" in them and Category as the Stream_Type have values from the **delmar.ControllerMode** table. All column names having \"Run Status\" as a substring and Category as the Stream_Type have value from the **delmar.RunStatus**, and similarly \"Alarm\" in the column name indicates values from the **delmar.AlarmStatus** set. "
   ]
  },
  {
   "cell_type": "markdown",
   "metadata": {},
   "source": [
    "# Part 2. Pilot Plant Challenges\n",
    "---\n",
    "<a id=\"section_2\"></a>\n",
    "\n",
    "The key initiatives for using the PI System are:\n",
    "\n",
    "1.  To teach students plant operations as they would occur in industry,\n",
    "    so that they understand what they will encounter when they are\n",
    "    employed in industry.\n",
    "\n",
    "2.  To make sure the students understand how the plant operates and when\n",
    "    it is operating correctly and safely.\n",
    "\n",
    "3.  To have the students analyze when there are anomalies in plant\n",
    "    operations, why they occurred, and what the remedy is."
   ]
  },
  {
   "cell_type": "markdown",
   "metadata": {},
   "source": [
    "# Part 3. Stream Data\n",
    "---\n",
    "<a id=\"section_3\"></a>\n",
    "\n",
    "    \n",
    "The data was collected from the Del Mar College on-campus glycol pilot plant.  The plant is operated by an Emerson DeltaV control system.  The PI System retrieved the data values from the DeltaV control system using a standard PI System software interface, which collects the data on a specified time interval or when the data changes.  This is a configurable option for each PI data point.\n"
   ]
  },
  {
   "cell_type": "markdown",
   "metadata": {},
   "source": [
    "# Part 4. Data Quality\n",
    "---\n",
    "<a id=\"section_4\"></a>\n",
    "\n",
    "<div class=\"alert alert-block alert-danger\">\n",
    "    <b>[TO REVIEW]</b> \n",
    "</div>\n",
    "\n",
    "Faced with real-world data, students are expected to work with \"dirty\" data: data which contains error and gaps. \n",
    "\n",
    "\n",
    "<div class=\"alert alert-block alert-warning\">\n",
    "There also may be unexpected moves in the data values that are unexplained.  This may be due to Del Mar College instructors modifying the physical environment to show students anomalies. Del Mar College did not do this on a scheduled basis or as part of their scheduled lesson plan.  It was done on an ad-hoc basis during student learning.\n",
    "</div>"
   ]
  },
  {
   "cell_type": "markdown",
   "metadata": {},
   "source": [
    "# Part 5. Assets, Dataviews and Metadata\n",
    "---\n",
    "<a id=\"section_5\"></a>"
   ]
  },
  {
   "cell_type": "markdown",
   "metadata": {},
   "source": [
    "Academic Hub datasets are structured around assets. Here assets are pieces of equipment found in a brewery: many fermenter vessels, bright tanks, and other related equipment. Each asset has an Asset Identifier (Asset Id) and a description. This information is available through the Hub Python library (`ocs_academic_hub`) and is returned as Pandas dataframe.\n",
    "\n",
    "Each asset is endowed with a default data view, i.e. a structure which maps all the data streams associated to the asset onto a column in a Pandas dataframe. Each data view has a Data view Id and exists within an OCS namespace, i.e. a named partition with its own Namespace ID. To request data for an asset, the following information should be provided:\n",
    "\n",
    "* Namespace Id\n",
    "* Data view Id\n",
    "* Start index (timestamp)\n",
    "* End index (timestamp). \n",
    "* Interpolation interval\n",
    "\n",
    "Reference for the start/end index and interpolation interval can be found at https://ocs-docs.osisoft.com/Content_Portal/Documentation/DataViews/GetDataViewData/Quick_Start_Get_Data_View_Data.html#index. \n",
    "\n",
    "For specific use-cases it is possible to define specialized dataviews having only a subset of the default dataview columns. Specialized dataviews avoid data overfetching and reduce the time to get results back especially with large tables with high number of rows. Most data views are for a single asset, but it's possible to define a data view spanning multiple assets. This avoid requesting multiple single-asset data views and stiching the result into a single Pandas dataframe for analysis.\n",
    "\n",
    "Asset metadata is static information about the asset, e.g. the equipment manufacturer, installation date, etc. \n",
    "\n",
    "**NOTE: this dataset has no multi-asset data view.** "
   ]
  },
  {
   "cell_type": "code",
   "execution_count": 1,
   "metadata": {
    "scrolled": true
   },
   "outputs": [
    {
     "name": "stdout",
     "output_type": "stream",
     "text": [
      "Step 1: Get OAuth endpoint configuration...\n",
      "Step 2: Set up server to process authorization response...\n",
      "Step 3: Authorize the user...\n",
      "Step 4: Set server to handle one request...\n"
     ]
    },
    {
     "name": "stderr",
     "output_type": "stream",
     "text": [
      "127.0.0.1 - - [07/Dec/2020 14:34:52] \"GET /callback.html?code=_OeGV2D67p0wAAhs2gus9fmGNnxJ02XBI87mYn5C0a4&scope=openid%20ocsapi&session_state=5WPGam5wV_VpJttcr8rX6PqAeUpc1HVLTZq6AmbqljA.1n-Kh7OQacqhnZ75t94F1Q HTTP/1.1\" 200 -\n"
     ]
    },
    {
     "name": "stdout",
     "output_type": "stream",
     "text": [
      "Step 5: Get a token using the authorization code...\n",
      "Step 6: Access token read ok\n",
      "Complete!\n",
      "@ Hub data file: hub_datasets.json\n",
      "@ Hub data file: hub_datasets.json\n",
      "@ Current dataset: Brewery\n"
     ]
    }
   ],
   "source": [
    "# -------------------------------\n",
    "# Code preamble for next sections\n",
    "# -------------------------------\n",
    "from ocs_academic_hub import HubClient\n",
    "from IPython.display import display, Markdown, HTML\n",
    "dataset = \"Pilot_Plant\"\n",
    "hub = HubClient()\n",
    "hub.refresh_datasets()\n",
    "hub.set_dataset(dataset)\n",
    "namespace_id = hub.namespace_of(dataset)\n",
    "dataview_info = [\"Column_Name\", \"Stream_Type\", \"Stream_UOM\", \"OCS_Stream_Name\"]\n",
    "def display_df(df):\n",
    "    return display(df.style.hide_index())"
   ]
  },
  {
   "cell_type": "markdown",
   "metadata": {},
   "source": [
    "## Glycol Pilot Plant Assets \n",
    "\n",
    "This method returns a Pandas dataframe with `Asset_Id` as the first column and short asset description in the second column. "
   ]
  },
  {
   "cell_type": "code",
   "execution_count": 2,
   "metadata": {
    "scrolled": true
   },
   "outputs": [
    {
     "data": {
      "text/html": [
       "<style  type=\"text/css\" >\n",
       "</style><table id=\"T_488fec06_38c3_11eb_81aa_907841ab469a\" ><thead>    <tr>        <th class=\"col_heading level0 col0\" >Asset_Id</th>        <th class=\"col_heading level0 col1\" >Description</th>    </tr></thead><tbody>\n",
       "                <tr>\n",
       "                                <td id=\"T_488fec06_38c3_11eb_81aa_907841ab469arow0_col0\" class=\"data row0 col0\" >HOT-1</td>\n",
       "                        <td id=\"T_488fec06_38c3_11eb_81aa_907841ab469arow0_col1\" class=\"data row0 col1\" >HOT-1 unit</td>\n",
       "            </tr>\n",
       "            <tr>\n",
       "                                <td id=\"T_488fec06_38c3_11eb_81aa_907841ab469arow1_col0\" class=\"data row1 col0\" >HOT-3</td>\n",
       "                        <td id=\"T_488fec06_38c3_11eb_81aa_907841ab469arow1_col1\" class=\"data row1 col1\" >HOT-3 unit</td>\n",
       "            </tr>\n",
       "    </tbody></table>"
      ],
      "text/plain": [
       "<pandas.io.formats.style.Styler at 0x1fecfdd4d08>"
      ]
     },
     "metadata": {},
     "output_type": "display_data"
    }
   ],
   "source": [
    "display_df(hub.assets())"
   ]
  },
  {
   "cell_type": "markdown",
   "metadata": {},
   "source": [
    "## Available Data Views\n",
    "\n",
    "All assets have at least a default data view with ID of the following format: `pilot.plant_<asset_id>` where `<asset_id>` is the Asset Id as seen above but all lowercase. \n",
    "\n",
    "In this dataset, assets `HOT-1` and `HOT-3` have each a default data view plus more specific data views, one for each component associated to the asset. The name convention for those data views is `pilot.plant_<asset_id>_<component>` in all lowercase. \n",
    "\n",
    "The data views for `HOT-1` are (first one is default):"
   ]
  },
  {
   "cell_type": "code",
   "execution_count": 3,
   "metadata": {
    "scrolled": true
   },
   "outputs": [
    {
     "data": {
      "text/plain": [
       "['pilot.plant_hot-1',\n",
       " 'pilot.plant_hot-1_e-101',\n",
       " 'pilot.plant_hot-1_e-102',\n",
       " 'pilot.plant_hot-1_htr-101',\n",
       " 'pilot.plant_hot-1_tk-101',\n",
       " 'pilot.plant_hot-1_tk-102',\n",
       " 'pilot.plant_hot-1_tk-103']"
      ]
     },
     "execution_count": 3,
     "metadata": {},
     "output_type": "execute_result"
    }
   ],
   "source": [
    "dataviews_hot_1 = hub.asset_dataviews(\"HOT-1\")\n",
    "dataviews_hot_1"
   ]
  },
  {
   "cell_type": "markdown",
   "metadata": {},
   "source": [
    "The data views for HOT-3 are (first one is default):"
   ]
  },
  {
   "cell_type": "code",
   "execution_count": 4,
   "metadata": {
    "scrolled": true
   },
   "outputs": [
    {
     "data": {
      "text/plain": [
       "['pilot.plant_hot-3',\n",
       " 'pilot.plant_hot-3_bottoms_product',\n",
       " 'pilot.plant_hot-3_energy_in',\n",
       " 'pilot.plant_hot-3_energy_out',\n",
       " 'pilot.plant_hot-3_overhead_product',\n",
       " 'pilot.plant_hot-3_pressure',\n",
       " 'pilot.plant_hot-3_t-200']"
      ]
     },
     "execution_count": 4,
     "metadata": {},
     "output_type": "execute_result"
    }
   ],
   "source": [
    "dataviews_hot_3 = hub.asset_dataviews(\"HOT-3\")\n",
    "dataviews_hot_3"
   ]
  },
  {
   "cell_type": "markdown",
   "metadata": {},
   "source": [
    "### Data View Definitions\n",
    "\n",
    "The section below shows the data view definitions for all data views of `HOT-1` and `HOT-3`. A data view is fully \n",
    "defined by a set of rows with the following columns:\n",
    "    \n",
    "* **Column_Name:** name of the column in a result data view\n",
    "* **Stream_Type:** the data type found in the column, either `Float` for floating point values, or `Category` for digital states\n",
    "* **Stream_UOM:** declared unit of measure for the column values\n",
    "* **OCS_Stream_Name:** name of the data stream providing the values in the column\n",
    "\n",
    "**NOTE:** the same OCS_Stream_Name can appear in multiple data views under different column name "
   ]
  },
  {
   "cell_type": "code",
   "execution_count": 5,
   "metadata": {
    "scrolled": false
   },
   "outputs": [
    {
     "data": {
      "text/html": [
       "<hr></hr>"
      ],
      "text/plain": [
       "<IPython.core.display.HTML object>"
      ]
     },
     "metadata": {},
     "output_type": "display_data"
    },
    {
     "data": {
      "text/markdown": [
       "**Data view ID: <span style=\"color:blue\">pilot.plant_hot-1</span>** (# of streams: 37)"
      ],
      "text/plain": [
       "<IPython.core.display.Markdown object>"
      ]
     },
     "metadata": {},
     "output_type": "display_data"
    },
    {
     "data": {
      "text/html": [
       "<style  type=\"text/css\" >\n",
       "</style><table id=\"T_48f7d9cc_38c3_11eb_8df4_907841ab469a\" ><thead>    <tr>        <th class=\"col_heading level0 col0\" >Column_Name</th>        <th class=\"col_heading level0 col1\" >Stream_Type</th>        <th class=\"col_heading level0 col2\" >Stream_UOM</th>        <th class=\"col_heading level0 col3\" >OCS_Stream_Name</th>    </tr></thead><tbody>\n",
       "                <tr>\n",
       "                                <td id=\"T_48f7d9cc_38c3_11eb_8df4_907841ab469arow0_col0\" class=\"data row0 col0\" >E-101 Air Cooler Outlet Pressure</td>\n",
       "                        <td id=\"T_48f7d9cc_38c3_11eb_8df4_907841ab469arow0_col1\" class=\"data row0 col1\" >Float</td>\n",
       "                        <td id=\"T_48f7d9cc_38c3_11eb_8df4_907841ab469arow0_col2\" class=\"data row0 col2\" >PSIG</td>\n",
       "                        <td id=\"T_48f7d9cc_38c3_11eb_8df4_907841ab469arow0_col3\" class=\"data row0 col3\" >delmar.DELMAR_UNIT1_PI-113.PV</td>\n",
       "            </tr>\n",
       "            <tr>\n",
       "                                <td id=\"T_48f7d9cc_38c3_11eb_8df4_907841ab469arow1_col0\" class=\"data row1 col0\" >E-101 Air Cooler Outlet Temperature</td>\n",
       "                        <td id=\"T_48f7d9cc_38c3_11eb_8df4_907841ab469arow1_col1\" class=\"data row1 col1\" >Float</td>\n",
       "                        <td id=\"T_48f7d9cc_38c3_11eb_8df4_907841ab469arow1_col2\" class=\"data row1 col2\" >°F</td>\n",
       "                        <td id=\"T_48f7d9cc_38c3_11eb_8df4_907841ab469arow1_col3\" class=\"data row1 col3\" >delmar.DELMAR_UNIT1_TI-107.PV</td>\n",
       "            </tr>\n",
       "            <tr>\n",
       "                                <td id=\"T_48f7d9cc_38c3_11eb_8df4_907841ab469arow2_col0\" class=\"data row2 col0\" >E-101 Inlet Pressure</td>\n",
       "                        <td id=\"T_48f7d9cc_38c3_11eb_8df4_907841ab469arow2_col1\" class=\"data row2 col1\" >Float</td>\n",
       "                        <td id=\"T_48f7d9cc_38c3_11eb_8df4_907841ab469arow2_col2\" class=\"data row2 col2\" >PSIG</td>\n",
       "                        <td id=\"T_48f7d9cc_38c3_11eb_8df4_907841ab469arow2_col3\" class=\"data row2 col3\" >delmar.DELMAR_UNIT1_PI-110.PV</td>\n",
       "            </tr>\n",
       "            <tr>\n",
       "                                <td id=\"T_48f7d9cc_38c3_11eb_8df4_907841ab469arow3_col0\" class=\"data row3 col0\" >E-101 Run Status</td>\n",
       "                        <td id=\"T_48f7d9cc_38c3_11eb_8df4_907841ab469arow3_col1\" class=\"data row3 col1\" >Category</td>\n",
       "                        <td id=\"T_48f7d9cc_38c3_11eb_8df4_907841ab469arow3_col2\" class=\"data row3 col2\" ></td>\n",
       "                        <td id=\"T_48f7d9cc_38c3_11eb_8df4_907841ab469arow3_col3\" class=\"data row3 col3\" >delmar.DELMAR_UNIT1_XB-101</td>\n",
       "            </tr>\n",
       "            <tr>\n",
       "                                <td id=\"T_48f7d9cc_38c3_11eb_8df4_907841ab469arow4_col0\" class=\"data row4 col0\" >E-101 Shell Side Outlet Temperature</td>\n",
       "                        <td id=\"T_48f7d9cc_38c3_11eb_8df4_907841ab469arow4_col1\" class=\"data row4 col1\" >Float</td>\n",
       "                        <td id=\"T_48f7d9cc_38c3_11eb_8df4_907841ab469arow4_col2\" class=\"data row4 col2\" >°F</td>\n",
       "                        <td id=\"T_48f7d9cc_38c3_11eb_8df4_907841ab469arow4_col3\" class=\"data row4 col3\" >delmar.DELMAR_UNIT1_TI-106.PV</td>\n",
       "            </tr>\n",
       "            <tr>\n",
       "                                <td id=\"T_48f7d9cc_38c3_11eb_8df4_907841ab469arow5_col0\" class=\"data row5 col0\" >E-102 Duty</td>\n",
       "                        <td id=\"T_48f7d9cc_38c3_11eb_8df4_907841ab469arow5_col1\" class=\"data row5 col1\" >Float</td>\n",
       "                        <td id=\"T_48f7d9cc_38c3_11eb_8df4_907841ab469arow5_col2\" class=\"data row5 col2\" ></td>\n",
       "                        <td id=\"T_48f7d9cc_38c3_11eb_8df4_907841ab469arow5_col3\" class=\"data row5 col3\" >delmar.DELMAR_UNIT1_E-102_DUTY</td>\n",
       "            </tr>\n",
       "            <tr>\n",
       "                                <td id=\"T_48f7d9cc_38c3_11eb_8df4_907841ab469arow6_col0\" class=\"data row6 col0\" >E-102 Heat Transfer Coefficient</td>\n",
       "                        <td id=\"T_48f7d9cc_38c3_11eb_8df4_907841ab469arow6_col1\" class=\"data row6 col1\" >Float</td>\n",
       "                        <td id=\"T_48f7d9cc_38c3_11eb_8df4_907841ab469arow6_col2\" class=\"data row6 col2\" ></td>\n",
       "                        <td id=\"T_48f7d9cc_38c3_11eb_8df4_907841ab469arow6_col3\" class=\"data row6 col3\" >delmar.DELMAR_UNIT1_E-102_HTC</td>\n",
       "            </tr>\n",
       "            <tr>\n",
       "                                <td id=\"T_48f7d9cc_38c3_11eb_8df4_907841ab469arow7_col0\" class=\"data row7 col0\" >E-102 Inlet pressure</td>\n",
       "                        <td id=\"T_48f7d9cc_38c3_11eb_8df4_907841ab469arow7_col1\" class=\"data row7 col1\" >Float</td>\n",
       "                        <td id=\"T_48f7d9cc_38c3_11eb_8df4_907841ab469arow7_col2\" class=\"data row7 col2\" >PSIG</td>\n",
       "                        <td id=\"T_48f7d9cc_38c3_11eb_8df4_907841ab469arow7_col3\" class=\"data row7 col3\" >delmar.DELMAR_UNIT1_PI-105.PV</td>\n",
       "            </tr>\n",
       "            <tr>\n",
       "                                <td id=\"T_48f7d9cc_38c3_11eb_8df4_907841ab469arow8_col0\" class=\"data row8 col0\" >E-102 LMTD</td>\n",
       "                        <td id=\"T_48f7d9cc_38c3_11eb_8df4_907841ab469arow8_col1\" class=\"data row8 col1\" >Float</td>\n",
       "                        <td id=\"T_48f7d9cc_38c3_11eb_8df4_907841ab469arow8_col2\" class=\"data row8 col2\" ></td>\n",
       "                        <td id=\"T_48f7d9cc_38c3_11eb_8df4_907841ab469arow8_col3\" class=\"data row8 col3\" >delmar.DELMAR_UNIT1_E-102_LMTD</td>\n",
       "            </tr>\n",
       "            <tr>\n",
       "                                <td id=\"T_48f7d9cc_38c3_11eb_8df4_907841ab469arow9_col0\" class=\"data row9 col0\" >E-102 Shell Side Inlet Temperature</td>\n",
       "                        <td id=\"T_48f7d9cc_38c3_11eb_8df4_907841ab469arow9_col1\" class=\"data row9 col1\" >Float</td>\n",
       "                        <td id=\"T_48f7d9cc_38c3_11eb_8df4_907841ab469arow9_col2\" class=\"data row9 col2\" >°F</td>\n",
       "                        <td id=\"T_48f7d9cc_38c3_11eb_8df4_907841ab469arow9_col3\" class=\"data row9 col3\" >delmar.DELMAR_UNIT1_TI-105.PV</td>\n",
       "            </tr>\n",
       "            <tr>\n",
       "                                <td id=\"T_48f7d9cc_38c3_11eb_8df4_907841ab469arow10_col0\" class=\"data row10 col0\" >E-102 Tube Side Inlet Temperature</td>\n",
       "                        <td id=\"T_48f7d9cc_38c3_11eb_8df4_907841ab469arow10_col1\" class=\"data row10 col1\" >Float</td>\n",
       "                        <td id=\"T_48f7d9cc_38c3_11eb_8df4_907841ab469arow10_col2\" class=\"data row10 col2\" >°F</td>\n",
       "                        <td id=\"T_48f7d9cc_38c3_11eb_8df4_907841ab469arow10_col3\" class=\"data row10 col3\" >delmar.DELMAR_UNIT1_TI-101.PV</td>\n",
       "            </tr>\n",
       "            <tr>\n",
       "                                <td id=\"T_48f7d9cc_38c3_11eb_8df4_907841ab469arow11_col0\" class=\"data row11 col0\" >E-102 Tube Side Outlet Pressure</td>\n",
       "                        <td id=\"T_48f7d9cc_38c3_11eb_8df4_907841ab469arow11_col1\" class=\"data row11 col1\" >Float</td>\n",
       "                        <td id=\"T_48f7d9cc_38c3_11eb_8df4_907841ab469arow11_col2\" class=\"data row11 col2\" >PSIG</td>\n",
       "                        <td id=\"T_48f7d9cc_38c3_11eb_8df4_907841ab469arow11_col3\" class=\"data row11 col3\" >delmar.DELMAR_UNIT1_PI-112.PV</td>\n",
       "            </tr>\n",
       "            <tr>\n",
       "                                <td id=\"T_48f7d9cc_38c3_11eb_8df4_907841ab469arow12_col0\" class=\"data row12 col0\" >E-102 Tube Side Outlet Temperature Controller Mode</td>\n",
       "                        <td id=\"T_48f7d9cc_38c3_11eb_8df4_907841ab469arow12_col1\" class=\"data row12 col1\" >Category</td>\n",
       "                        <td id=\"T_48f7d9cc_38c3_11eb_8df4_907841ab469arow12_col2\" class=\"data row12 col2\" ></td>\n",
       "                        <td id=\"T_48f7d9cc_38c3_11eb_8df4_907841ab469arow12_col3\" class=\"data row12 col3\" >delmar.DELMAR_UNIT1_TIC-103.MODE</td>\n",
       "            </tr>\n",
       "            <tr>\n",
       "                                <td id=\"T_48f7d9cc_38c3_11eb_8df4_907841ab469arow13_col0\" class=\"data row13 col0\" >E-102 Tube Side Outlet Temperature Controller Output</td>\n",
       "                        <td id=\"T_48f7d9cc_38c3_11eb_8df4_907841ab469arow13_col1\" class=\"data row13 col1\" >Float</td>\n",
       "                        <td id=\"T_48f7d9cc_38c3_11eb_8df4_907841ab469arow13_col2\" class=\"data row13 col2\" >%</td>\n",
       "                        <td id=\"T_48f7d9cc_38c3_11eb_8df4_907841ab469arow13_col3\" class=\"data row13 col3\" >delmar.DELMAR_UNIT1_TIC-103.OUT</td>\n",
       "            </tr>\n",
       "            <tr>\n",
       "                                <td id=\"T_48f7d9cc_38c3_11eb_8df4_907841ab469arow14_col0\" class=\"data row14 col0\" >E-102 Tube Side Outlet Temperature Controller PV</td>\n",
       "                        <td id=\"T_48f7d9cc_38c3_11eb_8df4_907841ab469arow14_col1\" class=\"data row14 col1\" >Float</td>\n",
       "                        <td id=\"T_48f7d9cc_38c3_11eb_8df4_907841ab469arow14_col2\" class=\"data row14 col2\" >°F</td>\n",
       "                        <td id=\"T_48f7d9cc_38c3_11eb_8df4_907841ab469arow14_col3\" class=\"data row14 col3\" >delmar.DELMAR_UNIT1_TIC-103.PV</td>\n",
       "            </tr>\n",
       "            <tr>\n",
       "                                <td id=\"T_48f7d9cc_38c3_11eb_8df4_907841ab469arow15_col0\" class=\"data row15 col0\" >E-102 Tube Side Outlet Temperature Controller Setpoint</td>\n",
       "                        <td id=\"T_48f7d9cc_38c3_11eb_8df4_907841ab469arow15_col1\" class=\"data row15 col1\" >Float</td>\n",
       "                        <td id=\"T_48f7d9cc_38c3_11eb_8df4_907841ab469arow15_col2\" class=\"data row15 col2\" >°F</td>\n",
       "                        <td id=\"T_48f7d9cc_38c3_11eb_8df4_907841ab469arow15_col3\" class=\"data row15 col3\" >delmar.DELMAR_UNIT1_TIC-103.SP</td>\n",
       "            </tr>\n",
       "            <tr>\n",
       "                                <td id=\"T_48f7d9cc_38c3_11eb_8df4_907841ab469arow16_col0\" class=\"data row16 col0\" >Feed Flow Controller Mode</td>\n",
       "                        <td id=\"T_48f7d9cc_38c3_11eb_8df4_907841ab469arow16_col1\" class=\"data row16 col1\" >Category</td>\n",
       "                        <td id=\"T_48f7d9cc_38c3_11eb_8df4_907841ab469arow16_col2\" class=\"data row16 col2\" ></td>\n",
       "                        <td id=\"T_48f7d9cc_38c3_11eb_8df4_907841ab469arow16_col3\" class=\"data row16 col3\" >delmar.DELMAR_UNIT1_FIC-101.MODE</td>\n",
       "            </tr>\n",
       "            <tr>\n",
       "                                <td id=\"T_48f7d9cc_38c3_11eb_8df4_907841ab469arow17_col0\" class=\"data row17 col0\" >Feed Flow Controller Output</td>\n",
       "                        <td id=\"T_48f7d9cc_38c3_11eb_8df4_907841ab469arow17_col1\" class=\"data row17 col1\" >Float</td>\n",
       "                        <td id=\"T_48f7d9cc_38c3_11eb_8df4_907841ab469arow17_col2\" class=\"data row17 col2\" >%</td>\n",
       "                        <td id=\"T_48f7d9cc_38c3_11eb_8df4_907841ab469arow17_col3\" class=\"data row17 col3\" >delmar.DELMAR_UNIT1_FIC-101.OUT</td>\n",
       "            </tr>\n",
       "            <tr>\n",
       "                                <td id=\"T_48f7d9cc_38c3_11eb_8df4_907841ab469arow18_col0\" class=\"data row18 col0\" >Feed Flow Controller PV</td>\n",
       "                        <td id=\"T_48f7d9cc_38c3_11eb_8df4_907841ab469arow18_col1\" class=\"data row18 col1\" >Float</td>\n",
       "                        <td id=\"T_48f7d9cc_38c3_11eb_8df4_907841ab469arow18_col2\" class=\"data row18 col2\" >GPM</td>\n",
       "                        <td id=\"T_48f7d9cc_38c3_11eb_8df4_907841ab469arow18_col3\" class=\"data row18 col3\" >delmar.DELMAR_UNIT1_FIC-101.PV</td>\n",
       "            </tr>\n",
       "            <tr>\n",
       "                                <td id=\"T_48f7d9cc_38c3_11eb_8df4_907841ab469arow19_col0\" class=\"data row19 col0\" >Feed Flow Controller Setpoint</td>\n",
       "                        <td id=\"T_48f7d9cc_38c3_11eb_8df4_907841ab469arow19_col1\" class=\"data row19 col1\" >Float</td>\n",
       "                        <td id=\"T_48f7d9cc_38c3_11eb_8df4_907841ab469arow19_col2\" class=\"data row19 col2\" >GPM</td>\n",
       "                        <td id=\"T_48f7d9cc_38c3_11eb_8df4_907841ab469arow19_col3\" class=\"data row19 col3\" >delmar.DELMAR_UNIT1_FIC-101.SP</td>\n",
       "            </tr>\n",
       "            <tr>\n",
       "                                <td id=\"T_48f7d9cc_38c3_11eb_8df4_907841ab469arow20_col0\" class=\"data row20 col0\" >Feed Tank Level Controller Output</td>\n",
       "                        <td id=\"T_48f7d9cc_38c3_11eb_8df4_907841ab469arow20_col1\" class=\"data row20 col1\" >Float</td>\n",
       "                        <td id=\"T_48f7d9cc_38c3_11eb_8df4_907841ab469arow20_col2\" class=\"data row20 col2\" >%</td>\n",
       "                        <td id=\"T_48f7d9cc_38c3_11eb_8df4_907841ab469arow20_col3\" class=\"data row20 col3\" >delmar.DELMAR_UNIT1_LIC-101.OUT</td>\n",
       "            </tr>\n",
       "            <tr>\n",
       "                                <td id=\"T_48f7d9cc_38c3_11eb_8df4_907841ab469arow21_col0\" class=\"data row21 col0\" >Feed Tank Level Controller PV</td>\n",
       "                        <td id=\"T_48f7d9cc_38c3_11eb_8df4_907841ab469arow21_col1\" class=\"data row21 col1\" >Float</td>\n",
       "                        <td id=\"T_48f7d9cc_38c3_11eb_8df4_907841ab469arow21_col2\" class=\"data row21 col2\" >%</td>\n",
       "                        <td id=\"T_48f7d9cc_38c3_11eb_8df4_907841ab469arow21_col3\" class=\"data row21 col3\" >delmar.DELMAR_UNIT1_LIC-101.PV</td>\n",
       "            </tr>\n",
       "            <tr>\n",
       "                                <td id=\"T_48f7d9cc_38c3_11eb_8df4_907841ab469arow22_col0\" class=\"data row22 col0\" >Feed Tank Level Controller Setpoint</td>\n",
       "                        <td id=\"T_48f7d9cc_38c3_11eb_8df4_907841ab469arow22_col1\" class=\"data row22 col1\" >Float</td>\n",
       "                        <td id=\"T_48f7d9cc_38c3_11eb_8df4_907841ab469arow22_col2\" class=\"data row22 col2\" >%</td>\n",
       "                        <td id=\"T_48f7d9cc_38c3_11eb_8df4_907841ab469arow22_col3\" class=\"data row22 col3\" >delmar.DELMAR_UNIT1_LIC-101.SP</td>\n",
       "            </tr>\n",
       "            <tr>\n",
       "                                <td id=\"T_48f7d9cc_38c3_11eb_8df4_907841ab469arow23_col0\" class=\"data row23 col0\" >H-101 Outlet Pressure</td>\n",
       "                        <td id=\"T_48f7d9cc_38c3_11eb_8df4_907841ab469arow23_col1\" class=\"data row23 col1\" >Float</td>\n",
       "                        <td id=\"T_48f7d9cc_38c3_11eb_8df4_907841ab469arow23_col2\" class=\"data row23 col2\" >PSIG</td>\n",
       "                        <td id=\"T_48f7d9cc_38c3_11eb_8df4_907841ab469arow23_col3\" class=\"data row23 col3\" >delmar.DELMAR_UNIT1_PI-109.PV</td>\n",
       "            </tr>\n",
       "            <tr>\n",
       "                                <td id=\"T_48f7d9cc_38c3_11eb_8df4_907841ab469arow24_col0\" class=\"data row24 col0\" >H-101 Outlet Temperature Controller Mode</td>\n",
       "                        <td id=\"T_48f7d9cc_38c3_11eb_8df4_907841ab469arow24_col1\" class=\"data row24 col1\" >Category</td>\n",
       "                        <td id=\"T_48f7d9cc_38c3_11eb_8df4_907841ab469arow24_col2\" class=\"data row24 col2\" ></td>\n",
       "                        <td id=\"T_48f7d9cc_38c3_11eb_8df4_907841ab469arow24_col3\" class=\"data row24 col3\" >delmar.DELMAR_UNIT1_TIC-104.MODE</td>\n",
       "            </tr>\n",
       "            <tr>\n",
       "                                <td id=\"T_48f7d9cc_38c3_11eb_8df4_907841ab469arow25_col0\" class=\"data row25 col0\" >H-101 Outlet Temperature Controller Output</td>\n",
       "                        <td id=\"T_48f7d9cc_38c3_11eb_8df4_907841ab469arow25_col1\" class=\"data row25 col1\" >Float</td>\n",
       "                        <td id=\"T_48f7d9cc_38c3_11eb_8df4_907841ab469arow25_col2\" class=\"data row25 col2\" >%</td>\n",
       "                        <td id=\"T_48f7d9cc_38c3_11eb_8df4_907841ab469arow25_col3\" class=\"data row25 col3\" >delmar.DELMAR_UNIT1_TIC-104.OUT</td>\n",
       "            </tr>\n",
       "            <tr>\n",
       "                                <td id=\"T_48f7d9cc_38c3_11eb_8df4_907841ab469arow26_col0\" class=\"data row26 col0\" >H-101 Outlet Temperature Controller PV</td>\n",
       "                        <td id=\"T_48f7d9cc_38c3_11eb_8df4_907841ab469arow26_col1\" class=\"data row26 col1\" >Float</td>\n",
       "                        <td id=\"T_48f7d9cc_38c3_11eb_8df4_907841ab469arow26_col2\" class=\"data row26 col2\" >°F</td>\n",
       "                        <td id=\"T_48f7d9cc_38c3_11eb_8df4_907841ab469arow26_col3\" class=\"data row26 col3\" >delmar.DELMAR_UNIT1_TIC-104.PV</td>\n",
       "            </tr>\n",
       "            <tr>\n",
       "                                <td id=\"T_48f7d9cc_38c3_11eb_8df4_907841ab469arow27_col0\" class=\"data row27 col0\" >H-101 Outlet Temperature Controller Setpoint</td>\n",
       "                        <td id=\"T_48f7d9cc_38c3_11eb_8df4_907841ab469arow27_col1\" class=\"data row27 col1\" >Float</td>\n",
       "                        <td id=\"T_48f7d9cc_38c3_11eb_8df4_907841ab469arow27_col2\" class=\"data row27 col2\" >°F</td>\n",
       "                        <td id=\"T_48f7d9cc_38c3_11eb_8df4_907841ab469arow27_col3\" class=\"data row27 col3\" >delmar.DELMAR_UNIT1_TIC-104.SP</td>\n",
       "            </tr>\n",
       "            <tr>\n",
       "                                <td id=\"T_48f7d9cc_38c3_11eb_8df4_907841ab469arow28_col0\" class=\"data row28 col0\" >P-101 A/B Discharge pressure</td>\n",
       "                        <td id=\"T_48f7d9cc_38c3_11eb_8df4_907841ab469arow28_col1\" class=\"data row28 col1\" >Float</td>\n",
       "                        <td id=\"T_48f7d9cc_38c3_11eb_8df4_907841ab469arow28_col2\" class=\"data row28 col2\" >PSIG</td>\n",
       "                        <td id=\"T_48f7d9cc_38c3_11eb_8df4_907841ab469arow28_col3\" class=\"data row28 col3\" >delmar.DELMAR_UNIT1_PI-111.PV</td>\n",
       "            </tr>\n",
       "            <tr>\n",
       "                                <td id=\"T_48f7d9cc_38c3_11eb_8df4_907841ab469arow29_col0\" class=\"data row29 col0\" >P-101A Run Status</td>\n",
       "                        <td id=\"T_48f7d9cc_38c3_11eb_8df4_907841ab469arow29_col1\" class=\"data row29 col1\" >Category</td>\n",
       "                        <td id=\"T_48f7d9cc_38c3_11eb_8df4_907841ab469arow29_col2\" class=\"data row29 col2\" ></td>\n",
       "                        <td id=\"T_48f7d9cc_38c3_11eb_8df4_907841ab469arow29_col3\" class=\"data row29 col3\" >delmar.DELMAR_UNIT1_XB-101A</td>\n",
       "            </tr>\n",
       "            <tr>\n",
       "                                <td id=\"T_48f7d9cc_38c3_11eb_8df4_907841ab469arow30_col0\" class=\"data row30 col0\" >P-101B Run Status</td>\n",
       "                        <td id=\"T_48f7d9cc_38c3_11eb_8df4_907841ab469arow30_col1\" class=\"data row30 col1\" >Category</td>\n",
       "                        <td id=\"T_48f7d9cc_38c3_11eb_8df4_907841ab469arow30_col2\" class=\"data row30 col2\" ></td>\n",
       "                        <td id=\"T_48f7d9cc_38c3_11eb_8df4_907841ab469arow30_col3\" class=\"data row30 col3\" >delmar.DELMAR_UNIT1_XB-101B</td>\n",
       "            </tr>\n",
       "            <tr>\n",
       "                                <td id=\"T_48f7d9cc_38c3_11eb_8df4_907841ab469arow31_col0\" class=\"data row31 col0\" >P-102 Discharge pressure</td>\n",
       "                        <td id=\"T_48f7d9cc_38c3_11eb_8df4_907841ab469arow31_col1\" class=\"data row31 col1\" >Float</td>\n",
       "                        <td id=\"T_48f7d9cc_38c3_11eb_8df4_907841ab469arow31_col2\" class=\"data row31 col2\" >PSIG</td>\n",
       "                        <td id=\"T_48f7d9cc_38c3_11eb_8df4_907841ab469arow31_col3\" class=\"data row31 col3\" >delmar.DELMAR_UNIT1_PI-108.PV</td>\n",
       "            </tr>\n",
       "            <tr>\n",
       "                                <td id=\"T_48f7d9cc_38c3_11eb_8df4_907841ab469arow32_col0\" class=\"data row32 col0\" >P-102 Run Status</td>\n",
       "                        <td id=\"T_48f7d9cc_38c3_11eb_8df4_907841ab469arow32_col1\" class=\"data row32 col1\" >Category</td>\n",
       "                        <td id=\"T_48f7d9cc_38c3_11eb_8df4_907841ab469arow32_col2\" class=\"data row32 col2\" ></td>\n",
       "                        <td id=\"T_48f7d9cc_38c3_11eb_8df4_907841ab469arow32_col3\" class=\"data row32 col3\" >delmar.DELMAR_UNIT1_XB-102</td>\n",
       "            </tr>\n",
       "            <tr>\n",
       "                                <td id=\"T_48f7d9cc_38c3_11eb_8df4_907841ab469arow33_col0\" class=\"data row33 col0\" >P-103 Run Status</td>\n",
       "                        <td id=\"T_48f7d9cc_38c3_11eb_8df4_907841ab469arow33_col1\" class=\"data row33 col1\" >Category</td>\n",
       "                        <td id=\"T_48f7d9cc_38c3_11eb_8df4_907841ab469arow33_col2\" class=\"data row33 col2\" ></td>\n",
       "                        <td id=\"T_48f7d9cc_38c3_11eb_8df4_907841ab469arow33_col3\" class=\"data row33 col3\" >delmar.DELMAR_UNIT1_XB-103</td>\n",
       "            </tr>\n",
       "            <tr>\n",
       "                                <td id=\"T_48f7d9cc_38c3_11eb_8df4_907841ab469arow34_col0\" class=\"data row34 col0\" >Product Water Flow</td>\n",
       "                        <td id=\"T_48f7d9cc_38c3_11eb_8df4_907841ab469arow34_col1\" class=\"data row34 col1\" >Float</td>\n",
       "                        <td id=\"T_48f7d9cc_38c3_11eb_8df4_907841ab469arow34_col2\" class=\"data row34 col2\" >GPM</td>\n",
       "                        <td id=\"T_48f7d9cc_38c3_11eb_8df4_907841ab469arow34_col3\" class=\"data row34 col3\" >delmar.DELMAR_UNIT1_FI-102.PV</td>\n",
       "            </tr>\n",
       "            <tr>\n",
       "                                <td id=\"T_48f7d9cc_38c3_11eb_8df4_907841ab469arow35_col0\" class=\"data row35 col0\" >T-101 Level Controller Mode</td>\n",
       "                        <td id=\"T_48f7d9cc_38c3_11eb_8df4_907841ab469arow35_col1\" class=\"data row35 col1\" >Category</td>\n",
       "                        <td id=\"T_48f7d9cc_38c3_11eb_8df4_907841ab469arow35_col2\" class=\"data row35 col2\" ></td>\n",
       "                        <td id=\"T_48f7d9cc_38c3_11eb_8df4_907841ab469arow35_col3\" class=\"data row35 col3\" >delmar.DELMAR_UNIT1_LIC-101.MODE</td>\n",
       "            </tr>\n",
       "            <tr>\n",
       "                                <td id=\"T_48f7d9cc_38c3_11eb_8df4_907841ab469arow36_col0\" class=\"data row36 col0\" >Unit 1 Common Trouble Alarm</td>\n",
       "                        <td id=\"T_48f7d9cc_38c3_11eb_8df4_907841ab469arow36_col1\" class=\"data row36 col1\" >Category</td>\n",
       "                        <td id=\"T_48f7d9cc_38c3_11eb_8df4_907841ab469arow36_col2\" class=\"data row36 col2\" ></td>\n",
       "                        <td id=\"T_48f7d9cc_38c3_11eb_8df4_907841ab469arow36_col3\" class=\"data row36 col3\" >delmar.DELMAR_UNIT1_XA-100</td>\n",
       "            </tr>\n",
       "    </tbody></table>"
      ],
      "text/plain": [
       "<pandas.io.formats.style.Styler at 0x1feeb000588>"
      ]
     },
     "metadata": {},
     "output_type": "display_data"
    },
    {
     "data": {
      "text/html": [
       "<hr></hr>"
      ],
      "text/plain": [
       "<IPython.core.display.HTML object>"
      ]
     },
     "metadata": {},
     "output_type": "display_data"
    },
    {
     "data": {
      "text/markdown": [
       "**Data view ID: <span style=\"color:blue\">pilot.plant_hot-1_e-101</span>** (# of streams: 5)"
      ],
      "text/plain": [
       "<IPython.core.display.Markdown object>"
      ]
     },
     "metadata": {},
     "output_type": "display_data"
    },
    {
     "data": {
      "text/html": [
       "<style  type=\"text/css\" >\n",
       "</style><table id=\"T_49419668_38c3_11eb_9d9f_907841ab469a\" ><thead>    <tr>        <th class=\"col_heading level0 col0\" >Column_Name</th>        <th class=\"col_heading level0 col1\" >Stream_Type</th>        <th class=\"col_heading level0 col2\" >Stream_UOM</th>        <th class=\"col_heading level0 col3\" >OCS_Stream_Name</th>    </tr></thead><tbody>\n",
       "                <tr>\n",
       "                                <td id=\"T_49419668_38c3_11eb_9d9f_907841ab469arow0_col0\" class=\"data row0 col0\" >E-101 Inlet Pressure</td>\n",
       "                        <td id=\"T_49419668_38c3_11eb_9d9f_907841ab469arow0_col1\" class=\"data row0 col1\" >Float</td>\n",
       "                        <td id=\"T_49419668_38c3_11eb_9d9f_907841ab469arow0_col2\" class=\"data row0 col2\" >PSIG</td>\n",
       "                        <td id=\"T_49419668_38c3_11eb_9d9f_907841ab469arow0_col3\" class=\"data row0 col3\" >delmar.DELMAR_UNIT1_PI-110.PV</td>\n",
       "            </tr>\n",
       "            <tr>\n",
       "                                <td id=\"T_49419668_38c3_11eb_9d9f_907841ab469arow1_col0\" class=\"data row1 col0\" >E-101 Inlet Temperature</td>\n",
       "                        <td id=\"T_49419668_38c3_11eb_9d9f_907841ab469arow1_col1\" class=\"data row1 col1\" >Float</td>\n",
       "                        <td id=\"T_49419668_38c3_11eb_9d9f_907841ab469arow1_col2\" class=\"data row1 col2\" >°F</td>\n",
       "                        <td id=\"T_49419668_38c3_11eb_9d9f_907841ab469arow1_col3\" class=\"data row1 col3\" >delmar.DELMAR_UNIT1_TI-106.PV</td>\n",
       "            </tr>\n",
       "            <tr>\n",
       "                                <td id=\"T_49419668_38c3_11eb_9d9f_907841ab469arow2_col0\" class=\"data row2 col0\" >E-101 Outlet Pressure</td>\n",
       "                        <td id=\"T_49419668_38c3_11eb_9d9f_907841ab469arow2_col1\" class=\"data row2 col1\" >Float</td>\n",
       "                        <td id=\"T_49419668_38c3_11eb_9d9f_907841ab469arow2_col2\" class=\"data row2 col2\" >PSIG</td>\n",
       "                        <td id=\"T_49419668_38c3_11eb_9d9f_907841ab469arow2_col3\" class=\"data row2 col3\" >delmar.DELMAR_UNIT1_PI-113.PV</td>\n",
       "            </tr>\n",
       "            <tr>\n",
       "                                <td id=\"T_49419668_38c3_11eb_9d9f_907841ab469arow3_col0\" class=\"data row3 col0\" >E-101 Outlet Temperature</td>\n",
       "                        <td id=\"T_49419668_38c3_11eb_9d9f_907841ab469arow3_col1\" class=\"data row3 col1\" >Float</td>\n",
       "                        <td id=\"T_49419668_38c3_11eb_9d9f_907841ab469arow3_col2\" class=\"data row3 col2\" >°F</td>\n",
       "                        <td id=\"T_49419668_38c3_11eb_9d9f_907841ab469arow3_col3\" class=\"data row3 col3\" >delmar.DELMAR_UNIT1_TI-107.PV</td>\n",
       "            </tr>\n",
       "            <tr>\n",
       "                                <td id=\"T_49419668_38c3_11eb_9d9f_907841ab469arow4_col0\" class=\"data row4 col0\" >E-101 Run Status</td>\n",
       "                        <td id=\"T_49419668_38c3_11eb_9d9f_907841ab469arow4_col1\" class=\"data row4 col1\" >Category</td>\n",
       "                        <td id=\"T_49419668_38c3_11eb_9d9f_907841ab469arow4_col2\" class=\"data row4 col2\" ></td>\n",
       "                        <td id=\"T_49419668_38c3_11eb_9d9f_907841ab469arow4_col3\" class=\"data row4 col3\" >delmar.DELMAR_UNIT1_XB-101</td>\n",
       "            </tr>\n",
       "    </tbody></table>"
      ],
      "text/plain": [
       "<pandas.io.formats.style.Styler at 0x1feeac7aec8>"
      ]
     },
     "metadata": {},
     "output_type": "display_data"
    },
    {
     "data": {
      "text/html": [
       "<hr></hr>"
      ],
      "text/plain": [
       "<IPython.core.display.HTML object>"
      ]
     },
     "metadata": {},
     "output_type": "display_data"
    },
    {
     "data": {
      "text/markdown": [
       "**Data view ID: <span style=\"color:blue\">pilot.plant_hot-1_e-102</span>** (# of streams: 14)"
      ],
      "text/plain": [
       "<IPython.core.display.Markdown object>"
      ]
     },
     "metadata": {},
     "output_type": "display_data"
    },
    {
     "data": {
      "text/html": [
       "<style  type=\"text/css\" >\n",
       "</style><table id=\"T_4987755a_38c3_11eb_b945_907841ab469a\" ><thead>    <tr>        <th class=\"col_heading level0 col0\" >Column_Name</th>        <th class=\"col_heading level0 col1\" >Stream_Type</th>        <th class=\"col_heading level0 col2\" >Stream_UOM</th>        <th class=\"col_heading level0 col3\" >OCS_Stream_Name</th>    </tr></thead><tbody>\n",
       "                <tr>\n",
       "                                <td id=\"T_4987755a_38c3_11eb_b945_907841ab469arow0_col0\" class=\"data row0 col0\" >E-102 Duty</td>\n",
       "                        <td id=\"T_4987755a_38c3_11eb_b945_907841ab469arow0_col1\" class=\"data row0 col1\" >Float</td>\n",
       "                        <td id=\"T_4987755a_38c3_11eb_b945_907841ab469arow0_col2\" class=\"data row0 col2\" ></td>\n",
       "                        <td id=\"T_4987755a_38c3_11eb_b945_907841ab469arow0_col3\" class=\"data row0 col3\" >delmar.DELMAR_UNIT1_E-102_DUTY</td>\n",
       "            </tr>\n",
       "            <tr>\n",
       "                                <td id=\"T_4987755a_38c3_11eb_b945_907841ab469arow1_col0\" class=\"data row1 col0\" >E-102 Heat Transfer Coefficient</td>\n",
       "                        <td id=\"T_4987755a_38c3_11eb_b945_907841ab469arow1_col1\" class=\"data row1 col1\" >Float</td>\n",
       "                        <td id=\"T_4987755a_38c3_11eb_b945_907841ab469arow1_col2\" class=\"data row1 col2\" ></td>\n",
       "                        <td id=\"T_4987755a_38c3_11eb_b945_907841ab469arow1_col3\" class=\"data row1 col3\" >delmar.DELMAR_UNIT1_E-102_HTC</td>\n",
       "            </tr>\n",
       "            <tr>\n",
       "                                <td id=\"T_4987755a_38c3_11eb_b945_907841ab469arow2_col0\" class=\"data row2 col0\" >E-102 LMTD</td>\n",
       "                        <td id=\"T_4987755a_38c3_11eb_b945_907841ab469arow2_col1\" class=\"data row2 col1\" >Float</td>\n",
       "                        <td id=\"T_4987755a_38c3_11eb_b945_907841ab469arow2_col2\" class=\"data row2 col2\" ></td>\n",
       "                        <td id=\"T_4987755a_38c3_11eb_b945_907841ab469arow2_col3\" class=\"data row2 col3\" >delmar.DELMAR_UNIT1_E-102_LMTD</td>\n",
       "            </tr>\n",
       "            <tr>\n",
       "                                <td id=\"T_4987755a_38c3_11eb_b945_907841ab469arow3_col0\" class=\"data row3 col0\" >E-102 Shell Side Inlet Pressure</td>\n",
       "                        <td id=\"T_4987755a_38c3_11eb_b945_907841ab469arow3_col1\" class=\"data row3 col1\" >Float</td>\n",
       "                        <td id=\"T_4987755a_38c3_11eb_b945_907841ab469arow3_col2\" class=\"data row3 col2\" >PSIG</td>\n",
       "                        <td id=\"T_4987755a_38c3_11eb_b945_907841ab469arow3_col3\" class=\"data row3 col3\" >delmar.DELMAR_UNIT1_PI-109.PV</td>\n",
       "            </tr>\n",
       "            <tr>\n",
       "                                <td id=\"T_4987755a_38c3_11eb_b945_907841ab469arow4_col0\" class=\"data row4 col0\" >E-102 Shell Side Inlet Temperature</td>\n",
       "                        <td id=\"T_4987755a_38c3_11eb_b945_907841ab469arow4_col1\" class=\"data row4 col1\" >Float</td>\n",
       "                        <td id=\"T_4987755a_38c3_11eb_b945_907841ab469arow4_col2\" class=\"data row4 col2\" >°F</td>\n",
       "                        <td id=\"T_4987755a_38c3_11eb_b945_907841ab469arow4_col3\" class=\"data row4 col3\" >delmar.DELMAR_UNIT1_TI-105.PV</td>\n",
       "            </tr>\n",
       "            <tr>\n",
       "                                <td id=\"T_4987755a_38c3_11eb_b945_907841ab469arow5_col0\" class=\"data row5 col0\" >E-102 Shell Side Outlet Pressure</td>\n",
       "                        <td id=\"T_4987755a_38c3_11eb_b945_907841ab469arow5_col1\" class=\"data row5 col1\" >Float</td>\n",
       "                        <td id=\"T_4987755a_38c3_11eb_b945_907841ab469arow5_col2\" class=\"data row5 col2\" >PSIG</td>\n",
       "                        <td id=\"T_4987755a_38c3_11eb_b945_907841ab469arow5_col3\" class=\"data row5 col3\" >delmar.DELMAR_UNIT1_PI-110.PV</td>\n",
       "            </tr>\n",
       "            <tr>\n",
       "                                <td id=\"T_4987755a_38c3_11eb_b945_907841ab469arow6_col0\" class=\"data row6 col0\" >E-102 Shell Side Outlet Temperature</td>\n",
       "                        <td id=\"T_4987755a_38c3_11eb_b945_907841ab469arow6_col1\" class=\"data row6 col1\" >Float</td>\n",
       "                        <td id=\"T_4987755a_38c3_11eb_b945_907841ab469arow6_col2\" class=\"data row6 col2\" >°F</td>\n",
       "                        <td id=\"T_4987755a_38c3_11eb_b945_907841ab469arow6_col3\" class=\"data row6 col3\" >delmar.DELMAR_UNIT1_TI-106.PV</td>\n",
       "            </tr>\n",
       "            <tr>\n",
       "                                <td id=\"T_4987755a_38c3_11eb_b945_907841ab469arow7_col0\" class=\"data row7 col0\" >E-102 Tube Side Inlet Pressure</td>\n",
       "                        <td id=\"T_4987755a_38c3_11eb_b945_907841ab469arow7_col1\" class=\"data row7 col1\" >Float</td>\n",
       "                        <td id=\"T_4987755a_38c3_11eb_b945_907841ab469arow7_col2\" class=\"data row7 col2\" >PSIG</td>\n",
       "                        <td id=\"T_4987755a_38c3_11eb_b945_907841ab469arow7_col3\" class=\"data row7 col3\" >delmar.DELMAR_UNIT1_PI-105.PV</td>\n",
       "            </tr>\n",
       "            <tr>\n",
       "                                <td id=\"T_4987755a_38c3_11eb_b945_907841ab469arow8_col0\" class=\"data row8 col0\" >E-102 Tube Side Inlet Temperature</td>\n",
       "                        <td id=\"T_4987755a_38c3_11eb_b945_907841ab469arow8_col1\" class=\"data row8 col1\" >Float</td>\n",
       "                        <td id=\"T_4987755a_38c3_11eb_b945_907841ab469arow8_col2\" class=\"data row8 col2\" >°F</td>\n",
       "                        <td id=\"T_4987755a_38c3_11eb_b945_907841ab469arow8_col3\" class=\"data row8 col3\" >delmar.DELMAR_UNIT1_TI-101.PV</td>\n",
       "            </tr>\n",
       "            <tr>\n",
       "                                <td id=\"T_4987755a_38c3_11eb_b945_907841ab469arow9_col0\" class=\"data row9 col0\" >E-102 Tube Side Outlet Pressure</td>\n",
       "                        <td id=\"T_4987755a_38c3_11eb_b945_907841ab469arow9_col1\" class=\"data row9 col1\" >Float</td>\n",
       "                        <td id=\"T_4987755a_38c3_11eb_b945_907841ab469arow9_col2\" class=\"data row9 col2\" >PSIG</td>\n",
       "                        <td id=\"T_4987755a_38c3_11eb_b945_907841ab469arow9_col3\" class=\"data row9 col3\" >delmar.DELMAR_UNIT1_PI-112.PV</td>\n",
       "            </tr>\n",
       "            <tr>\n",
       "                                <td id=\"T_4987755a_38c3_11eb_b945_907841ab469arow10_col0\" class=\"data row10 col0\" >E-102 Tube Side Outlet Temperature Controller Mode</td>\n",
       "                        <td id=\"T_4987755a_38c3_11eb_b945_907841ab469arow10_col1\" class=\"data row10 col1\" >Category</td>\n",
       "                        <td id=\"T_4987755a_38c3_11eb_b945_907841ab469arow10_col2\" class=\"data row10 col2\" ></td>\n",
       "                        <td id=\"T_4987755a_38c3_11eb_b945_907841ab469arow10_col3\" class=\"data row10 col3\" >delmar.DELMAR_UNIT1_TIC-103.MODE</td>\n",
       "            </tr>\n",
       "            <tr>\n",
       "                                <td id=\"T_4987755a_38c3_11eb_b945_907841ab469arow11_col0\" class=\"data row11 col0\" >E-102 Tube Side Outlet Temperature Controller Output</td>\n",
       "                        <td id=\"T_4987755a_38c3_11eb_b945_907841ab469arow11_col1\" class=\"data row11 col1\" >Float</td>\n",
       "                        <td id=\"T_4987755a_38c3_11eb_b945_907841ab469arow11_col2\" class=\"data row11 col2\" >%</td>\n",
       "                        <td id=\"T_4987755a_38c3_11eb_b945_907841ab469arow11_col3\" class=\"data row11 col3\" >delmar.DELMAR_UNIT1_TIC-103.OUT</td>\n",
       "            </tr>\n",
       "            <tr>\n",
       "                                <td id=\"T_4987755a_38c3_11eb_b945_907841ab469arow12_col0\" class=\"data row12 col0\" >E-102 Tube Side Outlet Temperature Controller PV</td>\n",
       "                        <td id=\"T_4987755a_38c3_11eb_b945_907841ab469arow12_col1\" class=\"data row12 col1\" >Float</td>\n",
       "                        <td id=\"T_4987755a_38c3_11eb_b945_907841ab469arow12_col2\" class=\"data row12 col2\" >°F</td>\n",
       "                        <td id=\"T_4987755a_38c3_11eb_b945_907841ab469arow12_col3\" class=\"data row12 col3\" >delmar.DELMAR_UNIT1_TIC-103.PV</td>\n",
       "            </tr>\n",
       "            <tr>\n",
       "                                <td id=\"T_4987755a_38c3_11eb_b945_907841ab469arow13_col0\" class=\"data row13 col0\" >E-102 Tube Side Outlet Temperature Controller Setpoint</td>\n",
       "                        <td id=\"T_4987755a_38c3_11eb_b945_907841ab469arow13_col1\" class=\"data row13 col1\" >Float</td>\n",
       "                        <td id=\"T_4987755a_38c3_11eb_b945_907841ab469arow13_col2\" class=\"data row13 col2\" >°F</td>\n",
       "                        <td id=\"T_4987755a_38c3_11eb_b945_907841ab469arow13_col3\" class=\"data row13 col3\" >delmar.DELMAR_UNIT1_TIC-103.SP</td>\n",
       "            </tr>\n",
       "    </tbody></table>"
      ],
      "text/plain": [
       "<pandas.io.formats.style.Styler at 0x1feeacf2248>"
      ]
     },
     "metadata": {},
     "output_type": "display_data"
    },
    {
     "data": {
      "text/html": [
       "<hr></hr>"
      ],
      "text/plain": [
       "<IPython.core.display.HTML object>"
      ]
     },
     "metadata": {},
     "output_type": "display_data"
    },
    {
     "data": {
      "text/markdown": [
       "**Data view ID: <span style=\"color:blue\">pilot.plant_hot-1_htr-101</span>** (# of streams: 6)"
      ],
      "text/plain": [
       "<IPython.core.display.Markdown object>"
      ]
     },
     "metadata": {},
     "output_type": "display_data"
    },
    {
     "data": {
      "text/html": [
       "<style  type=\"text/css\" >\n",
       "</style><table id=\"T_49cd09f6_38c3_11eb_8cd2_907841ab469a\" ><thead>    <tr>        <th class=\"col_heading level0 col0\" >Column_Name</th>        <th class=\"col_heading level0 col1\" >Stream_Type</th>        <th class=\"col_heading level0 col2\" >Stream_UOM</th>        <th class=\"col_heading level0 col3\" >OCS_Stream_Name</th>    </tr></thead><tbody>\n",
       "                <tr>\n",
       "                                <td id=\"T_49cd09f6_38c3_11eb_8cd2_907841ab469arow0_col0\" class=\"data row0 col0\" >H-101 Outlet Pressure</td>\n",
       "                        <td id=\"T_49cd09f6_38c3_11eb_8cd2_907841ab469arow0_col1\" class=\"data row0 col1\" >Float</td>\n",
       "                        <td id=\"T_49cd09f6_38c3_11eb_8cd2_907841ab469arow0_col2\" class=\"data row0 col2\" >PSIG</td>\n",
       "                        <td id=\"T_49cd09f6_38c3_11eb_8cd2_907841ab469arow0_col3\" class=\"data row0 col3\" >delmar.DELMAR_UNIT1_PI-109.PV</td>\n",
       "            </tr>\n",
       "            <tr>\n",
       "                                <td id=\"T_49cd09f6_38c3_11eb_8cd2_907841ab469arow1_col0\" class=\"data row1 col0\" >H-101 Outlet Temperature Controller Mode</td>\n",
       "                        <td id=\"T_49cd09f6_38c3_11eb_8cd2_907841ab469arow1_col1\" class=\"data row1 col1\" >Category</td>\n",
       "                        <td id=\"T_49cd09f6_38c3_11eb_8cd2_907841ab469arow1_col2\" class=\"data row1 col2\" ></td>\n",
       "                        <td id=\"T_49cd09f6_38c3_11eb_8cd2_907841ab469arow1_col3\" class=\"data row1 col3\" >delmar.DELMAR_UNIT1_TIC-104.MODE</td>\n",
       "            </tr>\n",
       "            <tr>\n",
       "                                <td id=\"T_49cd09f6_38c3_11eb_8cd2_907841ab469arow2_col0\" class=\"data row2 col0\" >H-101 Outlet Temperature Controller Output</td>\n",
       "                        <td id=\"T_49cd09f6_38c3_11eb_8cd2_907841ab469arow2_col1\" class=\"data row2 col1\" >Float</td>\n",
       "                        <td id=\"T_49cd09f6_38c3_11eb_8cd2_907841ab469arow2_col2\" class=\"data row2 col2\" >%</td>\n",
       "                        <td id=\"T_49cd09f6_38c3_11eb_8cd2_907841ab469arow2_col3\" class=\"data row2 col3\" >delmar.DELMAR_UNIT1_TIC-104.OUT</td>\n",
       "            </tr>\n",
       "            <tr>\n",
       "                                <td id=\"T_49cd09f6_38c3_11eb_8cd2_907841ab469arow3_col0\" class=\"data row3 col0\" >H-101 Outlet Temperature Controller PV</td>\n",
       "                        <td id=\"T_49cd09f6_38c3_11eb_8cd2_907841ab469arow3_col1\" class=\"data row3 col1\" >Float</td>\n",
       "                        <td id=\"T_49cd09f6_38c3_11eb_8cd2_907841ab469arow3_col2\" class=\"data row3 col2\" >°F</td>\n",
       "                        <td id=\"T_49cd09f6_38c3_11eb_8cd2_907841ab469arow3_col3\" class=\"data row3 col3\" >delmar.DELMAR_UNIT1_TIC-104.PV</td>\n",
       "            </tr>\n",
       "            <tr>\n",
       "                                <td id=\"T_49cd09f6_38c3_11eb_8cd2_907841ab469arow4_col0\" class=\"data row4 col0\" >H-101 Outlet Temperature Controller Setpoint</td>\n",
       "                        <td id=\"T_49cd09f6_38c3_11eb_8cd2_907841ab469arow4_col1\" class=\"data row4 col1\" >Float</td>\n",
       "                        <td id=\"T_49cd09f6_38c3_11eb_8cd2_907841ab469arow4_col2\" class=\"data row4 col2\" >°F</td>\n",
       "                        <td id=\"T_49cd09f6_38c3_11eb_8cd2_907841ab469arow4_col3\" class=\"data row4 col3\" >delmar.DELMAR_UNIT1_TIC-104.SP</td>\n",
       "            </tr>\n",
       "            <tr>\n",
       "                                <td id=\"T_49cd09f6_38c3_11eb_8cd2_907841ab469arow5_col0\" class=\"data row5 col0\" >Heater Charge Flow</td>\n",
       "                        <td id=\"T_49cd09f6_38c3_11eb_8cd2_907841ab469arow5_col1\" class=\"data row5 col1\" >Float</td>\n",
       "                        <td id=\"T_49cd09f6_38c3_11eb_8cd2_907841ab469arow5_col2\" class=\"data row5 col2\" >GPM</td>\n",
       "                        <td id=\"T_49cd09f6_38c3_11eb_8cd2_907841ab469arow5_col3\" class=\"data row5 col3\" >delmar.DELMAR_UNIT1_FI-102.PV</td>\n",
       "            </tr>\n",
       "    </tbody></table>"
      ],
      "text/plain": [
       "<pandas.io.formats.style.Styler at 0x1feeaf85ac8>"
      ]
     },
     "metadata": {},
     "output_type": "display_data"
    },
    {
     "data": {
      "text/html": [
       "<hr></hr>"
      ],
      "text/plain": [
       "<IPython.core.display.HTML object>"
      ]
     },
     "metadata": {},
     "output_type": "display_data"
    },
    {
     "data": {
      "text/markdown": [
       "**Data view ID: <span style=\"color:blue\">pilot.plant_hot-1_tk-101</span>** (# of streams: 13)"
      ],
      "text/plain": [
       "<IPython.core.display.Markdown object>"
      ]
     },
     "metadata": {},
     "output_type": "display_data"
    },
    {
     "data": {
      "text/html": [
       "<style  type=\"text/css\" >\n",
       "</style><table id=\"T_4a1831f0_38c3_11eb_8636_907841ab469a\" ><thead>    <tr>        <th class=\"col_heading level0 col0\" >Column_Name</th>        <th class=\"col_heading level0 col1\" >Stream_Type</th>        <th class=\"col_heading level0 col2\" >Stream_UOM</th>        <th class=\"col_heading level0 col3\" >OCS_Stream_Name</th>    </tr></thead><tbody>\n",
       "                <tr>\n",
       "                                <td id=\"T_4a1831f0_38c3_11eb_8636_907841ab469arow0_col0\" class=\"data row0 col0\" >E-101 Air Cooler Outlet Temperature</td>\n",
       "                        <td id=\"T_4a1831f0_38c3_11eb_8636_907841ab469arow0_col1\" class=\"data row0 col1\" >Float</td>\n",
       "                        <td id=\"T_4a1831f0_38c3_11eb_8636_907841ab469arow0_col2\" class=\"data row0 col2\" >°F</td>\n",
       "                        <td id=\"T_4a1831f0_38c3_11eb_8636_907841ab469arow0_col3\" class=\"data row0 col3\" >delmar.DELMAR_UNIT1_TI-107.PV</td>\n",
       "            </tr>\n",
       "            <tr>\n",
       "                                <td id=\"T_4a1831f0_38c3_11eb_8636_907841ab469arow1_col0\" class=\"data row1 col0\" >Feed Flow Controller Mode</td>\n",
       "                        <td id=\"T_4a1831f0_38c3_11eb_8636_907841ab469arow1_col1\" class=\"data row1 col1\" >Category</td>\n",
       "                        <td id=\"T_4a1831f0_38c3_11eb_8636_907841ab469arow1_col2\" class=\"data row1 col2\" ></td>\n",
       "                        <td id=\"T_4a1831f0_38c3_11eb_8636_907841ab469arow1_col3\" class=\"data row1 col3\" >delmar.DELMAR_UNIT1_FIC-101.MODE</td>\n",
       "            </tr>\n",
       "            <tr>\n",
       "                                <td id=\"T_4a1831f0_38c3_11eb_8636_907841ab469arow2_col0\" class=\"data row2 col0\" >Feed Flow Controller Output</td>\n",
       "                        <td id=\"T_4a1831f0_38c3_11eb_8636_907841ab469arow2_col1\" class=\"data row2 col1\" >Float</td>\n",
       "                        <td id=\"T_4a1831f0_38c3_11eb_8636_907841ab469arow2_col2\" class=\"data row2 col2\" >%</td>\n",
       "                        <td id=\"T_4a1831f0_38c3_11eb_8636_907841ab469arow2_col3\" class=\"data row2 col3\" >delmar.DELMAR_UNIT1_FIC-101.OUT</td>\n",
       "            </tr>\n",
       "            <tr>\n",
       "                                <td id=\"T_4a1831f0_38c3_11eb_8636_907841ab469arow3_col0\" class=\"data row3 col0\" >Feed Flow Controller PV</td>\n",
       "                        <td id=\"T_4a1831f0_38c3_11eb_8636_907841ab469arow3_col1\" class=\"data row3 col1\" >Float</td>\n",
       "                        <td id=\"T_4a1831f0_38c3_11eb_8636_907841ab469arow3_col2\" class=\"data row3 col2\" >GPM</td>\n",
       "                        <td id=\"T_4a1831f0_38c3_11eb_8636_907841ab469arow3_col3\" class=\"data row3 col3\" >delmar.DELMAR_UNIT1_FIC-101.PV</td>\n",
       "            </tr>\n",
       "            <tr>\n",
       "                                <td id=\"T_4a1831f0_38c3_11eb_8636_907841ab469arow4_col0\" class=\"data row4 col0\" >Feed Flow Controller Setpoint</td>\n",
       "                        <td id=\"T_4a1831f0_38c3_11eb_8636_907841ab469arow4_col1\" class=\"data row4 col1\" >Float</td>\n",
       "                        <td id=\"T_4a1831f0_38c3_11eb_8636_907841ab469arow4_col2\" class=\"data row4 col2\" >GPM</td>\n",
       "                        <td id=\"T_4a1831f0_38c3_11eb_8636_907841ab469arow4_col3\" class=\"data row4 col3\" >delmar.DELMAR_UNIT1_FIC-101.SP</td>\n",
       "            </tr>\n",
       "            <tr>\n",
       "                                <td id=\"T_4a1831f0_38c3_11eb_8636_907841ab469arow5_col0\" class=\"data row5 col0\" >P-101 A/B Discharge pressure</td>\n",
       "                        <td id=\"T_4a1831f0_38c3_11eb_8636_907841ab469arow5_col1\" class=\"data row5 col1\" >Float</td>\n",
       "                        <td id=\"T_4a1831f0_38c3_11eb_8636_907841ab469arow5_col2\" class=\"data row5 col2\" >PSIG</td>\n",
       "                        <td id=\"T_4a1831f0_38c3_11eb_8636_907841ab469arow5_col3\" class=\"data row5 col3\" >delmar.DELMAR_UNIT1_PI-111.PV</td>\n",
       "            </tr>\n",
       "            <tr>\n",
       "                                <td id=\"T_4a1831f0_38c3_11eb_8636_907841ab469arow6_col0\" class=\"data row6 col0\" >P-101A Run Status</td>\n",
       "                        <td id=\"T_4a1831f0_38c3_11eb_8636_907841ab469arow6_col1\" class=\"data row6 col1\" >Category</td>\n",
       "                        <td id=\"T_4a1831f0_38c3_11eb_8636_907841ab469arow6_col2\" class=\"data row6 col2\" ></td>\n",
       "                        <td id=\"T_4a1831f0_38c3_11eb_8636_907841ab469arow6_col3\" class=\"data row6 col3\" >delmar.DELMAR_UNIT1_XB-101A</td>\n",
       "            </tr>\n",
       "            <tr>\n",
       "                                <td id=\"T_4a1831f0_38c3_11eb_8636_907841ab469arow7_col0\" class=\"data row7 col0\" >P-101B Run Status</td>\n",
       "                        <td id=\"T_4a1831f0_38c3_11eb_8636_907841ab469arow7_col1\" class=\"data row7 col1\" >Category</td>\n",
       "                        <td id=\"T_4a1831f0_38c3_11eb_8636_907841ab469arow7_col2\" class=\"data row7 col2\" ></td>\n",
       "                        <td id=\"T_4a1831f0_38c3_11eb_8636_907841ab469arow7_col3\" class=\"data row7 col3\" >delmar.DELMAR_UNIT1_XB-101B</td>\n",
       "            </tr>\n",
       "            <tr>\n",
       "                                <td id=\"T_4a1831f0_38c3_11eb_8636_907841ab469arow8_col0\" class=\"data row8 col0\" >T-101 Level Controller Mode</td>\n",
       "                        <td id=\"T_4a1831f0_38c3_11eb_8636_907841ab469arow8_col1\" class=\"data row8 col1\" >Category</td>\n",
       "                        <td id=\"T_4a1831f0_38c3_11eb_8636_907841ab469arow8_col2\" class=\"data row8 col2\" ></td>\n",
       "                        <td id=\"T_4a1831f0_38c3_11eb_8636_907841ab469arow8_col3\" class=\"data row8 col3\" >delmar.DELMAR_UNIT1_LIC-101.MODE</td>\n",
       "            </tr>\n",
       "            <tr>\n",
       "                                <td id=\"T_4a1831f0_38c3_11eb_8636_907841ab469arow9_col0\" class=\"data row9 col0\" >T-101 Level Controller Output</td>\n",
       "                        <td id=\"T_4a1831f0_38c3_11eb_8636_907841ab469arow9_col1\" class=\"data row9 col1\" >Float</td>\n",
       "                        <td id=\"T_4a1831f0_38c3_11eb_8636_907841ab469arow9_col2\" class=\"data row9 col2\" >%</td>\n",
       "                        <td id=\"T_4a1831f0_38c3_11eb_8636_907841ab469arow9_col3\" class=\"data row9 col3\" >delmar.DELMAR_UNIT1_LIC-101.OUT</td>\n",
       "            </tr>\n",
       "            <tr>\n",
       "                                <td id=\"T_4a1831f0_38c3_11eb_8636_907841ab469arow10_col0\" class=\"data row10 col0\" >T-101 Level Controller PV</td>\n",
       "                        <td id=\"T_4a1831f0_38c3_11eb_8636_907841ab469arow10_col1\" class=\"data row10 col1\" >Float</td>\n",
       "                        <td id=\"T_4a1831f0_38c3_11eb_8636_907841ab469arow10_col2\" class=\"data row10 col2\" >%</td>\n",
       "                        <td id=\"T_4a1831f0_38c3_11eb_8636_907841ab469arow10_col3\" class=\"data row10 col3\" >delmar.DELMAR_UNIT1_LIC-101.PV</td>\n",
       "            </tr>\n",
       "            <tr>\n",
       "                                <td id=\"T_4a1831f0_38c3_11eb_8636_907841ab469arow11_col0\" class=\"data row11 col0\" >T-101 Level Controller Setpoint</td>\n",
       "                        <td id=\"T_4a1831f0_38c3_11eb_8636_907841ab469arow11_col1\" class=\"data row11 col1\" >Float</td>\n",
       "                        <td id=\"T_4a1831f0_38c3_11eb_8636_907841ab469arow11_col2\" class=\"data row11 col2\" >%</td>\n",
       "                        <td id=\"T_4a1831f0_38c3_11eb_8636_907841ab469arow11_col3\" class=\"data row11 col3\" >delmar.DELMAR_UNIT1_LIC-101.SP</td>\n",
       "            </tr>\n",
       "            <tr>\n",
       "                                <td id=\"T_4a1831f0_38c3_11eb_8636_907841ab469arow12_col0\" class=\"data row12 col0\" >Unit 1 Common Trouble Alarm</td>\n",
       "                        <td id=\"T_4a1831f0_38c3_11eb_8636_907841ab469arow12_col1\" class=\"data row12 col1\" >Category</td>\n",
       "                        <td id=\"T_4a1831f0_38c3_11eb_8636_907841ab469arow12_col2\" class=\"data row12 col2\" ></td>\n",
       "                        <td id=\"T_4a1831f0_38c3_11eb_8636_907841ab469arow12_col3\" class=\"data row12 col3\" >delmar.DELMAR_UNIT1_XA-100</td>\n",
       "            </tr>\n",
       "    </tbody></table>"
      ],
      "text/plain": [
       "<pandas.io.formats.style.Styler at 0x1fecfe097c8>"
      ]
     },
     "metadata": {},
     "output_type": "display_data"
    },
    {
     "data": {
      "text/html": [
       "<hr></hr>"
      ],
      "text/plain": [
       "<IPython.core.display.HTML object>"
      ]
     },
     "metadata": {},
     "output_type": "display_data"
    },
    {
     "data": {
      "text/markdown": [
       "**Data view ID: <span style=\"color:blue\">pilot.plant_hot-1_tk-102</span>** (# of streams: 2)"
      ],
      "text/plain": [
       "<IPython.core.display.Markdown object>"
      ]
     },
     "metadata": {},
     "output_type": "display_data"
    },
    {
     "data": {
      "text/html": [
       "<style  type=\"text/css\" >\n",
       "</style><table id=\"T_4a5a28ba_38c3_11eb_bc64_907841ab469a\" ><thead>    <tr>        <th class=\"col_heading level0 col0\" >Column_Name</th>        <th class=\"col_heading level0 col1\" >Stream_Type</th>        <th class=\"col_heading level0 col2\" >Stream_UOM</th>        <th class=\"col_heading level0 col3\" >OCS_Stream_Name</th>    </tr></thead><tbody>\n",
       "                <tr>\n",
       "                                <td id=\"T_4a5a28ba_38c3_11eb_bc64_907841ab469arow0_col0\" class=\"data row0 col0\" >P-102 Discharge pressure</td>\n",
       "                        <td id=\"T_4a5a28ba_38c3_11eb_bc64_907841ab469arow0_col1\" class=\"data row0 col1\" >Float</td>\n",
       "                        <td id=\"T_4a5a28ba_38c3_11eb_bc64_907841ab469arow0_col2\" class=\"data row0 col2\" >PSIG</td>\n",
       "                        <td id=\"T_4a5a28ba_38c3_11eb_bc64_907841ab469arow0_col3\" class=\"data row0 col3\" >delmar.DELMAR_UNIT1_PI-108.PV</td>\n",
       "            </tr>\n",
       "            <tr>\n",
       "                                <td id=\"T_4a5a28ba_38c3_11eb_bc64_907841ab469arow1_col0\" class=\"data row1 col0\" >P-102 Run Status</td>\n",
       "                        <td id=\"T_4a5a28ba_38c3_11eb_bc64_907841ab469arow1_col1\" class=\"data row1 col1\" >Category</td>\n",
       "                        <td id=\"T_4a5a28ba_38c3_11eb_bc64_907841ab469arow1_col2\" class=\"data row1 col2\" ></td>\n",
       "                        <td id=\"T_4a5a28ba_38c3_11eb_bc64_907841ab469arow1_col3\" class=\"data row1 col3\" >delmar.DELMAR_UNIT1_XB-102</td>\n",
       "            </tr>\n",
       "    </tbody></table>"
      ],
      "text/plain": [
       "<pandas.io.formats.style.Styler at 0x1feeac6f4c8>"
      ]
     },
     "metadata": {},
     "output_type": "display_data"
    },
    {
     "data": {
      "text/html": [
       "<hr></hr>"
      ],
      "text/plain": [
       "<IPython.core.display.HTML object>"
      ]
     },
     "metadata": {},
     "output_type": "display_data"
    },
    {
     "data": {
      "text/markdown": [
       "**Data view ID: <span style=\"color:blue\">pilot.plant_hot-1_tk-103</span>** (# of streams: 1)"
      ],
      "text/plain": [
       "<IPython.core.display.Markdown object>"
      ]
     },
     "metadata": {},
     "output_type": "display_data"
    },
    {
     "data": {
      "text/html": [
       "<style  type=\"text/css\" >\n",
       "</style><table id=\"T_4a9e0f80_38c3_11eb_9674_907841ab469a\" ><thead>    <tr>        <th class=\"col_heading level0 col0\" >Column_Name</th>        <th class=\"col_heading level0 col1\" >Stream_Type</th>        <th class=\"col_heading level0 col2\" >Stream_UOM</th>        <th class=\"col_heading level0 col3\" >OCS_Stream_Name</th>    </tr></thead><tbody>\n",
       "                <tr>\n",
       "                                <td id=\"T_4a9e0f80_38c3_11eb_9674_907841ab469arow0_col0\" class=\"data row0 col0\" >P-103 Run Status</td>\n",
       "                        <td id=\"T_4a9e0f80_38c3_11eb_9674_907841ab469arow0_col1\" class=\"data row0 col1\" >Category</td>\n",
       "                        <td id=\"T_4a9e0f80_38c3_11eb_9674_907841ab469arow0_col2\" class=\"data row0 col2\" ></td>\n",
       "                        <td id=\"T_4a9e0f80_38c3_11eb_9674_907841ab469arow0_col3\" class=\"data row0 col3\" >delmar.DELMAR_UNIT1_XB-103</td>\n",
       "            </tr>\n",
       "    </tbody></table>"
      ],
      "text/plain": [
       "<pandas.io.formats.style.Styler at 0x1feeafb6408>"
      ]
     },
     "metadata": {},
     "output_type": "display_data"
    },
    {
     "data": {
      "text/html": [
       "<hr></hr>"
      ],
      "text/plain": [
       "<IPython.core.display.HTML object>"
      ]
     },
     "metadata": {},
     "output_type": "display_data"
    },
    {
     "data": {
      "text/markdown": [
       "**Data view ID: <span style=\"color:blue\">pilot.plant_hot-3</span>** (# of streams: 39)"
      ],
      "text/plain": [
       "<IPython.core.display.Markdown object>"
      ]
     },
     "metadata": {},
     "output_type": "display_data"
    },
    {
     "data": {
      "text/html": [
       "<style  type=\"text/css\" >\n",
       "</style><table id=\"T_4af24948_38c3_11eb_ab02_907841ab469a\" ><thead>    <tr>        <th class=\"col_heading level0 col0\" >Column_Name</th>        <th class=\"col_heading level0 col1\" >Stream_Type</th>        <th class=\"col_heading level0 col2\" >Stream_UOM</th>        <th class=\"col_heading level0 col3\" >OCS_Stream_Name</th>    </tr></thead><tbody>\n",
       "                <tr>\n",
       "                                <td id=\"T_4af24948_38c3_11eb_ab02_907841ab469arow0_col0\" class=\"data row0 col0\" >Bottoms Level</td>\n",
       "                        <td id=\"T_4af24948_38c3_11eb_ab02_907841ab469arow0_col1\" class=\"data row0 col1\" >Float</td>\n",
       "                        <td id=\"T_4af24948_38c3_11eb_ab02_907841ab469arow0_col2\" class=\"data row0 col2\" >%</td>\n",
       "                        <td id=\"T_4af24948_38c3_11eb_ab02_907841ab469arow0_col3\" class=\"data row0 col3\" >delmar.DELMAR_UNIT3_LI-210.PV</td>\n",
       "            </tr>\n",
       "            <tr>\n",
       "                                <td id=\"T_4af24948_38c3_11eb_ab02_907841ab469arow1_col0\" class=\"data row1 col0\" >Bottoms Temperature</td>\n",
       "                        <td id=\"T_4af24948_38c3_11eb_ab02_907841ab469arow1_col1\" class=\"data row1 col1\" >Float</td>\n",
       "                        <td id=\"T_4af24948_38c3_11eb_ab02_907841ab469arow1_col2\" class=\"data row1 col2\" >°F</td>\n",
       "                        <td id=\"T_4af24948_38c3_11eb_ab02_907841ab469arow1_col3\" class=\"data row1 col3\" >delmar.DELMAR_UNIT3_TI-200.PV</td>\n",
       "            </tr>\n",
       "            <tr>\n",
       "                                <td id=\"T_4af24948_38c3_11eb_ab02_907841ab469arow2_col0\" class=\"data row2 col0\" >Bottoms to Feed Flow Controller Mode</td>\n",
       "                        <td id=\"T_4af24948_38c3_11eb_ab02_907841ab469arow2_col1\" class=\"data row2 col1\" >Category</td>\n",
       "                        <td id=\"T_4af24948_38c3_11eb_ab02_907841ab469arow2_col2\" class=\"data row2 col2\" ></td>\n",
       "                        <td id=\"T_4af24948_38c3_11eb_ab02_907841ab469arow2_col3\" class=\"data row2 col3\" >delmar.DELMAR_UNIT3_FIC-200.MODE</td>\n",
       "            </tr>\n",
       "            <tr>\n",
       "                                <td id=\"T_4af24948_38c3_11eb_ab02_907841ab469arow3_col0\" class=\"data row3 col0\" >Bottoms to Feed Flow Controller Output</td>\n",
       "                        <td id=\"T_4af24948_38c3_11eb_ab02_907841ab469arow3_col1\" class=\"data row3 col1\" >Float</td>\n",
       "                        <td id=\"T_4af24948_38c3_11eb_ab02_907841ab469arow3_col2\" class=\"data row3 col2\" >%</td>\n",
       "                        <td id=\"T_4af24948_38c3_11eb_ab02_907841ab469arow3_col3\" class=\"data row3 col3\" >delmar.DELMAR_UNIT3_FIC-200.OUT</td>\n",
       "            </tr>\n",
       "            <tr>\n",
       "                                <td id=\"T_4af24948_38c3_11eb_ab02_907841ab469arow4_col0\" class=\"data row4 col0\" >Bottoms to Feed Flow Controller PV</td>\n",
       "                        <td id=\"T_4af24948_38c3_11eb_ab02_907841ab469arow4_col1\" class=\"data row4 col1\" >Float</td>\n",
       "                        <td id=\"T_4af24948_38c3_11eb_ab02_907841ab469arow4_col2\" class=\"data row4 col2\" >GPH</td>\n",
       "                        <td id=\"T_4af24948_38c3_11eb_ab02_907841ab469arow4_col3\" class=\"data row4 col3\" >delmar.DELMAR_UNIT3_FIC-200.PV</td>\n",
       "            </tr>\n",
       "            <tr>\n",
       "                                <td id=\"T_4af24948_38c3_11eb_ab02_907841ab469arow5_col0\" class=\"data row5 col0\" >Bottoms to Feed Flow Controller Setpoint</td>\n",
       "                        <td id=\"T_4af24948_38c3_11eb_ab02_907841ab469arow5_col1\" class=\"data row5 col1\" >Float</td>\n",
       "                        <td id=\"T_4af24948_38c3_11eb_ab02_907841ab469arow5_col2\" class=\"data row5 col2\" >GPH</td>\n",
       "                        <td id=\"T_4af24948_38c3_11eb_ab02_907841ab469arow5_col3\" class=\"data row5 col3\" >delmar.DELMAR_UNIT3_FIC-200.SP</td>\n",
       "            </tr>\n",
       "            <tr>\n",
       "                                <td id=\"T_4af24948_38c3_11eb_ab02_907841ab469arow6_col0\" class=\"data row6 col0\" >Cooling Water Discharge E-230</td>\n",
       "                        <td id=\"T_4af24948_38c3_11eb_ab02_907841ab469arow6_col1\" class=\"data row6 col1\" >Float</td>\n",
       "                        <td id=\"T_4af24948_38c3_11eb_ab02_907841ab469arow6_col2\" class=\"data row6 col2\" >°F</td>\n",
       "                        <td id=\"T_4af24948_38c3_11eb_ab02_907841ab469arow6_col3\" class=\"data row6 col3\" >delmar.DELMAR_UNIT3_TI-265.PV</td>\n",
       "            </tr>\n",
       "            <tr>\n",
       "                                <td id=\"T_4af24948_38c3_11eb_ab02_907841ab469arow7_col0\" class=\"data row7 col0\" >Cooling Water Header Temperature</td>\n",
       "                        <td id=\"T_4af24948_38c3_11eb_ab02_907841ab469arow7_col1\" class=\"data row7 col1\" >Float</td>\n",
       "                        <td id=\"T_4af24948_38c3_11eb_ab02_907841ab469arow7_col2\" class=\"data row7 col2\" >°F</td>\n",
       "                        <td id=\"T_4af24948_38c3_11eb_ab02_907841ab469arow7_col3\" class=\"data row7 col3\" >delmar.DELMAR_UNIT3_TI-260.PV</td>\n",
       "            </tr>\n",
       "            <tr>\n",
       "                                <td id=\"T_4af24948_38c3_11eb_ab02_907841ab469arow8_col0\" class=\"data row8 col0\" >Feed Temperature</td>\n",
       "                        <td id=\"T_4af24948_38c3_11eb_ab02_907841ab469arow8_col1\" class=\"data row8 col1\" >Float</td>\n",
       "                        <td id=\"T_4af24948_38c3_11eb_ab02_907841ab469arow8_col2\" class=\"data row8 col2\" >°F</td>\n",
       "                        <td id=\"T_4af24948_38c3_11eb_ab02_907841ab469arow8_col3\" class=\"data row8 col3\" >delmar.DELMAR_UNIT3_TI-210.PV</td>\n",
       "            </tr>\n",
       "            <tr>\n",
       "                                <td id=\"T_4af24948_38c3_11eb_ab02_907841ab469arow9_col0\" class=\"data row9 col0\" >Overhead Pressure</td>\n",
       "                        <td id=\"T_4af24948_38c3_11eb_ab02_907841ab469arow9_col1\" class=\"data row9 col1\" >Float</td>\n",
       "                        <td id=\"T_4af24948_38c3_11eb_ab02_907841ab469arow9_col2\" class=\"data row9 col2\" >mmHga</td>\n",
       "                        <td id=\"T_4af24948_38c3_11eb_ab02_907841ab469arow9_col3\" class=\"data row9 col3\" >delmar.DELMAR_UNIT3_PI-225.PV</td>\n",
       "            </tr>\n",
       "            <tr>\n",
       "                                <td id=\"T_4af24948_38c3_11eb_ab02_907841ab469arow10_col0\" class=\"data row10 col0\" >Overhead Receiver Level Controller Mode</td>\n",
       "                        <td id=\"T_4af24948_38c3_11eb_ab02_907841ab469arow10_col1\" class=\"data row10 col1\" >Category</td>\n",
       "                        <td id=\"T_4af24948_38c3_11eb_ab02_907841ab469arow10_col2\" class=\"data row10 col2\" ></td>\n",
       "                        <td id=\"T_4af24948_38c3_11eb_ab02_907841ab469arow10_col3\" class=\"data row10 col3\" >delmar.DELMAR_UNIT3_LIC-240.MODE</td>\n",
       "            </tr>\n",
       "            <tr>\n",
       "                                <td id=\"T_4af24948_38c3_11eb_ab02_907841ab469arow11_col0\" class=\"data row11 col0\" >Overhead Receiver Level Controller Output</td>\n",
       "                        <td id=\"T_4af24948_38c3_11eb_ab02_907841ab469arow11_col1\" class=\"data row11 col1\" >Float</td>\n",
       "                        <td id=\"T_4af24948_38c3_11eb_ab02_907841ab469arow11_col2\" class=\"data row11 col2\" >%</td>\n",
       "                        <td id=\"T_4af24948_38c3_11eb_ab02_907841ab469arow11_col3\" class=\"data row11 col3\" >delmar.DELMAR_UNIT3_LIC-240.OUT</td>\n",
       "            </tr>\n",
       "            <tr>\n",
       "                                <td id=\"T_4af24948_38c3_11eb_ab02_907841ab469arow12_col0\" class=\"data row12 col0\" >Overhead Receiver Level Controller PV</td>\n",
       "                        <td id=\"T_4af24948_38c3_11eb_ab02_907841ab469arow12_col1\" class=\"data row12 col1\" >Float</td>\n",
       "                        <td id=\"T_4af24948_38c3_11eb_ab02_907841ab469arow12_col2\" class=\"data row12 col2\" >%</td>\n",
       "                        <td id=\"T_4af24948_38c3_11eb_ab02_907841ab469arow12_col3\" class=\"data row12 col3\" >delmar.DELMAR_UNIT3_LIC-240.PV</td>\n",
       "            </tr>\n",
       "            <tr>\n",
       "                                <td id=\"T_4af24948_38c3_11eb_ab02_907841ab469arow13_col0\" class=\"data row13 col0\" >Overhead Receiver Level Controller Setpoint</td>\n",
       "                        <td id=\"T_4af24948_38c3_11eb_ab02_907841ab469arow13_col1\" class=\"data row13 col1\" >Float</td>\n",
       "                        <td id=\"T_4af24948_38c3_11eb_ab02_907841ab469arow13_col2\" class=\"data row13 col2\" >%</td>\n",
       "                        <td id=\"T_4af24948_38c3_11eb_ab02_907841ab469arow13_col3\" class=\"data row13 col3\" >delmar.DELMAR_UNIT3_LIC-240.SP</td>\n",
       "            </tr>\n",
       "            <tr>\n",
       "                                <td id=\"T_4af24948_38c3_11eb_ab02_907841ab469arow14_col0\" class=\"data row14 col0\" >Overhead to Feed Flow</td>\n",
       "                        <td id=\"T_4af24948_38c3_11eb_ab02_907841ab469arow14_col1\" class=\"data row14 col1\" >Float</td>\n",
       "                        <td id=\"T_4af24948_38c3_11eb_ab02_907841ab469arow14_col2\" class=\"data row14 col2\" >GPH</td>\n",
       "                        <td id=\"T_4af24948_38c3_11eb_ab02_907841ab469arow14_col3\" class=\"data row14 col3\" >delmar.DELMAR_UNIT3_FI-210.PV</td>\n",
       "            </tr>\n",
       "            <tr>\n",
       "                                <td id=\"T_4af24948_38c3_11eb_ab02_907841ab469arow15_col0\" class=\"data row15 col0\" >Ovhd Condenser Product Temperature</td>\n",
       "                        <td id=\"T_4af24948_38c3_11eb_ab02_907841ab469arow15_col1\" class=\"data row15 col1\" >Float</td>\n",
       "                        <td id=\"T_4af24948_38c3_11eb_ab02_907841ab469arow15_col2\" class=\"data row15 col2\" >°F</td>\n",
       "                        <td id=\"T_4af24948_38c3_11eb_ab02_907841ab469arow15_col3\" class=\"data row15 col3\" >delmar.DELMAR_UNIT3_TI-230.PV</td>\n",
       "            </tr>\n",
       "            <tr>\n",
       "                                <td id=\"T_4af24948_38c3_11eb_ab02_907841ab469arow16_col0\" class=\"data row16 col0\" >Reboiler Duty</td>\n",
       "                        <td id=\"T_4af24948_38c3_11eb_ab02_907841ab469arow16_col1\" class=\"data row16 col1\" >Float</td>\n",
       "                        <td id=\"T_4af24948_38c3_11eb_ab02_907841ab469arow16_col2\" class=\"data row16 col2\" >BTU/hr</td>\n",
       "                        <td id=\"T_4af24948_38c3_11eb_ab02_907841ab469arow16_col3\" class=\"data row16 col3\" >delmar.DELMAR_UNIT3_E-201_REBOILERDUTY</td>\n",
       "            </tr>\n",
       "            <tr>\n",
       "                                <td id=\"T_4af24948_38c3_11eb_ab02_907841ab469arow17_col0\" class=\"data row17 col0\" >Reboiler Outlet Temperature Controller Mode</td>\n",
       "                        <td id=\"T_4af24948_38c3_11eb_ab02_907841ab469arow17_col1\" class=\"data row17 col1\" >Category</td>\n",
       "                        <td id=\"T_4af24948_38c3_11eb_ab02_907841ab469arow17_col2\" class=\"data row17 col2\" ></td>\n",
       "                        <td id=\"T_4af24948_38c3_11eb_ab02_907841ab469arow17_col3\" class=\"data row17 col3\" >delmar.DELMAR_UNIT3_TIC-205.MODE</td>\n",
       "            </tr>\n",
       "            <tr>\n",
       "                                <td id=\"T_4af24948_38c3_11eb_ab02_907841ab469arow18_col0\" class=\"data row18 col0\" >Reboiler Outlet Temperature Controller Output</td>\n",
       "                        <td id=\"T_4af24948_38c3_11eb_ab02_907841ab469arow18_col1\" class=\"data row18 col1\" >Float</td>\n",
       "                        <td id=\"T_4af24948_38c3_11eb_ab02_907841ab469arow18_col2\" class=\"data row18 col2\" >%</td>\n",
       "                        <td id=\"T_4af24948_38c3_11eb_ab02_907841ab469arow18_col3\" class=\"data row18 col3\" >delmar.DELMAR_UNIT3_TIC-205.OUT</td>\n",
       "            </tr>\n",
       "            <tr>\n",
       "                                <td id=\"T_4af24948_38c3_11eb_ab02_907841ab469arow19_col0\" class=\"data row19 col0\" >Reboiler Outlet Temperature Controller PV</td>\n",
       "                        <td id=\"T_4af24948_38c3_11eb_ab02_907841ab469arow19_col1\" class=\"data row19 col1\" >Float</td>\n",
       "                        <td id=\"T_4af24948_38c3_11eb_ab02_907841ab469arow19_col2\" class=\"data row19 col2\" >°F</td>\n",
       "                        <td id=\"T_4af24948_38c3_11eb_ab02_907841ab469arow19_col3\" class=\"data row19 col3\" >delmar.DELMAR_UNIT3_TIC-205.PV</td>\n",
       "            </tr>\n",
       "            <tr>\n",
       "                                <td id=\"T_4af24948_38c3_11eb_ab02_907841ab469arow20_col0\" class=\"data row20 col0\" >Reboiler Outlet Temperature Controller Setpoint</td>\n",
       "                        <td id=\"T_4af24948_38c3_11eb_ab02_907841ab469arow20_col1\" class=\"data row20 col1\" >Float</td>\n",
       "                        <td id=\"T_4af24948_38c3_11eb_ab02_907841ab469arow20_col2\" class=\"data row20 col2\" >°F</td>\n",
       "                        <td id=\"T_4af24948_38c3_11eb_ab02_907841ab469arow20_col3\" class=\"data row20 col3\" >delmar.DELMAR_UNIT3_TIC-205.SP</td>\n",
       "            </tr>\n",
       "            <tr>\n",
       "                                <td id=\"T_4af24948_38c3_11eb_ab02_907841ab469arow21_col0\" class=\"data row21 col0\" >Reflux to Vac Tower Flow Controller Output</td>\n",
       "                        <td id=\"T_4af24948_38c3_11eb_ab02_907841ab469arow21_col1\" class=\"data row21 col1\" >Float</td>\n",
       "                        <td id=\"T_4af24948_38c3_11eb_ab02_907841ab469arow21_col2\" class=\"data row21 col2\" >%</td>\n",
       "                        <td id=\"T_4af24948_38c3_11eb_ab02_907841ab469arow21_col3\" class=\"data row21 col3\" >delmar.DELMAR_UNIT3_FIC-240.OUT</td>\n",
       "            </tr>\n",
       "            <tr>\n",
       "                                <td id=\"T_4af24948_38c3_11eb_ab02_907841ab469arow22_col0\" class=\"data row22 col0\" >Reflux to Vac Tower Flow Controller PV</td>\n",
       "                        <td id=\"T_4af24948_38c3_11eb_ab02_907841ab469arow22_col1\" class=\"data row22 col1\" >Float</td>\n",
       "                        <td id=\"T_4af24948_38c3_11eb_ab02_907841ab469arow22_col2\" class=\"data row22 col2\" >GPH</td>\n",
       "                        <td id=\"T_4af24948_38c3_11eb_ab02_907841ab469arow22_col3\" class=\"data row22 col3\" >delmar.DELMAR_UNIT3_FIC-240.PV</td>\n",
       "            </tr>\n",
       "            <tr>\n",
       "                                <td id=\"T_4af24948_38c3_11eb_ab02_907841ab469arow23_col0\" class=\"data row23 col0\" >Reflux to Vac Tower Flow Controller Setpoint</td>\n",
       "                        <td id=\"T_4af24948_38c3_11eb_ab02_907841ab469arow23_col1\" class=\"data row23 col1\" >Float</td>\n",
       "                        <td id=\"T_4af24948_38c3_11eb_ab02_907841ab469arow23_col2\" class=\"data row23 col2\" >GPH</td>\n",
       "                        <td id=\"T_4af24948_38c3_11eb_ab02_907841ab469arow23_col3\" class=\"data row23 col3\" >delmar.DELMAR_UNIT3_FIC-240.SP</td>\n",
       "            </tr>\n",
       "            <tr>\n",
       "                                <td id=\"T_4af24948_38c3_11eb_ab02_907841ab469arow24_col0\" class=\"data row24 col0\" >Reflux to VacTower Flow Controller Mode</td>\n",
       "                        <td id=\"T_4af24948_38c3_11eb_ab02_907841ab469arow24_col1\" class=\"data row24 col1\" >Category</td>\n",
       "                        <td id=\"T_4af24948_38c3_11eb_ab02_907841ab469arow24_col2\" class=\"data row24 col2\" ></td>\n",
       "                        <td id=\"T_4af24948_38c3_11eb_ab02_907841ab469arow24_col3\" class=\"data row24 col3\" >delmar.DELMAR_UNIT3_FIC-240.MODE</td>\n",
       "            </tr>\n",
       "            <tr>\n",
       "                                <td id=\"T_4af24948_38c3_11eb_ab02_907841ab469arow25_col0\" class=\"data row25 col0\" >Steam Header Pressure</td>\n",
       "                        <td id=\"T_4af24948_38c3_11eb_ab02_907841ab469arow25_col1\" class=\"data row25 col1\" >Float</td>\n",
       "                        <td id=\"T_4af24948_38c3_11eb_ab02_907841ab469arow25_col2\" class=\"data row25 col2\" >PSIG</td>\n",
       "                        <td id=\"T_4af24948_38c3_11eb_ab02_907841ab469arow25_col3\" class=\"data row25 col3\" >delmar.DELMAR_UNIT3_PI-275.PV</td>\n",
       "            </tr>\n",
       "            <tr>\n",
       "                                <td id=\"T_4af24948_38c3_11eb_ab02_907841ab469arow26_col0\" class=\"data row26 col0\" >Steam to Reboiler Flow Controller Mode</td>\n",
       "                        <td id=\"T_4af24948_38c3_11eb_ab02_907841ab469arow26_col1\" class=\"data row26 col1\" >Category</td>\n",
       "                        <td id=\"T_4af24948_38c3_11eb_ab02_907841ab469arow26_col2\" class=\"data row26 col2\" ></td>\n",
       "                        <td id=\"T_4af24948_38c3_11eb_ab02_907841ab469arow26_col3\" class=\"data row26 col3\" >delmar.DELMAR_UNIT3_FIC-275.MODE</td>\n",
       "            </tr>\n",
       "            <tr>\n",
       "                                <td id=\"T_4af24948_38c3_11eb_ab02_907841ab469arow27_col0\" class=\"data row27 col0\" >Steam to Reboiler Flow Controller Output</td>\n",
       "                        <td id=\"T_4af24948_38c3_11eb_ab02_907841ab469arow27_col1\" class=\"data row27 col1\" >Float</td>\n",
       "                        <td id=\"T_4af24948_38c3_11eb_ab02_907841ab469arow27_col2\" class=\"data row27 col2\" >%</td>\n",
       "                        <td id=\"T_4af24948_38c3_11eb_ab02_907841ab469arow27_col3\" class=\"data row27 col3\" >delmar.DELMAR_UNIT3_FIC-275.OUT</td>\n",
       "            </tr>\n",
       "            <tr>\n",
       "                                <td id=\"T_4af24948_38c3_11eb_ab02_907841ab469arow28_col0\" class=\"data row28 col0\" >Steam to Reboiler Flow Controller PV</td>\n",
       "                        <td id=\"T_4af24948_38c3_11eb_ab02_907841ab469arow28_col1\" class=\"data row28 col1\" >Float</td>\n",
       "                        <td id=\"T_4af24948_38c3_11eb_ab02_907841ab469arow28_col2\" class=\"data row28 col2\" >LB/HR</td>\n",
       "                        <td id=\"T_4af24948_38c3_11eb_ab02_907841ab469arow28_col3\" class=\"data row28 col3\" >delmar.DELMAR_UNIT3_FIC-275.PV</td>\n",
       "            </tr>\n",
       "            <tr>\n",
       "                                <td id=\"T_4af24948_38c3_11eb_ab02_907841ab469arow29_col0\" class=\"data row29 col0\" >Steam to Reboiler Flow Controller Setpoint</td>\n",
       "                        <td id=\"T_4af24948_38c3_11eb_ab02_907841ab469arow29_col1\" class=\"data row29 col1\" >Float</td>\n",
       "                        <td id=\"T_4af24948_38c3_11eb_ab02_907841ab469arow29_col2\" class=\"data row29 col2\" >LB/HR</td>\n",
       "                        <td id=\"T_4af24948_38c3_11eb_ab02_907841ab469arow29_col3\" class=\"data row29 col3\" >delmar.DELMAR_UNIT3_FIC-275.SP</td>\n",
       "            </tr>\n",
       "            <tr>\n",
       "                                <td id=\"T_4af24948_38c3_11eb_ab02_907841ab469arow30_col0\" class=\"data row30 col0\" >Steam to Reboiler Pressure</td>\n",
       "                        <td id=\"T_4af24948_38c3_11eb_ab02_907841ab469arow30_col1\" class=\"data row30 col1\" >Float</td>\n",
       "                        <td id=\"T_4af24948_38c3_11eb_ab02_907841ab469arow30_col2\" class=\"data row30 col2\" >PSIG</td>\n",
       "                        <td id=\"T_4af24948_38c3_11eb_ab02_907841ab469arow30_col3\" class=\"data row30 col3\" >delmar.DELMAR_UNIT3_PI-280.PV</td>\n",
       "            </tr>\n",
       "            <tr>\n",
       "                                <td id=\"T_4af24948_38c3_11eb_ab02_907841ab469arow31_col0\" class=\"data row31 col0\" >Tower Midsection temperature</td>\n",
       "                        <td id=\"T_4af24948_38c3_11eb_ab02_907841ab469arow31_col1\" class=\"data row31 col1\" >Float</td>\n",
       "                        <td id=\"T_4af24948_38c3_11eb_ab02_907841ab469arow31_col2\" class=\"data row31 col2\" >°F</td>\n",
       "                        <td id=\"T_4af24948_38c3_11eb_ab02_907841ab469arow31_col3\" class=\"data row31 col3\" >delmar.DELMAR_UNIT3_TI-215.PV</td>\n",
       "            </tr>\n",
       "            <tr>\n",
       "                                <td id=\"T_4af24948_38c3_11eb_ab02_907841ab469arow32_col0\" class=\"data row32 col0\" >Tower Top Bed Differential Pressure</td>\n",
       "                        <td id=\"T_4af24948_38c3_11eb_ab02_907841ab469arow32_col1\" class=\"data row32 col1\" >Float</td>\n",
       "                        <td id=\"T_4af24948_38c3_11eb_ab02_907841ab469arow32_col2\" class=\"data row32 col2\" >in H2O</td>\n",
       "                        <td id=\"T_4af24948_38c3_11eb_ab02_907841ab469arow32_col3\" class=\"data row32 col3\" >delmar.DELMAR_UNIT3_PDI-220.PV</td>\n",
       "            </tr>\n",
       "            <tr>\n",
       "                                <td id=\"T_4af24948_38c3_11eb_ab02_907841ab469arow33_col0\" class=\"data row33 col0\" >Tower Top Section Temperature</td>\n",
       "                        <td id=\"T_4af24948_38c3_11eb_ab02_907841ab469arow33_col1\" class=\"data row33 col1\" >Float</td>\n",
       "                        <td id=\"T_4af24948_38c3_11eb_ab02_907841ab469arow33_col2\" class=\"data row33 col2\" >°F</td>\n",
       "                        <td id=\"T_4af24948_38c3_11eb_ab02_907841ab469arow33_col3\" class=\"data row33 col3\" >delmar.DELMAR_UNIT3_TI-225.PV</td>\n",
       "            </tr>\n",
       "            <tr>\n",
       "                                <td id=\"T_4af24948_38c3_11eb_ab02_907841ab469arow34_col0\" class=\"data row34 col0\" >Unit 3 Common Trouble Alarm</td>\n",
       "                        <td id=\"T_4af24948_38c3_11eb_ab02_907841ab469arow34_col1\" class=\"data row34 col1\" >Category</td>\n",
       "                        <td id=\"T_4af24948_38c3_11eb_ab02_907841ab469arow34_col2\" class=\"data row34 col2\" ></td>\n",
       "                        <td id=\"T_4af24948_38c3_11eb_ab02_907841ab469arow34_col3\" class=\"data row34 col3\" >delmar.DELMAR_UNIT3_XA-200</td>\n",
       "            </tr>\n",
       "            <tr>\n",
       "                                <td id=\"T_4af24948_38c3_11eb_ab02_907841ab469arow35_col0\" class=\"data row35 col0\" >V-240 Receiver Vacuum Controller Mode</td>\n",
       "                        <td id=\"T_4af24948_38c3_11eb_ab02_907841ab469arow35_col1\" class=\"data row35 col1\" >Category</td>\n",
       "                        <td id=\"T_4af24948_38c3_11eb_ab02_907841ab469arow35_col2\" class=\"data row35 col2\" ></td>\n",
       "                        <td id=\"T_4af24948_38c3_11eb_ab02_907841ab469arow35_col3\" class=\"data row35 col3\" >delmar.DELMAR_UNIT3_PIC-250.MODE</td>\n",
       "            </tr>\n",
       "            <tr>\n",
       "                                <td id=\"T_4af24948_38c3_11eb_ab02_907841ab469arow36_col0\" class=\"data row36 col0\" >V-240 Receiver Vacuum Controller Output</td>\n",
       "                        <td id=\"T_4af24948_38c3_11eb_ab02_907841ab469arow36_col1\" class=\"data row36 col1\" >Float</td>\n",
       "                        <td id=\"T_4af24948_38c3_11eb_ab02_907841ab469arow36_col2\" class=\"data row36 col2\" >%</td>\n",
       "                        <td id=\"T_4af24948_38c3_11eb_ab02_907841ab469arow36_col3\" class=\"data row36 col3\" >delmar.DELMAR_UNIT3_PIC-250.OUT</td>\n",
       "            </tr>\n",
       "            <tr>\n",
       "                                <td id=\"T_4af24948_38c3_11eb_ab02_907841ab469arow37_col0\" class=\"data row37 col0\" >V-240 Receiver Vacuum Controller PV</td>\n",
       "                        <td id=\"T_4af24948_38c3_11eb_ab02_907841ab469arow37_col1\" class=\"data row37 col1\" >Float</td>\n",
       "                        <td id=\"T_4af24948_38c3_11eb_ab02_907841ab469arow37_col2\" class=\"data row37 col2\" >mmHga</td>\n",
       "                        <td id=\"T_4af24948_38c3_11eb_ab02_907841ab469arow37_col3\" class=\"data row37 col3\" >delmar.DELMAR_UNIT3_PIC-250.PV</td>\n",
       "            </tr>\n",
       "            <tr>\n",
       "                                <td id=\"T_4af24948_38c3_11eb_ab02_907841ab469arow38_col0\" class=\"data row38 col0\" >V-240 Receiver Vacuum Controller Setpoint</td>\n",
       "                        <td id=\"T_4af24948_38c3_11eb_ab02_907841ab469arow38_col1\" class=\"data row38 col1\" >Float</td>\n",
       "                        <td id=\"T_4af24948_38c3_11eb_ab02_907841ab469arow38_col2\" class=\"data row38 col2\" >mmHga</td>\n",
       "                        <td id=\"T_4af24948_38c3_11eb_ab02_907841ab469arow38_col3\" class=\"data row38 col3\" >delmar.DELMAR_UNIT3_PIC-250.SP</td>\n",
       "            </tr>\n",
       "    </tbody></table>"
      ],
      "text/plain": [
       "<pandas.io.formats.style.Styler at 0x1feeac7ca48>"
      ]
     },
     "metadata": {},
     "output_type": "display_data"
    },
    {
     "data": {
      "text/html": [
       "<hr></hr>"
      ],
      "text/plain": [
       "<IPython.core.display.HTML object>"
      ]
     },
     "metadata": {},
     "output_type": "display_data"
    },
    {
     "data": {
      "text/markdown": [
       "**Data view ID: <span style=\"color:blue\">pilot.plant_hot-3_bottoms_product</span>** (# of streams: 6)"
      ],
      "text/plain": [
       "<IPython.core.display.Markdown object>"
      ]
     },
     "metadata": {},
     "output_type": "display_data"
    },
    {
     "data": {
      "text/html": [
       "<style  type=\"text/css\" >\n",
       "</style><table id=\"T_4b35465c_38c3_11eb_869f_907841ab469a\" ><thead>    <tr>        <th class=\"col_heading level0 col0\" >Column_Name</th>        <th class=\"col_heading level0 col1\" >Stream_Type</th>        <th class=\"col_heading level0 col2\" >Stream_UOM</th>        <th class=\"col_heading level0 col3\" >OCS_Stream_Name</th>    </tr></thead><tbody>\n",
       "                <tr>\n",
       "                                <td id=\"T_4b35465c_38c3_11eb_869f_907841ab469arow0_col0\" class=\"data row0 col0\" >Bottoms Level</td>\n",
       "                        <td id=\"T_4b35465c_38c3_11eb_869f_907841ab469arow0_col1\" class=\"data row0 col1\" >Float</td>\n",
       "                        <td id=\"T_4b35465c_38c3_11eb_869f_907841ab469arow0_col2\" class=\"data row0 col2\" >%</td>\n",
       "                        <td id=\"T_4b35465c_38c3_11eb_869f_907841ab469arow0_col3\" class=\"data row0 col3\" >delmar.DELMAR_UNIT3_LI-210.PV</td>\n",
       "            </tr>\n",
       "            <tr>\n",
       "                                <td id=\"T_4b35465c_38c3_11eb_869f_907841ab469arow1_col0\" class=\"data row1 col0\" >Bottoms Temperature</td>\n",
       "                        <td id=\"T_4b35465c_38c3_11eb_869f_907841ab469arow1_col1\" class=\"data row1 col1\" >Float</td>\n",
       "                        <td id=\"T_4b35465c_38c3_11eb_869f_907841ab469arow1_col2\" class=\"data row1 col2\" >°F</td>\n",
       "                        <td id=\"T_4b35465c_38c3_11eb_869f_907841ab469arow1_col3\" class=\"data row1 col3\" >delmar.DELMAR_UNIT3_TI-200.PV</td>\n",
       "            </tr>\n",
       "            <tr>\n",
       "                                <td id=\"T_4b35465c_38c3_11eb_869f_907841ab469arow2_col0\" class=\"data row2 col0\" >Bottoms to Feed Flow Controller Mode</td>\n",
       "                        <td id=\"T_4b35465c_38c3_11eb_869f_907841ab469arow2_col1\" class=\"data row2 col1\" >Category</td>\n",
       "                        <td id=\"T_4b35465c_38c3_11eb_869f_907841ab469arow2_col2\" class=\"data row2 col2\" ></td>\n",
       "                        <td id=\"T_4b35465c_38c3_11eb_869f_907841ab469arow2_col3\" class=\"data row2 col3\" >delmar.DELMAR_UNIT3_FIC-200.MODE</td>\n",
       "            </tr>\n",
       "            <tr>\n",
       "                                <td id=\"T_4b35465c_38c3_11eb_869f_907841ab469arow3_col0\" class=\"data row3 col0\" >Bottoms to Feed Flow Controller Output</td>\n",
       "                        <td id=\"T_4b35465c_38c3_11eb_869f_907841ab469arow3_col1\" class=\"data row3 col1\" >Float</td>\n",
       "                        <td id=\"T_4b35465c_38c3_11eb_869f_907841ab469arow3_col2\" class=\"data row3 col2\" >%</td>\n",
       "                        <td id=\"T_4b35465c_38c3_11eb_869f_907841ab469arow3_col3\" class=\"data row3 col3\" >delmar.DELMAR_UNIT3_FIC-200.OUT</td>\n",
       "            </tr>\n",
       "            <tr>\n",
       "                                <td id=\"T_4b35465c_38c3_11eb_869f_907841ab469arow4_col0\" class=\"data row4 col0\" >Bottoms to Feed Flow Controller PV</td>\n",
       "                        <td id=\"T_4b35465c_38c3_11eb_869f_907841ab469arow4_col1\" class=\"data row4 col1\" >Float</td>\n",
       "                        <td id=\"T_4b35465c_38c3_11eb_869f_907841ab469arow4_col2\" class=\"data row4 col2\" >GPH</td>\n",
       "                        <td id=\"T_4b35465c_38c3_11eb_869f_907841ab469arow4_col3\" class=\"data row4 col3\" >delmar.DELMAR_UNIT3_FIC-200.PV</td>\n",
       "            </tr>\n",
       "            <tr>\n",
       "                                <td id=\"T_4b35465c_38c3_11eb_869f_907841ab469arow5_col0\" class=\"data row5 col0\" >Bottoms to Feed Flow Controller Setpoint</td>\n",
       "                        <td id=\"T_4b35465c_38c3_11eb_869f_907841ab469arow5_col1\" class=\"data row5 col1\" >Float</td>\n",
       "                        <td id=\"T_4b35465c_38c3_11eb_869f_907841ab469arow5_col2\" class=\"data row5 col2\" >GPH</td>\n",
       "                        <td id=\"T_4b35465c_38c3_11eb_869f_907841ab469arow5_col3\" class=\"data row5 col3\" >delmar.DELMAR_UNIT3_FIC-200.SP</td>\n",
       "            </tr>\n",
       "    </tbody></table>"
      ],
      "text/plain": [
       "<pandas.io.formats.style.Styler at 0x1feeafb4388>"
      ]
     },
     "metadata": {},
     "output_type": "display_data"
    },
    {
     "data": {
      "text/html": [
       "<hr></hr>"
      ],
      "text/plain": [
       "<IPython.core.display.HTML object>"
      ]
     },
     "metadata": {},
     "output_type": "display_data"
    },
    {
     "data": {
      "text/markdown": [
       "**Data view ID: <span style=\"color:blue\">pilot.plant_hot-3_energy_in</span>** (# of streams: 11)"
      ],
      "text/plain": [
       "<IPython.core.display.Markdown object>"
      ]
     },
     "metadata": {},
     "output_type": "display_data"
    },
    {
     "data": {
      "text/html": [
       "<style  type=\"text/css\" >\n",
       "</style><table id=\"T_4b800afa_38c3_11eb_afce_907841ab469a\" ><thead>    <tr>        <th class=\"col_heading level0 col0\" >Column_Name</th>        <th class=\"col_heading level0 col1\" >Stream_Type</th>        <th class=\"col_heading level0 col2\" >Stream_UOM</th>        <th class=\"col_heading level0 col3\" >OCS_Stream_Name</th>    </tr></thead><tbody>\n",
       "                <tr>\n",
       "                                <td id=\"T_4b800afa_38c3_11eb_afce_907841ab469arow0_col0\" class=\"data row0 col0\" >Reboiler Duty</td>\n",
       "                        <td id=\"T_4b800afa_38c3_11eb_afce_907841ab469arow0_col1\" class=\"data row0 col1\" >Float</td>\n",
       "                        <td id=\"T_4b800afa_38c3_11eb_afce_907841ab469arow0_col2\" class=\"data row0 col2\" >BTU/hr</td>\n",
       "                        <td id=\"T_4b800afa_38c3_11eb_afce_907841ab469arow0_col3\" class=\"data row0 col3\" >delmar.DELMAR_UNIT3_E-201_REBOILERDUTY</td>\n",
       "            </tr>\n",
       "            <tr>\n",
       "                                <td id=\"T_4b800afa_38c3_11eb_afce_907841ab469arow1_col0\" class=\"data row1 col0\" >Reboiler Outlet Temperature Controller Mode</td>\n",
       "                        <td id=\"T_4b800afa_38c3_11eb_afce_907841ab469arow1_col1\" class=\"data row1 col1\" >Category</td>\n",
       "                        <td id=\"T_4b800afa_38c3_11eb_afce_907841ab469arow1_col2\" class=\"data row1 col2\" ></td>\n",
       "                        <td id=\"T_4b800afa_38c3_11eb_afce_907841ab469arow1_col3\" class=\"data row1 col3\" >delmar.DELMAR_UNIT3_TIC-205.MODE</td>\n",
       "            </tr>\n",
       "            <tr>\n",
       "                                <td id=\"T_4b800afa_38c3_11eb_afce_907841ab469arow2_col0\" class=\"data row2 col0\" >Reboiler Outlet Temperature Controller Output</td>\n",
       "                        <td id=\"T_4b800afa_38c3_11eb_afce_907841ab469arow2_col1\" class=\"data row2 col1\" >Float</td>\n",
       "                        <td id=\"T_4b800afa_38c3_11eb_afce_907841ab469arow2_col2\" class=\"data row2 col2\" >%</td>\n",
       "                        <td id=\"T_4b800afa_38c3_11eb_afce_907841ab469arow2_col3\" class=\"data row2 col3\" >delmar.DELMAR_UNIT3_TIC-205.OUT</td>\n",
       "            </tr>\n",
       "            <tr>\n",
       "                                <td id=\"T_4b800afa_38c3_11eb_afce_907841ab469arow3_col0\" class=\"data row3 col0\" >Reboiler Outlet Temperature Controller PV</td>\n",
       "                        <td id=\"T_4b800afa_38c3_11eb_afce_907841ab469arow3_col1\" class=\"data row3 col1\" >Float</td>\n",
       "                        <td id=\"T_4b800afa_38c3_11eb_afce_907841ab469arow3_col2\" class=\"data row3 col2\" >°F</td>\n",
       "                        <td id=\"T_4b800afa_38c3_11eb_afce_907841ab469arow3_col3\" class=\"data row3 col3\" >delmar.DELMAR_UNIT3_TIC-205.PV</td>\n",
       "            </tr>\n",
       "            <tr>\n",
       "                                <td id=\"T_4b800afa_38c3_11eb_afce_907841ab469arow4_col0\" class=\"data row4 col0\" >Reboiler Outlet Temperature Controller Setpoint</td>\n",
       "                        <td id=\"T_4b800afa_38c3_11eb_afce_907841ab469arow4_col1\" class=\"data row4 col1\" >Float</td>\n",
       "                        <td id=\"T_4b800afa_38c3_11eb_afce_907841ab469arow4_col2\" class=\"data row4 col2\" >°F</td>\n",
       "                        <td id=\"T_4b800afa_38c3_11eb_afce_907841ab469arow4_col3\" class=\"data row4 col3\" >delmar.DELMAR_UNIT3_TIC-205.SP</td>\n",
       "            </tr>\n",
       "            <tr>\n",
       "                                <td id=\"T_4b800afa_38c3_11eb_afce_907841ab469arow5_col0\" class=\"data row5 col0\" >Steam Header Pressure</td>\n",
       "                        <td id=\"T_4b800afa_38c3_11eb_afce_907841ab469arow5_col1\" class=\"data row5 col1\" >Float</td>\n",
       "                        <td id=\"T_4b800afa_38c3_11eb_afce_907841ab469arow5_col2\" class=\"data row5 col2\" >PSIG</td>\n",
       "                        <td id=\"T_4b800afa_38c3_11eb_afce_907841ab469arow5_col3\" class=\"data row5 col3\" >delmar.DELMAR_UNIT3_PI-275.PV</td>\n",
       "            </tr>\n",
       "            <tr>\n",
       "                                <td id=\"T_4b800afa_38c3_11eb_afce_907841ab469arow6_col0\" class=\"data row6 col0\" >Steam to Reboiler Flow Controller Mode</td>\n",
       "                        <td id=\"T_4b800afa_38c3_11eb_afce_907841ab469arow6_col1\" class=\"data row6 col1\" >Category</td>\n",
       "                        <td id=\"T_4b800afa_38c3_11eb_afce_907841ab469arow6_col2\" class=\"data row6 col2\" ></td>\n",
       "                        <td id=\"T_4b800afa_38c3_11eb_afce_907841ab469arow6_col3\" class=\"data row6 col3\" >delmar.DELMAR_UNIT3_FIC-275.MODE</td>\n",
       "            </tr>\n",
       "            <tr>\n",
       "                                <td id=\"T_4b800afa_38c3_11eb_afce_907841ab469arow7_col0\" class=\"data row7 col0\" >Steam to Reboiler Flow Controller Output</td>\n",
       "                        <td id=\"T_4b800afa_38c3_11eb_afce_907841ab469arow7_col1\" class=\"data row7 col1\" >Float</td>\n",
       "                        <td id=\"T_4b800afa_38c3_11eb_afce_907841ab469arow7_col2\" class=\"data row7 col2\" >%</td>\n",
       "                        <td id=\"T_4b800afa_38c3_11eb_afce_907841ab469arow7_col3\" class=\"data row7 col3\" >delmar.DELMAR_UNIT3_FIC-275.OUT</td>\n",
       "            </tr>\n",
       "            <tr>\n",
       "                                <td id=\"T_4b800afa_38c3_11eb_afce_907841ab469arow8_col0\" class=\"data row8 col0\" >Steam to Reboiler Flow Controller PV</td>\n",
       "                        <td id=\"T_4b800afa_38c3_11eb_afce_907841ab469arow8_col1\" class=\"data row8 col1\" >Float</td>\n",
       "                        <td id=\"T_4b800afa_38c3_11eb_afce_907841ab469arow8_col2\" class=\"data row8 col2\" >LB/HR</td>\n",
       "                        <td id=\"T_4b800afa_38c3_11eb_afce_907841ab469arow8_col3\" class=\"data row8 col3\" >delmar.DELMAR_UNIT3_FIC-275.PV</td>\n",
       "            </tr>\n",
       "            <tr>\n",
       "                                <td id=\"T_4b800afa_38c3_11eb_afce_907841ab469arow9_col0\" class=\"data row9 col0\" >Steam to Reboiler Flow Controller Setpoint</td>\n",
       "                        <td id=\"T_4b800afa_38c3_11eb_afce_907841ab469arow9_col1\" class=\"data row9 col1\" >Float</td>\n",
       "                        <td id=\"T_4b800afa_38c3_11eb_afce_907841ab469arow9_col2\" class=\"data row9 col2\" >LB/HR</td>\n",
       "                        <td id=\"T_4b800afa_38c3_11eb_afce_907841ab469arow9_col3\" class=\"data row9 col3\" >delmar.DELMAR_UNIT3_FIC-275.SP</td>\n",
       "            </tr>\n",
       "            <tr>\n",
       "                                <td id=\"T_4b800afa_38c3_11eb_afce_907841ab469arow10_col0\" class=\"data row10 col0\" >Steam to Reboiler Pressure</td>\n",
       "                        <td id=\"T_4b800afa_38c3_11eb_afce_907841ab469arow10_col1\" class=\"data row10 col1\" >Float</td>\n",
       "                        <td id=\"T_4b800afa_38c3_11eb_afce_907841ab469arow10_col2\" class=\"data row10 col2\" >PSIG</td>\n",
       "                        <td id=\"T_4b800afa_38c3_11eb_afce_907841ab469arow10_col3\" class=\"data row10 col3\" >delmar.DELMAR_UNIT3_PI-280.PV</td>\n",
       "            </tr>\n",
       "    </tbody></table>"
      ],
      "text/plain": [
       "<pandas.io.formats.style.Styler at 0x1feeb037608>"
      ]
     },
     "metadata": {},
     "output_type": "display_data"
    },
    {
     "data": {
      "text/html": [
       "<hr></hr>"
      ],
      "text/plain": [
       "<IPython.core.display.HTML object>"
      ]
     },
     "metadata": {},
     "output_type": "display_data"
    },
    {
     "data": {
      "text/markdown": [
       "**Data view ID: <span style=\"color:blue\">pilot.plant_hot-3_energy_out</span>** (# of streams: 4)"
      ],
      "text/plain": [
       "<IPython.core.display.Markdown object>"
      ]
     },
     "metadata": {},
     "output_type": "display_data"
    },
    {
     "data": {
      "text/html": [
       "<style  type=\"text/css\" >\n",
       "</style><table id=\"T_4bcbe218_38c3_11eb_a8d9_907841ab469a\" ><thead>    <tr>        <th class=\"col_heading level0 col0\" >Column_Name</th>        <th class=\"col_heading level0 col1\" >Stream_Type</th>        <th class=\"col_heading level0 col2\" >Stream_UOM</th>        <th class=\"col_heading level0 col3\" >OCS_Stream_Name</th>    </tr></thead><tbody>\n",
       "                <tr>\n",
       "                                <td id=\"T_4bcbe218_38c3_11eb_a8d9_907841ab469arow0_col0\" class=\"data row0 col0\" >Cooling Water Discharge E-230</td>\n",
       "                        <td id=\"T_4bcbe218_38c3_11eb_a8d9_907841ab469arow0_col1\" class=\"data row0 col1\" >Float</td>\n",
       "                        <td id=\"T_4bcbe218_38c3_11eb_a8d9_907841ab469arow0_col2\" class=\"data row0 col2\" >°F</td>\n",
       "                        <td id=\"T_4bcbe218_38c3_11eb_a8d9_907841ab469arow0_col3\" class=\"data row0 col3\" >delmar.DELMAR_UNIT3_TI-265.PV</td>\n",
       "            </tr>\n",
       "            <tr>\n",
       "                                <td id=\"T_4bcbe218_38c3_11eb_a8d9_907841ab469arow1_col0\" class=\"data row1 col0\" >Cooling Water Header Temperature</td>\n",
       "                        <td id=\"T_4bcbe218_38c3_11eb_a8d9_907841ab469arow1_col1\" class=\"data row1 col1\" >Float</td>\n",
       "                        <td id=\"T_4bcbe218_38c3_11eb_a8d9_907841ab469arow1_col2\" class=\"data row1 col2\" >°F</td>\n",
       "                        <td id=\"T_4bcbe218_38c3_11eb_a8d9_907841ab469arow1_col3\" class=\"data row1 col3\" >delmar.DELMAR_UNIT3_TI-260.PV</td>\n",
       "            </tr>\n",
       "            <tr>\n",
       "                                <td id=\"T_4bcbe218_38c3_11eb_a8d9_907841ab469arow2_col0\" class=\"data row2 col0\" >Ovhd Condenser Product Temperature</td>\n",
       "                        <td id=\"T_4bcbe218_38c3_11eb_a8d9_907841ab469arow2_col1\" class=\"data row2 col1\" >Float</td>\n",
       "                        <td id=\"T_4bcbe218_38c3_11eb_a8d9_907841ab469arow2_col2\" class=\"data row2 col2\" >°F</td>\n",
       "                        <td id=\"T_4bcbe218_38c3_11eb_a8d9_907841ab469arow2_col3\" class=\"data row2 col3\" >delmar.DELMAR_UNIT3_TI-230.PV</td>\n",
       "            </tr>\n",
       "            <tr>\n",
       "                                <td id=\"T_4bcbe218_38c3_11eb_a8d9_907841ab469arow3_col0\" class=\"data row3 col0\" >Tower Top Section Temperature</td>\n",
       "                        <td id=\"T_4bcbe218_38c3_11eb_a8d9_907841ab469arow3_col1\" class=\"data row3 col1\" >Float</td>\n",
       "                        <td id=\"T_4bcbe218_38c3_11eb_a8d9_907841ab469arow3_col2\" class=\"data row3 col2\" >°F</td>\n",
       "                        <td id=\"T_4bcbe218_38c3_11eb_a8d9_907841ab469arow3_col3\" class=\"data row3 col3\" >delmar.DELMAR_UNIT3_TI-225.PV</td>\n",
       "            </tr>\n",
       "    </tbody></table>"
      ],
      "text/plain": [
       "<pandas.io.formats.style.Styler at 0x1feeac2ccc8>"
      ]
     },
     "metadata": {},
     "output_type": "display_data"
    },
    {
     "data": {
      "text/html": [
       "<hr></hr>"
      ],
      "text/plain": [
       "<IPython.core.display.HTML object>"
      ]
     },
     "metadata": {},
     "output_type": "display_data"
    },
    {
     "data": {
      "text/markdown": [
       "**Data view ID: <span style=\"color:blue\">pilot.plant_hot-3_overhead_product</span>** (# of streams: 14)"
      ],
      "text/plain": [
       "<IPython.core.display.Markdown object>"
      ]
     },
     "metadata": {},
     "output_type": "display_data"
    },
    {
     "data": {
      "text/html": [
       "<style  type=\"text/css\" >\n",
       "</style><table id=\"T_4c13f312_38c3_11eb_a4ae_907841ab469a\" ><thead>    <tr>        <th class=\"col_heading level0 col0\" >Column_Name</th>        <th class=\"col_heading level0 col1\" >Stream_Type</th>        <th class=\"col_heading level0 col2\" >Stream_UOM</th>        <th class=\"col_heading level0 col3\" >OCS_Stream_Name</th>    </tr></thead><tbody>\n",
       "                <tr>\n",
       "                                <td id=\"T_4c13f312_38c3_11eb_a4ae_907841ab469arow0_col0\" class=\"data row0 col0\" >Bottoms Level</td>\n",
       "                        <td id=\"T_4c13f312_38c3_11eb_a4ae_907841ab469arow0_col1\" class=\"data row0 col1\" >Float</td>\n",
       "                        <td id=\"T_4c13f312_38c3_11eb_a4ae_907841ab469arow0_col2\" class=\"data row0 col2\" >%</td>\n",
       "                        <td id=\"T_4c13f312_38c3_11eb_a4ae_907841ab469arow0_col3\" class=\"data row0 col3\" >delmar.DELMAR_UNIT3_LI-210.PV</td>\n",
       "            </tr>\n",
       "            <tr>\n",
       "                                <td id=\"T_4c13f312_38c3_11eb_a4ae_907841ab469arow1_col0\" class=\"data row1 col0\" >Overhead Receiver Level Controller Mode</td>\n",
       "                        <td id=\"T_4c13f312_38c3_11eb_a4ae_907841ab469arow1_col1\" class=\"data row1 col1\" >Category</td>\n",
       "                        <td id=\"T_4c13f312_38c3_11eb_a4ae_907841ab469arow1_col2\" class=\"data row1 col2\" ></td>\n",
       "                        <td id=\"T_4c13f312_38c3_11eb_a4ae_907841ab469arow1_col3\" class=\"data row1 col3\" >delmar.DELMAR_UNIT3_LIC-240.MODE</td>\n",
       "            </tr>\n",
       "            <tr>\n",
       "                                <td id=\"T_4c13f312_38c3_11eb_a4ae_907841ab469arow2_col0\" class=\"data row2 col0\" >Overhead Receiver Level Controller Output</td>\n",
       "                        <td id=\"T_4c13f312_38c3_11eb_a4ae_907841ab469arow2_col1\" class=\"data row2 col1\" >Float</td>\n",
       "                        <td id=\"T_4c13f312_38c3_11eb_a4ae_907841ab469arow2_col2\" class=\"data row2 col2\" >%</td>\n",
       "                        <td id=\"T_4c13f312_38c3_11eb_a4ae_907841ab469arow2_col3\" class=\"data row2 col3\" >delmar.DELMAR_UNIT3_LIC-240.OUT</td>\n",
       "            </tr>\n",
       "            <tr>\n",
       "                                <td id=\"T_4c13f312_38c3_11eb_a4ae_907841ab469arow3_col0\" class=\"data row3 col0\" >Overhead Receiver Level Controller PV</td>\n",
       "                        <td id=\"T_4c13f312_38c3_11eb_a4ae_907841ab469arow3_col1\" class=\"data row3 col1\" >Float</td>\n",
       "                        <td id=\"T_4c13f312_38c3_11eb_a4ae_907841ab469arow3_col2\" class=\"data row3 col2\" >%</td>\n",
       "                        <td id=\"T_4c13f312_38c3_11eb_a4ae_907841ab469arow3_col3\" class=\"data row3 col3\" >delmar.DELMAR_UNIT3_LIC-240.PV</td>\n",
       "            </tr>\n",
       "            <tr>\n",
       "                                <td id=\"T_4c13f312_38c3_11eb_a4ae_907841ab469arow4_col0\" class=\"data row4 col0\" >Overhead Receiver Level Controller Setpoint</td>\n",
       "                        <td id=\"T_4c13f312_38c3_11eb_a4ae_907841ab469arow4_col1\" class=\"data row4 col1\" >Float</td>\n",
       "                        <td id=\"T_4c13f312_38c3_11eb_a4ae_907841ab469arow4_col2\" class=\"data row4 col2\" >%</td>\n",
       "                        <td id=\"T_4c13f312_38c3_11eb_a4ae_907841ab469arow4_col3\" class=\"data row4 col3\" >delmar.DELMAR_UNIT3_LIC-240.SP</td>\n",
       "            </tr>\n",
       "            <tr>\n",
       "                                <td id=\"T_4c13f312_38c3_11eb_a4ae_907841ab469arow5_col0\" class=\"data row5 col0\" >Overhead to Feed Flow</td>\n",
       "                        <td id=\"T_4c13f312_38c3_11eb_a4ae_907841ab469arow5_col1\" class=\"data row5 col1\" >Float</td>\n",
       "                        <td id=\"T_4c13f312_38c3_11eb_a4ae_907841ab469arow5_col2\" class=\"data row5 col2\" >GPH</td>\n",
       "                        <td id=\"T_4c13f312_38c3_11eb_a4ae_907841ab469arow5_col3\" class=\"data row5 col3\" >delmar.DELMAR_UNIT3_FI-210.PV</td>\n",
       "            </tr>\n",
       "            <tr>\n",
       "                                <td id=\"T_4c13f312_38c3_11eb_a4ae_907841ab469arow6_col0\" class=\"data row6 col0\" >Ovhd Condenser Product Temperature</td>\n",
       "                        <td id=\"T_4c13f312_38c3_11eb_a4ae_907841ab469arow6_col1\" class=\"data row6 col1\" >Float</td>\n",
       "                        <td id=\"T_4c13f312_38c3_11eb_a4ae_907841ab469arow6_col2\" class=\"data row6 col2\" >°F</td>\n",
       "                        <td id=\"T_4c13f312_38c3_11eb_a4ae_907841ab469arow6_col3\" class=\"data row6 col3\" >delmar.DELMAR_UNIT3_TI-230.PV</td>\n",
       "            </tr>\n",
       "            <tr>\n",
       "                                <td id=\"T_4c13f312_38c3_11eb_a4ae_907841ab469arow7_col0\" class=\"data row7 col0\" >Reflux to Vac Tower Flow Controller Output</td>\n",
       "                        <td id=\"T_4c13f312_38c3_11eb_a4ae_907841ab469arow7_col1\" class=\"data row7 col1\" >Float</td>\n",
       "                        <td id=\"T_4c13f312_38c3_11eb_a4ae_907841ab469arow7_col2\" class=\"data row7 col2\" >%</td>\n",
       "                        <td id=\"T_4c13f312_38c3_11eb_a4ae_907841ab469arow7_col3\" class=\"data row7 col3\" >delmar.DELMAR_UNIT3_FIC-240.OUT</td>\n",
       "            </tr>\n",
       "            <tr>\n",
       "                                <td id=\"T_4c13f312_38c3_11eb_a4ae_907841ab469arow8_col0\" class=\"data row8 col0\" >Reflux to Vac Tower Flow Controller PV</td>\n",
       "                        <td id=\"T_4c13f312_38c3_11eb_a4ae_907841ab469arow8_col1\" class=\"data row8 col1\" >Float</td>\n",
       "                        <td id=\"T_4c13f312_38c3_11eb_a4ae_907841ab469arow8_col2\" class=\"data row8 col2\" >GPH</td>\n",
       "                        <td id=\"T_4c13f312_38c3_11eb_a4ae_907841ab469arow8_col3\" class=\"data row8 col3\" >delmar.DELMAR_UNIT3_FIC-240.PV</td>\n",
       "            </tr>\n",
       "            <tr>\n",
       "                                <td id=\"T_4c13f312_38c3_11eb_a4ae_907841ab469arow9_col0\" class=\"data row9 col0\" >Reflux to Vac Tower Flow Controller Setpoint</td>\n",
       "                        <td id=\"T_4c13f312_38c3_11eb_a4ae_907841ab469arow9_col1\" class=\"data row9 col1\" >Float</td>\n",
       "                        <td id=\"T_4c13f312_38c3_11eb_a4ae_907841ab469arow9_col2\" class=\"data row9 col2\" >GPH</td>\n",
       "                        <td id=\"T_4c13f312_38c3_11eb_a4ae_907841ab469arow9_col3\" class=\"data row9 col3\" >delmar.DELMAR_UNIT3_FIC-240.SP</td>\n",
       "            </tr>\n",
       "            <tr>\n",
       "                                <td id=\"T_4c13f312_38c3_11eb_a4ae_907841ab469arow10_col0\" class=\"data row10 col0\" >Reflux to VacTower Flow Controller Mode</td>\n",
       "                        <td id=\"T_4c13f312_38c3_11eb_a4ae_907841ab469arow10_col1\" class=\"data row10 col1\" >Category</td>\n",
       "                        <td id=\"T_4c13f312_38c3_11eb_a4ae_907841ab469arow10_col2\" class=\"data row10 col2\" ></td>\n",
       "                        <td id=\"T_4c13f312_38c3_11eb_a4ae_907841ab469arow10_col3\" class=\"data row10 col3\" >delmar.DELMAR_UNIT3_FIC-240.MODE</td>\n",
       "            </tr>\n",
       "            <tr>\n",
       "                                <td id=\"T_4c13f312_38c3_11eb_a4ae_907841ab469arow11_col0\" class=\"data row11 col0\" >Tower Midsection temperature</td>\n",
       "                        <td id=\"T_4c13f312_38c3_11eb_a4ae_907841ab469arow11_col1\" class=\"data row11 col1\" >Float</td>\n",
       "                        <td id=\"T_4c13f312_38c3_11eb_a4ae_907841ab469arow11_col2\" class=\"data row11 col2\" >°F</td>\n",
       "                        <td id=\"T_4c13f312_38c3_11eb_a4ae_907841ab469arow11_col3\" class=\"data row11 col3\" >delmar.DELMAR_UNIT3_TI-215.PV</td>\n",
       "            </tr>\n",
       "            <tr>\n",
       "                                <td id=\"T_4c13f312_38c3_11eb_a4ae_907841ab469arow12_col0\" class=\"data row12 col0\" >Tower Top Bed Differential Pressure</td>\n",
       "                        <td id=\"T_4c13f312_38c3_11eb_a4ae_907841ab469arow12_col1\" class=\"data row12 col1\" >Float</td>\n",
       "                        <td id=\"T_4c13f312_38c3_11eb_a4ae_907841ab469arow12_col2\" class=\"data row12 col2\" >in H2O</td>\n",
       "                        <td id=\"T_4c13f312_38c3_11eb_a4ae_907841ab469arow12_col3\" class=\"data row12 col3\" >delmar.DELMAR_UNIT3_PDI-220.PV</td>\n",
       "            </tr>\n",
       "            <tr>\n",
       "                                <td id=\"T_4c13f312_38c3_11eb_a4ae_907841ab469arow13_col0\" class=\"data row13 col0\" >Tower Top Section Temperature</td>\n",
       "                        <td id=\"T_4c13f312_38c3_11eb_a4ae_907841ab469arow13_col1\" class=\"data row13 col1\" >Float</td>\n",
       "                        <td id=\"T_4c13f312_38c3_11eb_a4ae_907841ab469arow13_col2\" class=\"data row13 col2\" >°F</td>\n",
       "                        <td id=\"T_4c13f312_38c3_11eb_a4ae_907841ab469arow13_col3\" class=\"data row13 col3\" >delmar.DELMAR_UNIT3_TI-225.PV</td>\n",
       "            </tr>\n",
       "    </tbody></table>"
      ],
      "text/plain": [
       "<pandas.io.formats.style.Styler at 0x1feeac68e88>"
      ]
     },
     "metadata": {},
     "output_type": "display_data"
    },
    {
     "data": {
      "text/html": [
       "<hr></hr>"
      ],
      "text/plain": [
       "<IPython.core.display.HTML object>"
      ]
     },
     "metadata": {},
     "output_type": "display_data"
    },
    {
     "data": {
      "text/markdown": [
       "**Data view ID: <span style=\"color:blue\">pilot.plant_hot-3_pressure</span>** (# of streams: 5)"
      ],
      "text/plain": [
       "<IPython.core.display.Markdown object>"
      ]
     },
     "metadata": {},
     "output_type": "display_data"
    },
    {
     "data": {
      "text/html": [
       "<style  type=\"text/css\" >\n",
       "</style><table id=\"T_4c56a07a_38c3_11eb_8f43_907841ab469a\" ><thead>    <tr>        <th class=\"col_heading level0 col0\" >Column_Name</th>        <th class=\"col_heading level0 col1\" >Stream_Type</th>        <th class=\"col_heading level0 col2\" >Stream_UOM</th>        <th class=\"col_heading level0 col3\" >OCS_Stream_Name</th>    </tr></thead><tbody>\n",
       "                <tr>\n",
       "                                <td id=\"T_4c56a07a_38c3_11eb_8f43_907841ab469arow0_col0\" class=\"data row0 col0\" >Overhead Pressure</td>\n",
       "                        <td id=\"T_4c56a07a_38c3_11eb_8f43_907841ab469arow0_col1\" class=\"data row0 col1\" >Float</td>\n",
       "                        <td id=\"T_4c56a07a_38c3_11eb_8f43_907841ab469arow0_col2\" class=\"data row0 col2\" >mmHga</td>\n",
       "                        <td id=\"T_4c56a07a_38c3_11eb_8f43_907841ab469arow0_col3\" class=\"data row0 col3\" >delmar.DELMAR_UNIT3_PI-225.PV</td>\n",
       "            </tr>\n",
       "            <tr>\n",
       "                                <td id=\"T_4c56a07a_38c3_11eb_8f43_907841ab469arow1_col0\" class=\"data row1 col0\" >V-240 Receiver Vacuum Controller Mode</td>\n",
       "                        <td id=\"T_4c56a07a_38c3_11eb_8f43_907841ab469arow1_col1\" class=\"data row1 col1\" >Category</td>\n",
       "                        <td id=\"T_4c56a07a_38c3_11eb_8f43_907841ab469arow1_col2\" class=\"data row1 col2\" ></td>\n",
       "                        <td id=\"T_4c56a07a_38c3_11eb_8f43_907841ab469arow1_col3\" class=\"data row1 col3\" >delmar.DELMAR_UNIT3_PIC-250.MODE</td>\n",
       "            </tr>\n",
       "            <tr>\n",
       "                                <td id=\"T_4c56a07a_38c3_11eb_8f43_907841ab469arow2_col0\" class=\"data row2 col0\" >V-240 Receiver Vacuum Controller Output</td>\n",
       "                        <td id=\"T_4c56a07a_38c3_11eb_8f43_907841ab469arow2_col1\" class=\"data row2 col1\" >Float</td>\n",
       "                        <td id=\"T_4c56a07a_38c3_11eb_8f43_907841ab469arow2_col2\" class=\"data row2 col2\" >%</td>\n",
       "                        <td id=\"T_4c56a07a_38c3_11eb_8f43_907841ab469arow2_col3\" class=\"data row2 col3\" >delmar.DELMAR_UNIT3_PIC-250.OUT</td>\n",
       "            </tr>\n",
       "            <tr>\n",
       "                                <td id=\"T_4c56a07a_38c3_11eb_8f43_907841ab469arow3_col0\" class=\"data row3 col0\" >V-240 Receiver Vacuum Controller PV</td>\n",
       "                        <td id=\"T_4c56a07a_38c3_11eb_8f43_907841ab469arow3_col1\" class=\"data row3 col1\" >Float</td>\n",
       "                        <td id=\"T_4c56a07a_38c3_11eb_8f43_907841ab469arow3_col2\" class=\"data row3 col2\" >mmHga</td>\n",
       "                        <td id=\"T_4c56a07a_38c3_11eb_8f43_907841ab469arow3_col3\" class=\"data row3 col3\" >delmar.DELMAR_UNIT3_PIC-250.PV</td>\n",
       "            </tr>\n",
       "            <tr>\n",
       "                                <td id=\"T_4c56a07a_38c3_11eb_8f43_907841ab469arow4_col0\" class=\"data row4 col0\" >V-240 Receiver Vacuum Controller Setpoint</td>\n",
       "                        <td id=\"T_4c56a07a_38c3_11eb_8f43_907841ab469arow4_col1\" class=\"data row4 col1\" >Float</td>\n",
       "                        <td id=\"T_4c56a07a_38c3_11eb_8f43_907841ab469arow4_col2\" class=\"data row4 col2\" >mmHga</td>\n",
       "                        <td id=\"T_4c56a07a_38c3_11eb_8f43_907841ab469arow4_col3\" class=\"data row4 col3\" >delmar.DELMAR_UNIT3_PIC-250.SP</td>\n",
       "            </tr>\n",
       "    </tbody></table>"
      ],
      "text/plain": [
       "<pandas.io.formats.style.Styler at 0x1feeb0340c8>"
      ]
     },
     "metadata": {},
     "output_type": "display_data"
    },
    {
     "data": {
      "text/html": [
       "<hr></hr>"
      ],
      "text/plain": [
       "<IPython.core.display.HTML object>"
      ]
     },
     "metadata": {},
     "output_type": "display_data"
    },
    {
     "data": {
      "text/markdown": [
       "**Data view ID: <span style=\"color:blue\">pilot.plant_hot-3_t-200</span>** (# of streams: 25)"
      ],
      "text/plain": [
       "<IPython.core.display.Markdown object>"
      ]
     },
     "metadata": {},
     "output_type": "display_data"
    },
    {
     "data": {
      "text/html": [
       "<style  type=\"text/css\" >\n",
       "</style><table id=\"T_4ca07b2e_38c3_11eb_8b05_907841ab469a\" ><thead>    <tr>        <th class=\"col_heading level0 col0\" >Column_Name</th>        <th class=\"col_heading level0 col1\" >Stream_Type</th>        <th class=\"col_heading level0 col2\" >Stream_UOM</th>        <th class=\"col_heading level0 col3\" >OCS_Stream_Name</th>    </tr></thead><tbody>\n",
       "                <tr>\n",
       "                                <td id=\"T_4ca07b2e_38c3_11eb_8b05_907841ab469arow0_col0\" class=\"data row0 col0\" >Bottoms Level</td>\n",
       "                        <td id=\"T_4ca07b2e_38c3_11eb_8b05_907841ab469arow0_col1\" class=\"data row0 col1\" >Float</td>\n",
       "                        <td id=\"T_4ca07b2e_38c3_11eb_8b05_907841ab469arow0_col2\" class=\"data row0 col2\" >%</td>\n",
       "                        <td id=\"T_4ca07b2e_38c3_11eb_8b05_907841ab469arow0_col3\" class=\"data row0 col3\" >delmar.DELMAR_UNIT3_LI-210.PV</td>\n",
       "            </tr>\n",
       "            <tr>\n",
       "                                <td id=\"T_4ca07b2e_38c3_11eb_8b05_907841ab469arow1_col0\" class=\"data row1 col0\" >Bottoms Temperature</td>\n",
       "                        <td id=\"T_4ca07b2e_38c3_11eb_8b05_907841ab469arow1_col1\" class=\"data row1 col1\" >Float</td>\n",
       "                        <td id=\"T_4ca07b2e_38c3_11eb_8b05_907841ab469arow1_col2\" class=\"data row1 col2\" >°F</td>\n",
       "                        <td id=\"T_4ca07b2e_38c3_11eb_8b05_907841ab469arow1_col3\" class=\"data row1 col3\" >delmar.DELMAR_UNIT3_TI-200.PV</td>\n",
       "            </tr>\n",
       "            <tr>\n",
       "                                <td id=\"T_4ca07b2e_38c3_11eb_8b05_907841ab469arow2_col0\" class=\"data row2 col0\" >Bottoms to Feed Flow Controller Mode</td>\n",
       "                        <td id=\"T_4ca07b2e_38c3_11eb_8b05_907841ab469arow2_col1\" class=\"data row2 col1\" >Category</td>\n",
       "                        <td id=\"T_4ca07b2e_38c3_11eb_8b05_907841ab469arow2_col2\" class=\"data row2 col2\" ></td>\n",
       "                        <td id=\"T_4ca07b2e_38c3_11eb_8b05_907841ab469arow2_col3\" class=\"data row2 col3\" >delmar.DELMAR_UNIT3_FIC-200.MODE</td>\n",
       "            </tr>\n",
       "            <tr>\n",
       "                                <td id=\"T_4ca07b2e_38c3_11eb_8b05_907841ab469arow3_col0\" class=\"data row3 col0\" >Bottoms to Feed Flow Controller Output</td>\n",
       "                        <td id=\"T_4ca07b2e_38c3_11eb_8b05_907841ab469arow3_col1\" class=\"data row3 col1\" >Float</td>\n",
       "                        <td id=\"T_4ca07b2e_38c3_11eb_8b05_907841ab469arow3_col2\" class=\"data row3 col2\" >%</td>\n",
       "                        <td id=\"T_4ca07b2e_38c3_11eb_8b05_907841ab469arow3_col3\" class=\"data row3 col3\" >delmar.DELMAR_UNIT3_FIC-200.OUT</td>\n",
       "            </tr>\n",
       "            <tr>\n",
       "                                <td id=\"T_4ca07b2e_38c3_11eb_8b05_907841ab469arow4_col0\" class=\"data row4 col0\" >Bottoms to Feed Flow Controller PV</td>\n",
       "                        <td id=\"T_4ca07b2e_38c3_11eb_8b05_907841ab469arow4_col1\" class=\"data row4 col1\" >Float</td>\n",
       "                        <td id=\"T_4ca07b2e_38c3_11eb_8b05_907841ab469arow4_col2\" class=\"data row4 col2\" >GPH</td>\n",
       "                        <td id=\"T_4ca07b2e_38c3_11eb_8b05_907841ab469arow4_col3\" class=\"data row4 col3\" >delmar.DELMAR_UNIT3_FIC-200.PV</td>\n",
       "            </tr>\n",
       "            <tr>\n",
       "                                <td id=\"T_4ca07b2e_38c3_11eb_8b05_907841ab469arow5_col0\" class=\"data row5 col0\" >Bottoms to Feed Flow Controller Setpoint</td>\n",
       "                        <td id=\"T_4ca07b2e_38c3_11eb_8b05_907841ab469arow5_col1\" class=\"data row5 col1\" >Float</td>\n",
       "                        <td id=\"T_4ca07b2e_38c3_11eb_8b05_907841ab469arow5_col2\" class=\"data row5 col2\" >GPH</td>\n",
       "                        <td id=\"T_4ca07b2e_38c3_11eb_8b05_907841ab469arow5_col3\" class=\"data row5 col3\" >delmar.DELMAR_UNIT3_FIC-200.SP</td>\n",
       "            </tr>\n",
       "            <tr>\n",
       "                                <td id=\"T_4ca07b2e_38c3_11eb_8b05_907841ab469arow6_col0\" class=\"data row6 col0\" >Feed Temperature</td>\n",
       "                        <td id=\"T_4ca07b2e_38c3_11eb_8b05_907841ab469arow6_col1\" class=\"data row6 col1\" >Float</td>\n",
       "                        <td id=\"T_4ca07b2e_38c3_11eb_8b05_907841ab469arow6_col2\" class=\"data row6 col2\" >°F</td>\n",
       "                        <td id=\"T_4ca07b2e_38c3_11eb_8b05_907841ab469arow6_col3\" class=\"data row6 col3\" >delmar.DELMAR_UNIT3_TI-210.PV</td>\n",
       "            </tr>\n",
       "            <tr>\n",
       "                                <td id=\"T_4ca07b2e_38c3_11eb_8b05_907841ab469arow7_col0\" class=\"data row7 col0\" >Overhead Pressure</td>\n",
       "                        <td id=\"T_4ca07b2e_38c3_11eb_8b05_907841ab469arow7_col1\" class=\"data row7 col1\" >Float</td>\n",
       "                        <td id=\"T_4ca07b2e_38c3_11eb_8b05_907841ab469arow7_col2\" class=\"data row7 col2\" >mmHga</td>\n",
       "                        <td id=\"T_4ca07b2e_38c3_11eb_8b05_907841ab469arow7_col3\" class=\"data row7 col3\" >delmar.DELMAR_UNIT3_PI-225.PV</td>\n",
       "            </tr>\n",
       "            <tr>\n",
       "                                <td id=\"T_4ca07b2e_38c3_11eb_8b05_907841ab469arow8_col0\" class=\"data row8 col0\" >Overhead to Feed Flow</td>\n",
       "                        <td id=\"T_4ca07b2e_38c3_11eb_8b05_907841ab469arow8_col1\" class=\"data row8 col1\" >Float</td>\n",
       "                        <td id=\"T_4ca07b2e_38c3_11eb_8b05_907841ab469arow8_col2\" class=\"data row8 col2\" >GPH</td>\n",
       "                        <td id=\"T_4ca07b2e_38c3_11eb_8b05_907841ab469arow8_col3\" class=\"data row8 col3\" >delmar.DELMAR_UNIT3_FI-210.PV</td>\n",
       "            </tr>\n",
       "            <tr>\n",
       "                                <td id=\"T_4ca07b2e_38c3_11eb_8b05_907841ab469arow9_col0\" class=\"data row9 col0\" >Reboiler Outlet Temperature Controller Mode</td>\n",
       "                        <td id=\"T_4ca07b2e_38c3_11eb_8b05_907841ab469arow9_col1\" class=\"data row9 col1\" >Category</td>\n",
       "                        <td id=\"T_4ca07b2e_38c3_11eb_8b05_907841ab469arow9_col2\" class=\"data row9 col2\" ></td>\n",
       "                        <td id=\"T_4ca07b2e_38c3_11eb_8b05_907841ab469arow9_col3\" class=\"data row9 col3\" >delmar.DELMAR_UNIT3_TIC-205.MODE</td>\n",
       "            </tr>\n",
       "            <tr>\n",
       "                                <td id=\"T_4ca07b2e_38c3_11eb_8b05_907841ab469arow10_col0\" class=\"data row10 col0\" >Reboiler Outlet Temperature Controller Output</td>\n",
       "                        <td id=\"T_4ca07b2e_38c3_11eb_8b05_907841ab469arow10_col1\" class=\"data row10 col1\" >Float</td>\n",
       "                        <td id=\"T_4ca07b2e_38c3_11eb_8b05_907841ab469arow10_col2\" class=\"data row10 col2\" >%</td>\n",
       "                        <td id=\"T_4ca07b2e_38c3_11eb_8b05_907841ab469arow10_col3\" class=\"data row10 col3\" >delmar.DELMAR_UNIT3_TIC-205.OUT</td>\n",
       "            </tr>\n",
       "            <tr>\n",
       "                                <td id=\"T_4ca07b2e_38c3_11eb_8b05_907841ab469arow11_col0\" class=\"data row11 col0\" >Reboiler Outlet Temperature Controller PV</td>\n",
       "                        <td id=\"T_4ca07b2e_38c3_11eb_8b05_907841ab469arow11_col1\" class=\"data row11 col1\" >Float</td>\n",
       "                        <td id=\"T_4ca07b2e_38c3_11eb_8b05_907841ab469arow11_col2\" class=\"data row11 col2\" >°F</td>\n",
       "                        <td id=\"T_4ca07b2e_38c3_11eb_8b05_907841ab469arow11_col3\" class=\"data row11 col3\" >delmar.DELMAR_UNIT3_TIC-205.PV</td>\n",
       "            </tr>\n",
       "            <tr>\n",
       "                                <td id=\"T_4ca07b2e_38c3_11eb_8b05_907841ab469arow12_col0\" class=\"data row12 col0\" >Reboiler Outlet Temperature Controller Setpoint</td>\n",
       "                        <td id=\"T_4ca07b2e_38c3_11eb_8b05_907841ab469arow12_col1\" class=\"data row12 col1\" >Float</td>\n",
       "                        <td id=\"T_4ca07b2e_38c3_11eb_8b05_907841ab469arow12_col2\" class=\"data row12 col2\" >°F</td>\n",
       "                        <td id=\"T_4ca07b2e_38c3_11eb_8b05_907841ab469arow12_col3\" class=\"data row12 col3\" >delmar.DELMAR_UNIT3_TIC-205.SP</td>\n",
       "            </tr>\n",
       "            <tr>\n",
       "                                <td id=\"T_4ca07b2e_38c3_11eb_8b05_907841ab469arow13_col0\" class=\"data row13 col0\" >Reflux to Vac Tower Flow Controller Output</td>\n",
       "                        <td id=\"T_4ca07b2e_38c3_11eb_8b05_907841ab469arow13_col1\" class=\"data row13 col1\" >Float</td>\n",
       "                        <td id=\"T_4ca07b2e_38c3_11eb_8b05_907841ab469arow13_col2\" class=\"data row13 col2\" >%</td>\n",
       "                        <td id=\"T_4ca07b2e_38c3_11eb_8b05_907841ab469arow13_col3\" class=\"data row13 col3\" >delmar.DELMAR_UNIT3_FIC-240.OUT</td>\n",
       "            </tr>\n",
       "            <tr>\n",
       "                                <td id=\"T_4ca07b2e_38c3_11eb_8b05_907841ab469arow14_col0\" class=\"data row14 col0\" >Reflux to Vac Tower Flow Controller PV</td>\n",
       "                        <td id=\"T_4ca07b2e_38c3_11eb_8b05_907841ab469arow14_col1\" class=\"data row14 col1\" >Float</td>\n",
       "                        <td id=\"T_4ca07b2e_38c3_11eb_8b05_907841ab469arow14_col2\" class=\"data row14 col2\" >GPH</td>\n",
       "                        <td id=\"T_4ca07b2e_38c3_11eb_8b05_907841ab469arow14_col3\" class=\"data row14 col3\" >delmar.DELMAR_UNIT3_FIC-240.PV</td>\n",
       "            </tr>\n",
       "            <tr>\n",
       "                                <td id=\"T_4ca07b2e_38c3_11eb_8b05_907841ab469arow15_col0\" class=\"data row15 col0\" >Reflux to Vac Tower Flow Controller Setpoint</td>\n",
       "                        <td id=\"T_4ca07b2e_38c3_11eb_8b05_907841ab469arow15_col1\" class=\"data row15 col1\" >Float</td>\n",
       "                        <td id=\"T_4ca07b2e_38c3_11eb_8b05_907841ab469arow15_col2\" class=\"data row15 col2\" >GPH</td>\n",
       "                        <td id=\"T_4ca07b2e_38c3_11eb_8b05_907841ab469arow15_col3\" class=\"data row15 col3\" >delmar.DELMAR_UNIT3_FIC-240.SP</td>\n",
       "            </tr>\n",
       "            <tr>\n",
       "                                <td id=\"T_4ca07b2e_38c3_11eb_8b05_907841ab469arow16_col0\" class=\"data row16 col0\" >Reflux to VacTower Flow Controller Mode</td>\n",
       "                        <td id=\"T_4ca07b2e_38c3_11eb_8b05_907841ab469arow16_col1\" class=\"data row16 col1\" >Category</td>\n",
       "                        <td id=\"T_4ca07b2e_38c3_11eb_8b05_907841ab469arow16_col2\" class=\"data row16 col2\" ></td>\n",
       "                        <td id=\"T_4ca07b2e_38c3_11eb_8b05_907841ab469arow16_col3\" class=\"data row16 col3\" >delmar.DELMAR_UNIT3_FIC-240.MODE</td>\n",
       "            </tr>\n",
       "            <tr>\n",
       "                                <td id=\"T_4ca07b2e_38c3_11eb_8b05_907841ab469arow17_col0\" class=\"data row17 col0\" >Steam to Reboiler Flow Controller Mode</td>\n",
       "                        <td id=\"T_4ca07b2e_38c3_11eb_8b05_907841ab469arow17_col1\" class=\"data row17 col1\" >Category</td>\n",
       "                        <td id=\"T_4ca07b2e_38c3_11eb_8b05_907841ab469arow17_col2\" class=\"data row17 col2\" ></td>\n",
       "                        <td id=\"T_4ca07b2e_38c3_11eb_8b05_907841ab469arow17_col3\" class=\"data row17 col3\" >delmar.DELMAR_UNIT3_FIC-275.MODE</td>\n",
       "            </tr>\n",
       "            <tr>\n",
       "                                <td id=\"T_4ca07b2e_38c3_11eb_8b05_907841ab469arow18_col0\" class=\"data row18 col0\" >Steam to Reboiler Flow Controller Output</td>\n",
       "                        <td id=\"T_4ca07b2e_38c3_11eb_8b05_907841ab469arow18_col1\" class=\"data row18 col1\" >Float</td>\n",
       "                        <td id=\"T_4ca07b2e_38c3_11eb_8b05_907841ab469arow18_col2\" class=\"data row18 col2\" >%</td>\n",
       "                        <td id=\"T_4ca07b2e_38c3_11eb_8b05_907841ab469arow18_col3\" class=\"data row18 col3\" >delmar.DELMAR_UNIT3_FIC-275.OUT</td>\n",
       "            </tr>\n",
       "            <tr>\n",
       "                                <td id=\"T_4ca07b2e_38c3_11eb_8b05_907841ab469arow19_col0\" class=\"data row19 col0\" >Steam to Reboiler Flow Controller PV</td>\n",
       "                        <td id=\"T_4ca07b2e_38c3_11eb_8b05_907841ab469arow19_col1\" class=\"data row19 col1\" >Float</td>\n",
       "                        <td id=\"T_4ca07b2e_38c3_11eb_8b05_907841ab469arow19_col2\" class=\"data row19 col2\" >LB/HR</td>\n",
       "                        <td id=\"T_4ca07b2e_38c3_11eb_8b05_907841ab469arow19_col3\" class=\"data row19 col3\" >delmar.DELMAR_UNIT3_FIC-275.PV</td>\n",
       "            </tr>\n",
       "            <tr>\n",
       "                                <td id=\"T_4ca07b2e_38c3_11eb_8b05_907841ab469arow20_col0\" class=\"data row20 col0\" >Steam to Reboiler Flow Controller Setpoint</td>\n",
       "                        <td id=\"T_4ca07b2e_38c3_11eb_8b05_907841ab469arow20_col1\" class=\"data row20 col1\" >Float</td>\n",
       "                        <td id=\"T_4ca07b2e_38c3_11eb_8b05_907841ab469arow20_col2\" class=\"data row20 col2\" >LB/HR</td>\n",
       "                        <td id=\"T_4ca07b2e_38c3_11eb_8b05_907841ab469arow20_col3\" class=\"data row20 col3\" >delmar.DELMAR_UNIT3_FIC-275.SP</td>\n",
       "            </tr>\n",
       "            <tr>\n",
       "                                <td id=\"T_4ca07b2e_38c3_11eb_8b05_907841ab469arow21_col0\" class=\"data row21 col0\" >Tower Midsection temperature</td>\n",
       "                        <td id=\"T_4ca07b2e_38c3_11eb_8b05_907841ab469arow21_col1\" class=\"data row21 col1\" >Float</td>\n",
       "                        <td id=\"T_4ca07b2e_38c3_11eb_8b05_907841ab469arow21_col2\" class=\"data row21 col2\" >°F</td>\n",
       "                        <td id=\"T_4ca07b2e_38c3_11eb_8b05_907841ab469arow21_col3\" class=\"data row21 col3\" >delmar.DELMAR_UNIT3_TI-215.PV</td>\n",
       "            </tr>\n",
       "            <tr>\n",
       "                                <td id=\"T_4ca07b2e_38c3_11eb_8b05_907841ab469arow22_col0\" class=\"data row22 col0\" >Tower Top Bed Differential Pressure</td>\n",
       "                        <td id=\"T_4ca07b2e_38c3_11eb_8b05_907841ab469arow22_col1\" class=\"data row22 col1\" >Float</td>\n",
       "                        <td id=\"T_4ca07b2e_38c3_11eb_8b05_907841ab469arow22_col2\" class=\"data row22 col2\" >in H2O</td>\n",
       "                        <td id=\"T_4ca07b2e_38c3_11eb_8b05_907841ab469arow22_col3\" class=\"data row22 col3\" >delmar.DELMAR_UNIT3_PDI-220.PV</td>\n",
       "            </tr>\n",
       "            <tr>\n",
       "                                <td id=\"T_4ca07b2e_38c3_11eb_8b05_907841ab469arow23_col0\" class=\"data row23 col0\" >Tower Top Section Temperature</td>\n",
       "                        <td id=\"T_4ca07b2e_38c3_11eb_8b05_907841ab469arow23_col1\" class=\"data row23 col1\" >Float</td>\n",
       "                        <td id=\"T_4ca07b2e_38c3_11eb_8b05_907841ab469arow23_col2\" class=\"data row23 col2\" >°F</td>\n",
       "                        <td id=\"T_4ca07b2e_38c3_11eb_8b05_907841ab469arow23_col3\" class=\"data row23 col3\" >delmar.DELMAR_UNIT3_TI-225.PV</td>\n",
       "            </tr>\n",
       "            <tr>\n",
       "                                <td id=\"T_4ca07b2e_38c3_11eb_8b05_907841ab469arow24_col0\" class=\"data row24 col0\" >Unit 3 Common Trouble Alarm</td>\n",
       "                        <td id=\"T_4ca07b2e_38c3_11eb_8b05_907841ab469arow24_col1\" class=\"data row24 col1\" >Category</td>\n",
       "                        <td id=\"T_4ca07b2e_38c3_11eb_8b05_907841ab469arow24_col2\" class=\"data row24 col2\" ></td>\n",
       "                        <td id=\"T_4ca07b2e_38c3_11eb_8b05_907841ab469arow24_col3\" class=\"data row24 col3\" >delmar.DELMAR_UNIT3_XA-200</td>\n",
       "            </tr>\n",
       "    </tbody></table>"
      ],
      "text/plain": [
       "<pandas.io.formats.style.Styler at 0x1feeac75188>"
      ]
     },
     "metadata": {},
     "output_type": "display_data"
    }
   ],
   "source": [
    "for dv_id in dataviews_hot_1 + dataviews_hot_3:\n",
    "    dv_df = hub.dataview_definition(namespace_id, dv_id)[dataview_info]\n",
    "    display(HTML(\"<hr></hr>\"))\n",
    "    display(\n",
    "        Markdown(\n",
    "            f'**Data view ID: <span style=\"color:blue\">{dv_id}</span>** (# of streams: {len(dv_df.index)})'\n",
    "        )\n",
    "    )\n",
    "    display_df(dv_df)"
   ]
  },
  {
   "cell_type": "markdown",
   "metadata": {
    "scrolled": true
   },
   "source": [
    "## Multi-asset data views\n",
    "\n",
    "No multi-asset data view for this data set. "
   ]
  },
  {
   "cell_type": "markdown",
   "metadata": {},
   "source": [
    "For more information on how to request interpolated data with a data view, please consult [this notebook](./Hub_Library_Quickstart.ipynb)"
   ]
  },
  {
   "cell_type": "markdown",
   "metadata": {},
   "source": [
    "## Asset Metadata\n",
    "\n",
    "Right now only the heat area exchange for E-101 of asset `HOT-1`"
   ]
  },
  {
   "cell_type": "code",
   "execution_count": 7,
   "metadata": {
    "scrolled": true
   },
   "outputs": [
    {
     "data": {
      "text/html": [
       "<style  type=\"text/css\" >\n",
       "</style><table id=\"T_983f8858_38c6_11eb_b53a_907841ab469a\" ><thead>    <tr>        <th class=\"col_heading level0 col0\" >E-102.Heat Exchange Area</th>        <th class=\"col_heading level0 col1\" >Asset_Id</th>    </tr></thead><tbody>\n",
       "                <tr>\n",
       "                                <td id=\"T_983f8858_38c6_11eb_b53a_907841ab469arow0_col0\" class=\"data row0 col0\" >23.000000</td>\n",
       "                        <td id=\"T_983f8858_38c6_11eb_b53a_907841ab469arow0_col1\" class=\"data row0 col1\" >HOT-1</td>\n",
       "            </tr>\n",
       "    </tbody></table>"
      ],
      "text/plain": [
       "<pandas.io.formats.style.Styler at 0x1feeac23a88>"
      ]
     },
     "metadata": {},
     "output_type": "display_data"
    }
   ],
   "source": [
    "display_df(hub.all_assets_metadata().dropna())"
   ]
  },
  {
   "cell_type": "code",
   "execution_count": null,
   "metadata": {},
   "outputs": [],
   "source": []
  }
 ],
 "metadata": {
  "kernelspec": {
   "display_name": "Python 3",
   "language": "python",
   "name": "python3"
  },
  "language_info": {
   "codemirror_mode": {
    "name": "ipython",
    "version": 3
   },
   "file_extension": ".py",
   "mimetype": "text/x-python",
   "name": "python",
   "nbconvert_exporter": "python",
   "pygments_lexer": "ipython3",
   "version": "3.7.9"
  },
  "toc": {
   "base_numbering": 1,
   "nav_menu": {},
   "number_sections": false,
   "sideBar": true,
   "skip_h1_title": false,
   "title_cell": "Table of Contents",
   "title_sidebar": "Contents",
   "toc_cell": false,
   "toc_position": {},
   "toc_section_display": true,
   "toc_window_display": true
  }
 },
 "nbformat": 4,
 "nbformat_minor": 4
}
