{
 "cells": [
  {
   "cell_type": "markdown",
   "metadata": {},
   "source": [
    "# Glycol Pilot Plant Dataset Document"
   ]
  },
  {
   "cell_type": "markdown",
   "metadata": {},
   "source": [
    "\n",
    "## Overview of the Pilot Plant Dataset Document\n",
    "\n",
    "__[Part 1](#section_1). Description of Del Mar College Glycol Plant Dataset Document__\n",
    "\n",
    "Describes the OSIsoft Academic Hub ([Part 1](#section_1)), Del Mar College Glycol Pilot Plant dataset, the time frame in which the dataset was compiled, data quality information ([Part 1a](#section_1a)), and the Glycol Pilot Plant process ([Part 1b](#section_1b)).\n",
    "\n",
    "__[Part 2](#section_2). The Del Mar College Pilot Plant Challenges__\n",
    "\n",
    "What Del Mar College teaches future operators with the pilot plant. \n",
    "\n",
    "__[Part 3](#section_3). Stream Data__\n",
    "\n",
    "Explains the process parameters and other monitored variables collected during glycol manufacturing process.\n",
    "\n",
    "__[Part 4](#section_4). Data Quality__\n",
    "\n",
    "Faced with real-world data, students are expected to work with \"dirty\" data: data which contains error and gaps. This section also describes various ways poor quality data arises.\n",
    "\n",
    "__[Part 5](#section_5). Assets, Data Views and Metadata__\n",
    "\n",
    "Academic Hub Datasets are organized around a set of assets, with each of the assets having at least a one default data view. A data view is an OCS feature to extract interpolated data from multiple related streams, in a tabular form ready for data-driven applications or any data analysis tool. Specialized data views (subsets of the default data views) can also be defined, as is the case for this dataset.   "
   ]
  },
  {
   "cell_type": "markdown",
   "metadata": {},
   "source": [
    "# Part 1. Description of Pilot Plan Dataset (Del Mar College)\n",
    "---\n",
    "<a id=\"section_1\"></a>\n",
    "\n",
    "    \n",
    "Del Mar College is a workforce development college located in Corpus Christi, Texas. Due to the significant increases in South Texas oil and gas production, Corpus Christi has experienced a boom in transporting energy, crude refining, and liquifying natural gas so that it can be exported by sea. As a result, Corpus Christi is becoming one of the largest exporters of energy. This boom requires an influx of skilled plant operations people and technicians. Adding to this shortage is the retirement of many baby-boom generation operations people who possess a high-level of operations and production knowledge about their facilities, which is not easily transferrable. As a result, industry is trying to fill numerous positions with qualified candidates and is funding Del Mar College to help meet those needs. These companies also send their operations people to Del Mar College for ongoing training to keep their knowledge current.\n",
    "\n",
    "To help provide qualified operations candidates for these positions, Del Mar College has developed curriculum focusing on real-world, hands-on experience using a glycol pilot plant located on campus. Students learn and gain an understanding in areas such as:\n",
    "\n",
    "* Equipment startup, shutdown, and normal operations\n",
    "* Plant equipment maintenance\n",
    "* Plant safety issues\n",
    "* Analyzing data to troubleshoot plant issues that arise\n",
    "\n",
    "\n",
    "The pilot plant consists of two units:\n",
    "\n",
    "* Hands On Training Unit no.1 (HOT-1), which is comprised of tanks, pumps, and feed units in order to circulate water from the feed tank through product tanks and back to the feed tank.\n",
    "* Hands On Training Unit no.3 (HOT-3), which comprises the distillation column unit; a continuous vacuum distillation process that separates a mixture of glycol and water. The students learn the fundamentals of distillation column operations.\n",
    "\n",
    "NOTE – At the present time (December 2020), the HOT-1 and the HOT-3 units operate independently. There are plans to run them together in series at a future date, but this data reflects them running standalone from each other.  \n",
    "\n",
    "In 2020, Del Mar College graciously agreed to provide OSIsoft the PI System data collected from their glycol pilot plant for publication on the OSIsoft Academic Hub. This hub is a cloud-based platform that supports data analytics in the university curriculum by providing a data infrastructure to host, aggregate, and analyze data. Students are exposed to real-world industrial data which illustrates some of the same engineering concepts being taught in classrooms and labs.\n",
    "\n",
    "In November 2020, OSIsoft gained access to Del Mar's 76 data points through  [PI Cloud Connect](https://www.osisoft.com/pi-system/pi-cloud). The Hub dataset begins October 13, 2020 and is kept current, although there may be gaps in the data when Del Mar shuts down the pilot plant due to inactivity or maintenance, or if there are communication) lapses for some reason.\n",
    "\n",
    "This document describes the Del Mar College Glycol Pilot Plant dataset, the time frame in which the dataset was compiled, the data variables that comprise this dataset, the Asset Framework metadata model which describes the hierarchical structure of the pilot plant data, and data quality [Part 1a](#section_1a)."
   ]
  },
  {
   "cell_type": "markdown",
   "metadata": {},
   "source": [
    "### 1a. Assets HOT-1 and HOT-3\n",
    "<a id=\"section_1a\"></a>\n",
    "\n",
    "#### HOT-1 Unit Description\n",
    "\n",
    "This unit is used to pump water and other materials from one tank another tank. \n",
    "There are 3 tanks in the HOT-1 unit: feed tank T-101, a 300-gallon tank, product tank T-102, \n",
    "a 300-gallon product tank, and feed water tank T-103, a 20-gallon chemical tank. Del Mar College adds\n",
    "energy on one side and removes it on the other. They teach their students energy in, energy out and chemical injection. At some point in the near future, the feed and product tanks will connect to the HOT3 distillation tower. \n",
    "\n",
    "\n",
    "#### HOT-3 Unit Description\n",
    "\n",
    "This unit is a distillation column that distills H20 from ethylene glycol under approximately 100 mm of vacuum, with 0 being a perfect vacuum. The unit boils/distills off the water at approximately 120-125 degrees. Del Mar College teaches this unit in 5 systems or components:  bottoms, overhead, energy in, energy out and the overhead pressure system. \n",
    "Both the HOT-1 and HOT-3 units are presently stand-alone, with plans to join them in the future. Currently the feed and product tanks are located in the tower itself which lends itself to some confusion with our students (needed).\n",
    "\n",
    "The assets HOT-1 and HOT-3 are combinations of different components. The tables below provide a summary of those components and a short description. In requesting interpolated data from this dataset, it is possible to get all data for an asset or only get a subset related to a component.  \n",
    "\n",
    "\n",
    "#### Hands-On-Training Unit #1 (HOT-1)\n",
    "\n",
    "| Component | Description | Detail | \n",
    "|:---------:|:-----------:|:-------|\n",
    "| **E-101** | **Air cooler**  | Cools the product water from E-102\n",
    "| **E-102** | **Shell and tube heat exchanger** | Heats the unit feed water before entering product tank T-102 | \n",
    "| **HTR-101** | **Heater** |  Heats product water from T-102 | \n",
    "| **TK-101** | **Cold side storage tank** | Capacity of 300-gallon | \n",
    "| **TK-102** | **Hot side product tank** | Capacity of 300-gallon  | \n",
    "| **TK-103** | **Feed water tank** | Capacity of 20-gallon | \n",
    "\n",
    "\n",
    "#### Hands-On-Training Unit #1 (HOT-3)\n",
    "\n",
    "\n",
    "| Component | Description | \n",
    "|:---------:|:-----------:|\n",
    "| **Bottom Products** |   |\n",
    "| **Energy In** | **Reboiler system for HOT-3** |\n",
    "| **Energy Out** | **Condenser System for HOT-3** |\n",
    "| **Overhead Product** |  |\n",
    "| **Pressure** |  |\n",
    "| **T-200** | **Distillation Column** |\n"
   ]
  },
  {
   "cell_type": "markdown",
   "metadata": {},
   "source": [
    "### 1b. Glycol Pilot Plant Modes, Run Statuses, and Alarms \n",
    "<a id=\"section_1b\"></a>\n",
    "\n",
    "To identify what was going at a given time at the pilot plant, a few select digital state data streams are important. Unlike data streams with float values, the values of digital state data streams comes from a discrete set of strings, each string having a unique integer code within the set. Each digital state stream is associated with a digital state set, and one digital state set may be used by multiple data streams. The most basic example of a digital state set is Off/On, where 0 = Off and 1 = On.\n",
    "\n",
    "We list here the digital state set shared by all mode streams, run status streams, and alarms streams respectively:\n",
    "\n",
    "**Digital State Set: delmar.ControllerMode**\n",
    "\n",
    "| Digital State Name | Code |\n",
    "|:------------------:|:----:|\n",
    "| Init. Manual       | 2 | \n",
    "| Manual             | 8 | \n",
    "| Auto | 16 | \n",
    "| Cascade | 32 | \n",
    "\n",
    "\n",
    "**Digital State Set: delmar.RunStatus**\n",
    "\n",
    "| Digital State Name | Code |\n",
    "|:------------------:|:----:|\n",
    "| Not Running       | 0 | \n",
    "| Running           | 1 | \n",
    " \n",
    "**Digital State Set: delmar.AlarmStatus**\n",
    "\n",
    "| Digital State Name | Code |\n",
    "|:------------------:|:----:|\n",
    "| Normal | 0 |\n",
    "| Alarm  | 1 | \n",
    " \n",
    "In [Section 5](#section_5), all column names having \"Mode\" in them and Category as the Stream_Type have values from the **delmar.ControllerMode** table. All column names having \"Run Status\" as a substring and Category as the Stream_Type have value from the **delmar.RunStatus**, and similarly \"Alarm\" in the column name indicates values from the **delmar.AlarmStatus** set. \n",
    "\n",
    "<div class=\"alert alert-block alert-warning\">\n",
    "<b>To learn how to identify activity periods in the dataset, consult the associated <a href=\"https://data.academic.osisoft.com/nbviewer/github/academic-hub/datasets/blob/master/Pilot_Plant_Dataset_Quickstart.ipynb#Find-all-Run-Status-columns\">Del Mar College Pilot Plant Quick Start notebook</a></b>. \n",
    "</div>"
   ]
  },
  {
   "cell_type": "markdown",
   "metadata": {},
   "source": [
    "# Part 2. Glycol Pilot Plant Challenges\n",
    "---\n",
    "<a id=\"section_2\"></a>\n",
    "\n",
    "The key initiatives for using the PI System are:\n",
    "\n",
    "1.  To teach students plant operations as they would occur in industry,\n",
    "    so that they understand what they will encounter when they are\n",
    "    employed in industry.\n",
    "\n",
    "2.  To make sure the students understand how the plant operates and when\n",
    "    it is operating correctly and safely.\n",
    "\n",
    "3.  To have the students analyze when there are anomalies in plant\n",
    "    operations, why they occurred, and what the remedy is."
   ]
  },
  {
   "cell_type": "markdown",
   "metadata": {},
   "source": [
    "# Part 3. Stream Data\n",
    "---\n",
    "<a id=\"section_3\"></a>\n",
    "\n",
    "    \n",
    "The data was collected from the Del Mar College on-campus glycol pilot plant.  The plant is operated by an Emerson DeltaV control system.  The PI System retrieved the data values from the DeltaV control system using a standard PI System software interface, which collects the data on a specified time interval or when the data changes.  This is a configurable option for each PI data point.\n"
   ]
  },
  {
   "cell_type": "markdown",
   "metadata": {},
   "source": [
    "# Part 4. Data Quality\n",
    "---\n",
    "<a id=\"section_4\"></a>\n",
    "\n",
    "\n",
    "Faced with real-world data, students are expected to work with \"dirty\" data: data which contains error and gaps. \n",
    "\n",
    "<div class=\"alert alert-block alert-warning\">\n",
    "There also may be unexpected moves in the data values that are unexplained.  This may be due to Del Mar College instructors modifying the physical environment to show students anomalies. Del Mar College did not do this on a scheduled basis or as part of their scheduled lesson plan.  It was done on an ad-hoc basis during student learning.\n",
    "</div>"
   ]
  },
  {
   "cell_type": "markdown",
   "metadata": {},
   "source": [
    "# Part 5. Assets, Data Views, and Metadata\n",
    "---\n",
    "<a id=\"section_5\"></a>"
   ]
  },
  {
   "cell_type": "markdown",
   "metadata": {},
   "source": [
    "Academic Hub datasets are structured around assets. Here assets are pieces of equipment found in a Glycol Plant: many feed, product and chemical tanks, heat exchangers, and other related equipment. Each asset has an Asset Identifier (Asset Id) and a description. This information is available through the Hub Python library (`ocs_academic_hub`) and is returned as Pandas dataframe.\n",
    "\n",
    "Each asset is endowed with a default data view, i.e. a structure which maps all the data streams associated to the asset onto a column in a Pandas dataframe. Each data view has a Data view Id and exists within an OCS namespace, i.e. a named partition with its own Namespace ID. To request data for an asset, the following information should be provided:\n",
    "\n",
    "* Namespace Id\n",
    "* Data view Id\n",
    "* Start index (timestamp)\n",
    "* End index (timestamp). \n",
    "* Interpolation interval\n",
    "\n",
    "Reference for the start/end index and interpolation interval can be found at https://ocs-docs.osisoft.com/Content_Portal/Documentation/DataViews/GetDataViewData/Quick_Start_Get_Data_View_Data.html#index. \n",
    "\n",
    "For specific use-cases it is possible to define specialized dataviews having only a subset of the default data view columns. Specialized data views avoid unnecessarily large extraneous data retrieval requests and reduce the time to get results back, especially with large tables with thousands of rows. Most data views are for a single asset, but it is possible to define a data view spanning multiple assets. This avoids requesting multiple single-asset data views and stitching the result into a single Pandas dataframe for analysis.\n",
    "\n",
    "Asset metadata is static information about the asset, e.g. the equipment manufacturer, installation date, etc. \n",
    "\n",
    "**NOTE: this dataset has no multi-asset data views.** "
   ]
  },
  {
   "cell_type": "code",
   "execution_count": 1,
   "metadata": {
    "scrolled": true
   },
   "outputs": [
    {
     "name": "stdout",
     "output_type": "stream",
     "text": [
      "Step 1: Get OAuth endpoint configuration...\n",
      "Step 2: Set up server to process authorization response...\n",
      "Step 3: Authorize the user...\n",
      "Step 4: Set server to handle one request...\n"
     ]
    },
    {
     "name": "stderr",
     "output_type": "stream",
     "text": [
      "127.0.0.1 - - [31/Mar/2021 13:41:17] \"GET /callback.html?code=B909FB201E63AC6B3CC5379FAD11F2248B4BF2A684A384F0A08D4408163E8DAA&scope=openid%20ocsapi&session_state=Bw4Z0_ntE7wUt9_G-lYisj-jhBrT3UmZi_bGuoq__M0.5C4000899A55E6DDFDE09FBE908B0C9C HTTP/1.1\" 200 -\n"
     ]
    },
    {
     "name": "stdout",
     "output_type": "stream",
     "text": [
      "Step 5: Get a token using the authorization code...\n",
      "Step 6: Access token read ok\n",
      "Complete!\n",
      "@ Hub data file: hub_datasets.json\n",
      "@ Hub data file: hub_datasets.json\n",
      "@ Current dataset: Brewery\n",
      "\n",
      " >>> Active dataset is Pilot_Plant within namespace ID hub_lab_data\n"
     ]
    }
   ],
   "source": [
    "# -------------------------------\n",
    "# Code preamble for next sections\n",
    "# -------------------------------\n",
    "from ocs_academic_hub import HubClient\n",
    "from IPython.display import display, Markdown, HTML\n",
    "\n",
    "dataset = \"Pilot_Plant\"\n",
    "hub = HubClient()\n",
    "hub.refresh_datasets()\n",
    "hub.set_dataset(dataset)\n",
    "namespace_id = hub.namespace_of(dataset)\n",
    "\n",
    "\n",
    "def display_df(df):\n",
    "    return display(df.style.hide_index())\n",
    "\n",
    "print(f\"\\n >>> Active dataset is {dataset} within namespace ID {namespace_id}\")"
   ]
  },
  {
   "cell_type": "markdown",
   "metadata": {},
   "source": [
    "## Glycol Pilot Plant Assets \n",
    "\n",
    "This method returns a Pandas dataframe with `Asset_Id` as the first column and short asset description in the second column. "
   ]
  },
  {
   "cell_type": "code",
   "execution_count": 2,
   "metadata": {
    "scrolled": true
   },
   "outputs": [
    {
     "data": {
      "text/html": [
       "<style  type=\"text/css\" >\n",
       "</style><table id=\"T_4cd34226_9248_11eb_a1cc_907841ab469e\" ><thead>    <tr>        <th class=\"col_heading level0 col0\" >Asset_Id</th>        <th class=\"col_heading level0 col1\" >Description</th>    </tr></thead><tbody>\n",
       "                <tr>\n",
       "                                <td id=\"T_4cd34226_9248_11eb_a1cc_907841ab469erow0_col0\" class=\"data row0 col0\" >HOT-1</td>\n",
       "                        <td id=\"T_4cd34226_9248_11eb_a1cc_907841ab469erow0_col1\" class=\"data row0 col1\" >HOT-1 unit</td>\n",
       "            </tr>\n",
       "            <tr>\n",
       "                                <td id=\"T_4cd34226_9248_11eb_a1cc_907841ab469erow1_col0\" class=\"data row1 col0\" >HOT-3</td>\n",
       "                        <td id=\"T_4cd34226_9248_11eb_a1cc_907841ab469erow1_col1\" class=\"data row1 col1\" >HOT-3 unit</td>\n",
       "            </tr>\n",
       "    </tbody></table>"
      ],
      "text/plain": [
       "<pandas.io.formats.style.Styler at 0x2007f2d4348>"
      ]
     },
     "metadata": {},
     "output_type": "display_data"
    }
   ],
   "source": [
    "display_df(hub.assets())"
   ]
  },
  {
   "cell_type": "markdown",
   "metadata": {},
   "source": [
    "## Available Data Views\n",
    "\n",
    "All assets have at least a default data view with ID of the following format: `pilot.plant_<asset_id>` where `<asset_id>` is the Asset Id as seen above but all lowercase. \n",
    "\n",
    "In this dataset, assets `HOT-1` and `HOT-3` have each a default data view plus more specific data views, one for each component associated to the asset. The name convention for those data views is `pilot.plant_<asset_id>_<component>` in all lowercase. \n",
    "\n",
    "The data views for `HOT-1` are (first one is default):"
   ]
  },
  {
   "cell_type": "code",
   "execution_count": 3,
   "metadata": {
    "scrolled": true
   },
   "outputs": [
    {
     "data": {
      "text/plain": [
       "['pilot.plant_hot-1',\n",
       " 'pilot.plant_hot-1_e-101',\n",
       " 'pilot.plant_hot-1_e-102',\n",
       " 'pilot.plant_hot-1_htr-101',\n",
       " 'pilot.plant_hot-1_tk-101',\n",
       " 'pilot.plant_hot-1_tk-102',\n",
       " 'pilot.plant_hot-1_tk-103']"
      ]
     },
     "execution_count": 3,
     "metadata": {},
     "output_type": "execute_result"
    }
   ],
   "source": [
    "dataviews_hot_1 = hub.asset_dataviews(\"HOT-1\")\n",
    "dataviews_hot_1"
   ]
  },
  {
   "cell_type": "markdown",
   "metadata": {},
   "source": [
    "The data views for HOT-3 are (first one is default):"
   ]
  },
  {
   "cell_type": "code",
   "execution_count": 4,
   "metadata": {
    "scrolled": true
   },
   "outputs": [
    {
     "data": {
      "text/plain": [
       "['pilot.plant_hot-3',\n",
       " 'pilot.plant_hot-3_bottoms_product',\n",
       " 'pilot.plant_hot-3_energy_in',\n",
       " 'pilot.plant_hot-3_energy_out',\n",
       " 'pilot.plant_hot-3_overhead_product',\n",
       " 'pilot.plant_hot-3_pressure',\n",
       " 'pilot.plant_hot-3_t-200']"
      ]
     },
     "execution_count": 4,
     "metadata": {},
     "output_type": "execute_result"
    }
   ],
   "source": [
    "dataviews_hot_3 = hub.asset_dataviews(\"HOT-3\")\n",
    "dataviews_hot_3"
   ]
  },
  {
   "cell_type": "markdown",
   "metadata": {},
   "source": [
    "### Data View Definitions\n",
    "\n",
    "The section below shows the data view definitions for all data views of `HOT-1` and `HOT-3`. A data view is fully \n",
    "defined by a set of rows with the following columns:\n",
    "    \n",
    "* **Column_Name:** name of the column in a result data view\n",
    "* **Stream_Type:** the data type found in the column, either `Float` for floating point values, or `Category` for digital states\n",
    "* **Stream_UOM:** declared unit of measure for the column values\n",
    "* **OCS_Stream_Name:** name of the data stream providing the values in the column\n",
    "\n",
    "**NOTE:** the same OCS_Stream_Name can appear in multiple data views under different column name "
   ]
  },
  {
   "cell_type": "code",
   "execution_count": 5,
   "metadata": {
    "scrolled": false
   },
   "outputs": [
    {
     "data": {
      "text/html": [
       "<hr></hr>"
      ],
      "text/plain": [
       "<IPython.core.display.HTML object>"
      ]
     },
     "metadata": {},
     "output_type": "display_data"
    },
    {
     "data": {
      "text/markdown": [
       "**Data view ID: <span style=\"color:blue\">pilot.plant_hot-1</span>** (# of streams: 37)"
      ],
      "text/plain": [
       "<IPython.core.display.Markdown object>"
      ]
     },
     "metadata": {},
     "output_type": "display_data"
    },
    {
     "data": {
      "text/html": [
       "<style  type=\"text/css\" >\n",
       "</style><table id=\"T_4d38429e_9248_11eb_a3db_907841ab469e\" ><thead>    <tr>        <th class=\"col_heading level0 col0\" >Asset_Id</th>        <th class=\"col_heading level0 col1\" >Column_Name</th>        <th class=\"col_heading level0 col2\" >Stream_Type</th>        <th class=\"col_heading level0 col3\" >Stream_UOM</th>        <th class=\"col_heading level0 col4\" >OCS_Stream_Name</th>    </tr></thead><tbody>\n",
       "                <tr>\n",
       "                                <td id=\"T_4d38429e_9248_11eb_a3db_907841ab469erow0_col0\" class=\"data row0 col0\" >HOT-1</td>\n",
       "                        <td id=\"T_4d38429e_9248_11eb_a3db_907841ab469erow0_col1\" class=\"data row0 col1\" >E-101 Air Cooler Outlet Pressure</td>\n",
       "                        <td id=\"T_4d38429e_9248_11eb_a3db_907841ab469erow0_col2\" class=\"data row0 col2\" >Float</td>\n",
       "                        <td id=\"T_4d38429e_9248_11eb_a3db_907841ab469erow0_col3\" class=\"data row0 col3\" >PSIG</td>\n",
       "                        <td id=\"T_4d38429e_9248_11eb_a3db_907841ab469erow0_col4\" class=\"data row0 col4\" >delmar.DELMAR_UNIT1_PI-113.PV</td>\n",
       "            </tr>\n",
       "            <tr>\n",
       "                                <td id=\"T_4d38429e_9248_11eb_a3db_907841ab469erow1_col0\" class=\"data row1 col0\" >HOT-1</td>\n",
       "                        <td id=\"T_4d38429e_9248_11eb_a3db_907841ab469erow1_col1\" class=\"data row1 col1\" >E-101 Air Cooler Outlet Temperature</td>\n",
       "                        <td id=\"T_4d38429e_9248_11eb_a3db_907841ab469erow1_col2\" class=\"data row1 col2\" >Float</td>\n",
       "                        <td id=\"T_4d38429e_9248_11eb_a3db_907841ab469erow1_col3\" class=\"data row1 col3\" >°F</td>\n",
       "                        <td id=\"T_4d38429e_9248_11eb_a3db_907841ab469erow1_col4\" class=\"data row1 col4\" >delmar.DELMAR_UNIT1_TI-107.PV</td>\n",
       "            </tr>\n",
       "            <tr>\n",
       "                                <td id=\"T_4d38429e_9248_11eb_a3db_907841ab469erow2_col0\" class=\"data row2 col0\" >HOT-1</td>\n",
       "                        <td id=\"T_4d38429e_9248_11eb_a3db_907841ab469erow2_col1\" class=\"data row2 col1\" >E-101 Inlet Pressure</td>\n",
       "                        <td id=\"T_4d38429e_9248_11eb_a3db_907841ab469erow2_col2\" class=\"data row2 col2\" >Float</td>\n",
       "                        <td id=\"T_4d38429e_9248_11eb_a3db_907841ab469erow2_col3\" class=\"data row2 col3\" >PSIG</td>\n",
       "                        <td id=\"T_4d38429e_9248_11eb_a3db_907841ab469erow2_col4\" class=\"data row2 col4\" >delmar.DELMAR_UNIT1_PI-110.PV</td>\n",
       "            </tr>\n",
       "            <tr>\n",
       "                                <td id=\"T_4d38429e_9248_11eb_a3db_907841ab469erow3_col0\" class=\"data row3 col0\" >HOT-1</td>\n",
       "                        <td id=\"T_4d38429e_9248_11eb_a3db_907841ab469erow3_col1\" class=\"data row3 col1\" >E-101 Run Status</td>\n",
       "                        <td id=\"T_4d38429e_9248_11eb_a3db_907841ab469erow3_col2\" class=\"data row3 col2\" >Category</td>\n",
       "                        <td id=\"T_4d38429e_9248_11eb_a3db_907841ab469erow3_col3\" class=\"data row3 col3\" ></td>\n",
       "                        <td id=\"T_4d38429e_9248_11eb_a3db_907841ab469erow3_col4\" class=\"data row3 col4\" >delmar.DELMAR_UNIT1_XB-101</td>\n",
       "            </tr>\n",
       "            <tr>\n",
       "                                <td id=\"T_4d38429e_9248_11eb_a3db_907841ab469erow4_col0\" class=\"data row4 col0\" >HOT-1</td>\n",
       "                        <td id=\"T_4d38429e_9248_11eb_a3db_907841ab469erow4_col1\" class=\"data row4 col1\" >E-101 Shell Side Outlet Temperature</td>\n",
       "                        <td id=\"T_4d38429e_9248_11eb_a3db_907841ab469erow4_col2\" class=\"data row4 col2\" >Float</td>\n",
       "                        <td id=\"T_4d38429e_9248_11eb_a3db_907841ab469erow4_col3\" class=\"data row4 col3\" >°F</td>\n",
       "                        <td id=\"T_4d38429e_9248_11eb_a3db_907841ab469erow4_col4\" class=\"data row4 col4\" >delmar.DELMAR_UNIT1_TI-106.PV</td>\n",
       "            </tr>\n",
       "            <tr>\n",
       "                                <td id=\"T_4d38429e_9248_11eb_a3db_907841ab469erow5_col0\" class=\"data row5 col0\" >HOT-1</td>\n",
       "                        <td id=\"T_4d38429e_9248_11eb_a3db_907841ab469erow5_col1\" class=\"data row5 col1\" >E-102 Duty</td>\n",
       "                        <td id=\"T_4d38429e_9248_11eb_a3db_907841ab469erow5_col2\" class=\"data row5 col2\" >Float</td>\n",
       "                        <td id=\"T_4d38429e_9248_11eb_a3db_907841ab469erow5_col3\" class=\"data row5 col3\" ></td>\n",
       "                        <td id=\"T_4d38429e_9248_11eb_a3db_907841ab469erow5_col4\" class=\"data row5 col4\" >delmar.DELMAR_UNIT1_E-102_DUTY</td>\n",
       "            </tr>\n",
       "            <tr>\n",
       "                                <td id=\"T_4d38429e_9248_11eb_a3db_907841ab469erow6_col0\" class=\"data row6 col0\" >HOT-1</td>\n",
       "                        <td id=\"T_4d38429e_9248_11eb_a3db_907841ab469erow6_col1\" class=\"data row6 col1\" >E-102 Heat Transfer Coefficient</td>\n",
       "                        <td id=\"T_4d38429e_9248_11eb_a3db_907841ab469erow6_col2\" class=\"data row6 col2\" >Float</td>\n",
       "                        <td id=\"T_4d38429e_9248_11eb_a3db_907841ab469erow6_col3\" class=\"data row6 col3\" ></td>\n",
       "                        <td id=\"T_4d38429e_9248_11eb_a3db_907841ab469erow6_col4\" class=\"data row6 col4\" >delmar.DELMAR_UNIT1_E-102_HTC</td>\n",
       "            </tr>\n",
       "            <tr>\n",
       "                                <td id=\"T_4d38429e_9248_11eb_a3db_907841ab469erow7_col0\" class=\"data row7 col0\" >HOT-1</td>\n",
       "                        <td id=\"T_4d38429e_9248_11eb_a3db_907841ab469erow7_col1\" class=\"data row7 col1\" >E-102 Inlet pressure</td>\n",
       "                        <td id=\"T_4d38429e_9248_11eb_a3db_907841ab469erow7_col2\" class=\"data row7 col2\" >Float</td>\n",
       "                        <td id=\"T_4d38429e_9248_11eb_a3db_907841ab469erow7_col3\" class=\"data row7 col3\" >PSIG</td>\n",
       "                        <td id=\"T_4d38429e_9248_11eb_a3db_907841ab469erow7_col4\" class=\"data row7 col4\" >delmar.DELMAR_UNIT1_PI-105.PV</td>\n",
       "            </tr>\n",
       "            <tr>\n",
       "                                <td id=\"T_4d38429e_9248_11eb_a3db_907841ab469erow8_col0\" class=\"data row8 col0\" >HOT-1</td>\n",
       "                        <td id=\"T_4d38429e_9248_11eb_a3db_907841ab469erow8_col1\" class=\"data row8 col1\" >E-102 LMTD</td>\n",
       "                        <td id=\"T_4d38429e_9248_11eb_a3db_907841ab469erow8_col2\" class=\"data row8 col2\" >Float</td>\n",
       "                        <td id=\"T_4d38429e_9248_11eb_a3db_907841ab469erow8_col3\" class=\"data row8 col3\" ></td>\n",
       "                        <td id=\"T_4d38429e_9248_11eb_a3db_907841ab469erow8_col4\" class=\"data row8 col4\" >delmar.DELMAR_UNIT1_E-102_LMTD</td>\n",
       "            </tr>\n",
       "            <tr>\n",
       "                                <td id=\"T_4d38429e_9248_11eb_a3db_907841ab469erow9_col0\" class=\"data row9 col0\" >HOT-1</td>\n",
       "                        <td id=\"T_4d38429e_9248_11eb_a3db_907841ab469erow9_col1\" class=\"data row9 col1\" >E-102 Shell Side Inlet Temperature</td>\n",
       "                        <td id=\"T_4d38429e_9248_11eb_a3db_907841ab469erow9_col2\" class=\"data row9 col2\" >Float</td>\n",
       "                        <td id=\"T_4d38429e_9248_11eb_a3db_907841ab469erow9_col3\" class=\"data row9 col3\" >°F</td>\n",
       "                        <td id=\"T_4d38429e_9248_11eb_a3db_907841ab469erow9_col4\" class=\"data row9 col4\" >delmar.DELMAR_UNIT1_TI-105.PV</td>\n",
       "            </tr>\n",
       "            <tr>\n",
       "                                <td id=\"T_4d38429e_9248_11eb_a3db_907841ab469erow10_col0\" class=\"data row10 col0\" >HOT-1</td>\n",
       "                        <td id=\"T_4d38429e_9248_11eb_a3db_907841ab469erow10_col1\" class=\"data row10 col1\" >E-102 Tube Side Inlet Temperature</td>\n",
       "                        <td id=\"T_4d38429e_9248_11eb_a3db_907841ab469erow10_col2\" class=\"data row10 col2\" >Float</td>\n",
       "                        <td id=\"T_4d38429e_9248_11eb_a3db_907841ab469erow10_col3\" class=\"data row10 col3\" >°F</td>\n",
       "                        <td id=\"T_4d38429e_9248_11eb_a3db_907841ab469erow10_col4\" class=\"data row10 col4\" >delmar.DELMAR_UNIT1_TI-101.PV</td>\n",
       "            </tr>\n",
       "            <tr>\n",
       "                                <td id=\"T_4d38429e_9248_11eb_a3db_907841ab469erow11_col0\" class=\"data row11 col0\" >HOT-1</td>\n",
       "                        <td id=\"T_4d38429e_9248_11eb_a3db_907841ab469erow11_col1\" class=\"data row11 col1\" >E-102 Tube Side Outlet Pressure</td>\n",
       "                        <td id=\"T_4d38429e_9248_11eb_a3db_907841ab469erow11_col2\" class=\"data row11 col2\" >Float</td>\n",
       "                        <td id=\"T_4d38429e_9248_11eb_a3db_907841ab469erow11_col3\" class=\"data row11 col3\" >PSIG</td>\n",
       "                        <td id=\"T_4d38429e_9248_11eb_a3db_907841ab469erow11_col4\" class=\"data row11 col4\" >delmar.DELMAR_UNIT1_PI-112.PV</td>\n",
       "            </tr>\n",
       "            <tr>\n",
       "                                <td id=\"T_4d38429e_9248_11eb_a3db_907841ab469erow12_col0\" class=\"data row12 col0\" >HOT-1</td>\n",
       "                        <td id=\"T_4d38429e_9248_11eb_a3db_907841ab469erow12_col1\" class=\"data row12 col1\" >E-102 Tube Side Outlet Temperature Controller Mode</td>\n",
       "                        <td id=\"T_4d38429e_9248_11eb_a3db_907841ab469erow12_col2\" class=\"data row12 col2\" >Category</td>\n",
       "                        <td id=\"T_4d38429e_9248_11eb_a3db_907841ab469erow12_col3\" class=\"data row12 col3\" ></td>\n",
       "                        <td id=\"T_4d38429e_9248_11eb_a3db_907841ab469erow12_col4\" class=\"data row12 col4\" >delmar.DELMAR_UNIT1_TIC-103.MODE</td>\n",
       "            </tr>\n",
       "            <tr>\n",
       "                                <td id=\"T_4d38429e_9248_11eb_a3db_907841ab469erow13_col0\" class=\"data row13 col0\" >HOT-1</td>\n",
       "                        <td id=\"T_4d38429e_9248_11eb_a3db_907841ab469erow13_col1\" class=\"data row13 col1\" >E-102 Tube Side Outlet Temperature Controller Output</td>\n",
       "                        <td id=\"T_4d38429e_9248_11eb_a3db_907841ab469erow13_col2\" class=\"data row13 col2\" >Float</td>\n",
       "                        <td id=\"T_4d38429e_9248_11eb_a3db_907841ab469erow13_col3\" class=\"data row13 col3\" >%</td>\n",
       "                        <td id=\"T_4d38429e_9248_11eb_a3db_907841ab469erow13_col4\" class=\"data row13 col4\" >delmar.DELMAR_UNIT1_TIC-103.OUT</td>\n",
       "            </tr>\n",
       "            <tr>\n",
       "                                <td id=\"T_4d38429e_9248_11eb_a3db_907841ab469erow14_col0\" class=\"data row14 col0\" >HOT-1</td>\n",
       "                        <td id=\"T_4d38429e_9248_11eb_a3db_907841ab469erow14_col1\" class=\"data row14 col1\" >E-102 Tube Side Outlet Temperature Controller PV</td>\n",
       "                        <td id=\"T_4d38429e_9248_11eb_a3db_907841ab469erow14_col2\" class=\"data row14 col2\" >Float</td>\n",
       "                        <td id=\"T_4d38429e_9248_11eb_a3db_907841ab469erow14_col3\" class=\"data row14 col3\" >°F</td>\n",
       "                        <td id=\"T_4d38429e_9248_11eb_a3db_907841ab469erow14_col4\" class=\"data row14 col4\" >delmar.DELMAR_UNIT1_TIC-103.PV</td>\n",
       "            </tr>\n",
       "            <tr>\n",
       "                                <td id=\"T_4d38429e_9248_11eb_a3db_907841ab469erow15_col0\" class=\"data row15 col0\" >HOT-1</td>\n",
       "                        <td id=\"T_4d38429e_9248_11eb_a3db_907841ab469erow15_col1\" class=\"data row15 col1\" >E-102 Tube Side Outlet Temperature Controller Setpoint</td>\n",
       "                        <td id=\"T_4d38429e_9248_11eb_a3db_907841ab469erow15_col2\" class=\"data row15 col2\" >Float</td>\n",
       "                        <td id=\"T_4d38429e_9248_11eb_a3db_907841ab469erow15_col3\" class=\"data row15 col3\" >°F</td>\n",
       "                        <td id=\"T_4d38429e_9248_11eb_a3db_907841ab469erow15_col4\" class=\"data row15 col4\" >delmar.DELMAR_UNIT1_TIC-103.SP</td>\n",
       "            </tr>\n",
       "            <tr>\n",
       "                                <td id=\"T_4d38429e_9248_11eb_a3db_907841ab469erow16_col0\" class=\"data row16 col0\" >HOT-1</td>\n",
       "                        <td id=\"T_4d38429e_9248_11eb_a3db_907841ab469erow16_col1\" class=\"data row16 col1\" >Feed Flow Controller Mode</td>\n",
       "                        <td id=\"T_4d38429e_9248_11eb_a3db_907841ab469erow16_col2\" class=\"data row16 col2\" >Category</td>\n",
       "                        <td id=\"T_4d38429e_9248_11eb_a3db_907841ab469erow16_col3\" class=\"data row16 col3\" ></td>\n",
       "                        <td id=\"T_4d38429e_9248_11eb_a3db_907841ab469erow16_col4\" class=\"data row16 col4\" >delmar.DELMAR_UNIT1_FIC-101.MODE</td>\n",
       "            </tr>\n",
       "            <tr>\n",
       "                                <td id=\"T_4d38429e_9248_11eb_a3db_907841ab469erow17_col0\" class=\"data row17 col0\" >HOT-1</td>\n",
       "                        <td id=\"T_4d38429e_9248_11eb_a3db_907841ab469erow17_col1\" class=\"data row17 col1\" >Feed Flow Controller Output</td>\n",
       "                        <td id=\"T_4d38429e_9248_11eb_a3db_907841ab469erow17_col2\" class=\"data row17 col2\" >Float</td>\n",
       "                        <td id=\"T_4d38429e_9248_11eb_a3db_907841ab469erow17_col3\" class=\"data row17 col3\" >%</td>\n",
       "                        <td id=\"T_4d38429e_9248_11eb_a3db_907841ab469erow17_col4\" class=\"data row17 col4\" >delmar.DELMAR_UNIT1_FIC-101.OUT</td>\n",
       "            </tr>\n",
       "            <tr>\n",
       "                                <td id=\"T_4d38429e_9248_11eb_a3db_907841ab469erow18_col0\" class=\"data row18 col0\" >HOT-1</td>\n",
       "                        <td id=\"T_4d38429e_9248_11eb_a3db_907841ab469erow18_col1\" class=\"data row18 col1\" >Feed Flow Controller PV</td>\n",
       "                        <td id=\"T_4d38429e_9248_11eb_a3db_907841ab469erow18_col2\" class=\"data row18 col2\" >Float</td>\n",
       "                        <td id=\"T_4d38429e_9248_11eb_a3db_907841ab469erow18_col3\" class=\"data row18 col3\" >GPM</td>\n",
       "                        <td id=\"T_4d38429e_9248_11eb_a3db_907841ab469erow18_col4\" class=\"data row18 col4\" >delmar.DELMAR_UNIT1_FIC-101.PV</td>\n",
       "            </tr>\n",
       "            <tr>\n",
       "                                <td id=\"T_4d38429e_9248_11eb_a3db_907841ab469erow19_col0\" class=\"data row19 col0\" >HOT-1</td>\n",
       "                        <td id=\"T_4d38429e_9248_11eb_a3db_907841ab469erow19_col1\" class=\"data row19 col1\" >Feed Flow Controller Setpoint</td>\n",
       "                        <td id=\"T_4d38429e_9248_11eb_a3db_907841ab469erow19_col2\" class=\"data row19 col2\" >Float</td>\n",
       "                        <td id=\"T_4d38429e_9248_11eb_a3db_907841ab469erow19_col3\" class=\"data row19 col3\" >GPM</td>\n",
       "                        <td id=\"T_4d38429e_9248_11eb_a3db_907841ab469erow19_col4\" class=\"data row19 col4\" >delmar.DELMAR_UNIT1_FIC-101.SP</td>\n",
       "            </tr>\n",
       "            <tr>\n",
       "                                <td id=\"T_4d38429e_9248_11eb_a3db_907841ab469erow20_col0\" class=\"data row20 col0\" >HOT-1</td>\n",
       "                        <td id=\"T_4d38429e_9248_11eb_a3db_907841ab469erow20_col1\" class=\"data row20 col1\" >Feed Tank Level Controller Output</td>\n",
       "                        <td id=\"T_4d38429e_9248_11eb_a3db_907841ab469erow20_col2\" class=\"data row20 col2\" >Float</td>\n",
       "                        <td id=\"T_4d38429e_9248_11eb_a3db_907841ab469erow20_col3\" class=\"data row20 col3\" >%</td>\n",
       "                        <td id=\"T_4d38429e_9248_11eb_a3db_907841ab469erow20_col4\" class=\"data row20 col4\" >delmar.DELMAR_UNIT1_LIC-101.OUT</td>\n",
       "            </tr>\n",
       "            <tr>\n",
       "                                <td id=\"T_4d38429e_9248_11eb_a3db_907841ab469erow21_col0\" class=\"data row21 col0\" >HOT-1</td>\n",
       "                        <td id=\"T_4d38429e_9248_11eb_a3db_907841ab469erow21_col1\" class=\"data row21 col1\" >Feed Tank Level Controller PV</td>\n",
       "                        <td id=\"T_4d38429e_9248_11eb_a3db_907841ab469erow21_col2\" class=\"data row21 col2\" >Float</td>\n",
       "                        <td id=\"T_4d38429e_9248_11eb_a3db_907841ab469erow21_col3\" class=\"data row21 col3\" >%</td>\n",
       "                        <td id=\"T_4d38429e_9248_11eb_a3db_907841ab469erow21_col4\" class=\"data row21 col4\" >delmar.DELMAR_UNIT1_LIC-101.PV</td>\n",
       "            </tr>\n",
       "            <tr>\n",
       "                                <td id=\"T_4d38429e_9248_11eb_a3db_907841ab469erow22_col0\" class=\"data row22 col0\" >HOT-1</td>\n",
       "                        <td id=\"T_4d38429e_9248_11eb_a3db_907841ab469erow22_col1\" class=\"data row22 col1\" >Feed Tank Level Controller Setpoint</td>\n",
       "                        <td id=\"T_4d38429e_9248_11eb_a3db_907841ab469erow22_col2\" class=\"data row22 col2\" >Float</td>\n",
       "                        <td id=\"T_4d38429e_9248_11eb_a3db_907841ab469erow22_col3\" class=\"data row22 col3\" >%</td>\n",
       "                        <td id=\"T_4d38429e_9248_11eb_a3db_907841ab469erow22_col4\" class=\"data row22 col4\" >delmar.DELMAR_UNIT1_LIC-101.SP</td>\n",
       "            </tr>\n",
       "            <tr>\n",
       "                                <td id=\"T_4d38429e_9248_11eb_a3db_907841ab469erow23_col0\" class=\"data row23 col0\" >HOT-1</td>\n",
       "                        <td id=\"T_4d38429e_9248_11eb_a3db_907841ab469erow23_col1\" class=\"data row23 col1\" >H-101 Outlet Pressure</td>\n",
       "                        <td id=\"T_4d38429e_9248_11eb_a3db_907841ab469erow23_col2\" class=\"data row23 col2\" >Float</td>\n",
       "                        <td id=\"T_4d38429e_9248_11eb_a3db_907841ab469erow23_col3\" class=\"data row23 col3\" >PSIG</td>\n",
       "                        <td id=\"T_4d38429e_9248_11eb_a3db_907841ab469erow23_col4\" class=\"data row23 col4\" >delmar.DELMAR_UNIT1_PI-109.PV</td>\n",
       "            </tr>\n",
       "            <tr>\n",
       "                                <td id=\"T_4d38429e_9248_11eb_a3db_907841ab469erow24_col0\" class=\"data row24 col0\" >HOT-1</td>\n",
       "                        <td id=\"T_4d38429e_9248_11eb_a3db_907841ab469erow24_col1\" class=\"data row24 col1\" >H-101 Outlet Temperature Controller Mode</td>\n",
       "                        <td id=\"T_4d38429e_9248_11eb_a3db_907841ab469erow24_col2\" class=\"data row24 col2\" >Category</td>\n",
       "                        <td id=\"T_4d38429e_9248_11eb_a3db_907841ab469erow24_col3\" class=\"data row24 col3\" ></td>\n",
       "                        <td id=\"T_4d38429e_9248_11eb_a3db_907841ab469erow24_col4\" class=\"data row24 col4\" >delmar.DELMAR_UNIT1_TIC-104.MODE</td>\n",
       "            </tr>\n",
       "            <tr>\n",
       "                                <td id=\"T_4d38429e_9248_11eb_a3db_907841ab469erow25_col0\" class=\"data row25 col0\" >HOT-1</td>\n",
       "                        <td id=\"T_4d38429e_9248_11eb_a3db_907841ab469erow25_col1\" class=\"data row25 col1\" >H-101 Outlet Temperature Controller Output</td>\n",
       "                        <td id=\"T_4d38429e_9248_11eb_a3db_907841ab469erow25_col2\" class=\"data row25 col2\" >Float</td>\n",
       "                        <td id=\"T_4d38429e_9248_11eb_a3db_907841ab469erow25_col3\" class=\"data row25 col3\" >%</td>\n",
       "                        <td id=\"T_4d38429e_9248_11eb_a3db_907841ab469erow25_col4\" class=\"data row25 col4\" >delmar.DELMAR_UNIT1_TIC-104.OUT</td>\n",
       "            </tr>\n",
       "            <tr>\n",
       "                                <td id=\"T_4d38429e_9248_11eb_a3db_907841ab469erow26_col0\" class=\"data row26 col0\" >HOT-1</td>\n",
       "                        <td id=\"T_4d38429e_9248_11eb_a3db_907841ab469erow26_col1\" class=\"data row26 col1\" >H-101 Outlet Temperature Controller PV</td>\n",
       "                        <td id=\"T_4d38429e_9248_11eb_a3db_907841ab469erow26_col2\" class=\"data row26 col2\" >Float</td>\n",
       "                        <td id=\"T_4d38429e_9248_11eb_a3db_907841ab469erow26_col3\" class=\"data row26 col3\" >°F</td>\n",
       "                        <td id=\"T_4d38429e_9248_11eb_a3db_907841ab469erow26_col4\" class=\"data row26 col4\" >delmar.DELMAR_UNIT1_TIC-104.PV</td>\n",
       "            </tr>\n",
       "            <tr>\n",
       "                                <td id=\"T_4d38429e_9248_11eb_a3db_907841ab469erow27_col0\" class=\"data row27 col0\" >HOT-1</td>\n",
       "                        <td id=\"T_4d38429e_9248_11eb_a3db_907841ab469erow27_col1\" class=\"data row27 col1\" >H-101 Outlet Temperature Controller Setpoint</td>\n",
       "                        <td id=\"T_4d38429e_9248_11eb_a3db_907841ab469erow27_col2\" class=\"data row27 col2\" >Float</td>\n",
       "                        <td id=\"T_4d38429e_9248_11eb_a3db_907841ab469erow27_col3\" class=\"data row27 col3\" >°F</td>\n",
       "                        <td id=\"T_4d38429e_9248_11eb_a3db_907841ab469erow27_col4\" class=\"data row27 col4\" >delmar.DELMAR_UNIT1_TIC-104.SP</td>\n",
       "            </tr>\n",
       "            <tr>\n",
       "                                <td id=\"T_4d38429e_9248_11eb_a3db_907841ab469erow28_col0\" class=\"data row28 col0\" >HOT-1</td>\n",
       "                        <td id=\"T_4d38429e_9248_11eb_a3db_907841ab469erow28_col1\" class=\"data row28 col1\" >P-101 A/B Discharge pressure</td>\n",
       "                        <td id=\"T_4d38429e_9248_11eb_a3db_907841ab469erow28_col2\" class=\"data row28 col2\" >Float</td>\n",
       "                        <td id=\"T_4d38429e_9248_11eb_a3db_907841ab469erow28_col3\" class=\"data row28 col3\" >PSIG</td>\n",
       "                        <td id=\"T_4d38429e_9248_11eb_a3db_907841ab469erow28_col4\" class=\"data row28 col4\" >delmar.DELMAR_UNIT1_PI-111.PV</td>\n",
       "            </tr>\n",
       "            <tr>\n",
       "                                <td id=\"T_4d38429e_9248_11eb_a3db_907841ab469erow29_col0\" class=\"data row29 col0\" >HOT-1</td>\n",
       "                        <td id=\"T_4d38429e_9248_11eb_a3db_907841ab469erow29_col1\" class=\"data row29 col1\" >P-101A Run Status</td>\n",
       "                        <td id=\"T_4d38429e_9248_11eb_a3db_907841ab469erow29_col2\" class=\"data row29 col2\" >Category</td>\n",
       "                        <td id=\"T_4d38429e_9248_11eb_a3db_907841ab469erow29_col3\" class=\"data row29 col3\" ></td>\n",
       "                        <td id=\"T_4d38429e_9248_11eb_a3db_907841ab469erow29_col4\" class=\"data row29 col4\" >delmar.DELMAR_UNIT1_XB-101A</td>\n",
       "            </tr>\n",
       "            <tr>\n",
       "                                <td id=\"T_4d38429e_9248_11eb_a3db_907841ab469erow30_col0\" class=\"data row30 col0\" >HOT-1</td>\n",
       "                        <td id=\"T_4d38429e_9248_11eb_a3db_907841ab469erow30_col1\" class=\"data row30 col1\" >P-101B Run Status</td>\n",
       "                        <td id=\"T_4d38429e_9248_11eb_a3db_907841ab469erow30_col2\" class=\"data row30 col2\" >Category</td>\n",
       "                        <td id=\"T_4d38429e_9248_11eb_a3db_907841ab469erow30_col3\" class=\"data row30 col3\" ></td>\n",
       "                        <td id=\"T_4d38429e_9248_11eb_a3db_907841ab469erow30_col4\" class=\"data row30 col4\" >delmar.DELMAR_UNIT1_XB-101B</td>\n",
       "            </tr>\n",
       "            <tr>\n",
       "                                <td id=\"T_4d38429e_9248_11eb_a3db_907841ab469erow31_col0\" class=\"data row31 col0\" >HOT-1</td>\n",
       "                        <td id=\"T_4d38429e_9248_11eb_a3db_907841ab469erow31_col1\" class=\"data row31 col1\" >P-102 Discharge pressure</td>\n",
       "                        <td id=\"T_4d38429e_9248_11eb_a3db_907841ab469erow31_col2\" class=\"data row31 col2\" >Float</td>\n",
       "                        <td id=\"T_4d38429e_9248_11eb_a3db_907841ab469erow31_col3\" class=\"data row31 col3\" >PSIG</td>\n",
       "                        <td id=\"T_4d38429e_9248_11eb_a3db_907841ab469erow31_col4\" class=\"data row31 col4\" >delmar.DELMAR_UNIT1_PI-108.PV</td>\n",
       "            </tr>\n",
       "            <tr>\n",
       "                                <td id=\"T_4d38429e_9248_11eb_a3db_907841ab469erow32_col0\" class=\"data row32 col0\" >HOT-1</td>\n",
       "                        <td id=\"T_4d38429e_9248_11eb_a3db_907841ab469erow32_col1\" class=\"data row32 col1\" >P-102 Run Status</td>\n",
       "                        <td id=\"T_4d38429e_9248_11eb_a3db_907841ab469erow32_col2\" class=\"data row32 col2\" >Category</td>\n",
       "                        <td id=\"T_4d38429e_9248_11eb_a3db_907841ab469erow32_col3\" class=\"data row32 col3\" ></td>\n",
       "                        <td id=\"T_4d38429e_9248_11eb_a3db_907841ab469erow32_col4\" class=\"data row32 col4\" >delmar.DELMAR_UNIT1_XB-102</td>\n",
       "            </tr>\n",
       "            <tr>\n",
       "                                <td id=\"T_4d38429e_9248_11eb_a3db_907841ab469erow33_col0\" class=\"data row33 col0\" >HOT-1</td>\n",
       "                        <td id=\"T_4d38429e_9248_11eb_a3db_907841ab469erow33_col1\" class=\"data row33 col1\" >P-103 Run Status</td>\n",
       "                        <td id=\"T_4d38429e_9248_11eb_a3db_907841ab469erow33_col2\" class=\"data row33 col2\" >Category</td>\n",
       "                        <td id=\"T_4d38429e_9248_11eb_a3db_907841ab469erow33_col3\" class=\"data row33 col3\" ></td>\n",
       "                        <td id=\"T_4d38429e_9248_11eb_a3db_907841ab469erow33_col4\" class=\"data row33 col4\" >delmar.DELMAR_UNIT1_XB-103</td>\n",
       "            </tr>\n",
       "            <tr>\n",
       "                                <td id=\"T_4d38429e_9248_11eb_a3db_907841ab469erow34_col0\" class=\"data row34 col0\" >HOT-1</td>\n",
       "                        <td id=\"T_4d38429e_9248_11eb_a3db_907841ab469erow34_col1\" class=\"data row34 col1\" >Product Water Flow</td>\n",
       "                        <td id=\"T_4d38429e_9248_11eb_a3db_907841ab469erow34_col2\" class=\"data row34 col2\" >Float</td>\n",
       "                        <td id=\"T_4d38429e_9248_11eb_a3db_907841ab469erow34_col3\" class=\"data row34 col3\" >GPM</td>\n",
       "                        <td id=\"T_4d38429e_9248_11eb_a3db_907841ab469erow34_col4\" class=\"data row34 col4\" >delmar.DELMAR_UNIT1_FI-102.PV</td>\n",
       "            </tr>\n",
       "            <tr>\n",
       "                                <td id=\"T_4d38429e_9248_11eb_a3db_907841ab469erow35_col0\" class=\"data row35 col0\" >HOT-1</td>\n",
       "                        <td id=\"T_4d38429e_9248_11eb_a3db_907841ab469erow35_col1\" class=\"data row35 col1\" >T-101 Level Controller Mode</td>\n",
       "                        <td id=\"T_4d38429e_9248_11eb_a3db_907841ab469erow35_col2\" class=\"data row35 col2\" >Category</td>\n",
       "                        <td id=\"T_4d38429e_9248_11eb_a3db_907841ab469erow35_col3\" class=\"data row35 col3\" ></td>\n",
       "                        <td id=\"T_4d38429e_9248_11eb_a3db_907841ab469erow35_col4\" class=\"data row35 col4\" >delmar.DELMAR_UNIT1_LIC-101.MODE</td>\n",
       "            </tr>\n",
       "            <tr>\n",
       "                                <td id=\"T_4d38429e_9248_11eb_a3db_907841ab469erow36_col0\" class=\"data row36 col0\" >HOT-1</td>\n",
       "                        <td id=\"T_4d38429e_9248_11eb_a3db_907841ab469erow36_col1\" class=\"data row36 col1\" >Unit 1 Common Trouble Alarm</td>\n",
       "                        <td id=\"T_4d38429e_9248_11eb_a3db_907841ab469erow36_col2\" class=\"data row36 col2\" >Category</td>\n",
       "                        <td id=\"T_4d38429e_9248_11eb_a3db_907841ab469erow36_col3\" class=\"data row36 col3\" ></td>\n",
       "                        <td id=\"T_4d38429e_9248_11eb_a3db_907841ab469erow36_col4\" class=\"data row36 col4\" >delmar.DELMAR_UNIT1_XA-100</td>\n",
       "            </tr>\n",
       "    </tbody></table>"
      ],
      "text/plain": [
       "<pandas.io.formats.style.Styler at 0x20067c07ac8>"
      ]
     },
     "metadata": {},
     "output_type": "display_data"
    },
    {
     "data": {
      "text/html": [
       "<hr></hr>"
      ],
      "text/plain": [
       "<IPython.core.display.HTML object>"
      ]
     },
     "metadata": {},
     "output_type": "display_data"
    },
    {
     "data": {
      "text/markdown": [
       "**Data view ID: <span style=\"color:blue\">pilot.plant_hot-1_e-101</span>** (# of streams: 5)"
      ],
      "text/plain": [
       "<IPython.core.display.Markdown object>"
      ]
     },
     "metadata": {},
     "output_type": "display_data"
    },
    {
     "data": {
      "text/html": [
       "<style  type=\"text/css\" >\n",
       "</style><table id=\"T_4d85be30_9248_11eb_bea5_907841ab469e\" ><thead>    <tr>        <th class=\"col_heading level0 col0\" >Asset_Id</th>        <th class=\"col_heading level0 col1\" >Column_Name</th>        <th class=\"col_heading level0 col2\" >Stream_Type</th>        <th class=\"col_heading level0 col3\" >Stream_UOM</th>        <th class=\"col_heading level0 col4\" >OCS_Stream_Name</th>    </tr></thead><tbody>\n",
       "                <tr>\n",
       "                                <td id=\"T_4d85be30_9248_11eb_bea5_907841ab469erow0_col0\" class=\"data row0 col0\" >HOT-1</td>\n",
       "                        <td id=\"T_4d85be30_9248_11eb_bea5_907841ab469erow0_col1\" class=\"data row0 col1\" >E-101 Inlet Pressure</td>\n",
       "                        <td id=\"T_4d85be30_9248_11eb_bea5_907841ab469erow0_col2\" class=\"data row0 col2\" >Float</td>\n",
       "                        <td id=\"T_4d85be30_9248_11eb_bea5_907841ab469erow0_col3\" class=\"data row0 col3\" >PSIG</td>\n",
       "                        <td id=\"T_4d85be30_9248_11eb_bea5_907841ab469erow0_col4\" class=\"data row0 col4\" >delmar.DELMAR_UNIT1_PI-110.PV</td>\n",
       "            </tr>\n",
       "            <tr>\n",
       "                                <td id=\"T_4d85be30_9248_11eb_bea5_907841ab469erow1_col0\" class=\"data row1 col0\" >HOT-1</td>\n",
       "                        <td id=\"T_4d85be30_9248_11eb_bea5_907841ab469erow1_col1\" class=\"data row1 col1\" >E-101 Inlet Temperature</td>\n",
       "                        <td id=\"T_4d85be30_9248_11eb_bea5_907841ab469erow1_col2\" class=\"data row1 col2\" >Float</td>\n",
       "                        <td id=\"T_4d85be30_9248_11eb_bea5_907841ab469erow1_col3\" class=\"data row1 col3\" >°F</td>\n",
       "                        <td id=\"T_4d85be30_9248_11eb_bea5_907841ab469erow1_col4\" class=\"data row1 col4\" >delmar.DELMAR_UNIT1_TI-106.PV</td>\n",
       "            </tr>\n",
       "            <tr>\n",
       "                                <td id=\"T_4d85be30_9248_11eb_bea5_907841ab469erow2_col0\" class=\"data row2 col0\" >HOT-1</td>\n",
       "                        <td id=\"T_4d85be30_9248_11eb_bea5_907841ab469erow2_col1\" class=\"data row2 col1\" >E-101 Outlet Pressure</td>\n",
       "                        <td id=\"T_4d85be30_9248_11eb_bea5_907841ab469erow2_col2\" class=\"data row2 col2\" >Float</td>\n",
       "                        <td id=\"T_4d85be30_9248_11eb_bea5_907841ab469erow2_col3\" class=\"data row2 col3\" >PSIG</td>\n",
       "                        <td id=\"T_4d85be30_9248_11eb_bea5_907841ab469erow2_col4\" class=\"data row2 col4\" >delmar.DELMAR_UNIT1_PI-113.PV</td>\n",
       "            </tr>\n",
       "            <tr>\n",
       "                                <td id=\"T_4d85be30_9248_11eb_bea5_907841ab469erow3_col0\" class=\"data row3 col0\" >HOT-1</td>\n",
       "                        <td id=\"T_4d85be30_9248_11eb_bea5_907841ab469erow3_col1\" class=\"data row3 col1\" >E-101 Outlet Temperature</td>\n",
       "                        <td id=\"T_4d85be30_9248_11eb_bea5_907841ab469erow3_col2\" class=\"data row3 col2\" >Float</td>\n",
       "                        <td id=\"T_4d85be30_9248_11eb_bea5_907841ab469erow3_col3\" class=\"data row3 col3\" >°F</td>\n",
       "                        <td id=\"T_4d85be30_9248_11eb_bea5_907841ab469erow3_col4\" class=\"data row3 col4\" >delmar.DELMAR_UNIT1_TI-107.PV</td>\n",
       "            </tr>\n",
       "            <tr>\n",
       "                                <td id=\"T_4d85be30_9248_11eb_bea5_907841ab469erow4_col0\" class=\"data row4 col0\" >HOT-1</td>\n",
       "                        <td id=\"T_4d85be30_9248_11eb_bea5_907841ab469erow4_col1\" class=\"data row4 col1\" >E-101 Run Status</td>\n",
       "                        <td id=\"T_4d85be30_9248_11eb_bea5_907841ab469erow4_col2\" class=\"data row4 col2\" >Category</td>\n",
       "                        <td id=\"T_4d85be30_9248_11eb_bea5_907841ab469erow4_col3\" class=\"data row4 col3\" ></td>\n",
       "                        <td id=\"T_4d85be30_9248_11eb_bea5_907841ab469erow4_col4\" class=\"data row4 col4\" >delmar.DELMAR_UNIT1_XB-101</td>\n",
       "            </tr>\n",
       "    </tbody></table>"
      ],
      "text/plain": [
       "<pandas.io.formats.style.Styler at 0x20067ced148>"
      ]
     },
     "metadata": {},
     "output_type": "display_data"
    },
    {
     "data": {
      "text/html": [
       "<hr></hr>"
      ],
      "text/plain": [
       "<IPython.core.display.HTML object>"
      ]
     },
     "metadata": {},
     "output_type": "display_data"
    },
    {
     "data": {
      "text/markdown": [
       "**Data view ID: <span style=\"color:blue\">pilot.plant_hot-1_e-102</span>** (# of streams: 14)"
      ],
      "text/plain": [
       "<IPython.core.display.Markdown object>"
      ]
     },
     "metadata": {},
     "output_type": "display_data"
    },
    {
     "data": {
      "text/html": [
       "<style  type=\"text/css\" >\n",
       "</style><table id=\"T_4dda64c6_9248_11eb_8f00_907841ab469e\" ><thead>    <tr>        <th class=\"col_heading level0 col0\" >Asset_Id</th>        <th class=\"col_heading level0 col1\" >Column_Name</th>        <th class=\"col_heading level0 col2\" >Stream_Type</th>        <th class=\"col_heading level0 col3\" >Stream_UOM</th>        <th class=\"col_heading level0 col4\" >OCS_Stream_Name</th>    </tr></thead><tbody>\n",
       "                <tr>\n",
       "                                <td id=\"T_4dda64c6_9248_11eb_8f00_907841ab469erow0_col0\" class=\"data row0 col0\" >HOT-1</td>\n",
       "                        <td id=\"T_4dda64c6_9248_11eb_8f00_907841ab469erow0_col1\" class=\"data row0 col1\" >E-102 Duty</td>\n",
       "                        <td id=\"T_4dda64c6_9248_11eb_8f00_907841ab469erow0_col2\" class=\"data row0 col2\" >Float</td>\n",
       "                        <td id=\"T_4dda64c6_9248_11eb_8f00_907841ab469erow0_col3\" class=\"data row0 col3\" ></td>\n",
       "                        <td id=\"T_4dda64c6_9248_11eb_8f00_907841ab469erow0_col4\" class=\"data row0 col4\" >delmar.DELMAR_UNIT1_E-102_DUTY</td>\n",
       "            </tr>\n",
       "            <tr>\n",
       "                                <td id=\"T_4dda64c6_9248_11eb_8f00_907841ab469erow1_col0\" class=\"data row1 col0\" >HOT-1</td>\n",
       "                        <td id=\"T_4dda64c6_9248_11eb_8f00_907841ab469erow1_col1\" class=\"data row1 col1\" >E-102 Heat Transfer Coefficient</td>\n",
       "                        <td id=\"T_4dda64c6_9248_11eb_8f00_907841ab469erow1_col2\" class=\"data row1 col2\" >Float</td>\n",
       "                        <td id=\"T_4dda64c6_9248_11eb_8f00_907841ab469erow1_col3\" class=\"data row1 col3\" ></td>\n",
       "                        <td id=\"T_4dda64c6_9248_11eb_8f00_907841ab469erow1_col4\" class=\"data row1 col4\" >delmar.DELMAR_UNIT1_E-102_HTC</td>\n",
       "            </tr>\n",
       "            <tr>\n",
       "                                <td id=\"T_4dda64c6_9248_11eb_8f00_907841ab469erow2_col0\" class=\"data row2 col0\" >HOT-1</td>\n",
       "                        <td id=\"T_4dda64c6_9248_11eb_8f00_907841ab469erow2_col1\" class=\"data row2 col1\" >E-102 LMTD</td>\n",
       "                        <td id=\"T_4dda64c6_9248_11eb_8f00_907841ab469erow2_col2\" class=\"data row2 col2\" >Float</td>\n",
       "                        <td id=\"T_4dda64c6_9248_11eb_8f00_907841ab469erow2_col3\" class=\"data row2 col3\" ></td>\n",
       "                        <td id=\"T_4dda64c6_9248_11eb_8f00_907841ab469erow2_col4\" class=\"data row2 col4\" >delmar.DELMAR_UNIT1_E-102_LMTD</td>\n",
       "            </tr>\n",
       "            <tr>\n",
       "                                <td id=\"T_4dda64c6_9248_11eb_8f00_907841ab469erow3_col0\" class=\"data row3 col0\" >HOT-1</td>\n",
       "                        <td id=\"T_4dda64c6_9248_11eb_8f00_907841ab469erow3_col1\" class=\"data row3 col1\" >E-102 Shell Side Inlet Pressure</td>\n",
       "                        <td id=\"T_4dda64c6_9248_11eb_8f00_907841ab469erow3_col2\" class=\"data row3 col2\" >Float</td>\n",
       "                        <td id=\"T_4dda64c6_9248_11eb_8f00_907841ab469erow3_col3\" class=\"data row3 col3\" >PSIG</td>\n",
       "                        <td id=\"T_4dda64c6_9248_11eb_8f00_907841ab469erow3_col4\" class=\"data row3 col4\" >delmar.DELMAR_UNIT1_PI-109.PV</td>\n",
       "            </tr>\n",
       "            <tr>\n",
       "                                <td id=\"T_4dda64c6_9248_11eb_8f00_907841ab469erow4_col0\" class=\"data row4 col0\" >HOT-1</td>\n",
       "                        <td id=\"T_4dda64c6_9248_11eb_8f00_907841ab469erow4_col1\" class=\"data row4 col1\" >E-102 Shell Side Inlet Temperature</td>\n",
       "                        <td id=\"T_4dda64c6_9248_11eb_8f00_907841ab469erow4_col2\" class=\"data row4 col2\" >Float</td>\n",
       "                        <td id=\"T_4dda64c6_9248_11eb_8f00_907841ab469erow4_col3\" class=\"data row4 col3\" >°F</td>\n",
       "                        <td id=\"T_4dda64c6_9248_11eb_8f00_907841ab469erow4_col4\" class=\"data row4 col4\" >delmar.DELMAR_UNIT1_TI-105.PV</td>\n",
       "            </tr>\n",
       "            <tr>\n",
       "                                <td id=\"T_4dda64c6_9248_11eb_8f00_907841ab469erow5_col0\" class=\"data row5 col0\" >HOT-1</td>\n",
       "                        <td id=\"T_4dda64c6_9248_11eb_8f00_907841ab469erow5_col1\" class=\"data row5 col1\" >E-102 Shell Side Outlet Pressure</td>\n",
       "                        <td id=\"T_4dda64c6_9248_11eb_8f00_907841ab469erow5_col2\" class=\"data row5 col2\" >Float</td>\n",
       "                        <td id=\"T_4dda64c6_9248_11eb_8f00_907841ab469erow5_col3\" class=\"data row5 col3\" >PSIG</td>\n",
       "                        <td id=\"T_4dda64c6_9248_11eb_8f00_907841ab469erow5_col4\" class=\"data row5 col4\" >delmar.DELMAR_UNIT1_PI-110.PV</td>\n",
       "            </tr>\n",
       "            <tr>\n",
       "                                <td id=\"T_4dda64c6_9248_11eb_8f00_907841ab469erow6_col0\" class=\"data row6 col0\" >HOT-1</td>\n",
       "                        <td id=\"T_4dda64c6_9248_11eb_8f00_907841ab469erow6_col1\" class=\"data row6 col1\" >E-102 Shell Side Outlet Temperature</td>\n",
       "                        <td id=\"T_4dda64c6_9248_11eb_8f00_907841ab469erow6_col2\" class=\"data row6 col2\" >Float</td>\n",
       "                        <td id=\"T_4dda64c6_9248_11eb_8f00_907841ab469erow6_col3\" class=\"data row6 col3\" >°F</td>\n",
       "                        <td id=\"T_4dda64c6_9248_11eb_8f00_907841ab469erow6_col4\" class=\"data row6 col4\" >delmar.DELMAR_UNIT1_TI-106.PV</td>\n",
       "            </tr>\n",
       "            <tr>\n",
       "                                <td id=\"T_4dda64c6_9248_11eb_8f00_907841ab469erow7_col0\" class=\"data row7 col0\" >HOT-1</td>\n",
       "                        <td id=\"T_4dda64c6_9248_11eb_8f00_907841ab469erow7_col1\" class=\"data row7 col1\" >E-102 Tube Side Inlet Pressure</td>\n",
       "                        <td id=\"T_4dda64c6_9248_11eb_8f00_907841ab469erow7_col2\" class=\"data row7 col2\" >Float</td>\n",
       "                        <td id=\"T_4dda64c6_9248_11eb_8f00_907841ab469erow7_col3\" class=\"data row7 col3\" >PSIG</td>\n",
       "                        <td id=\"T_4dda64c6_9248_11eb_8f00_907841ab469erow7_col4\" class=\"data row7 col4\" >delmar.DELMAR_UNIT1_PI-105.PV</td>\n",
       "            </tr>\n",
       "            <tr>\n",
       "                                <td id=\"T_4dda64c6_9248_11eb_8f00_907841ab469erow8_col0\" class=\"data row8 col0\" >HOT-1</td>\n",
       "                        <td id=\"T_4dda64c6_9248_11eb_8f00_907841ab469erow8_col1\" class=\"data row8 col1\" >E-102 Tube Side Inlet Temperature</td>\n",
       "                        <td id=\"T_4dda64c6_9248_11eb_8f00_907841ab469erow8_col2\" class=\"data row8 col2\" >Float</td>\n",
       "                        <td id=\"T_4dda64c6_9248_11eb_8f00_907841ab469erow8_col3\" class=\"data row8 col3\" >°F</td>\n",
       "                        <td id=\"T_4dda64c6_9248_11eb_8f00_907841ab469erow8_col4\" class=\"data row8 col4\" >delmar.DELMAR_UNIT1_TI-101.PV</td>\n",
       "            </tr>\n",
       "            <tr>\n",
       "                                <td id=\"T_4dda64c6_9248_11eb_8f00_907841ab469erow9_col0\" class=\"data row9 col0\" >HOT-1</td>\n",
       "                        <td id=\"T_4dda64c6_9248_11eb_8f00_907841ab469erow9_col1\" class=\"data row9 col1\" >E-102 Tube Side Outlet Pressure</td>\n",
       "                        <td id=\"T_4dda64c6_9248_11eb_8f00_907841ab469erow9_col2\" class=\"data row9 col2\" >Float</td>\n",
       "                        <td id=\"T_4dda64c6_9248_11eb_8f00_907841ab469erow9_col3\" class=\"data row9 col3\" >PSIG</td>\n",
       "                        <td id=\"T_4dda64c6_9248_11eb_8f00_907841ab469erow9_col4\" class=\"data row9 col4\" >delmar.DELMAR_UNIT1_PI-112.PV</td>\n",
       "            </tr>\n",
       "            <tr>\n",
       "                                <td id=\"T_4dda64c6_9248_11eb_8f00_907841ab469erow10_col0\" class=\"data row10 col0\" >HOT-1</td>\n",
       "                        <td id=\"T_4dda64c6_9248_11eb_8f00_907841ab469erow10_col1\" class=\"data row10 col1\" >E-102 Tube Side Outlet Temperature Controller Mode</td>\n",
       "                        <td id=\"T_4dda64c6_9248_11eb_8f00_907841ab469erow10_col2\" class=\"data row10 col2\" >Category</td>\n",
       "                        <td id=\"T_4dda64c6_9248_11eb_8f00_907841ab469erow10_col3\" class=\"data row10 col3\" ></td>\n",
       "                        <td id=\"T_4dda64c6_9248_11eb_8f00_907841ab469erow10_col4\" class=\"data row10 col4\" >delmar.DELMAR_UNIT1_TIC-103.MODE</td>\n",
       "            </tr>\n",
       "            <tr>\n",
       "                                <td id=\"T_4dda64c6_9248_11eb_8f00_907841ab469erow11_col0\" class=\"data row11 col0\" >HOT-1</td>\n",
       "                        <td id=\"T_4dda64c6_9248_11eb_8f00_907841ab469erow11_col1\" class=\"data row11 col1\" >E-102 Tube Side Outlet Temperature Controller Output</td>\n",
       "                        <td id=\"T_4dda64c6_9248_11eb_8f00_907841ab469erow11_col2\" class=\"data row11 col2\" >Float</td>\n",
       "                        <td id=\"T_4dda64c6_9248_11eb_8f00_907841ab469erow11_col3\" class=\"data row11 col3\" >%</td>\n",
       "                        <td id=\"T_4dda64c6_9248_11eb_8f00_907841ab469erow11_col4\" class=\"data row11 col4\" >delmar.DELMAR_UNIT1_TIC-103.OUT</td>\n",
       "            </tr>\n",
       "            <tr>\n",
       "                                <td id=\"T_4dda64c6_9248_11eb_8f00_907841ab469erow12_col0\" class=\"data row12 col0\" >HOT-1</td>\n",
       "                        <td id=\"T_4dda64c6_9248_11eb_8f00_907841ab469erow12_col1\" class=\"data row12 col1\" >E-102 Tube Side Outlet Temperature Controller PV</td>\n",
       "                        <td id=\"T_4dda64c6_9248_11eb_8f00_907841ab469erow12_col2\" class=\"data row12 col2\" >Float</td>\n",
       "                        <td id=\"T_4dda64c6_9248_11eb_8f00_907841ab469erow12_col3\" class=\"data row12 col3\" >°F</td>\n",
       "                        <td id=\"T_4dda64c6_9248_11eb_8f00_907841ab469erow12_col4\" class=\"data row12 col4\" >delmar.DELMAR_UNIT1_TIC-103.PV</td>\n",
       "            </tr>\n",
       "            <tr>\n",
       "                                <td id=\"T_4dda64c6_9248_11eb_8f00_907841ab469erow13_col0\" class=\"data row13 col0\" >HOT-1</td>\n",
       "                        <td id=\"T_4dda64c6_9248_11eb_8f00_907841ab469erow13_col1\" class=\"data row13 col1\" >E-102 Tube Side Outlet Temperature Controller Setpoint</td>\n",
       "                        <td id=\"T_4dda64c6_9248_11eb_8f00_907841ab469erow13_col2\" class=\"data row13 col2\" >Float</td>\n",
       "                        <td id=\"T_4dda64c6_9248_11eb_8f00_907841ab469erow13_col3\" class=\"data row13 col3\" >°F</td>\n",
       "                        <td id=\"T_4dda64c6_9248_11eb_8f00_907841ab469erow13_col4\" class=\"data row13 col4\" >delmar.DELMAR_UNIT1_TIC-103.SP</td>\n",
       "            </tr>\n",
       "    </tbody></table>"
      ],
      "text/plain": [
       "<pandas.io.formats.style.Styler at 0x20067ced148>"
      ]
     },
     "metadata": {},
     "output_type": "display_data"
    },
    {
     "data": {
      "text/html": [
       "<hr></hr>"
      ],
      "text/plain": [
       "<IPython.core.display.HTML object>"
      ]
     },
     "metadata": {},
     "output_type": "display_data"
    },
    {
     "data": {
      "text/markdown": [
       "**Data view ID: <span style=\"color:blue\">pilot.plant_hot-1_htr-101</span>** (# of streams: 6)"
      ],
      "text/plain": [
       "<IPython.core.display.Markdown object>"
      ]
     },
     "metadata": {},
     "output_type": "display_data"
    },
    {
     "data": {
      "text/html": [
       "<style  type=\"text/css\" >\n",
       "</style><table id=\"T_4e23e1b4_9248_11eb_8bd0_907841ab469e\" ><thead>    <tr>        <th class=\"col_heading level0 col0\" >Asset_Id</th>        <th class=\"col_heading level0 col1\" >Column_Name</th>        <th class=\"col_heading level0 col2\" >Stream_Type</th>        <th class=\"col_heading level0 col3\" >Stream_UOM</th>        <th class=\"col_heading level0 col4\" >OCS_Stream_Name</th>    </tr></thead><tbody>\n",
       "                <tr>\n",
       "                                <td id=\"T_4e23e1b4_9248_11eb_8bd0_907841ab469erow0_col0\" class=\"data row0 col0\" >HOT-1</td>\n",
       "                        <td id=\"T_4e23e1b4_9248_11eb_8bd0_907841ab469erow0_col1\" class=\"data row0 col1\" >H-101 Outlet Pressure</td>\n",
       "                        <td id=\"T_4e23e1b4_9248_11eb_8bd0_907841ab469erow0_col2\" class=\"data row0 col2\" >Float</td>\n",
       "                        <td id=\"T_4e23e1b4_9248_11eb_8bd0_907841ab469erow0_col3\" class=\"data row0 col3\" >PSIG</td>\n",
       "                        <td id=\"T_4e23e1b4_9248_11eb_8bd0_907841ab469erow0_col4\" class=\"data row0 col4\" >delmar.DELMAR_UNIT1_PI-109.PV</td>\n",
       "            </tr>\n",
       "            <tr>\n",
       "                                <td id=\"T_4e23e1b4_9248_11eb_8bd0_907841ab469erow1_col0\" class=\"data row1 col0\" >HOT-1</td>\n",
       "                        <td id=\"T_4e23e1b4_9248_11eb_8bd0_907841ab469erow1_col1\" class=\"data row1 col1\" >H-101 Outlet Temperature Controller Mode</td>\n",
       "                        <td id=\"T_4e23e1b4_9248_11eb_8bd0_907841ab469erow1_col2\" class=\"data row1 col2\" >Category</td>\n",
       "                        <td id=\"T_4e23e1b4_9248_11eb_8bd0_907841ab469erow1_col3\" class=\"data row1 col3\" ></td>\n",
       "                        <td id=\"T_4e23e1b4_9248_11eb_8bd0_907841ab469erow1_col4\" class=\"data row1 col4\" >delmar.DELMAR_UNIT1_TIC-104.MODE</td>\n",
       "            </tr>\n",
       "            <tr>\n",
       "                                <td id=\"T_4e23e1b4_9248_11eb_8bd0_907841ab469erow2_col0\" class=\"data row2 col0\" >HOT-1</td>\n",
       "                        <td id=\"T_4e23e1b4_9248_11eb_8bd0_907841ab469erow2_col1\" class=\"data row2 col1\" >H-101 Outlet Temperature Controller Output</td>\n",
       "                        <td id=\"T_4e23e1b4_9248_11eb_8bd0_907841ab469erow2_col2\" class=\"data row2 col2\" >Float</td>\n",
       "                        <td id=\"T_4e23e1b4_9248_11eb_8bd0_907841ab469erow2_col3\" class=\"data row2 col3\" >%</td>\n",
       "                        <td id=\"T_4e23e1b4_9248_11eb_8bd0_907841ab469erow2_col4\" class=\"data row2 col4\" >delmar.DELMAR_UNIT1_TIC-104.OUT</td>\n",
       "            </tr>\n",
       "            <tr>\n",
       "                                <td id=\"T_4e23e1b4_9248_11eb_8bd0_907841ab469erow3_col0\" class=\"data row3 col0\" >HOT-1</td>\n",
       "                        <td id=\"T_4e23e1b4_9248_11eb_8bd0_907841ab469erow3_col1\" class=\"data row3 col1\" >H-101 Outlet Temperature Controller PV</td>\n",
       "                        <td id=\"T_4e23e1b4_9248_11eb_8bd0_907841ab469erow3_col2\" class=\"data row3 col2\" >Float</td>\n",
       "                        <td id=\"T_4e23e1b4_9248_11eb_8bd0_907841ab469erow3_col3\" class=\"data row3 col3\" >°F</td>\n",
       "                        <td id=\"T_4e23e1b4_9248_11eb_8bd0_907841ab469erow3_col4\" class=\"data row3 col4\" >delmar.DELMAR_UNIT1_TIC-104.PV</td>\n",
       "            </tr>\n",
       "            <tr>\n",
       "                                <td id=\"T_4e23e1b4_9248_11eb_8bd0_907841ab469erow4_col0\" class=\"data row4 col0\" >HOT-1</td>\n",
       "                        <td id=\"T_4e23e1b4_9248_11eb_8bd0_907841ab469erow4_col1\" class=\"data row4 col1\" >H-101 Outlet Temperature Controller Setpoint</td>\n",
       "                        <td id=\"T_4e23e1b4_9248_11eb_8bd0_907841ab469erow4_col2\" class=\"data row4 col2\" >Float</td>\n",
       "                        <td id=\"T_4e23e1b4_9248_11eb_8bd0_907841ab469erow4_col3\" class=\"data row4 col3\" >°F</td>\n",
       "                        <td id=\"T_4e23e1b4_9248_11eb_8bd0_907841ab469erow4_col4\" class=\"data row4 col4\" >delmar.DELMAR_UNIT1_TIC-104.SP</td>\n",
       "            </tr>\n",
       "            <tr>\n",
       "                                <td id=\"T_4e23e1b4_9248_11eb_8bd0_907841ab469erow5_col0\" class=\"data row5 col0\" >HOT-1</td>\n",
       "                        <td id=\"T_4e23e1b4_9248_11eb_8bd0_907841ab469erow5_col1\" class=\"data row5 col1\" >Heater Charge Flow</td>\n",
       "                        <td id=\"T_4e23e1b4_9248_11eb_8bd0_907841ab469erow5_col2\" class=\"data row5 col2\" >Float</td>\n",
       "                        <td id=\"T_4e23e1b4_9248_11eb_8bd0_907841ab469erow5_col3\" class=\"data row5 col3\" >GPM</td>\n",
       "                        <td id=\"T_4e23e1b4_9248_11eb_8bd0_907841ab469erow5_col4\" class=\"data row5 col4\" >delmar.DELMAR_UNIT1_FI-102.PV</td>\n",
       "            </tr>\n",
       "    </tbody></table>"
      ],
      "text/plain": [
       "<pandas.io.formats.style.Styler at 0x20002d29a48>"
      ]
     },
     "metadata": {},
     "output_type": "display_data"
    },
    {
     "data": {
      "text/html": [
       "<hr></hr>"
      ],
      "text/plain": [
       "<IPython.core.display.HTML object>"
      ]
     },
     "metadata": {},
     "output_type": "display_data"
    },
    {
     "data": {
      "text/markdown": [
       "**Data view ID: <span style=\"color:blue\">pilot.plant_hot-1_tk-101</span>** (# of streams: 13)"
      ],
      "text/plain": [
       "<IPython.core.display.Markdown object>"
      ]
     },
     "metadata": {},
     "output_type": "display_data"
    },
    {
     "data": {
      "text/html": [
       "<style  type=\"text/css\" >\n",
       "</style><table id=\"T_4e72069e_9248_11eb_a8bc_907841ab469e\" ><thead>    <tr>        <th class=\"col_heading level0 col0\" >Asset_Id</th>        <th class=\"col_heading level0 col1\" >Column_Name</th>        <th class=\"col_heading level0 col2\" >Stream_Type</th>        <th class=\"col_heading level0 col3\" >Stream_UOM</th>        <th class=\"col_heading level0 col4\" >OCS_Stream_Name</th>    </tr></thead><tbody>\n",
       "                <tr>\n",
       "                                <td id=\"T_4e72069e_9248_11eb_a8bc_907841ab469erow0_col0\" class=\"data row0 col0\" >HOT-1</td>\n",
       "                        <td id=\"T_4e72069e_9248_11eb_a8bc_907841ab469erow0_col1\" class=\"data row0 col1\" >E-101 Air Cooler Outlet Temperature</td>\n",
       "                        <td id=\"T_4e72069e_9248_11eb_a8bc_907841ab469erow0_col2\" class=\"data row0 col2\" >Float</td>\n",
       "                        <td id=\"T_4e72069e_9248_11eb_a8bc_907841ab469erow0_col3\" class=\"data row0 col3\" >°F</td>\n",
       "                        <td id=\"T_4e72069e_9248_11eb_a8bc_907841ab469erow0_col4\" class=\"data row0 col4\" >delmar.DELMAR_UNIT1_TI-107.PV</td>\n",
       "            </tr>\n",
       "            <tr>\n",
       "                                <td id=\"T_4e72069e_9248_11eb_a8bc_907841ab469erow1_col0\" class=\"data row1 col0\" >HOT-1</td>\n",
       "                        <td id=\"T_4e72069e_9248_11eb_a8bc_907841ab469erow1_col1\" class=\"data row1 col1\" >Feed Flow Controller Mode</td>\n",
       "                        <td id=\"T_4e72069e_9248_11eb_a8bc_907841ab469erow1_col2\" class=\"data row1 col2\" >Category</td>\n",
       "                        <td id=\"T_4e72069e_9248_11eb_a8bc_907841ab469erow1_col3\" class=\"data row1 col3\" ></td>\n",
       "                        <td id=\"T_4e72069e_9248_11eb_a8bc_907841ab469erow1_col4\" class=\"data row1 col4\" >delmar.DELMAR_UNIT1_FIC-101.MODE</td>\n",
       "            </tr>\n",
       "            <tr>\n",
       "                                <td id=\"T_4e72069e_9248_11eb_a8bc_907841ab469erow2_col0\" class=\"data row2 col0\" >HOT-1</td>\n",
       "                        <td id=\"T_4e72069e_9248_11eb_a8bc_907841ab469erow2_col1\" class=\"data row2 col1\" >Feed Flow Controller Output</td>\n",
       "                        <td id=\"T_4e72069e_9248_11eb_a8bc_907841ab469erow2_col2\" class=\"data row2 col2\" >Float</td>\n",
       "                        <td id=\"T_4e72069e_9248_11eb_a8bc_907841ab469erow2_col3\" class=\"data row2 col3\" >%</td>\n",
       "                        <td id=\"T_4e72069e_9248_11eb_a8bc_907841ab469erow2_col4\" class=\"data row2 col4\" >delmar.DELMAR_UNIT1_FIC-101.OUT</td>\n",
       "            </tr>\n",
       "            <tr>\n",
       "                                <td id=\"T_4e72069e_9248_11eb_a8bc_907841ab469erow3_col0\" class=\"data row3 col0\" >HOT-1</td>\n",
       "                        <td id=\"T_4e72069e_9248_11eb_a8bc_907841ab469erow3_col1\" class=\"data row3 col1\" >Feed Flow Controller PV</td>\n",
       "                        <td id=\"T_4e72069e_9248_11eb_a8bc_907841ab469erow3_col2\" class=\"data row3 col2\" >Float</td>\n",
       "                        <td id=\"T_4e72069e_9248_11eb_a8bc_907841ab469erow3_col3\" class=\"data row3 col3\" >GPM</td>\n",
       "                        <td id=\"T_4e72069e_9248_11eb_a8bc_907841ab469erow3_col4\" class=\"data row3 col4\" >delmar.DELMAR_UNIT1_FIC-101.PV</td>\n",
       "            </tr>\n",
       "            <tr>\n",
       "                                <td id=\"T_4e72069e_9248_11eb_a8bc_907841ab469erow4_col0\" class=\"data row4 col0\" >HOT-1</td>\n",
       "                        <td id=\"T_4e72069e_9248_11eb_a8bc_907841ab469erow4_col1\" class=\"data row4 col1\" >Feed Flow Controller Setpoint</td>\n",
       "                        <td id=\"T_4e72069e_9248_11eb_a8bc_907841ab469erow4_col2\" class=\"data row4 col2\" >Float</td>\n",
       "                        <td id=\"T_4e72069e_9248_11eb_a8bc_907841ab469erow4_col3\" class=\"data row4 col3\" >GPM</td>\n",
       "                        <td id=\"T_4e72069e_9248_11eb_a8bc_907841ab469erow4_col4\" class=\"data row4 col4\" >delmar.DELMAR_UNIT1_FIC-101.SP</td>\n",
       "            </tr>\n",
       "            <tr>\n",
       "                                <td id=\"T_4e72069e_9248_11eb_a8bc_907841ab469erow5_col0\" class=\"data row5 col0\" >HOT-1</td>\n",
       "                        <td id=\"T_4e72069e_9248_11eb_a8bc_907841ab469erow5_col1\" class=\"data row5 col1\" >P-101 A/B Discharge pressure</td>\n",
       "                        <td id=\"T_4e72069e_9248_11eb_a8bc_907841ab469erow5_col2\" class=\"data row5 col2\" >Float</td>\n",
       "                        <td id=\"T_4e72069e_9248_11eb_a8bc_907841ab469erow5_col3\" class=\"data row5 col3\" >PSIG</td>\n",
       "                        <td id=\"T_4e72069e_9248_11eb_a8bc_907841ab469erow5_col4\" class=\"data row5 col4\" >delmar.DELMAR_UNIT1_PI-111.PV</td>\n",
       "            </tr>\n",
       "            <tr>\n",
       "                                <td id=\"T_4e72069e_9248_11eb_a8bc_907841ab469erow6_col0\" class=\"data row6 col0\" >HOT-1</td>\n",
       "                        <td id=\"T_4e72069e_9248_11eb_a8bc_907841ab469erow6_col1\" class=\"data row6 col1\" >P-101A Run Status</td>\n",
       "                        <td id=\"T_4e72069e_9248_11eb_a8bc_907841ab469erow6_col2\" class=\"data row6 col2\" >Category</td>\n",
       "                        <td id=\"T_4e72069e_9248_11eb_a8bc_907841ab469erow6_col3\" class=\"data row6 col3\" ></td>\n",
       "                        <td id=\"T_4e72069e_9248_11eb_a8bc_907841ab469erow6_col4\" class=\"data row6 col4\" >delmar.DELMAR_UNIT1_XB-101A</td>\n",
       "            </tr>\n",
       "            <tr>\n",
       "                                <td id=\"T_4e72069e_9248_11eb_a8bc_907841ab469erow7_col0\" class=\"data row7 col0\" >HOT-1</td>\n",
       "                        <td id=\"T_4e72069e_9248_11eb_a8bc_907841ab469erow7_col1\" class=\"data row7 col1\" >P-101B Run Status</td>\n",
       "                        <td id=\"T_4e72069e_9248_11eb_a8bc_907841ab469erow7_col2\" class=\"data row7 col2\" >Category</td>\n",
       "                        <td id=\"T_4e72069e_9248_11eb_a8bc_907841ab469erow7_col3\" class=\"data row7 col3\" ></td>\n",
       "                        <td id=\"T_4e72069e_9248_11eb_a8bc_907841ab469erow7_col4\" class=\"data row7 col4\" >delmar.DELMAR_UNIT1_XB-101B</td>\n",
       "            </tr>\n",
       "            <tr>\n",
       "                                <td id=\"T_4e72069e_9248_11eb_a8bc_907841ab469erow8_col0\" class=\"data row8 col0\" >HOT-1</td>\n",
       "                        <td id=\"T_4e72069e_9248_11eb_a8bc_907841ab469erow8_col1\" class=\"data row8 col1\" >T-101 Level Controller Mode</td>\n",
       "                        <td id=\"T_4e72069e_9248_11eb_a8bc_907841ab469erow8_col2\" class=\"data row8 col2\" >Category</td>\n",
       "                        <td id=\"T_4e72069e_9248_11eb_a8bc_907841ab469erow8_col3\" class=\"data row8 col3\" ></td>\n",
       "                        <td id=\"T_4e72069e_9248_11eb_a8bc_907841ab469erow8_col4\" class=\"data row8 col4\" >delmar.DELMAR_UNIT1_LIC-101.MODE</td>\n",
       "            </tr>\n",
       "            <tr>\n",
       "                                <td id=\"T_4e72069e_9248_11eb_a8bc_907841ab469erow9_col0\" class=\"data row9 col0\" >HOT-1</td>\n",
       "                        <td id=\"T_4e72069e_9248_11eb_a8bc_907841ab469erow9_col1\" class=\"data row9 col1\" >T-101 Level Controller Output</td>\n",
       "                        <td id=\"T_4e72069e_9248_11eb_a8bc_907841ab469erow9_col2\" class=\"data row9 col2\" >Float</td>\n",
       "                        <td id=\"T_4e72069e_9248_11eb_a8bc_907841ab469erow9_col3\" class=\"data row9 col3\" >%</td>\n",
       "                        <td id=\"T_4e72069e_9248_11eb_a8bc_907841ab469erow9_col4\" class=\"data row9 col4\" >delmar.DELMAR_UNIT1_LIC-101.OUT</td>\n",
       "            </tr>\n",
       "            <tr>\n",
       "                                <td id=\"T_4e72069e_9248_11eb_a8bc_907841ab469erow10_col0\" class=\"data row10 col0\" >HOT-1</td>\n",
       "                        <td id=\"T_4e72069e_9248_11eb_a8bc_907841ab469erow10_col1\" class=\"data row10 col1\" >T-101 Level Controller PV</td>\n",
       "                        <td id=\"T_4e72069e_9248_11eb_a8bc_907841ab469erow10_col2\" class=\"data row10 col2\" >Float</td>\n",
       "                        <td id=\"T_4e72069e_9248_11eb_a8bc_907841ab469erow10_col3\" class=\"data row10 col3\" >%</td>\n",
       "                        <td id=\"T_4e72069e_9248_11eb_a8bc_907841ab469erow10_col4\" class=\"data row10 col4\" >delmar.DELMAR_UNIT1_LIC-101.PV</td>\n",
       "            </tr>\n",
       "            <tr>\n",
       "                                <td id=\"T_4e72069e_9248_11eb_a8bc_907841ab469erow11_col0\" class=\"data row11 col0\" >HOT-1</td>\n",
       "                        <td id=\"T_4e72069e_9248_11eb_a8bc_907841ab469erow11_col1\" class=\"data row11 col1\" >T-101 Level Controller Setpoint</td>\n",
       "                        <td id=\"T_4e72069e_9248_11eb_a8bc_907841ab469erow11_col2\" class=\"data row11 col2\" >Float</td>\n",
       "                        <td id=\"T_4e72069e_9248_11eb_a8bc_907841ab469erow11_col3\" class=\"data row11 col3\" >%</td>\n",
       "                        <td id=\"T_4e72069e_9248_11eb_a8bc_907841ab469erow11_col4\" class=\"data row11 col4\" >delmar.DELMAR_UNIT1_LIC-101.SP</td>\n",
       "            </tr>\n",
       "            <tr>\n",
       "                                <td id=\"T_4e72069e_9248_11eb_a8bc_907841ab469erow12_col0\" class=\"data row12 col0\" >HOT-1</td>\n",
       "                        <td id=\"T_4e72069e_9248_11eb_a8bc_907841ab469erow12_col1\" class=\"data row12 col1\" >Unit 1 Common Trouble Alarm</td>\n",
       "                        <td id=\"T_4e72069e_9248_11eb_a8bc_907841ab469erow12_col2\" class=\"data row12 col2\" >Category</td>\n",
       "                        <td id=\"T_4e72069e_9248_11eb_a8bc_907841ab469erow12_col3\" class=\"data row12 col3\" ></td>\n",
       "                        <td id=\"T_4e72069e_9248_11eb_a8bc_907841ab469erow12_col4\" class=\"data row12 col4\" >delmar.DELMAR_UNIT1_XA-100</td>\n",
       "            </tr>\n",
       "    </tbody></table>"
      ],
      "text/plain": [
       "<pandas.io.formats.style.Styler at 0x20002d36248>"
      ]
     },
     "metadata": {},
     "output_type": "display_data"
    },
    {
     "data": {
      "text/html": [
       "<hr></hr>"
      ],
      "text/plain": [
       "<IPython.core.display.HTML object>"
      ]
     },
     "metadata": {},
     "output_type": "display_data"
    },
    {
     "data": {
      "text/markdown": [
       "**Data view ID: <span style=\"color:blue\">pilot.plant_hot-1_tk-102</span>** (# of streams: 2)"
      ],
      "text/plain": [
       "<IPython.core.display.Markdown object>"
      ]
     },
     "metadata": {},
     "output_type": "display_data"
    },
    {
     "data": {
      "text/html": [
       "<style  type=\"text/css\" >\n",
       "</style><table id=\"T_4ebaaea4_9248_11eb_beec_907841ab469e\" ><thead>    <tr>        <th class=\"col_heading level0 col0\" >Asset_Id</th>        <th class=\"col_heading level0 col1\" >Column_Name</th>        <th class=\"col_heading level0 col2\" >Stream_Type</th>        <th class=\"col_heading level0 col3\" >Stream_UOM</th>        <th class=\"col_heading level0 col4\" >OCS_Stream_Name</th>    </tr></thead><tbody>\n",
       "                <tr>\n",
       "                                <td id=\"T_4ebaaea4_9248_11eb_beec_907841ab469erow0_col0\" class=\"data row0 col0\" >HOT-1</td>\n",
       "                        <td id=\"T_4ebaaea4_9248_11eb_beec_907841ab469erow0_col1\" class=\"data row0 col1\" >P-102 Discharge pressure</td>\n",
       "                        <td id=\"T_4ebaaea4_9248_11eb_beec_907841ab469erow0_col2\" class=\"data row0 col2\" >Float</td>\n",
       "                        <td id=\"T_4ebaaea4_9248_11eb_beec_907841ab469erow0_col3\" class=\"data row0 col3\" >PSIG</td>\n",
       "                        <td id=\"T_4ebaaea4_9248_11eb_beec_907841ab469erow0_col4\" class=\"data row0 col4\" >delmar.DELMAR_UNIT1_PI-108.PV</td>\n",
       "            </tr>\n",
       "            <tr>\n",
       "                                <td id=\"T_4ebaaea4_9248_11eb_beec_907841ab469erow1_col0\" class=\"data row1 col0\" >HOT-1</td>\n",
       "                        <td id=\"T_4ebaaea4_9248_11eb_beec_907841ab469erow1_col1\" class=\"data row1 col1\" >P-102 Run Status</td>\n",
       "                        <td id=\"T_4ebaaea4_9248_11eb_beec_907841ab469erow1_col2\" class=\"data row1 col2\" >Category</td>\n",
       "                        <td id=\"T_4ebaaea4_9248_11eb_beec_907841ab469erow1_col3\" class=\"data row1 col3\" ></td>\n",
       "                        <td id=\"T_4ebaaea4_9248_11eb_beec_907841ab469erow1_col4\" class=\"data row1 col4\" >delmar.DELMAR_UNIT1_XB-102</td>\n",
       "            </tr>\n",
       "    </tbody></table>"
      ],
      "text/plain": [
       "<pandas.io.formats.style.Styler at 0x20002bd9108>"
      ]
     },
     "metadata": {},
     "output_type": "display_data"
    },
    {
     "data": {
      "text/html": [
       "<hr></hr>"
      ],
      "text/plain": [
       "<IPython.core.display.HTML object>"
      ]
     },
     "metadata": {},
     "output_type": "display_data"
    },
    {
     "data": {
      "text/markdown": [
       "**Data view ID: <span style=\"color:blue\">pilot.plant_hot-1_tk-103</span>** (# of streams: 1)"
      ],
      "text/plain": [
       "<IPython.core.display.Markdown object>"
      ]
     },
     "metadata": {},
     "output_type": "display_data"
    },
    {
     "data": {
      "text/html": [
       "<style  type=\"text/css\" >\n",
       "</style><table id=\"T_4f08e628_9248_11eb_91c5_907841ab469e\" ><thead>    <tr>        <th class=\"col_heading level0 col0\" >Asset_Id</th>        <th class=\"col_heading level0 col1\" >Column_Name</th>        <th class=\"col_heading level0 col2\" >Stream_Type</th>        <th class=\"col_heading level0 col3\" >Stream_UOM</th>        <th class=\"col_heading level0 col4\" >OCS_Stream_Name</th>    </tr></thead><tbody>\n",
       "                <tr>\n",
       "                                <td id=\"T_4f08e628_9248_11eb_91c5_907841ab469erow0_col0\" class=\"data row0 col0\" >HOT-1</td>\n",
       "                        <td id=\"T_4f08e628_9248_11eb_91c5_907841ab469erow0_col1\" class=\"data row0 col1\" >P-103 Run Status</td>\n",
       "                        <td id=\"T_4f08e628_9248_11eb_91c5_907841ab469erow0_col2\" class=\"data row0 col2\" >Category</td>\n",
       "                        <td id=\"T_4f08e628_9248_11eb_91c5_907841ab469erow0_col3\" class=\"data row0 col3\" ></td>\n",
       "                        <td id=\"T_4f08e628_9248_11eb_91c5_907841ab469erow0_col4\" class=\"data row0 col4\" >delmar.DELMAR_UNIT1_XB-103</td>\n",
       "            </tr>\n",
       "    </tbody></table>"
      ],
      "text/plain": [
       "<pandas.io.formats.style.Styler at 0x20002bd1e08>"
      ]
     },
     "metadata": {},
     "output_type": "display_data"
    },
    {
     "data": {
      "text/html": [
       "<hr></hr>"
      ],
      "text/plain": [
       "<IPython.core.display.HTML object>"
      ]
     },
     "metadata": {},
     "output_type": "display_data"
    },
    {
     "data": {
      "text/markdown": [
       "**Data view ID: <span style=\"color:blue\">pilot.plant_hot-3</span>** (# of streams: 39)"
      ],
      "text/plain": [
       "<IPython.core.display.Markdown object>"
      ]
     },
     "metadata": {},
     "output_type": "display_data"
    },
    {
     "data": {
      "text/html": [
       "<style  type=\"text/css\" >\n",
       "</style><table id=\"T_4f6a02e8_9248_11eb_beca_907841ab469e\" ><thead>    <tr>        <th class=\"col_heading level0 col0\" >Asset_Id</th>        <th class=\"col_heading level0 col1\" >Column_Name</th>        <th class=\"col_heading level0 col2\" >Stream_Type</th>        <th class=\"col_heading level0 col3\" >Stream_UOM</th>        <th class=\"col_heading level0 col4\" >OCS_Stream_Name</th>    </tr></thead><tbody>\n",
       "                <tr>\n",
       "                                <td id=\"T_4f6a02e8_9248_11eb_beca_907841ab469erow0_col0\" class=\"data row0 col0\" >HOT-3</td>\n",
       "                        <td id=\"T_4f6a02e8_9248_11eb_beca_907841ab469erow0_col1\" class=\"data row0 col1\" >Bottoms Level</td>\n",
       "                        <td id=\"T_4f6a02e8_9248_11eb_beca_907841ab469erow0_col2\" class=\"data row0 col2\" >Float</td>\n",
       "                        <td id=\"T_4f6a02e8_9248_11eb_beca_907841ab469erow0_col3\" class=\"data row0 col3\" >%</td>\n",
       "                        <td id=\"T_4f6a02e8_9248_11eb_beca_907841ab469erow0_col4\" class=\"data row0 col4\" >delmar.DELMAR_UNIT3_LI-210.PV</td>\n",
       "            </tr>\n",
       "            <tr>\n",
       "                                <td id=\"T_4f6a02e8_9248_11eb_beca_907841ab469erow1_col0\" class=\"data row1 col0\" >HOT-3</td>\n",
       "                        <td id=\"T_4f6a02e8_9248_11eb_beca_907841ab469erow1_col1\" class=\"data row1 col1\" >Bottoms Temperature</td>\n",
       "                        <td id=\"T_4f6a02e8_9248_11eb_beca_907841ab469erow1_col2\" class=\"data row1 col2\" >Float</td>\n",
       "                        <td id=\"T_4f6a02e8_9248_11eb_beca_907841ab469erow1_col3\" class=\"data row1 col3\" >°F</td>\n",
       "                        <td id=\"T_4f6a02e8_9248_11eb_beca_907841ab469erow1_col4\" class=\"data row1 col4\" >delmar.DELMAR_UNIT3_TI-200.PV</td>\n",
       "            </tr>\n",
       "            <tr>\n",
       "                                <td id=\"T_4f6a02e8_9248_11eb_beca_907841ab469erow2_col0\" class=\"data row2 col0\" >HOT-3</td>\n",
       "                        <td id=\"T_4f6a02e8_9248_11eb_beca_907841ab469erow2_col1\" class=\"data row2 col1\" >Bottoms to Feed Flow Controller Mode</td>\n",
       "                        <td id=\"T_4f6a02e8_9248_11eb_beca_907841ab469erow2_col2\" class=\"data row2 col2\" >Category</td>\n",
       "                        <td id=\"T_4f6a02e8_9248_11eb_beca_907841ab469erow2_col3\" class=\"data row2 col3\" ></td>\n",
       "                        <td id=\"T_4f6a02e8_9248_11eb_beca_907841ab469erow2_col4\" class=\"data row2 col4\" >delmar.DELMAR_UNIT3_FIC-200.MODE</td>\n",
       "            </tr>\n",
       "            <tr>\n",
       "                                <td id=\"T_4f6a02e8_9248_11eb_beca_907841ab469erow3_col0\" class=\"data row3 col0\" >HOT-3</td>\n",
       "                        <td id=\"T_4f6a02e8_9248_11eb_beca_907841ab469erow3_col1\" class=\"data row3 col1\" >Bottoms to Feed Flow Controller Output</td>\n",
       "                        <td id=\"T_4f6a02e8_9248_11eb_beca_907841ab469erow3_col2\" class=\"data row3 col2\" >Float</td>\n",
       "                        <td id=\"T_4f6a02e8_9248_11eb_beca_907841ab469erow3_col3\" class=\"data row3 col3\" >%</td>\n",
       "                        <td id=\"T_4f6a02e8_9248_11eb_beca_907841ab469erow3_col4\" class=\"data row3 col4\" >delmar.DELMAR_UNIT3_FIC-200.OUT</td>\n",
       "            </tr>\n",
       "            <tr>\n",
       "                                <td id=\"T_4f6a02e8_9248_11eb_beca_907841ab469erow4_col0\" class=\"data row4 col0\" >HOT-3</td>\n",
       "                        <td id=\"T_4f6a02e8_9248_11eb_beca_907841ab469erow4_col1\" class=\"data row4 col1\" >Bottoms to Feed Flow Controller PV</td>\n",
       "                        <td id=\"T_4f6a02e8_9248_11eb_beca_907841ab469erow4_col2\" class=\"data row4 col2\" >Float</td>\n",
       "                        <td id=\"T_4f6a02e8_9248_11eb_beca_907841ab469erow4_col3\" class=\"data row4 col3\" >GPH</td>\n",
       "                        <td id=\"T_4f6a02e8_9248_11eb_beca_907841ab469erow4_col4\" class=\"data row4 col4\" >delmar.DELMAR_UNIT3_FIC-200.PV</td>\n",
       "            </tr>\n",
       "            <tr>\n",
       "                                <td id=\"T_4f6a02e8_9248_11eb_beca_907841ab469erow5_col0\" class=\"data row5 col0\" >HOT-3</td>\n",
       "                        <td id=\"T_4f6a02e8_9248_11eb_beca_907841ab469erow5_col1\" class=\"data row5 col1\" >Bottoms to Feed Flow Controller Setpoint</td>\n",
       "                        <td id=\"T_4f6a02e8_9248_11eb_beca_907841ab469erow5_col2\" class=\"data row5 col2\" >Float</td>\n",
       "                        <td id=\"T_4f6a02e8_9248_11eb_beca_907841ab469erow5_col3\" class=\"data row5 col3\" >GPH</td>\n",
       "                        <td id=\"T_4f6a02e8_9248_11eb_beca_907841ab469erow5_col4\" class=\"data row5 col4\" >delmar.DELMAR_UNIT3_FIC-200.SP</td>\n",
       "            </tr>\n",
       "            <tr>\n",
       "                                <td id=\"T_4f6a02e8_9248_11eb_beca_907841ab469erow6_col0\" class=\"data row6 col0\" >HOT-3</td>\n",
       "                        <td id=\"T_4f6a02e8_9248_11eb_beca_907841ab469erow6_col1\" class=\"data row6 col1\" >Cooling Water Discharge E-230</td>\n",
       "                        <td id=\"T_4f6a02e8_9248_11eb_beca_907841ab469erow6_col2\" class=\"data row6 col2\" >Float</td>\n",
       "                        <td id=\"T_4f6a02e8_9248_11eb_beca_907841ab469erow6_col3\" class=\"data row6 col3\" >°F</td>\n",
       "                        <td id=\"T_4f6a02e8_9248_11eb_beca_907841ab469erow6_col4\" class=\"data row6 col4\" >delmar.DELMAR_UNIT3_TI-265.PV</td>\n",
       "            </tr>\n",
       "            <tr>\n",
       "                                <td id=\"T_4f6a02e8_9248_11eb_beca_907841ab469erow7_col0\" class=\"data row7 col0\" >HOT-3</td>\n",
       "                        <td id=\"T_4f6a02e8_9248_11eb_beca_907841ab469erow7_col1\" class=\"data row7 col1\" >Cooling Water Header Temperature</td>\n",
       "                        <td id=\"T_4f6a02e8_9248_11eb_beca_907841ab469erow7_col2\" class=\"data row7 col2\" >Float</td>\n",
       "                        <td id=\"T_4f6a02e8_9248_11eb_beca_907841ab469erow7_col3\" class=\"data row7 col3\" >°F</td>\n",
       "                        <td id=\"T_4f6a02e8_9248_11eb_beca_907841ab469erow7_col4\" class=\"data row7 col4\" >delmar.DELMAR_UNIT3_TI-260.PV</td>\n",
       "            </tr>\n",
       "            <tr>\n",
       "                                <td id=\"T_4f6a02e8_9248_11eb_beca_907841ab469erow8_col0\" class=\"data row8 col0\" >HOT-3</td>\n",
       "                        <td id=\"T_4f6a02e8_9248_11eb_beca_907841ab469erow8_col1\" class=\"data row8 col1\" >Feed Temperature</td>\n",
       "                        <td id=\"T_4f6a02e8_9248_11eb_beca_907841ab469erow8_col2\" class=\"data row8 col2\" >Float</td>\n",
       "                        <td id=\"T_4f6a02e8_9248_11eb_beca_907841ab469erow8_col3\" class=\"data row8 col3\" >°F</td>\n",
       "                        <td id=\"T_4f6a02e8_9248_11eb_beca_907841ab469erow8_col4\" class=\"data row8 col4\" >delmar.DELMAR_UNIT3_TI-210.PV</td>\n",
       "            </tr>\n",
       "            <tr>\n",
       "                                <td id=\"T_4f6a02e8_9248_11eb_beca_907841ab469erow9_col0\" class=\"data row9 col0\" >HOT-3</td>\n",
       "                        <td id=\"T_4f6a02e8_9248_11eb_beca_907841ab469erow9_col1\" class=\"data row9 col1\" >Overhead Pressure</td>\n",
       "                        <td id=\"T_4f6a02e8_9248_11eb_beca_907841ab469erow9_col2\" class=\"data row9 col2\" >Float</td>\n",
       "                        <td id=\"T_4f6a02e8_9248_11eb_beca_907841ab469erow9_col3\" class=\"data row9 col3\" >mmHga</td>\n",
       "                        <td id=\"T_4f6a02e8_9248_11eb_beca_907841ab469erow9_col4\" class=\"data row9 col4\" >delmar.DELMAR_UNIT3_PI-225.PV</td>\n",
       "            </tr>\n",
       "            <tr>\n",
       "                                <td id=\"T_4f6a02e8_9248_11eb_beca_907841ab469erow10_col0\" class=\"data row10 col0\" >HOT-3</td>\n",
       "                        <td id=\"T_4f6a02e8_9248_11eb_beca_907841ab469erow10_col1\" class=\"data row10 col1\" >Overhead Receiver Level Controller Mode</td>\n",
       "                        <td id=\"T_4f6a02e8_9248_11eb_beca_907841ab469erow10_col2\" class=\"data row10 col2\" >Category</td>\n",
       "                        <td id=\"T_4f6a02e8_9248_11eb_beca_907841ab469erow10_col3\" class=\"data row10 col3\" ></td>\n",
       "                        <td id=\"T_4f6a02e8_9248_11eb_beca_907841ab469erow10_col4\" class=\"data row10 col4\" >delmar.DELMAR_UNIT3_LIC-240.MODE</td>\n",
       "            </tr>\n",
       "            <tr>\n",
       "                                <td id=\"T_4f6a02e8_9248_11eb_beca_907841ab469erow11_col0\" class=\"data row11 col0\" >HOT-3</td>\n",
       "                        <td id=\"T_4f6a02e8_9248_11eb_beca_907841ab469erow11_col1\" class=\"data row11 col1\" >Overhead Receiver Level Controller Output</td>\n",
       "                        <td id=\"T_4f6a02e8_9248_11eb_beca_907841ab469erow11_col2\" class=\"data row11 col2\" >Float</td>\n",
       "                        <td id=\"T_4f6a02e8_9248_11eb_beca_907841ab469erow11_col3\" class=\"data row11 col3\" >%</td>\n",
       "                        <td id=\"T_4f6a02e8_9248_11eb_beca_907841ab469erow11_col4\" class=\"data row11 col4\" >delmar.DELMAR_UNIT3_LIC-240.OUT</td>\n",
       "            </tr>\n",
       "            <tr>\n",
       "                                <td id=\"T_4f6a02e8_9248_11eb_beca_907841ab469erow12_col0\" class=\"data row12 col0\" >HOT-3</td>\n",
       "                        <td id=\"T_4f6a02e8_9248_11eb_beca_907841ab469erow12_col1\" class=\"data row12 col1\" >Overhead Receiver Level Controller PV</td>\n",
       "                        <td id=\"T_4f6a02e8_9248_11eb_beca_907841ab469erow12_col2\" class=\"data row12 col2\" >Float</td>\n",
       "                        <td id=\"T_4f6a02e8_9248_11eb_beca_907841ab469erow12_col3\" class=\"data row12 col3\" >%</td>\n",
       "                        <td id=\"T_4f6a02e8_9248_11eb_beca_907841ab469erow12_col4\" class=\"data row12 col4\" >delmar.DELMAR_UNIT3_LIC-240.PV</td>\n",
       "            </tr>\n",
       "            <tr>\n",
       "                                <td id=\"T_4f6a02e8_9248_11eb_beca_907841ab469erow13_col0\" class=\"data row13 col0\" >HOT-3</td>\n",
       "                        <td id=\"T_4f6a02e8_9248_11eb_beca_907841ab469erow13_col1\" class=\"data row13 col1\" >Overhead Receiver Level Controller Setpoint</td>\n",
       "                        <td id=\"T_4f6a02e8_9248_11eb_beca_907841ab469erow13_col2\" class=\"data row13 col2\" >Float</td>\n",
       "                        <td id=\"T_4f6a02e8_9248_11eb_beca_907841ab469erow13_col3\" class=\"data row13 col3\" >%</td>\n",
       "                        <td id=\"T_4f6a02e8_9248_11eb_beca_907841ab469erow13_col4\" class=\"data row13 col4\" >delmar.DELMAR_UNIT3_LIC-240.SP</td>\n",
       "            </tr>\n",
       "            <tr>\n",
       "                                <td id=\"T_4f6a02e8_9248_11eb_beca_907841ab469erow14_col0\" class=\"data row14 col0\" >HOT-3</td>\n",
       "                        <td id=\"T_4f6a02e8_9248_11eb_beca_907841ab469erow14_col1\" class=\"data row14 col1\" >Overhead to Feed Flow</td>\n",
       "                        <td id=\"T_4f6a02e8_9248_11eb_beca_907841ab469erow14_col2\" class=\"data row14 col2\" >Float</td>\n",
       "                        <td id=\"T_4f6a02e8_9248_11eb_beca_907841ab469erow14_col3\" class=\"data row14 col3\" >GPH</td>\n",
       "                        <td id=\"T_4f6a02e8_9248_11eb_beca_907841ab469erow14_col4\" class=\"data row14 col4\" >delmar.DELMAR_UNIT3_FI-210.PV</td>\n",
       "            </tr>\n",
       "            <tr>\n",
       "                                <td id=\"T_4f6a02e8_9248_11eb_beca_907841ab469erow15_col0\" class=\"data row15 col0\" >HOT-3</td>\n",
       "                        <td id=\"T_4f6a02e8_9248_11eb_beca_907841ab469erow15_col1\" class=\"data row15 col1\" >Ovhd Condenser Product Temperature</td>\n",
       "                        <td id=\"T_4f6a02e8_9248_11eb_beca_907841ab469erow15_col2\" class=\"data row15 col2\" >Float</td>\n",
       "                        <td id=\"T_4f6a02e8_9248_11eb_beca_907841ab469erow15_col3\" class=\"data row15 col3\" >°F</td>\n",
       "                        <td id=\"T_4f6a02e8_9248_11eb_beca_907841ab469erow15_col4\" class=\"data row15 col4\" >delmar.DELMAR_UNIT3_TI-230.PV</td>\n",
       "            </tr>\n",
       "            <tr>\n",
       "                                <td id=\"T_4f6a02e8_9248_11eb_beca_907841ab469erow16_col0\" class=\"data row16 col0\" >HOT-3</td>\n",
       "                        <td id=\"T_4f6a02e8_9248_11eb_beca_907841ab469erow16_col1\" class=\"data row16 col1\" >Reboiler Duty</td>\n",
       "                        <td id=\"T_4f6a02e8_9248_11eb_beca_907841ab469erow16_col2\" class=\"data row16 col2\" >Float</td>\n",
       "                        <td id=\"T_4f6a02e8_9248_11eb_beca_907841ab469erow16_col3\" class=\"data row16 col3\" >BTU/hr</td>\n",
       "                        <td id=\"T_4f6a02e8_9248_11eb_beca_907841ab469erow16_col4\" class=\"data row16 col4\" >delmar.DELMAR_UNIT3_E-201_REBOILERDUTY</td>\n",
       "            </tr>\n",
       "            <tr>\n",
       "                                <td id=\"T_4f6a02e8_9248_11eb_beca_907841ab469erow17_col0\" class=\"data row17 col0\" >HOT-3</td>\n",
       "                        <td id=\"T_4f6a02e8_9248_11eb_beca_907841ab469erow17_col1\" class=\"data row17 col1\" >Reboiler Outlet Temperature Controller Mode</td>\n",
       "                        <td id=\"T_4f6a02e8_9248_11eb_beca_907841ab469erow17_col2\" class=\"data row17 col2\" >Category</td>\n",
       "                        <td id=\"T_4f6a02e8_9248_11eb_beca_907841ab469erow17_col3\" class=\"data row17 col3\" ></td>\n",
       "                        <td id=\"T_4f6a02e8_9248_11eb_beca_907841ab469erow17_col4\" class=\"data row17 col4\" >delmar.DELMAR_UNIT3_TIC-205.MODE</td>\n",
       "            </tr>\n",
       "            <tr>\n",
       "                                <td id=\"T_4f6a02e8_9248_11eb_beca_907841ab469erow18_col0\" class=\"data row18 col0\" >HOT-3</td>\n",
       "                        <td id=\"T_4f6a02e8_9248_11eb_beca_907841ab469erow18_col1\" class=\"data row18 col1\" >Reboiler Outlet Temperature Controller Output</td>\n",
       "                        <td id=\"T_4f6a02e8_9248_11eb_beca_907841ab469erow18_col2\" class=\"data row18 col2\" >Float</td>\n",
       "                        <td id=\"T_4f6a02e8_9248_11eb_beca_907841ab469erow18_col3\" class=\"data row18 col3\" >%</td>\n",
       "                        <td id=\"T_4f6a02e8_9248_11eb_beca_907841ab469erow18_col4\" class=\"data row18 col4\" >delmar.DELMAR_UNIT3_TIC-205.OUT</td>\n",
       "            </tr>\n",
       "            <tr>\n",
       "                                <td id=\"T_4f6a02e8_9248_11eb_beca_907841ab469erow19_col0\" class=\"data row19 col0\" >HOT-3</td>\n",
       "                        <td id=\"T_4f6a02e8_9248_11eb_beca_907841ab469erow19_col1\" class=\"data row19 col1\" >Reboiler Outlet Temperature Controller PV</td>\n",
       "                        <td id=\"T_4f6a02e8_9248_11eb_beca_907841ab469erow19_col2\" class=\"data row19 col2\" >Float</td>\n",
       "                        <td id=\"T_4f6a02e8_9248_11eb_beca_907841ab469erow19_col3\" class=\"data row19 col3\" >°F</td>\n",
       "                        <td id=\"T_4f6a02e8_9248_11eb_beca_907841ab469erow19_col4\" class=\"data row19 col4\" >delmar.DELMAR_UNIT3_TIC-205.PV</td>\n",
       "            </tr>\n",
       "            <tr>\n",
       "                                <td id=\"T_4f6a02e8_9248_11eb_beca_907841ab469erow20_col0\" class=\"data row20 col0\" >HOT-3</td>\n",
       "                        <td id=\"T_4f6a02e8_9248_11eb_beca_907841ab469erow20_col1\" class=\"data row20 col1\" >Reboiler Outlet Temperature Controller Setpoint</td>\n",
       "                        <td id=\"T_4f6a02e8_9248_11eb_beca_907841ab469erow20_col2\" class=\"data row20 col2\" >Float</td>\n",
       "                        <td id=\"T_4f6a02e8_9248_11eb_beca_907841ab469erow20_col3\" class=\"data row20 col3\" >°F</td>\n",
       "                        <td id=\"T_4f6a02e8_9248_11eb_beca_907841ab469erow20_col4\" class=\"data row20 col4\" >delmar.DELMAR_UNIT3_TIC-205.SP</td>\n",
       "            </tr>\n",
       "            <tr>\n",
       "                                <td id=\"T_4f6a02e8_9248_11eb_beca_907841ab469erow21_col0\" class=\"data row21 col0\" >HOT-3</td>\n",
       "                        <td id=\"T_4f6a02e8_9248_11eb_beca_907841ab469erow21_col1\" class=\"data row21 col1\" >Reflux to Vac Tower Flow Controller Output</td>\n",
       "                        <td id=\"T_4f6a02e8_9248_11eb_beca_907841ab469erow21_col2\" class=\"data row21 col2\" >Float</td>\n",
       "                        <td id=\"T_4f6a02e8_9248_11eb_beca_907841ab469erow21_col3\" class=\"data row21 col3\" >%</td>\n",
       "                        <td id=\"T_4f6a02e8_9248_11eb_beca_907841ab469erow21_col4\" class=\"data row21 col4\" >delmar.DELMAR_UNIT3_FIC-240.OUT</td>\n",
       "            </tr>\n",
       "            <tr>\n",
       "                                <td id=\"T_4f6a02e8_9248_11eb_beca_907841ab469erow22_col0\" class=\"data row22 col0\" >HOT-3</td>\n",
       "                        <td id=\"T_4f6a02e8_9248_11eb_beca_907841ab469erow22_col1\" class=\"data row22 col1\" >Reflux to Vac Tower Flow Controller PV</td>\n",
       "                        <td id=\"T_4f6a02e8_9248_11eb_beca_907841ab469erow22_col2\" class=\"data row22 col2\" >Float</td>\n",
       "                        <td id=\"T_4f6a02e8_9248_11eb_beca_907841ab469erow22_col3\" class=\"data row22 col3\" >GPH</td>\n",
       "                        <td id=\"T_4f6a02e8_9248_11eb_beca_907841ab469erow22_col4\" class=\"data row22 col4\" >delmar.DELMAR_UNIT3_FIC-240.PV</td>\n",
       "            </tr>\n",
       "            <tr>\n",
       "                                <td id=\"T_4f6a02e8_9248_11eb_beca_907841ab469erow23_col0\" class=\"data row23 col0\" >HOT-3</td>\n",
       "                        <td id=\"T_4f6a02e8_9248_11eb_beca_907841ab469erow23_col1\" class=\"data row23 col1\" >Reflux to Vac Tower Flow Controller Setpoint</td>\n",
       "                        <td id=\"T_4f6a02e8_9248_11eb_beca_907841ab469erow23_col2\" class=\"data row23 col2\" >Float</td>\n",
       "                        <td id=\"T_4f6a02e8_9248_11eb_beca_907841ab469erow23_col3\" class=\"data row23 col3\" >GPH</td>\n",
       "                        <td id=\"T_4f6a02e8_9248_11eb_beca_907841ab469erow23_col4\" class=\"data row23 col4\" >delmar.DELMAR_UNIT3_FIC-240.SP</td>\n",
       "            </tr>\n",
       "            <tr>\n",
       "                                <td id=\"T_4f6a02e8_9248_11eb_beca_907841ab469erow24_col0\" class=\"data row24 col0\" >HOT-3</td>\n",
       "                        <td id=\"T_4f6a02e8_9248_11eb_beca_907841ab469erow24_col1\" class=\"data row24 col1\" >Reflux to VacTower Flow Controller Mode</td>\n",
       "                        <td id=\"T_4f6a02e8_9248_11eb_beca_907841ab469erow24_col2\" class=\"data row24 col2\" >Category</td>\n",
       "                        <td id=\"T_4f6a02e8_9248_11eb_beca_907841ab469erow24_col3\" class=\"data row24 col3\" ></td>\n",
       "                        <td id=\"T_4f6a02e8_9248_11eb_beca_907841ab469erow24_col4\" class=\"data row24 col4\" >delmar.DELMAR_UNIT3_FIC-240.MODE</td>\n",
       "            </tr>\n",
       "            <tr>\n",
       "                                <td id=\"T_4f6a02e8_9248_11eb_beca_907841ab469erow25_col0\" class=\"data row25 col0\" >HOT-3</td>\n",
       "                        <td id=\"T_4f6a02e8_9248_11eb_beca_907841ab469erow25_col1\" class=\"data row25 col1\" >Steam Header Pressure</td>\n",
       "                        <td id=\"T_4f6a02e8_9248_11eb_beca_907841ab469erow25_col2\" class=\"data row25 col2\" >Float</td>\n",
       "                        <td id=\"T_4f6a02e8_9248_11eb_beca_907841ab469erow25_col3\" class=\"data row25 col3\" >PSIG</td>\n",
       "                        <td id=\"T_4f6a02e8_9248_11eb_beca_907841ab469erow25_col4\" class=\"data row25 col4\" >delmar.DELMAR_UNIT3_PI-275.PV</td>\n",
       "            </tr>\n",
       "            <tr>\n",
       "                                <td id=\"T_4f6a02e8_9248_11eb_beca_907841ab469erow26_col0\" class=\"data row26 col0\" >HOT-3</td>\n",
       "                        <td id=\"T_4f6a02e8_9248_11eb_beca_907841ab469erow26_col1\" class=\"data row26 col1\" >Steam to Reboiler Flow Controller Mode</td>\n",
       "                        <td id=\"T_4f6a02e8_9248_11eb_beca_907841ab469erow26_col2\" class=\"data row26 col2\" >Category</td>\n",
       "                        <td id=\"T_4f6a02e8_9248_11eb_beca_907841ab469erow26_col3\" class=\"data row26 col3\" ></td>\n",
       "                        <td id=\"T_4f6a02e8_9248_11eb_beca_907841ab469erow26_col4\" class=\"data row26 col4\" >delmar.DELMAR_UNIT3_FIC-275.MODE</td>\n",
       "            </tr>\n",
       "            <tr>\n",
       "                                <td id=\"T_4f6a02e8_9248_11eb_beca_907841ab469erow27_col0\" class=\"data row27 col0\" >HOT-3</td>\n",
       "                        <td id=\"T_4f6a02e8_9248_11eb_beca_907841ab469erow27_col1\" class=\"data row27 col1\" >Steam to Reboiler Flow Controller Output</td>\n",
       "                        <td id=\"T_4f6a02e8_9248_11eb_beca_907841ab469erow27_col2\" class=\"data row27 col2\" >Float</td>\n",
       "                        <td id=\"T_4f6a02e8_9248_11eb_beca_907841ab469erow27_col3\" class=\"data row27 col3\" >%</td>\n",
       "                        <td id=\"T_4f6a02e8_9248_11eb_beca_907841ab469erow27_col4\" class=\"data row27 col4\" >delmar.DELMAR_UNIT3_FIC-275.OUT</td>\n",
       "            </tr>\n",
       "            <tr>\n",
       "                                <td id=\"T_4f6a02e8_9248_11eb_beca_907841ab469erow28_col0\" class=\"data row28 col0\" >HOT-3</td>\n",
       "                        <td id=\"T_4f6a02e8_9248_11eb_beca_907841ab469erow28_col1\" class=\"data row28 col1\" >Steam to Reboiler Flow Controller PV</td>\n",
       "                        <td id=\"T_4f6a02e8_9248_11eb_beca_907841ab469erow28_col2\" class=\"data row28 col2\" >Float</td>\n",
       "                        <td id=\"T_4f6a02e8_9248_11eb_beca_907841ab469erow28_col3\" class=\"data row28 col3\" >LB/HR</td>\n",
       "                        <td id=\"T_4f6a02e8_9248_11eb_beca_907841ab469erow28_col4\" class=\"data row28 col4\" >delmar.DELMAR_UNIT3_FIC-275.PV</td>\n",
       "            </tr>\n",
       "            <tr>\n",
       "                                <td id=\"T_4f6a02e8_9248_11eb_beca_907841ab469erow29_col0\" class=\"data row29 col0\" >HOT-3</td>\n",
       "                        <td id=\"T_4f6a02e8_9248_11eb_beca_907841ab469erow29_col1\" class=\"data row29 col1\" >Steam to Reboiler Flow Controller Setpoint</td>\n",
       "                        <td id=\"T_4f6a02e8_9248_11eb_beca_907841ab469erow29_col2\" class=\"data row29 col2\" >Float</td>\n",
       "                        <td id=\"T_4f6a02e8_9248_11eb_beca_907841ab469erow29_col3\" class=\"data row29 col3\" >LB/HR</td>\n",
       "                        <td id=\"T_4f6a02e8_9248_11eb_beca_907841ab469erow29_col4\" class=\"data row29 col4\" >delmar.DELMAR_UNIT3_FIC-275.SP</td>\n",
       "            </tr>\n",
       "            <tr>\n",
       "                                <td id=\"T_4f6a02e8_9248_11eb_beca_907841ab469erow30_col0\" class=\"data row30 col0\" >HOT-3</td>\n",
       "                        <td id=\"T_4f6a02e8_9248_11eb_beca_907841ab469erow30_col1\" class=\"data row30 col1\" >Steam to Reboiler Pressure</td>\n",
       "                        <td id=\"T_4f6a02e8_9248_11eb_beca_907841ab469erow30_col2\" class=\"data row30 col2\" >Float</td>\n",
       "                        <td id=\"T_4f6a02e8_9248_11eb_beca_907841ab469erow30_col3\" class=\"data row30 col3\" >PSIG</td>\n",
       "                        <td id=\"T_4f6a02e8_9248_11eb_beca_907841ab469erow30_col4\" class=\"data row30 col4\" >delmar.DELMAR_UNIT3_PI-280.PV</td>\n",
       "            </tr>\n",
       "            <tr>\n",
       "                                <td id=\"T_4f6a02e8_9248_11eb_beca_907841ab469erow31_col0\" class=\"data row31 col0\" >HOT-3</td>\n",
       "                        <td id=\"T_4f6a02e8_9248_11eb_beca_907841ab469erow31_col1\" class=\"data row31 col1\" >Tower Midsection temperature</td>\n",
       "                        <td id=\"T_4f6a02e8_9248_11eb_beca_907841ab469erow31_col2\" class=\"data row31 col2\" >Float</td>\n",
       "                        <td id=\"T_4f6a02e8_9248_11eb_beca_907841ab469erow31_col3\" class=\"data row31 col3\" >°F</td>\n",
       "                        <td id=\"T_4f6a02e8_9248_11eb_beca_907841ab469erow31_col4\" class=\"data row31 col4\" >delmar.DELMAR_UNIT3_TI-215.PV</td>\n",
       "            </tr>\n",
       "            <tr>\n",
       "                                <td id=\"T_4f6a02e8_9248_11eb_beca_907841ab469erow32_col0\" class=\"data row32 col0\" >HOT-3</td>\n",
       "                        <td id=\"T_4f6a02e8_9248_11eb_beca_907841ab469erow32_col1\" class=\"data row32 col1\" >Tower Top Bed Differential Pressure</td>\n",
       "                        <td id=\"T_4f6a02e8_9248_11eb_beca_907841ab469erow32_col2\" class=\"data row32 col2\" >Float</td>\n",
       "                        <td id=\"T_4f6a02e8_9248_11eb_beca_907841ab469erow32_col3\" class=\"data row32 col3\" >in H2O</td>\n",
       "                        <td id=\"T_4f6a02e8_9248_11eb_beca_907841ab469erow32_col4\" class=\"data row32 col4\" >delmar.DELMAR_UNIT3_PDI-220.PV</td>\n",
       "            </tr>\n",
       "            <tr>\n",
       "                                <td id=\"T_4f6a02e8_9248_11eb_beca_907841ab469erow33_col0\" class=\"data row33 col0\" >HOT-3</td>\n",
       "                        <td id=\"T_4f6a02e8_9248_11eb_beca_907841ab469erow33_col1\" class=\"data row33 col1\" >Tower Top Section Temperature</td>\n",
       "                        <td id=\"T_4f6a02e8_9248_11eb_beca_907841ab469erow33_col2\" class=\"data row33 col2\" >Float</td>\n",
       "                        <td id=\"T_4f6a02e8_9248_11eb_beca_907841ab469erow33_col3\" class=\"data row33 col3\" >°F</td>\n",
       "                        <td id=\"T_4f6a02e8_9248_11eb_beca_907841ab469erow33_col4\" class=\"data row33 col4\" >delmar.DELMAR_UNIT3_TI-225.PV</td>\n",
       "            </tr>\n",
       "            <tr>\n",
       "                                <td id=\"T_4f6a02e8_9248_11eb_beca_907841ab469erow34_col0\" class=\"data row34 col0\" >HOT-3</td>\n",
       "                        <td id=\"T_4f6a02e8_9248_11eb_beca_907841ab469erow34_col1\" class=\"data row34 col1\" >Unit 3 Common Trouble Alarm</td>\n",
       "                        <td id=\"T_4f6a02e8_9248_11eb_beca_907841ab469erow34_col2\" class=\"data row34 col2\" >Category</td>\n",
       "                        <td id=\"T_4f6a02e8_9248_11eb_beca_907841ab469erow34_col3\" class=\"data row34 col3\" ></td>\n",
       "                        <td id=\"T_4f6a02e8_9248_11eb_beca_907841ab469erow34_col4\" class=\"data row34 col4\" >delmar.DELMAR_UNIT3_XA-200</td>\n",
       "            </tr>\n",
       "            <tr>\n",
       "                                <td id=\"T_4f6a02e8_9248_11eb_beca_907841ab469erow35_col0\" class=\"data row35 col0\" >HOT-3</td>\n",
       "                        <td id=\"T_4f6a02e8_9248_11eb_beca_907841ab469erow35_col1\" class=\"data row35 col1\" >V-240 Receiver Vacuum Controller Mode</td>\n",
       "                        <td id=\"T_4f6a02e8_9248_11eb_beca_907841ab469erow35_col2\" class=\"data row35 col2\" >Category</td>\n",
       "                        <td id=\"T_4f6a02e8_9248_11eb_beca_907841ab469erow35_col3\" class=\"data row35 col3\" ></td>\n",
       "                        <td id=\"T_4f6a02e8_9248_11eb_beca_907841ab469erow35_col4\" class=\"data row35 col4\" >delmar.DELMAR_UNIT3_PIC-250.MODE</td>\n",
       "            </tr>\n",
       "            <tr>\n",
       "                                <td id=\"T_4f6a02e8_9248_11eb_beca_907841ab469erow36_col0\" class=\"data row36 col0\" >HOT-3</td>\n",
       "                        <td id=\"T_4f6a02e8_9248_11eb_beca_907841ab469erow36_col1\" class=\"data row36 col1\" >V-240 Receiver Vacuum Controller Output</td>\n",
       "                        <td id=\"T_4f6a02e8_9248_11eb_beca_907841ab469erow36_col2\" class=\"data row36 col2\" >Float</td>\n",
       "                        <td id=\"T_4f6a02e8_9248_11eb_beca_907841ab469erow36_col3\" class=\"data row36 col3\" >%</td>\n",
       "                        <td id=\"T_4f6a02e8_9248_11eb_beca_907841ab469erow36_col4\" class=\"data row36 col4\" >delmar.DELMAR_UNIT3_PIC-250.OUT</td>\n",
       "            </tr>\n",
       "            <tr>\n",
       "                                <td id=\"T_4f6a02e8_9248_11eb_beca_907841ab469erow37_col0\" class=\"data row37 col0\" >HOT-3</td>\n",
       "                        <td id=\"T_4f6a02e8_9248_11eb_beca_907841ab469erow37_col1\" class=\"data row37 col1\" >V-240 Receiver Vacuum Controller PV</td>\n",
       "                        <td id=\"T_4f6a02e8_9248_11eb_beca_907841ab469erow37_col2\" class=\"data row37 col2\" >Float</td>\n",
       "                        <td id=\"T_4f6a02e8_9248_11eb_beca_907841ab469erow37_col3\" class=\"data row37 col3\" >mmHga</td>\n",
       "                        <td id=\"T_4f6a02e8_9248_11eb_beca_907841ab469erow37_col4\" class=\"data row37 col4\" >delmar.DELMAR_UNIT3_PIC-250.PV</td>\n",
       "            </tr>\n",
       "            <tr>\n",
       "                                <td id=\"T_4f6a02e8_9248_11eb_beca_907841ab469erow38_col0\" class=\"data row38 col0\" >HOT-3</td>\n",
       "                        <td id=\"T_4f6a02e8_9248_11eb_beca_907841ab469erow38_col1\" class=\"data row38 col1\" >V-240 Receiver Vacuum Controller Setpoint</td>\n",
       "                        <td id=\"T_4f6a02e8_9248_11eb_beca_907841ab469erow38_col2\" class=\"data row38 col2\" >Float</td>\n",
       "                        <td id=\"T_4f6a02e8_9248_11eb_beca_907841ab469erow38_col3\" class=\"data row38 col3\" >mmHga</td>\n",
       "                        <td id=\"T_4f6a02e8_9248_11eb_beca_907841ab469erow38_col4\" class=\"data row38 col4\" >delmar.DELMAR_UNIT3_PIC-250.SP</td>\n",
       "            </tr>\n",
       "    </tbody></table>"
      ],
      "text/plain": [
       "<pandas.io.formats.style.Styler at 0x20002d721c8>"
      ]
     },
     "metadata": {},
     "output_type": "display_data"
    },
    {
     "data": {
      "text/html": [
       "<hr></hr>"
      ],
      "text/plain": [
       "<IPython.core.display.HTML object>"
      ]
     },
     "metadata": {},
     "output_type": "display_data"
    },
    {
     "data": {
      "text/markdown": [
       "**Data view ID: <span style=\"color:blue\">pilot.plant_hot-3_bottoms_product</span>** (# of streams: 6)"
      ],
      "text/plain": [
       "<IPython.core.display.Markdown object>"
      ]
     },
     "metadata": {},
     "output_type": "display_data"
    },
    {
     "data": {
      "text/html": [
       "<style  type=\"text/css\" >\n",
       "</style><table id=\"T_4fb06c2c_9248_11eb_959f_907841ab469e\" ><thead>    <tr>        <th class=\"col_heading level0 col0\" >Asset_Id</th>        <th class=\"col_heading level0 col1\" >Column_Name</th>        <th class=\"col_heading level0 col2\" >Stream_Type</th>        <th class=\"col_heading level0 col3\" >Stream_UOM</th>        <th class=\"col_heading level0 col4\" >OCS_Stream_Name</th>    </tr></thead><tbody>\n",
       "                <tr>\n",
       "                                <td id=\"T_4fb06c2c_9248_11eb_959f_907841ab469erow0_col0\" class=\"data row0 col0\" >HOT-3</td>\n",
       "                        <td id=\"T_4fb06c2c_9248_11eb_959f_907841ab469erow0_col1\" class=\"data row0 col1\" >Bottoms Level</td>\n",
       "                        <td id=\"T_4fb06c2c_9248_11eb_959f_907841ab469erow0_col2\" class=\"data row0 col2\" >Float</td>\n",
       "                        <td id=\"T_4fb06c2c_9248_11eb_959f_907841ab469erow0_col3\" class=\"data row0 col3\" >%</td>\n",
       "                        <td id=\"T_4fb06c2c_9248_11eb_959f_907841ab469erow0_col4\" class=\"data row0 col4\" >delmar.DELMAR_UNIT3_LI-210.PV</td>\n",
       "            </tr>\n",
       "            <tr>\n",
       "                                <td id=\"T_4fb06c2c_9248_11eb_959f_907841ab469erow1_col0\" class=\"data row1 col0\" >HOT-3</td>\n",
       "                        <td id=\"T_4fb06c2c_9248_11eb_959f_907841ab469erow1_col1\" class=\"data row1 col1\" >Bottoms Temperature</td>\n",
       "                        <td id=\"T_4fb06c2c_9248_11eb_959f_907841ab469erow1_col2\" class=\"data row1 col2\" >Float</td>\n",
       "                        <td id=\"T_4fb06c2c_9248_11eb_959f_907841ab469erow1_col3\" class=\"data row1 col3\" >°F</td>\n",
       "                        <td id=\"T_4fb06c2c_9248_11eb_959f_907841ab469erow1_col4\" class=\"data row1 col4\" >delmar.DELMAR_UNIT3_TI-200.PV</td>\n",
       "            </tr>\n",
       "            <tr>\n",
       "                                <td id=\"T_4fb06c2c_9248_11eb_959f_907841ab469erow2_col0\" class=\"data row2 col0\" >HOT-3</td>\n",
       "                        <td id=\"T_4fb06c2c_9248_11eb_959f_907841ab469erow2_col1\" class=\"data row2 col1\" >Bottoms to Feed Flow Controller Mode</td>\n",
       "                        <td id=\"T_4fb06c2c_9248_11eb_959f_907841ab469erow2_col2\" class=\"data row2 col2\" >Category</td>\n",
       "                        <td id=\"T_4fb06c2c_9248_11eb_959f_907841ab469erow2_col3\" class=\"data row2 col3\" ></td>\n",
       "                        <td id=\"T_4fb06c2c_9248_11eb_959f_907841ab469erow2_col4\" class=\"data row2 col4\" >delmar.DELMAR_UNIT3_FIC-200.MODE</td>\n",
       "            </tr>\n",
       "            <tr>\n",
       "                                <td id=\"T_4fb06c2c_9248_11eb_959f_907841ab469erow3_col0\" class=\"data row3 col0\" >HOT-3</td>\n",
       "                        <td id=\"T_4fb06c2c_9248_11eb_959f_907841ab469erow3_col1\" class=\"data row3 col1\" >Bottoms to Feed Flow Controller Output</td>\n",
       "                        <td id=\"T_4fb06c2c_9248_11eb_959f_907841ab469erow3_col2\" class=\"data row3 col2\" >Float</td>\n",
       "                        <td id=\"T_4fb06c2c_9248_11eb_959f_907841ab469erow3_col3\" class=\"data row3 col3\" >%</td>\n",
       "                        <td id=\"T_4fb06c2c_9248_11eb_959f_907841ab469erow3_col4\" class=\"data row3 col4\" >delmar.DELMAR_UNIT3_FIC-200.OUT</td>\n",
       "            </tr>\n",
       "            <tr>\n",
       "                                <td id=\"T_4fb06c2c_9248_11eb_959f_907841ab469erow4_col0\" class=\"data row4 col0\" >HOT-3</td>\n",
       "                        <td id=\"T_4fb06c2c_9248_11eb_959f_907841ab469erow4_col1\" class=\"data row4 col1\" >Bottoms to Feed Flow Controller PV</td>\n",
       "                        <td id=\"T_4fb06c2c_9248_11eb_959f_907841ab469erow4_col2\" class=\"data row4 col2\" >Float</td>\n",
       "                        <td id=\"T_4fb06c2c_9248_11eb_959f_907841ab469erow4_col3\" class=\"data row4 col3\" >GPH</td>\n",
       "                        <td id=\"T_4fb06c2c_9248_11eb_959f_907841ab469erow4_col4\" class=\"data row4 col4\" >delmar.DELMAR_UNIT3_FIC-200.PV</td>\n",
       "            </tr>\n",
       "            <tr>\n",
       "                                <td id=\"T_4fb06c2c_9248_11eb_959f_907841ab469erow5_col0\" class=\"data row5 col0\" >HOT-3</td>\n",
       "                        <td id=\"T_4fb06c2c_9248_11eb_959f_907841ab469erow5_col1\" class=\"data row5 col1\" >Bottoms to Feed Flow Controller Setpoint</td>\n",
       "                        <td id=\"T_4fb06c2c_9248_11eb_959f_907841ab469erow5_col2\" class=\"data row5 col2\" >Float</td>\n",
       "                        <td id=\"T_4fb06c2c_9248_11eb_959f_907841ab469erow5_col3\" class=\"data row5 col3\" >GPH</td>\n",
       "                        <td id=\"T_4fb06c2c_9248_11eb_959f_907841ab469erow5_col4\" class=\"data row5 col4\" >delmar.DELMAR_UNIT3_FIC-200.SP</td>\n",
       "            </tr>\n",
       "    </tbody></table>"
      ],
      "text/plain": [
       "<pandas.io.formats.style.Styler at 0x20002d60a88>"
      ]
     },
     "metadata": {},
     "output_type": "display_data"
    },
    {
     "data": {
      "text/html": [
       "<hr></hr>"
      ],
      "text/plain": [
       "<IPython.core.display.HTML object>"
      ]
     },
     "metadata": {},
     "output_type": "display_data"
    },
    {
     "data": {
      "text/markdown": [
       "**Data view ID: <span style=\"color:blue\">pilot.plant_hot-3_energy_in</span>** (# of streams: 11)"
      ],
      "text/plain": [
       "<IPython.core.display.Markdown object>"
      ]
     },
     "metadata": {},
     "output_type": "display_data"
    },
    {
     "data": {
      "text/html": [
       "<style  type=\"text/css\" >\n",
       "</style><table id=\"T_5000686e_9248_11eb_ac63_907841ab469e\" ><thead>    <tr>        <th class=\"col_heading level0 col0\" >Asset_Id</th>        <th class=\"col_heading level0 col1\" >Column_Name</th>        <th class=\"col_heading level0 col2\" >Stream_Type</th>        <th class=\"col_heading level0 col3\" >Stream_UOM</th>        <th class=\"col_heading level0 col4\" >OCS_Stream_Name</th>    </tr></thead><tbody>\n",
       "                <tr>\n",
       "                                <td id=\"T_5000686e_9248_11eb_ac63_907841ab469erow0_col0\" class=\"data row0 col0\" >HOT-3</td>\n",
       "                        <td id=\"T_5000686e_9248_11eb_ac63_907841ab469erow0_col1\" class=\"data row0 col1\" >Reboiler Duty</td>\n",
       "                        <td id=\"T_5000686e_9248_11eb_ac63_907841ab469erow0_col2\" class=\"data row0 col2\" >Float</td>\n",
       "                        <td id=\"T_5000686e_9248_11eb_ac63_907841ab469erow0_col3\" class=\"data row0 col3\" >BTU/hr</td>\n",
       "                        <td id=\"T_5000686e_9248_11eb_ac63_907841ab469erow0_col4\" class=\"data row0 col4\" >delmar.DELMAR_UNIT3_E-201_REBOILERDUTY</td>\n",
       "            </tr>\n",
       "            <tr>\n",
       "                                <td id=\"T_5000686e_9248_11eb_ac63_907841ab469erow1_col0\" class=\"data row1 col0\" >HOT-3</td>\n",
       "                        <td id=\"T_5000686e_9248_11eb_ac63_907841ab469erow1_col1\" class=\"data row1 col1\" >Reboiler Outlet Temperature Controller Mode</td>\n",
       "                        <td id=\"T_5000686e_9248_11eb_ac63_907841ab469erow1_col2\" class=\"data row1 col2\" >Category</td>\n",
       "                        <td id=\"T_5000686e_9248_11eb_ac63_907841ab469erow1_col3\" class=\"data row1 col3\" ></td>\n",
       "                        <td id=\"T_5000686e_9248_11eb_ac63_907841ab469erow1_col4\" class=\"data row1 col4\" >delmar.DELMAR_UNIT3_TIC-205.MODE</td>\n",
       "            </tr>\n",
       "            <tr>\n",
       "                                <td id=\"T_5000686e_9248_11eb_ac63_907841ab469erow2_col0\" class=\"data row2 col0\" >HOT-3</td>\n",
       "                        <td id=\"T_5000686e_9248_11eb_ac63_907841ab469erow2_col1\" class=\"data row2 col1\" >Reboiler Outlet Temperature Controller Output</td>\n",
       "                        <td id=\"T_5000686e_9248_11eb_ac63_907841ab469erow2_col2\" class=\"data row2 col2\" >Float</td>\n",
       "                        <td id=\"T_5000686e_9248_11eb_ac63_907841ab469erow2_col3\" class=\"data row2 col3\" >%</td>\n",
       "                        <td id=\"T_5000686e_9248_11eb_ac63_907841ab469erow2_col4\" class=\"data row2 col4\" >delmar.DELMAR_UNIT3_TIC-205.OUT</td>\n",
       "            </tr>\n",
       "            <tr>\n",
       "                                <td id=\"T_5000686e_9248_11eb_ac63_907841ab469erow3_col0\" class=\"data row3 col0\" >HOT-3</td>\n",
       "                        <td id=\"T_5000686e_9248_11eb_ac63_907841ab469erow3_col1\" class=\"data row3 col1\" >Reboiler Outlet Temperature Controller PV</td>\n",
       "                        <td id=\"T_5000686e_9248_11eb_ac63_907841ab469erow3_col2\" class=\"data row3 col2\" >Float</td>\n",
       "                        <td id=\"T_5000686e_9248_11eb_ac63_907841ab469erow3_col3\" class=\"data row3 col3\" >°F</td>\n",
       "                        <td id=\"T_5000686e_9248_11eb_ac63_907841ab469erow3_col4\" class=\"data row3 col4\" >delmar.DELMAR_UNIT3_TIC-205.PV</td>\n",
       "            </tr>\n",
       "            <tr>\n",
       "                                <td id=\"T_5000686e_9248_11eb_ac63_907841ab469erow4_col0\" class=\"data row4 col0\" >HOT-3</td>\n",
       "                        <td id=\"T_5000686e_9248_11eb_ac63_907841ab469erow4_col1\" class=\"data row4 col1\" >Reboiler Outlet Temperature Controller Setpoint</td>\n",
       "                        <td id=\"T_5000686e_9248_11eb_ac63_907841ab469erow4_col2\" class=\"data row4 col2\" >Float</td>\n",
       "                        <td id=\"T_5000686e_9248_11eb_ac63_907841ab469erow4_col3\" class=\"data row4 col3\" >°F</td>\n",
       "                        <td id=\"T_5000686e_9248_11eb_ac63_907841ab469erow4_col4\" class=\"data row4 col4\" >delmar.DELMAR_UNIT3_TIC-205.SP</td>\n",
       "            </tr>\n",
       "            <tr>\n",
       "                                <td id=\"T_5000686e_9248_11eb_ac63_907841ab469erow5_col0\" class=\"data row5 col0\" >HOT-3</td>\n",
       "                        <td id=\"T_5000686e_9248_11eb_ac63_907841ab469erow5_col1\" class=\"data row5 col1\" >Steam Header Pressure</td>\n",
       "                        <td id=\"T_5000686e_9248_11eb_ac63_907841ab469erow5_col2\" class=\"data row5 col2\" >Float</td>\n",
       "                        <td id=\"T_5000686e_9248_11eb_ac63_907841ab469erow5_col3\" class=\"data row5 col3\" >PSIG</td>\n",
       "                        <td id=\"T_5000686e_9248_11eb_ac63_907841ab469erow5_col4\" class=\"data row5 col4\" >delmar.DELMAR_UNIT3_PI-275.PV</td>\n",
       "            </tr>\n",
       "            <tr>\n",
       "                                <td id=\"T_5000686e_9248_11eb_ac63_907841ab469erow6_col0\" class=\"data row6 col0\" >HOT-3</td>\n",
       "                        <td id=\"T_5000686e_9248_11eb_ac63_907841ab469erow6_col1\" class=\"data row6 col1\" >Steam to Reboiler Flow Controller Mode</td>\n",
       "                        <td id=\"T_5000686e_9248_11eb_ac63_907841ab469erow6_col2\" class=\"data row6 col2\" >Category</td>\n",
       "                        <td id=\"T_5000686e_9248_11eb_ac63_907841ab469erow6_col3\" class=\"data row6 col3\" ></td>\n",
       "                        <td id=\"T_5000686e_9248_11eb_ac63_907841ab469erow6_col4\" class=\"data row6 col4\" >delmar.DELMAR_UNIT3_FIC-275.MODE</td>\n",
       "            </tr>\n",
       "            <tr>\n",
       "                                <td id=\"T_5000686e_9248_11eb_ac63_907841ab469erow7_col0\" class=\"data row7 col0\" >HOT-3</td>\n",
       "                        <td id=\"T_5000686e_9248_11eb_ac63_907841ab469erow7_col1\" class=\"data row7 col1\" >Steam to Reboiler Flow Controller Output</td>\n",
       "                        <td id=\"T_5000686e_9248_11eb_ac63_907841ab469erow7_col2\" class=\"data row7 col2\" >Float</td>\n",
       "                        <td id=\"T_5000686e_9248_11eb_ac63_907841ab469erow7_col3\" class=\"data row7 col3\" >%</td>\n",
       "                        <td id=\"T_5000686e_9248_11eb_ac63_907841ab469erow7_col4\" class=\"data row7 col4\" >delmar.DELMAR_UNIT3_FIC-275.OUT</td>\n",
       "            </tr>\n",
       "            <tr>\n",
       "                                <td id=\"T_5000686e_9248_11eb_ac63_907841ab469erow8_col0\" class=\"data row8 col0\" >HOT-3</td>\n",
       "                        <td id=\"T_5000686e_9248_11eb_ac63_907841ab469erow8_col1\" class=\"data row8 col1\" >Steam to Reboiler Flow Controller PV</td>\n",
       "                        <td id=\"T_5000686e_9248_11eb_ac63_907841ab469erow8_col2\" class=\"data row8 col2\" >Float</td>\n",
       "                        <td id=\"T_5000686e_9248_11eb_ac63_907841ab469erow8_col3\" class=\"data row8 col3\" >LB/HR</td>\n",
       "                        <td id=\"T_5000686e_9248_11eb_ac63_907841ab469erow8_col4\" class=\"data row8 col4\" >delmar.DELMAR_UNIT3_FIC-275.PV</td>\n",
       "            </tr>\n",
       "            <tr>\n",
       "                                <td id=\"T_5000686e_9248_11eb_ac63_907841ab469erow9_col0\" class=\"data row9 col0\" >HOT-3</td>\n",
       "                        <td id=\"T_5000686e_9248_11eb_ac63_907841ab469erow9_col1\" class=\"data row9 col1\" >Steam to Reboiler Flow Controller Setpoint</td>\n",
       "                        <td id=\"T_5000686e_9248_11eb_ac63_907841ab469erow9_col2\" class=\"data row9 col2\" >Float</td>\n",
       "                        <td id=\"T_5000686e_9248_11eb_ac63_907841ab469erow9_col3\" class=\"data row9 col3\" >LB/HR</td>\n",
       "                        <td id=\"T_5000686e_9248_11eb_ac63_907841ab469erow9_col4\" class=\"data row9 col4\" >delmar.DELMAR_UNIT3_FIC-275.SP</td>\n",
       "            </tr>\n",
       "            <tr>\n",
       "                                <td id=\"T_5000686e_9248_11eb_ac63_907841ab469erow10_col0\" class=\"data row10 col0\" >HOT-3</td>\n",
       "                        <td id=\"T_5000686e_9248_11eb_ac63_907841ab469erow10_col1\" class=\"data row10 col1\" >Steam to Reboiler Pressure</td>\n",
       "                        <td id=\"T_5000686e_9248_11eb_ac63_907841ab469erow10_col2\" class=\"data row10 col2\" >Float</td>\n",
       "                        <td id=\"T_5000686e_9248_11eb_ac63_907841ab469erow10_col3\" class=\"data row10 col3\" >PSIG</td>\n",
       "                        <td id=\"T_5000686e_9248_11eb_ac63_907841ab469erow10_col4\" class=\"data row10 col4\" >delmar.DELMAR_UNIT3_PI-280.PV</td>\n",
       "            </tr>\n",
       "    </tbody></table>"
      ],
      "text/plain": [
       "<pandas.io.formats.style.Styler at 0x20002be1208>"
      ]
     },
     "metadata": {},
     "output_type": "display_data"
    },
    {
     "data": {
      "text/html": [
       "<hr></hr>"
      ],
      "text/plain": [
       "<IPython.core.display.HTML object>"
      ]
     },
     "metadata": {},
     "output_type": "display_data"
    },
    {
     "data": {
      "text/markdown": [
       "**Data view ID: <span style=\"color:blue\">pilot.plant_hot-3_energy_out</span>** (# of streams: 4)"
      ],
      "text/plain": [
       "<IPython.core.display.Markdown object>"
      ]
     },
     "metadata": {},
     "output_type": "display_data"
    },
    {
     "data": {
      "text/html": [
       "<style  type=\"text/css\" >\n",
       "</style><table id=\"T_504abc1c_9248_11eb_8d01_907841ab469e\" ><thead>    <tr>        <th class=\"col_heading level0 col0\" >Asset_Id</th>        <th class=\"col_heading level0 col1\" >Column_Name</th>        <th class=\"col_heading level0 col2\" >Stream_Type</th>        <th class=\"col_heading level0 col3\" >Stream_UOM</th>        <th class=\"col_heading level0 col4\" >OCS_Stream_Name</th>    </tr></thead><tbody>\n",
       "                <tr>\n",
       "                                <td id=\"T_504abc1c_9248_11eb_8d01_907841ab469erow0_col0\" class=\"data row0 col0\" >HOT-3</td>\n",
       "                        <td id=\"T_504abc1c_9248_11eb_8d01_907841ab469erow0_col1\" class=\"data row0 col1\" >Cooling Water Discharge E-230</td>\n",
       "                        <td id=\"T_504abc1c_9248_11eb_8d01_907841ab469erow0_col2\" class=\"data row0 col2\" >Float</td>\n",
       "                        <td id=\"T_504abc1c_9248_11eb_8d01_907841ab469erow0_col3\" class=\"data row0 col3\" >°F</td>\n",
       "                        <td id=\"T_504abc1c_9248_11eb_8d01_907841ab469erow0_col4\" class=\"data row0 col4\" >delmar.DELMAR_UNIT3_TI-265.PV</td>\n",
       "            </tr>\n",
       "            <tr>\n",
       "                                <td id=\"T_504abc1c_9248_11eb_8d01_907841ab469erow1_col0\" class=\"data row1 col0\" >HOT-3</td>\n",
       "                        <td id=\"T_504abc1c_9248_11eb_8d01_907841ab469erow1_col1\" class=\"data row1 col1\" >Cooling Water Header Temperature</td>\n",
       "                        <td id=\"T_504abc1c_9248_11eb_8d01_907841ab469erow1_col2\" class=\"data row1 col2\" >Float</td>\n",
       "                        <td id=\"T_504abc1c_9248_11eb_8d01_907841ab469erow1_col3\" class=\"data row1 col3\" >°F</td>\n",
       "                        <td id=\"T_504abc1c_9248_11eb_8d01_907841ab469erow1_col4\" class=\"data row1 col4\" >delmar.DELMAR_UNIT3_TI-260.PV</td>\n",
       "            </tr>\n",
       "            <tr>\n",
       "                                <td id=\"T_504abc1c_9248_11eb_8d01_907841ab469erow2_col0\" class=\"data row2 col0\" >HOT-3</td>\n",
       "                        <td id=\"T_504abc1c_9248_11eb_8d01_907841ab469erow2_col1\" class=\"data row2 col1\" >Ovhd Condenser Product Temperature</td>\n",
       "                        <td id=\"T_504abc1c_9248_11eb_8d01_907841ab469erow2_col2\" class=\"data row2 col2\" >Float</td>\n",
       "                        <td id=\"T_504abc1c_9248_11eb_8d01_907841ab469erow2_col3\" class=\"data row2 col3\" >°F</td>\n",
       "                        <td id=\"T_504abc1c_9248_11eb_8d01_907841ab469erow2_col4\" class=\"data row2 col4\" >delmar.DELMAR_UNIT3_TI-230.PV</td>\n",
       "            </tr>\n",
       "            <tr>\n",
       "                                <td id=\"T_504abc1c_9248_11eb_8d01_907841ab469erow3_col0\" class=\"data row3 col0\" >HOT-3</td>\n",
       "                        <td id=\"T_504abc1c_9248_11eb_8d01_907841ab469erow3_col1\" class=\"data row3 col1\" >Tower Top Section Temperature</td>\n",
       "                        <td id=\"T_504abc1c_9248_11eb_8d01_907841ab469erow3_col2\" class=\"data row3 col2\" >Float</td>\n",
       "                        <td id=\"T_504abc1c_9248_11eb_8d01_907841ab469erow3_col3\" class=\"data row3 col3\" >°F</td>\n",
       "                        <td id=\"T_504abc1c_9248_11eb_8d01_907841ab469erow3_col4\" class=\"data row3 col4\" >delmar.DELMAR_UNIT3_TI-225.PV</td>\n",
       "            </tr>\n",
       "    </tbody></table>"
      ],
      "text/plain": [
       "<pandas.io.formats.style.Styler at 0x20067ced148>"
      ]
     },
     "metadata": {},
     "output_type": "display_data"
    },
    {
     "data": {
      "text/html": [
       "<hr></hr>"
      ],
      "text/plain": [
       "<IPython.core.display.HTML object>"
      ]
     },
     "metadata": {},
     "output_type": "display_data"
    },
    {
     "data": {
      "text/markdown": [
       "**Data view ID: <span style=\"color:blue\">pilot.plant_hot-3_overhead_product</span>** (# of streams: 14)"
      ],
      "text/plain": [
       "<IPython.core.display.Markdown object>"
      ]
     },
     "metadata": {},
     "output_type": "display_data"
    },
    {
     "data": {
      "text/html": [
       "<style  type=\"text/css\" >\n",
       "</style><table id=\"T_50979cf0_9248_11eb_8229_907841ab469e\" ><thead>    <tr>        <th class=\"col_heading level0 col0\" >Asset_Id</th>        <th class=\"col_heading level0 col1\" >Column_Name</th>        <th class=\"col_heading level0 col2\" >Stream_Type</th>        <th class=\"col_heading level0 col3\" >Stream_UOM</th>        <th class=\"col_heading level0 col4\" >OCS_Stream_Name</th>    </tr></thead><tbody>\n",
       "                <tr>\n",
       "                                <td id=\"T_50979cf0_9248_11eb_8229_907841ab469erow0_col0\" class=\"data row0 col0\" >HOT-3</td>\n",
       "                        <td id=\"T_50979cf0_9248_11eb_8229_907841ab469erow0_col1\" class=\"data row0 col1\" >Bottoms Level</td>\n",
       "                        <td id=\"T_50979cf0_9248_11eb_8229_907841ab469erow0_col2\" class=\"data row0 col2\" >Float</td>\n",
       "                        <td id=\"T_50979cf0_9248_11eb_8229_907841ab469erow0_col3\" class=\"data row0 col3\" >%</td>\n",
       "                        <td id=\"T_50979cf0_9248_11eb_8229_907841ab469erow0_col4\" class=\"data row0 col4\" >delmar.DELMAR_UNIT3_LI-210.PV</td>\n",
       "            </tr>\n",
       "            <tr>\n",
       "                                <td id=\"T_50979cf0_9248_11eb_8229_907841ab469erow1_col0\" class=\"data row1 col0\" >HOT-3</td>\n",
       "                        <td id=\"T_50979cf0_9248_11eb_8229_907841ab469erow1_col1\" class=\"data row1 col1\" >Overhead Receiver Level Controller Mode</td>\n",
       "                        <td id=\"T_50979cf0_9248_11eb_8229_907841ab469erow1_col2\" class=\"data row1 col2\" >Category</td>\n",
       "                        <td id=\"T_50979cf0_9248_11eb_8229_907841ab469erow1_col3\" class=\"data row1 col3\" ></td>\n",
       "                        <td id=\"T_50979cf0_9248_11eb_8229_907841ab469erow1_col4\" class=\"data row1 col4\" >delmar.DELMAR_UNIT3_LIC-240.MODE</td>\n",
       "            </tr>\n",
       "            <tr>\n",
       "                                <td id=\"T_50979cf0_9248_11eb_8229_907841ab469erow2_col0\" class=\"data row2 col0\" >HOT-3</td>\n",
       "                        <td id=\"T_50979cf0_9248_11eb_8229_907841ab469erow2_col1\" class=\"data row2 col1\" >Overhead Receiver Level Controller Output</td>\n",
       "                        <td id=\"T_50979cf0_9248_11eb_8229_907841ab469erow2_col2\" class=\"data row2 col2\" >Float</td>\n",
       "                        <td id=\"T_50979cf0_9248_11eb_8229_907841ab469erow2_col3\" class=\"data row2 col3\" >%</td>\n",
       "                        <td id=\"T_50979cf0_9248_11eb_8229_907841ab469erow2_col4\" class=\"data row2 col4\" >delmar.DELMAR_UNIT3_LIC-240.OUT</td>\n",
       "            </tr>\n",
       "            <tr>\n",
       "                                <td id=\"T_50979cf0_9248_11eb_8229_907841ab469erow3_col0\" class=\"data row3 col0\" >HOT-3</td>\n",
       "                        <td id=\"T_50979cf0_9248_11eb_8229_907841ab469erow3_col1\" class=\"data row3 col1\" >Overhead Receiver Level Controller PV</td>\n",
       "                        <td id=\"T_50979cf0_9248_11eb_8229_907841ab469erow3_col2\" class=\"data row3 col2\" >Float</td>\n",
       "                        <td id=\"T_50979cf0_9248_11eb_8229_907841ab469erow3_col3\" class=\"data row3 col3\" >%</td>\n",
       "                        <td id=\"T_50979cf0_9248_11eb_8229_907841ab469erow3_col4\" class=\"data row3 col4\" >delmar.DELMAR_UNIT3_LIC-240.PV</td>\n",
       "            </tr>\n",
       "            <tr>\n",
       "                                <td id=\"T_50979cf0_9248_11eb_8229_907841ab469erow4_col0\" class=\"data row4 col0\" >HOT-3</td>\n",
       "                        <td id=\"T_50979cf0_9248_11eb_8229_907841ab469erow4_col1\" class=\"data row4 col1\" >Overhead Receiver Level Controller Setpoint</td>\n",
       "                        <td id=\"T_50979cf0_9248_11eb_8229_907841ab469erow4_col2\" class=\"data row4 col2\" >Float</td>\n",
       "                        <td id=\"T_50979cf0_9248_11eb_8229_907841ab469erow4_col3\" class=\"data row4 col3\" >%</td>\n",
       "                        <td id=\"T_50979cf0_9248_11eb_8229_907841ab469erow4_col4\" class=\"data row4 col4\" >delmar.DELMAR_UNIT3_LIC-240.SP</td>\n",
       "            </tr>\n",
       "            <tr>\n",
       "                                <td id=\"T_50979cf0_9248_11eb_8229_907841ab469erow5_col0\" class=\"data row5 col0\" >HOT-3</td>\n",
       "                        <td id=\"T_50979cf0_9248_11eb_8229_907841ab469erow5_col1\" class=\"data row5 col1\" >Overhead to Feed Flow</td>\n",
       "                        <td id=\"T_50979cf0_9248_11eb_8229_907841ab469erow5_col2\" class=\"data row5 col2\" >Float</td>\n",
       "                        <td id=\"T_50979cf0_9248_11eb_8229_907841ab469erow5_col3\" class=\"data row5 col3\" >GPH</td>\n",
       "                        <td id=\"T_50979cf0_9248_11eb_8229_907841ab469erow5_col4\" class=\"data row5 col4\" >delmar.DELMAR_UNIT3_FI-210.PV</td>\n",
       "            </tr>\n",
       "            <tr>\n",
       "                                <td id=\"T_50979cf0_9248_11eb_8229_907841ab469erow6_col0\" class=\"data row6 col0\" >HOT-3</td>\n",
       "                        <td id=\"T_50979cf0_9248_11eb_8229_907841ab469erow6_col1\" class=\"data row6 col1\" >Ovhd Condenser Product Temperature</td>\n",
       "                        <td id=\"T_50979cf0_9248_11eb_8229_907841ab469erow6_col2\" class=\"data row6 col2\" >Float</td>\n",
       "                        <td id=\"T_50979cf0_9248_11eb_8229_907841ab469erow6_col3\" class=\"data row6 col3\" >°F</td>\n",
       "                        <td id=\"T_50979cf0_9248_11eb_8229_907841ab469erow6_col4\" class=\"data row6 col4\" >delmar.DELMAR_UNIT3_TI-230.PV</td>\n",
       "            </tr>\n",
       "            <tr>\n",
       "                                <td id=\"T_50979cf0_9248_11eb_8229_907841ab469erow7_col0\" class=\"data row7 col0\" >HOT-3</td>\n",
       "                        <td id=\"T_50979cf0_9248_11eb_8229_907841ab469erow7_col1\" class=\"data row7 col1\" >Reflux to Vac Tower Flow Controller Output</td>\n",
       "                        <td id=\"T_50979cf0_9248_11eb_8229_907841ab469erow7_col2\" class=\"data row7 col2\" >Float</td>\n",
       "                        <td id=\"T_50979cf0_9248_11eb_8229_907841ab469erow7_col3\" class=\"data row7 col3\" >%</td>\n",
       "                        <td id=\"T_50979cf0_9248_11eb_8229_907841ab469erow7_col4\" class=\"data row7 col4\" >delmar.DELMAR_UNIT3_FIC-240.OUT</td>\n",
       "            </tr>\n",
       "            <tr>\n",
       "                                <td id=\"T_50979cf0_9248_11eb_8229_907841ab469erow8_col0\" class=\"data row8 col0\" >HOT-3</td>\n",
       "                        <td id=\"T_50979cf0_9248_11eb_8229_907841ab469erow8_col1\" class=\"data row8 col1\" >Reflux to Vac Tower Flow Controller PV</td>\n",
       "                        <td id=\"T_50979cf0_9248_11eb_8229_907841ab469erow8_col2\" class=\"data row8 col2\" >Float</td>\n",
       "                        <td id=\"T_50979cf0_9248_11eb_8229_907841ab469erow8_col3\" class=\"data row8 col3\" >GPH</td>\n",
       "                        <td id=\"T_50979cf0_9248_11eb_8229_907841ab469erow8_col4\" class=\"data row8 col4\" >delmar.DELMAR_UNIT3_FIC-240.PV</td>\n",
       "            </tr>\n",
       "            <tr>\n",
       "                                <td id=\"T_50979cf0_9248_11eb_8229_907841ab469erow9_col0\" class=\"data row9 col0\" >HOT-3</td>\n",
       "                        <td id=\"T_50979cf0_9248_11eb_8229_907841ab469erow9_col1\" class=\"data row9 col1\" >Reflux to Vac Tower Flow Controller Setpoint</td>\n",
       "                        <td id=\"T_50979cf0_9248_11eb_8229_907841ab469erow9_col2\" class=\"data row9 col2\" >Float</td>\n",
       "                        <td id=\"T_50979cf0_9248_11eb_8229_907841ab469erow9_col3\" class=\"data row9 col3\" >GPH</td>\n",
       "                        <td id=\"T_50979cf0_9248_11eb_8229_907841ab469erow9_col4\" class=\"data row9 col4\" >delmar.DELMAR_UNIT3_FIC-240.SP</td>\n",
       "            </tr>\n",
       "            <tr>\n",
       "                                <td id=\"T_50979cf0_9248_11eb_8229_907841ab469erow10_col0\" class=\"data row10 col0\" >HOT-3</td>\n",
       "                        <td id=\"T_50979cf0_9248_11eb_8229_907841ab469erow10_col1\" class=\"data row10 col1\" >Reflux to VacTower Flow Controller Mode</td>\n",
       "                        <td id=\"T_50979cf0_9248_11eb_8229_907841ab469erow10_col2\" class=\"data row10 col2\" >Category</td>\n",
       "                        <td id=\"T_50979cf0_9248_11eb_8229_907841ab469erow10_col3\" class=\"data row10 col3\" ></td>\n",
       "                        <td id=\"T_50979cf0_9248_11eb_8229_907841ab469erow10_col4\" class=\"data row10 col4\" >delmar.DELMAR_UNIT3_FIC-240.MODE</td>\n",
       "            </tr>\n",
       "            <tr>\n",
       "                                <td id=\"T_50979cf0_9248_11eb_8229_907841ab469erow11_col0\" class=\"data row11 col0\" >HOT-3</td>\n",
       "                        <td id=\"T_50979cf0_9248_11eb_8229_907841ab469erow11_col1\" class=\"data row11 col1\" >Tower Midsection temperature</td>\n",
       "                        <td id=\"T_50979cf0_9248_11eb_8229_907841ab469erow11_col2\" class=\"data row11 col2\" >Float</td>\n",
       "                        <td id=\"T_50979cf0_9248_11eb_8229_907841ab469erow11_col3\" class=\"data row11 col3\" >°F</td>\n",
       "                        <td id=\"T_50979cf0_9248_11eb_8229_907841ab469erow11_col4\" class=\"data row11 col4\" >delmar.DELMAR_UNIT3_TI-215.PV</td>\n",
       "            </tr>\n",
       "            <tr>\n",
       "                                <td id=\"T_50979cf0_9248_11eb_8229_907841ab469erow12_col0\" class=\"data row12 col0\" >HOT-3</td>\n",
       "                        <td id=\"T_50979cf0_9248_11eb_8229_907841ab469erow12_col1\" class=\"data row12 col1\" >Tower Top Bed Differential Pressure</td>\n",
       "                        <td id=\"T_50979cf0_9248_11eb_8229_907841ab469erow12_col2\" class=\"data row12 col2\" >Float</td>\n",
       "                        <td id=\"T_50979cf0_9248_11eb_8229_907841ab469erow12_col3\" class=\"data row12 col3\" >in H2O</td>\n",
       "                        <td id=\"T_50979cf0_9248_11eb_8229_907841ab469erow12_col4\" class=\"data row12 col4\" >delmar.DELMAR_UNIT3_PDI-220.PV</td>\n",
       "            </tr>\n",
       "            <tr>\n",
       "                                <td id=\"T_50979cf0_9248_11eb_8229_907841ab469erow13_col0\" class=\"data row13 col0\" >HOT-3</td>\n",
       "                        <td id=\"T_50979cf0_9248_11eb_8229_907841ab469erow13_col1\" class=\"data row13 col1\" >Tower Top Section Temperature</td>\n",
       "                        <td id=\"T_50979cf0_9248_11eb_8229_907841ab469erow13_col2\" class=\"data row13 col2\" >Float</td>\n",
       "                        <td id=\"T_50979cf0_9248_11eb_8229_907841ab469erow13_col3\" class=\"data row13 col3\" >°F</td>\n",
       "                        <td id=\"T_50979cf0_9248_11eb_8229_907841ab469erow13_col4\" class=\"data row13 col4\" >delmar.DELMAR_UNIT3_TI-225.PV</td>\n",
       "            </tr>\n",
       "    </tbody></table>"
      ],
      "text/plain": [
       "<pandas.io.formats.style.Styler at 0x20002d17bc8>"
      ]
     },
     "metadata": {},
     "output_type": "display_data"
    },
    {
     "data": {
      "text/html": [
       "<hr></hr>"
      ],
      "text/plain": [
       "<IPython.core.display.HTML object>"
      ]
     },
     "metadata": {},
     "output_type": "display_data"
    },
    {
     "data": {
      "text/markdown": [
       "**Data view ID: <span style=\"color:blue\">pilot.plant_hot-3_pressure</span>** (# of streams: 5)"
      ],
      "text/plain": [
       "<IPython.core.display.Markdown object>"
      ]
     },
     "metadata": {},
     "output_type": "display_data"
    },
    {
     "data": {
      "text/html": [
       "<style  type=\"text/css\" >\n",
       "</style><table id=\"T_50e49770_9248_11eb_92e1_907841ab469e\" ><thead>    <tr>        <th class=\"col_heading level0 col0\" >Asset_Id</th>        <th class=\"col_heading level0 col1\" >Column_Name</th>        <th class=\"col_heading level0 col2\" >Stream_Type</th>        <th class=\"col_heading level0 col3\" >Stream_UOM</th>        <th class=\"col_heading level0 col4\" >OCS_Stream_Name</th>    </tr></thead><tbody>\n",
       "                <tr>\n",
       "                                <td id=\"T_50e49770_9248_11eb_92e1_907841ab469erow0_col0\" class=\"data row0 col0\" >HOT-3</td>\n",
       "                        <td id=\"T_50e49770_9248_11eb_92e1_907841ab469erow0_col1\" class=\"data row0 col1\" >Overhead Pressure</td>\n",
       "                        <td id=\"T_50e49770_9248_11eb_92e1_907841ab469erow0_col2\" class=\"data row0 col2\" >Float</td>\n",
       "                        <td id=\"T_50e49770_9248_11eb_92e1_907841ab469erow0_col3\" class=\"data row0 col3\" >mmHga</td>\n",
       "                        <td id=\"T_50e49770_9248_11eb_92e1_907841ab469erow0_col4\" class=\"data row0 col4\" >delmar.DELMAR_UNIT3_PI-225.PV</td>\n",
       "            </tr>\n",
       "            <tr>\n",
       "                                <td id=\"T_50e49770_9248_11eb_92e1_907841ab469erow1_col0\" class=\"data row1 col0\" >HOT-3</td>\n",
       "                        <td id=\"T_50e49770_9248_11eb_92e1_907841ab469erow1_col1\" class=\"data row1 col1\" >V-240 Receiver Vacuum Controller Mode</td>\n",
       "                        <td id=\"T_50e49770_9248_11eb_92e1_907841ab469erow1_col2\" class=\"data row1 col2\" >Category</td>\n",
       "                        <td id=\"T_50e49770_9248_11eb_92e1_907841ab469erow1_col3\" class=\"data row1 col3\" ></td>\n",
       "                        <td id=\"T_50e49770_9248_11eb_92e1_907841ab469erow1_col4\" class=\"data row1 col4\" >delmar.DELMAR_UNIT3_PIC-250.MODE</td>\n",
       "            </tr>\n",
       "            <tr>\n",
       "                                <td id=\"T_50e49770_9248_11eb_92e1_907841ab469erow2_col0\" class=\"data row2 col0\" >HOT-3</td>\n",
       "                        <td id=\"T_50e49770_9248_11eb_92e1_907841ab469erow2_col1\" class=\"data row2 col1\" >V-240 Receiver Vacuum Controller Output</td>\n",
       "                        <td id=\"T_50e49770_9248_11eb_92e1_907841ab469erow2_col2\" class=\"data row2 col2\" >Float</td>\n",
       "                        <td id=\"T_50e49770_9248_11eb_92e1_907841ab469erow2_col3\" class=\"data row2 col3\" >%</td>\n",
       "                        <td id=\"T_50e49770_9248_11eb_92e1_907841ab469erow2_col4\" class=\"data row2 col4\" >delmar.DELMAR_UNIT3_PIC-250.OUT</td>\n",
       "            </tr>\n",
       "            <tr>\n",
       "                                <td id=\"T_50e49770_9248_11eb_92e1_907841ab469erow3_col0\" class=\"data row3 col0\" >HOT-3</td>\n",
       "                        <td id=\"T_50e49770_9248_11eb_92e1_907841ab469erow3_col1\" class=\"data row3 col1\" >V-240 Receiver Vacuum Controller PV</td>\n",
       "                        <td id=\"T_50e49770_9248_11eb_92e1_907841ab469erow3_col2\" class=\"data row3 col2\" >Float</td>\n",
       "                        <td id=\"T_50e49770_9248_11eb_92e1_907841ab469erow3_col3\" class=\"data row3 col3\" >mmHga</td>\n",
       "                        <td id=\"T_50e49770_9248_11eb_92e1_907841ab469erow3_col4\" class=\"data row3 col4\" >delmar.DELMAR_UNIT3_PIC-250.PV</td>\n",
       "            </tr>\n",
       "            <tr>\n",
       "                                <td id=\"T_50e49770_9248_11eb_92e1_907841ab469erow4_col0\" class=\"data row4 col0\" >HOT-3</td>\n",
       "                        <td id=\"T_50e49770_9248_11eb_92e1_907841ab469erow4_col1\" class=\"data row4 col1\" >V-240 Receiver Vacuum Controller Setpoint</td>\n",
       "                        <td id=\"T_50e49770_9248_11eb_92e1_907841ab469erow4_col2\" class=\"data row4 col2\" >Float</td>\n",
       "                        <td id=\"T_50e49770_9248_11eb_92e1_907841ab469erow4_col3\" class=\"data row4 col3\" >mmHga</td>\n",
       "                        <td id=\"T_50e49770_9248_11eb_92e1_907841ab469erow4_col4\" class=\"data row4 col4\" >delmar.DELMAR_UNIT3_PIC-250.SP</td>\n",
       "            </tr>\n",
       "    </tbody></table>"
      ],
      "text/plain": [
       "<pandas.io.formats.style.Styler at 0x20067cb4448>"
      ]
     },
     "metadata": {},
     "output_type": "display_data"
    },
    {
     "data": {
      "text/html": [
       "<hr></hr>"
      ],
      "text/plain": [
       "<IPython.core.display.HTML object>"
      ]
     },
     "metadata": {},
     "output_type": "display_data"
    },
    {
     "data": {
      "text/markdown": [
       "**Data view ID: <span style=\"color:blue\">pilot.plant_hot-3_t-200</span>** (# of streams: 25)"
      ],
      "text/plain": [
       "<IPython.core.display.Markdown object>"
      ]
     },
     "metadata": {},
     "output_type": "display_data"
    },
    {
     "data": {
      "text/html": [
       "<style  type=\"text/css\" >\n",
       "</style><table id=\"T_5149d95c_9248_11eb_a4c9_907841ab469e\" ><thead>    <tr>        <th class=\"col_heading level0 col0\" >Asset_Id</th>        <th class=\"col_heading level0 col1\" >Column_Name</th>        <th class=\"col_heading level0 col2\" >Stream_Type</th>        <th class=\"col_heading level0 col3\" >Stream_UOM</th>        <th class=\"col_heading level0 col4\" >OCS_Stream_Name</th>    </tr></thead><tbody>\n",
       "                <tr>\n",
       "                                <td id=\"T_5149d95c_9248_11eb_a4c9_907841ab469erow0_col0\" class=\"data row0 col0\" >HOT-3</td>\n",
       "                        <td id=\"T_5149d95c_9248_11eb_a4c9_907841ab469erow0_col1\" class=\"data row0 col1\" >Bottoms Level</td>\n",
       "                        <td id=\"T_5149d95c_9248_11eb_a4c9_907841ab469erow0_col2\" class=\"data row0 col2\" >Float</td>\n",
       "                        <td id=\"T_5149d95c_9248_11eb_a4c9_907841ab469erow0_col3\" class=\"data row0 col3\" >%</td>\n",
       "                        <td id=\"T_5149d95c_9248_11eb_a4c9_907841ab469erow0_col4\" class=\"data row0 col4\" >delmar.DELMAR_UNIT3_LI-210.PV</td>\n",
       "            </tr>\n",
       "            <tr>\n",
       "                                <td id=\"T_5149d95c_9248_11eb_a4c9_907841ab469erow1_col0\" class=\"data row1 col0\" >HOT-3</td>\n",
       "                        <td id=\"T_5149d95c_9248_11eb_a4c9_907841ab469erow1_col1\" class=\"data row1 col1\" >Bottoms Temperature</td>\n",
       "                        <td id=\"T_5149d95c_9248_11eb_a4c9_907841ab469erow1_col2\" class=\"data row1 col2\" >Float</td>\n",
       "                        <td id=\"T_5149d95c_9248_11eb_a4c9_907841ab469erow1_col3\" class=\"data row1 col3\" >°F</td>\n",
       "                        <td id=\"T_5149d95c_9248_11eb_a4c9_907841ab469erow1_col4\" class=\"data row1 col4\" >delmar.DELMAR_UNIT3_TI-200.PV</td>\n",
       "            </tr>\n",
       "            <tr>\n",
       "                                <td id=\"T_5149d95c_9248_11eb_a4c9_907841ab469erow2_col0\" class=\"data row2 col0\" >HOT-3</td>\n",
       "                        <td id=\"T_5149d95c_9248_11eb_a4c9_907841ab469erow2_col1\" class=\"data row2 col1\" >Bottoms to Feed Flow Controller Mode</td>\n",
       "                        <td id=\"T_5149d95c_9248_11eb_a4c9_907841ab469erow2_col2\" class=\"data row2 col2\" >Category</td>\n",
       "                        <td id=\"T_5149d95c_9248_11eb_a4c9_907841ab469erow2_col3\" class=\"data row2 col3\" ></td>\n",
       "                        <td id=\"T_5149d95c_9248_11eb_a4c9_907841ab469erow2_col4\" class=\"data row2 col4\" >delmar.DELMAR_UNIT3_FIC-200.MODE</td>\n",
       "            </tr>\n",
       "            <tr>\n",
       "                                <td id=\"T_5149d95c_9248_11eb_a4c9_907841ab469erow3_col0\" class=\"data row3 col0\" >HOT-3</td>\n",
       "                        <td id=\"T_5149d95c_9248_11eb_a4c9_907841ab469erow3_col1\" class=\"data row3 col1\" >Bottoms to Feed Flow Controller Output</td>\n",
       "                        <td id=\"T_5149d95c_9248_11eb_a4c9_907841ab469erow3_col2\" class=\"data row3 col2\" >Float</td>\n",
       "                        <td id=\"T_5149d95c_9248_11eb_a4c9_907841ab469erow3_col3\" class=\"data row3 col3\" >%</td>\n",
       "                        <td id=\"T_5149d95c_9248_11eb_a4c9_907841ab469erow3_col4\" class=\"data row3 col4\" >delmar.DELMAR_UNIT3_FIC-200.OUT</td>\n",
       "            </tr>\n",
       "            <tr>\n",
       "                                <td id=\"T_5149d95c_9248_11eb_a4c9_907841ab469erow4_col0\" class=\"data row4 col0\" >HOT-3</td>\n",
       "                        <td id=\"T_5149d95c_9248_11eb_a4c9_907841ab469erow4_col1\" class=\"data row4 col1\" >Bottoms to Feed Flow Controller PV</td>\n",
       "                        <td id=\"T_5149d95c_9248_11eb_a4c9_907841ab469erow4_col2\" class=\"data row4 col2\" >Float</td>\n",
       "                        <td id=\"T_5149d95c_9248_11eb_a4c9_907841ab469erow4_col3\" class=\"data row4 col3\" >GPH</td>\n",
       "                        <td id=\"T_5149d95c_9248_11eb_a4c9_907841ab469erow4_col4\" class=\"data row4 col4\" >delmar.DELMAR_UNIT3_FIC-200.PV</td>\n",
       "            </tr>\n",
       "            <tr>\n",
       "                                <td id=\"T_5149d95c_9248_11eb_a4c9_907841ab469erow5_col0\" class=\"data row5 col0\" >HOT-3</td>\n",
       "                        <td id=\"T_5149d95c_9248_11eb_a4c9_907841ab469erow5_col1\" class=\"data row5 col1\" >Bottoms to Feed Flow Controller Setpoint</td>\n",
       "                        <td id=\"T_5149d95c_9248_11eb_a4c9_907841ab469erow5_col2\" class=\"data row5 col2\" >Float</td>\n",
       "                        <td id=\"T_5149d95c_9248_11eb_a4c9_907841ab469erow5_col3\" class=\"data row5 col3\" >GPH</td>\n",
       "                        <td id=\"T_5149d95c_9248_11eb_a4c9_907841ab469erow5_col4\" class=\"data row5 col4\" >delmar.DELMAR_UNIT3_FIC-200.SP</td>\n",
       "            </tr>\n",
       "            <tr>\n",
       "                                <td id=\"T_5149d95c_9248_11eb_a4c9_907841ab469erow6_col0\" class=\"data row6 col0\" >HOT-3</td>\n",
       "                        <td id=\"T_5149d95c_9248_11eb_a4c9_907841ab469erow6_col1\" class=\"data row6 col1\" >Feed Temperature</td>\n",
       "                        <td id=\"T_5149d95c_9248_11eb_a4c9_907841ab469erow6_col2\" class=\"data row6 col2\" >Float</td>\n",
       "                        <td id=\"T_5149d95c_9248_11eb_a4c9_907841ab469erow6_col3\" class=\"data row6 col3\" >°F</td>\n",
       "                        <td id=\"T_5149d95c_9248_11eb_a4c9_907841ab469erow6_col4\" class=\"data row6 col4\" >delmar.DELMAR_UNIT3_TI-210.PV</td>\n",
       "            </tr>\n",
       "            <tr>\n",
       "                                <td id=\"T_5149d95c_9248_11eb_a4c9_907841ab469erow7_col0\" class=\"data row7 col0\" >HOT-3</td>\n",
       "                        <td id=\"T_5149d95c_9248_11eb_a4c9_907841ab469erow7_col1\" class=\"data row7 col1\" >Overhead Pressure</td>\n",
       "                        <td id=\"T_5149d95c_9248_11eb_a4c9_907841ab469erow7_col2\" class=\"data row7 col2\" >Float</td>\n",
       "                        <td id=\"T_5149d95c_9248_11eb_a4c9_907841ab469erow7_col3\" class=\"data row7 col3\" >mmHga</td>\n",
       "                        <td id=\"T_5149d95c_9248_11eb_a4c9_907841ab469erow7_col4\" class=\"data row7 col4\" >delmar.DELMAR_UNIT3_PI-225.PV</td>\n",
       "            </tr>\n",
       "            <tr>\n",
       "                                <td id=\"T_5149d95c_9248_11eb_a4c9_907841ab469erow8_col0\" class=\"data row8 col0\" >HOT-3</td>\n",
       "                        <td id=\"T_5149d95c_9248_11eb_a4c9_907841ab469erow8_col1\" class=\"data row8 col1\" >Overhead to Feed Flow</td>\n",
       "                        <td id=\"T_5149d95c_9248_11eb_a4c9_907841ab469erow8_col2\" class=\"data row8 col2\" >Float</td>\n",
       "                        <td id=\"T_5149d95c_9248_11eb_a4c9_907841ab469erow8_col3\" class=\"data row8 col3\" >GPH</td>\n",
       "                        <td id=\"T_5149d95c_9248_11eb_a4c9_907841ab469erow8_col4\" class=\"data row8 col4\" >delmar.DELMAR_UNIT3_FI-210.PV</td>\n",
       "            </tr>\n",
       "            <tr>\n",
       "                                <td id=\"T_5149d95c_9248_11eb_a4c9_907841ab469erow9_col0\" class=\"data row9 col0\" >HOT-3</td>\n",
       "                        <td id=\"T_5149d95c_9248_11eb_a4c9_907841ab469erow9_col1\" class=\"data row9 col1\" >Reboiler Outlet Temperature Controller Mode</td>\n",
       "                        <td id=\"T_5149d95c_9248_11eb_a4c9_907841ab469erow9_col2\" class=\"data row9 col2\" >Category</td>\n",
       "                        <td id=\"T_5149d95c_9248_11eb_a4c9_907841ab469erow9_col3\" class=\"data row9 col3\" ></td>\n",
       "                        <td id=\"T_5149d95c_9248_11eb_a4c9_907841ab469erow9_col4\" class=\"data row9 col4\" >delmar.DELMAR_UNIT3_TIC-205.MODE</td>\n",
       "            </tr>\n",
       "            <tr>\n",
       "                                <td id=\"T_5149d95c_9248_11eb_a4c9_907841ab469erow10_col0\" class=\"data row10 col0\" >HOT-3</td>\n",
       "                        <td id=\"T_5149d95c_9248_11eb_a4c9_907841ab469erow10_col1\" class=\"data row10 col1\" >Reboiler Outlet Temperature Controller Output</td>\n",
       "                        <td id=\"T_5149d95c_9248_11eb_a4c9_907841ab469erow10_col2\" class=\"data row10 col2\" >Float</td>\n",
       "                        <td id=\"T_5149d95c_9248_11eb_a4c9_907841ab469erow10_col3\" class=\"data row10 col3\" >%</td>\n",
       "                        <td id=\"T_5149d95c_9248_11eb_a4c9_907841ab469erow10_col4\" class=\"data row10 col4\" >delmar.DELMAR_UNIT3_TIC-205.OUT</td>\n",
       "            </tr>\n",
       "            <tr>\n",
       "                                <td id=\"T_5149d95c_9248_11eb_a4c9_907841ab469erow11_col0\" class=\"data row11 col0\" >HOT-3</td>\n",
       "                        <td id=\"T_5149d95c_9248_11eb_a4c9_907841ab469erow11_col1\" class=\"data row11 col1\" >Reboiler Outlet Temperature Controller PV</td>\n",
       "                        <td id=\"T_5149d95c_9248_11eb_a4c9_907841ab469erow11_col2\" class=\"data row11 col2\" >Float</td>\n",
       "                        <td id=\"T_5149d95c_9248_11eb_a4c9_907841ab469erow11_col3\" class=\"data row11 col3\" >°F</td>\n",
       "                        <td id=\"T_5149d95c_9248_11eb_a4c9_907841ab469erow11_col4\" class=\"data row11 col4\" >delmar.DELMAR_UNIT3_TIC-205.PV</td>\n",
       "            </tr>\n",
       "            <tr>\n",
       "                                <td id=\"T_5149d95c_9248_11eb_a4c9_907841ab469erow12_col0\" class=\"data row12 col0\" >HOT-3</td>\n",
       "                        <td id=\"T_5149d95c_9248_11eb_a4c9_907841ab469erow12_col1\" class=\"data row12 col1\" >Reboiler Outlet Temperature Controller Setpoint</td>\n",
       "                        <td id=\"T_5149d95c_9248_11eb_a4c9_907841ab469erow12_col2\" class=\"data row12 col2\" >Float</td>\n",
       "                        <td id=\"T_5149d95c_9248_11eb_a4c9_907841ab469erow12_col3\" class=\"data row12 col3\" >°F</td>\n",
       "                        <td id=\"T_5149d95c_9248_11eb_a4c9_907841ab469erow12_col4\" class=\"data row12 col4\" >delmar.DELMAR_UNIT3_TIC-205.SP</td>\n",
       "            </tr>\n",
       "            <tr>\n",
       "                                <td id=\"T_5149d95c_9248_11eb_a4c9_907841ab469erow13_col0\" class=\"data row13 col0\" >HOT-3</td>\n",
       "                        <td id=\"T_5149d95c_9248_11eb_a4c9_907841ab469erow13_col1\" class=\"data row13 col1\" >Reflux to Vac Tower Flow Controller Output</td>\n",
       "                        <td id=\"T_5149d95c_9248_11eb_a4c9_907841ab469erow13_col2\" class=\"data row13 col2\" >Float</td>\n",
       "                        <td id=\"T_5149d95c_9248_11eb_a4c9_907841ab469erow13_col3\" class=\"data row13 col3\" >%</td>\n",
       "                        <td id=\"T_5149d95c_9248_11eb_a4c9_907841ab469erow13_col4\" class=\"data row13 col4\" >delmar.DELMAR_UNIT3_FIC-240.OUT</td>\n",
       "            </tr>\n",
       "            <tr>\n",
       "                                <td id=\"T_5149d95c_9248_11eb_a4c9_907841ab469erow14_col0\" class=\"data row14 col0\" >HOT-3</td>\n",
       "                        <td id=\"T_5149d95c_9248_11eb_a4c9_907841ab469erow14_col1\" class=\"data row14 col1\" >Reflux to Vac Tower Flow Controller PV</td>\n",
       "                        <td id=\"T_5149d95c_9248_11eb_a4c9_907841ab469erow14_col2\" class=\"data row14 col2\" >Float</td>\n",
       "                        <td id=\"T_5149d95c_9248_11eb_a4c9_907841ab469erow14_col3\" class=\"data row14 col3\" >GPH</td>\n",
       "                        <td id=\"T_5149d95c_9248_11eb_a4c9_907841ab469erow14_col4\" class=\"data row14 col4\" >delmar.DELMAR_UNIT3_FIC-240.PV</td>\n",
       "            </tr>\n",
       "            <tr>\n",
       "                                <td id=\"T_5149d95c_9248_11eb_a4c9_907841ab469erow15_col0\" class=\"data row15 col0\" >HOT-3</td>\n",
       "                        <td id=\"T_5149d95c_9248_11eb_a4c9_907841ab469erow15_col1\" class=\"data row15 col1\" >Reflux to Vac Tower Flow Controller Setpoint</td>\n",
       "                        <td id=\"T_5149d95c_9248_11eb_a4c9_907841ab469erow15_col2\" class=\"data row15 col2\" >Float</td>\n",
       "                        <td id=\"T_5149d95c_9248_11eb_a4c9_907841ab469erow15_col3\" class=\"data row15 col3\" >GPH</td>\n",
       "                        <td id=\"T_5149d95c_9248_11eb_a4c9_907841ab469erow15_col4\" class=\"data row15 col4\" >delmar.DELMAR_UNIT3_FIC-240.SP</td>\n",
       "            </tr>\n",
       "            <tr>\n",
       "                                <td id=\"T_5149d95c_9248_11eb_a4c9_907841ab469erow16_col0\" class=\"data row16 col0\" >HOT-3</td>\n",
       "                        <td id=\"T_5149d95c_9248_11eb_a4c9_907841ab469erow16_col1\" class=\"data row16 col1\" >Reflux to VacTower Flow Controller Mode</td>\n",
       "                        <td id=\"T_5149d95c_9248_11eb_a4c9_907841ab469erow16_col2\" class=\"data row16 col2\" >Category</td>\n",
       "                        <td id=\"T_5149d95c_9248_11eb_a4c9_907841ab469erow16_col3\" class=\"data row16 col3\" ></td>\n",
       "                        <td id=\"T_5149d95c_9248_11eb_a4c9_907841ab469erow16_col4\" class=\"data row16 col4\" >delmar.DELMAR_UNIT3_FIC-240.MODE</td>\n",
       "            </tr>\n",
       "            <tr>\n",
       "                                <td id=\"T_5149d95c_9248_11eb_a4c9_907841ab469erow17_col0\" class=\"data row17 col0\" >HOT-3</td>\n",
       "                        <td id=\"T_5149d95c_9248_11eb_a4c9_907841ab469erow17_col1\" class=\"data row17 col1\" >Steam to Reboiler Flow Controller Mode</td>\n",
       "                        <td id=\"T_5149d95c_9248_11eb_a4c9_907841ab469erow17_col2\" class=\"data row17 col2\" >Category</td>\n",
       "                        <td id=\"T_5149d95c_9248_11eb_a4c9_907841ab469erow17_col3\" class=\"data row17 col3\" ></td>\n",
       "                        <td id=\"T_5149d95c_9248_11eb_a4c9_907841ab469erow17_col4\" class=\"data row17 col4\" >delmar.DELMAR_UNIT3_FIC-275.MODE</td>\n",
       "            </tr>\n",
       "            <tr>\n",
       "                                <td id=\"T_5149d95c_9248_11eb_a4c9_907841ab469erow18_col0\" class=\"data row18 col0\" >HOT-3</td>\n",
       "                        <td id=\"T_5149d95c_9248_11eb_a4c9_907841ab469erow18_col1\" class=\"data row18 col1\" >Steam to Reboiler Flow Controller Output</td>\n",
       "                        <td id=\"T_5149d95c_9248_11eb_a4c9_907841ab469erow18_col2\" class=\"data row18 col2\" >Float</td>\n",
       "                        <td id=\"T_5149d95c_9248_11eb_a4c9_907841ab469erow18_col3\" class=\"data row18 col3\" >%</td>\n",
       "                        <td id=\"T_5149d95c_9248_11eb_a4c9_907841ab469erow18_col4\" class=\"data row18 col4\" >delmar.DELMAR_UNIT3_FIC-275.OUT</td>\n",
       "            </tr>\n",
       "            <tr>\n",
       "                                <td id=\"T_5149d95c_9248_11eb_a4c9_907841ab469erow19_col0\" class=\"data row19 col0\" >HOT-3</td>\n",
       "                        <td id=\"T_5149d95c_9248_11eb_a4c9_907841ab469erow19_col1\" class=\"data row19 col1\" >Steam to Reboiler Flow Controller PV</td>\n",
       "                        <td id=\"T_5149d95c_9248_11eb_a4c9_907841ab469erow19_col2\" class=\"data row19 col2\" >Float</td>\n",
       "                        <td id=\"T_5149d95c_9248_11eb_a4c9_907841ab469erow19_col3\" class=\"data row19 col3\" >LB/HR</td>\n",
       "                        <td id=\"T_5149d95c_9248_11eb_a4c9_907841ab469erow19_col4\" class=\"data row19 col4\" >delmar.DELMAR_UNIT3_FIC-275.PV</td>\n",
       "            </tr>\n",
       "            <tr>\n",
       "                                <td id=\"T_5149d95c_9248_11eb_a4c9_907841ab469erow20_col0\" class=\"data row20 col0\" >HOT-3</td>\n",
       "                        <td id=\"T_5149d95c_9248_11eb_a4c9_907841ab469erow20_col1\" class=\"data row20 col1\" >Steam to Reboiler Flow Controller Setpoint</td>\n",
       "                        <td id=\"T_5149d95c_9248_11eb_a4c9_907841ab469erow20_col2\" class=\"data row20 col2\" >Float</td>\n",
       "                        <td id=\"T_5149d95c_9248_11eb_a4c9_907841ab469erow20_col3\" class=\"data row20 col3\" >LB/HR</td>\n",
       "                        <td id=\"T_5149d95c_9248_11eb_a4c9_907841ab469erow20_col4\" class=\"data row20 col4\" >delmar.DELMAR_UNIT3_FIC-275.SP</td>\n",
       "            </tr>\n",
       "            <tr>\n",
       "                                <td id=\"T_5149d95c_9248_11eb_a4c9_907841ab469erow21_col0\" class=\"data row21 col0\" >HOT-3</td>\n",
       "                        <td id=\"T_5149d95c_9248_11eb_a4c9_907841ab469erow21_col1\" class=\"data row21 col1\" >Tower Midsection temperature</td>\n",
       "                        <td id=\"T_5149d95c_9248_11eb_a4c9_907841ab469erow21_col2\" class=\"data row21 col2\" >Float</td>\n",
       "                        <td id=\"T_5149d95c_9248_11eb_a4c9_907841ab469erow21_col3\" class=\"data row21 col3\" >°F</td>\n",
       "                        <td id=\"T_5149d95c_9248_11eb_a4c9_907841ab469erow21_col4\" class=\"data row21 col4\" >delmar.DELMAR_UNIT3_TI-215.PV</td>\n",
       "            </tr>\n",
       "            <tr>\n",
       "                                <td id=\"T_5149d95c_9248_11eb_a4c9_907841ab469erow22_col0\" class=\"data row22 col0\" >HOT-3</td>\n",
       "                        <td id=\"T_5149d95c_9248_11eb_a4c9_907841ab469erow22_col1\" class=\"data row22 col1\" >Tower Top Bed Differential Pressure</td>\n",
       "                        <td id=\"T_5149d95c_9248_11eb_a4c9_907841ab469erow22_col2\" class=\"data row22 col2\" >Float</td>\n",
       "                        <td id=\"T_5149d95c_9248_11eb_a4c9_907841ab469erow22_col3\" class=\"data row22 col3\" >in H2O</td>\n",
       "                        <td id=\"T_5149d95c_9248_11eb_a4c9_907841ab469erow22_col4\" class=\"data row22 col4\" >delmar.DELMAR_UNIT3_PDI-220.PV</td>\n",
       "            </tr>\n",
       "            <tr>\n",
       "                                <td id=\"T_5149d95c_9248_11eb_a4c9_907841ab469erow23_col0\" class=\"data row23 col0\" >HOT-3</td>\n",
       "                        <td id=\"T_5149d95c_9248_11eb_a4c9_907841ab469erow23_col1\" class=\"data row23 col1\" >Tower Top Section Temperature</td>\n",
       "                        <td id=\"T_5149d95c_9248_11eb_a4c9_907841ab469erow23_col2\" class=\"data row23 col2\" >Float</td>\n",
       "                        <td id=\"T_5149d95c_9248_11eb_a4c9_907841ab469erow23_col3\" class=\"data row23 col3\" >°F</td>\n",
       "                        <td id=\"T_5149d95c_9248_11eb_a4c9_907841ab469erow23_col4\" class=\"data row23 col4\" >delmar.DELMAR_UNIT3_TI-225.PV</td>\n",
       "            </tr>\n",
       "            <tr>\n",
       "                                <td id=\"T_5149d95c_9248_11eb_a4c9_907841ab469erow24_col0\" class=\"data row24 col0\" >HOT-3</td>\n",
       "                        <td id=\"T_5149d95c_9248_11eb_a4c9_907841ab469erow24_col1\" class=\"data row24 col1\" >Unit 3 Common Trouble Alarm</td>\n",
       "                        <td id=\"T_5149d95c_9248_11eb_a4c9_907841ab469erow24_col2\" class=\"data row24 col2\" >Category</td>\n",
       "                        <td id=\"T_5149d95c_9248_11eb_a4c9_907841ab469erow24_col3\" class=\"data row24 col3\" ></td>\n",
       "                        <td id=\"T_5149d95c_9248_11eb_a4c9_907841ab469erow24_col4\" class=\"data row24 col4\" >delmar.DELMAR_UNIT3_XA-200</td>\n",
       "            </tr>\n",
       "    </tbody></table>"
      ],
      "text/plain": [
       "<pandas.io.formats.style.Styler at 0x20067cea188>"
      ]
     },
     "metadata": {},
     "output_type": "display_data"
    }
   ],
   "source": [
    "for dv_id in dataviews_hot_1 + dataviews_hot_3:\n",
    "    dv_df = hub.dataview_definition(namespace_id, dv_id) \n",
    "    display(HTML(\"<hr></hr>\"))\n",
    "    display(\n",
    "        Markdown(\n",
    "            f'**Data view ID: <span style=\"color:blue\">{dv_id}</span>** (# of streams: {len(dv_df.index)})'\n",
    "        )\n",
    "    )\n",
    "    display_df(dv_df)"
   ]
  },
  {
   "cell_type": "markdown",
   "metadata": {
    "scrolled": true
   },
   "source": [
    "## Multi-asset data views\n",
    "\n",
    "No multi-asset data view for this data set. "
   ]
  },
  {
   "cell_type": "markdown",
   "metadata": {},
   "source": [
    "For more information on how to request interpolated data with a data view, please consult [this notebook](./Hub_Library_Quickstart.ipynb)"
   ]
  },
  {
   "cell_type": "markdown",
   "metadata": {},
   "source": [
    "## Asset Metadata\n",
    "\n",
    "Right now only the heat area exchange for E-101 of asset `HOT-1`"
   ]
  },
  {
   "cell_type": "code",
   "execution_count": 6,
   "metadata": {
    "scrolled": true
   },
   "outputs": [
    {
     "data": {
      "text/html": [
       "<style  type=\"text/css\" >\n",
       "</style><table id=\"T_514c987e_9248_11eb_b874_907841ab469e\" ><thead>    <tr>        <th class=\"col_heading level0 col0\" >E-102.Heat Exchange Area</th>        <th class=\"col_heading level0 col1\" >Asset_Id</th>    </tr></thead><tbody>\n",
       "                <tr>\n",
       "                                <td id=\"T_514c987e_9248_11eb_b874_907841ab469erow0_col0\" class=\"data row0 col0\" >23.000000</td>\n",
       "                        <td id=\"T_514c987e_9248_11eb_b874_907841ab469erow0_col1\" class=\"data row0 col1\" >HOT-1</td>\n",
       "            </tr>\n",
       "    </tbody></table>"
      ],
      "text/plain": [
       "<pandas.io.formats.style.Styler at 0x20002da8d08>"
      ]
     },
     "metadata": {},
     "output_type": "display_data"
    }
   ],
   "source": [
    "display_df(hub.all_assets_metadata().dropna())"
   ]
  },
  {
   "cell_type": "code",
   "execution_count": null,
   "metadata": {},
   "outputs": [],
   "source": []
  }
 ],
 "metadata": {
  "kernelspec": {
   "display_name": "Python 3",
   "language": "python",
   "name": "python3"
  },
  "language_info": {
   "codemirror_mode": {
    "name": "ipython",
    "version": 3
   },
   "file_extension": ".py",
   "mimetype": "text/x-python",
   "name": "python",
   "nbconvert_exporter": "python",
   "pygments_lexer": "ipython3",
   "version": "3.7.9"
  },
  "toc": {
   "base_numbering": 1,
   "nav_menu": {},
   "number_sections": false,
   "sideBar": true,
   "skip_h1_title": false,
   "title_cell": "Table of Contents",
   "title_sidebar": "Contents",
   "toc_cell": false,
   "toc_position": {},
   "toc_section_display": true,
   "toc_window_display": true
  }
 },
 "nbformat": 4,
 "nbformat_minor": 4
}
